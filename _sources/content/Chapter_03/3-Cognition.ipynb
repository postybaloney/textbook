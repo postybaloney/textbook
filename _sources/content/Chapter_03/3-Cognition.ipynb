{
 "cells": [
  {
   "cell_type": "markdown",
   "id": "98f0c7f7",
   "metadata": {},
   "source": [
    "# Cognition\n",
    "\n",
    "Cognition refers to the mental processes involved in acquiring, processing, and utilizing information, encompassing functions such as perception, memory, problem-solving, language, and decision-making. It is the core mechanism underlying human intelligence and involves complex interactions between neural networks, enabling individuals to perceive, think, and interact with their environment.\n",
    "\n",
    "In this chapter, we will cover what different philosophers believed the mind was as well as attention and memory."
   ]
  }
 ],
 "metadata": {
  "kernelspec": {
   "display_name": "Python 3 (ipykernel)",
   "language": "python",
   "name": "python3"
  },
  "language_info": {
   "codemirror_mode": {
    "name": "ipython",
    "version": 3
   },
   "file_extension": ".py",
   "mimetype": "text/x-python",
   "name": "python",
   "nbconvert_exporter": "python",
   "pygments_lexer": "ipython3",
   "version": "3.9.12"
  }
 },
 "nbformat": 4,
 "nbformat_minor": 5
}
