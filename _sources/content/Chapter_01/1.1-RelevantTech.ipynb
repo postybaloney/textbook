{
 "cells": [
  {
   "cell_type": "markdown",
   "id": "954a3720",
   "metadata": {},
   "source": [
    "# 1.1 Electrodes\n",
    "The most fundamental technological component of neurotechnology is the <font size=\"4\"><b>electrode</b></font>. The electrode allows for the electrical current of the brain to be externally shown on an interface. There are two main types of electrodes: <font size=\"3\"><b>non-invasive and invasive</b></font>, and both types include electrodes that can stimulate regions of the brain (stimulating electrodes) or detect brain signals (readout electrodes). Non-invasive electrodes are placed on the surface of the head, where they detect the electrical signals our brains produce during neuronal communication. Machines can then translate these signals into visual representations of regional brain activity, or use these signals to control bioengineered devices. As such, amputees or patients suffering from paralysis can regain motor function using the machinery linked to their brain activity. In order to get more precise results, invasive electrodes are placed inside specific areas of the brain. For instance, electrodes can be inserted into a patient’s motor cortex to allow them to control a motorized prosthetic arm. This allows for intuitive and precise motor control by the user, which would not be possible with non-invasive electrodes.\n",
    "\n"
   ]
  },
  {
   "cell_type": "markdown",
   "id": "59ef8e26",
   "metadata": {},
   "source": [
    "# 1.1.1 Stimulating Electrodes\n",
    "Aside from detecting brain signals, invasive and non-invasive electrodes can also send electrical impulses to increase brain activity by facilitating action potentials. By combining both readout and stimulating electrodes, researchers can target electrical stimuli to brain regions where it would provide the greatest benefit, based on a patient’s current brain state. Deep brain stimulation, for instance, is used to suppress the symptoms of Parkinson’s Disease. Another use case is in diagnosing brain diseases by identifying abnormal brain activity through electrode readouts. "
   ]
  },
  {
   "cell_type": "markdown",
   "id": "f6e5a811",
   "metadata": {},
   "source": [
    "# 1.1.2 Readout Electrodes\n",
    "Non-invasive electrodes are placed on the surface of the head, where they detect the electrical signals our brains produce during neuronal communication. Machines can then translate these signals into visual representations of regional brain activity, or use these signals to control bioengineered devices. As such, amputees or patients suffering from paralysis can regain motor function using the machinery linked to their brain activity. In order to get more precise results, invasive electrodes are placed inside specific areas of the brain. For instance, electrodes can be inserted into a patient’s motor cortex to allow them to control a motorized prosthetic arm. This allows for intuitive and precise motor control by the user, which would not be possible with non-invasive electrodes.\n"
   ]
  }
 ],
 "metadata": {
  "kernelspec": {
   "display_name": "Python 3 (ipykernel)",
   "language": "python",
   "name": "python3"
  },
  "language_info": {
   "codemirror_mode": {
    "name": "ipython",
    "version": 3
   },
   "file_extension": ".py",
   "mimetype": "text/x-python",
   "name": "python",
   "nbconvert_exporter": "python",
   "pygments_lexer": "ipython3",
   "version": "3.9.12"
  }
 },
 "nbformat": 4,
 "nbformat_minor": 5
}
