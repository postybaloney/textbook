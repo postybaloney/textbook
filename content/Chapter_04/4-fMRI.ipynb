{
 "cells": [
  {
   "cell_type": "markdown",
   "metadata": {},
   "source": [
    "# fMRI #"
   ]
  },
  {
   "cell_type": "markdown",
   "metadata": {},
   "source": [
    "Since its development in the 1990s, functional magnetic resonance imaging (fMRI) has become a staple in neurotechnology. It has allowed for a vast number of advancements in the technology used as well as the information we can gather from the brain itself. The development of fMRI was revolutionary because, unlike the technologies before it, it had a fantastic spatial resolution while still being able to maintain a good temporal resolution, it utilized no radioactive particles, and it was very easy to use.\n",
    "\n",
    "In this chapter we will study how to look and interpret fMRI data."
   ]
  }
 ],
 "metadata": {
  "anaconda-cloud": {},
  "kernelspec": {
   "display_name": "Python 3 (ipykernel)",
   "language": "python",
   "name": "python3"
  },
  "language_info": {
   "codemirror_mode": {
    "name": "ipython",
    "version": 3
   },
   "file_extension": ".py",
   "mimetype": "text/x-python",
   "name": "python",
   "nbconvert_exporter": "python",
   "pygments_lexer": "ipython3",
   "version": "3.9.12"
  }
 },
 "nbformat": 4,
 "nbformat_minor": 1
}
