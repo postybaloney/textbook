{
 "cells": [
  {
   "cell_type": "code",
   "execution_count": 1,
   "metadata": {
    "collapsed": true,
    "tags": [
     "remove_cell"
    ]
   },
   "outputs": [],
   "source": [
    "# HIDDEN\n",
    "from datascience import *\n",
    "from prob140 import *\n",
    "import numpy as np\n",
    "import matplotlib.pyplot as plt\n",
    "plt.style.use('fivethirtyeight')\n",
    "%matplotlib inline\n",
    "from scipy import stats"
   ]
  },
  {
   "cell_type": "markdown",
   "metadata": {},
   "source": [
    "## Least Squares Predictor ##"
   ]
  },
  {
   "cell_type": "markdown",
   "metadata": {},
   "source": [
    "As the function that picks off the \"centers of vertical strips,\" the conditional expectation $b(X) = E(Y \\mid X)$ is a natural estimate or predictor of $Y$ given the value of $X$. We will now see how good $b(X)$ is if we use mean squared error as our criterion."
   ]
  },
  {
   "cell_type": "markdown",
   "metadata": {},
   "source": [
    "### Minimizing the MSE ###\n",
    "Let $h(X)$ be any function of $X$, and consider using $h(X)$ to predict $Y$. Define the *mean squared error of the predictor $h(X)$* to be\n",
    "\n",
    "$$\n",
    "MSE(h) ~ = ~ E\\Big{(}\\big{(}Y - h(X)\\big{)}^2\\Big{)}\n",
    "$$\n",
    "\n",
    "We will show that $b(X)$ is the best predictor of $Y$ based on $X$, in the sense that it minimizes this mean squared error over all functions $h(X)$.\n",
    "\n",
    "Recall our notation $D_w = Y - b(X)$. Earlier we showed that:\n",
    "- $E(D_w) = 0$ \n",
    "- $D_w$ is uncorrelated with any function of $X$. Therefore if $g(X)$ is any function of $X$, then $E\\big{(}D_wg(X)\\big{)} = 0$."
   ]
  },
  {
   "cell_type": "markdown",
   "metadata": {},
   "source": [
    "$$\n",
    "\\begin{align*}\n",
    "MSE(h) ~ &= ~ E\\Big{(}\\big{(}Y - h(X)\\big{)}^2\\Big{)} \\\\\n",
    "&= ~ E\\Big{(}\\big{(} (Y - b(X)) + (b(X) - h(X) \\big{)}^2 \\Big{)} \\\\\n",
    "&= ~ E\\Big{(}\\big{(}Y - b(X)\\big{)}^2\\Big{)} + E\\Big{(}\\big{(}b(X) - h(X)\\big{)}^2\\Big{)} + 2E\\Big{(}D_w\\big{(}b(X) - h(X)\\big{)}\\Big{)} \\\\\n",
    "&= ~ E\\Big{(}\\big{(}Y - b(X)\\big{)}^2\\Big{)} + E\\Big{(}\\big{(}b(X) - h(X)\\big{)}^2\\Big{)} \\\\\n",
    "&\\ge ~ E\\Big{(}\\big{(}Y - b(X)\\big{)}^2\\Big{)} \\\\\n",
    "&= ~ MSE(b)\n",
    "\\end{align*}\n",
    "$$"
   ]
  },
  {
   "cell_type": "markdown",
   "metadata": {
    "collapsed": true
   },
   "source": [
    "### Best Predictor ###\n",
    "The result above shows that the least squares predictor of $Y$ based on $X$ is the conditional expectation $b(X) = E(Y \\mid X)$. \n",
    "\n",
    "In terms of the scatter diagram of observed values of $X$ and $Y$, the result is saying that the best predictor of $Y$ given $X$, by the criterion of smallest mean squared error, is the average of the vertical strip at the given value of $X$.\n",
    "\n",
    "Given $X$, the root mean squared error of this estimate is the *SD of the strip*, that is, the conditional SD of $Y$ given $X$:\n",
    "\n",
    "$$\n",
    "SD(Y \\mid X) ~ = ~ \\sqrt{Var(Y \\mid X)}\n",
    "$$\n",
    "\n",
    "This is a random variable; its value measures the variability within the strip at the given value of $X$.\n",
    "\n",
    "Overall across the entire scatter diagram, the root mean squared error of the estimate $E(Y \\mid X)$ is\n",
    "\n",
    "$$\n",
    "RMSE(b) ~ = ~ \\sqrt{E\\Big{(}\\big{(}Y - b(X)\\big{)}^2\\Big{)}} ~ = ~ \\sqrt{E\\big{(} Var(Y \\mid X) \\big{)}}\n",
    "$$"
   ]
  },
  {
   "cell_type": "markdown",
   "metadata": {},
   "source": [
    "Notice that the result makes no assumption about the joint distribution of $X$ and $Y$. The scatter diagram of the generated $(X, Y)$ points can have any arbitrary shape.\n",
    "\n",
    "It seems as though the question of prediction has been settled once and for all: if you want the least squares predictor, use conditional expectation. However, the functional form of the conditional expectation of $Y$ given $X$ depends on the joint distribution of $X$ and $Y$ (which also determines the shape of the scatter diagram), and is not always straightforward to find.\n",
    "\n",
    "So data scientists also find least squares estimates among smaller classes of estimates, the most common class being the set of linear functions of the given variable. This is called linear regression and is the topic of a later chapter."
   ]
  },
  {
   "cell_type": "code",
   "execution_count": 2,
   "metadata": {
    "collapsed": true
   },
   "outputs": [],
   "source": []
  }
 ],
 "metadata": {
  "anaconda-cloud": {},
  "kernelspec": {
   "display_name": "Python 3",
   "language": "python",
   "name": "python3"
  },
  "language_info": {
   "codemirror_mode": {
    "name": "ipython",
    "version": 3
   },
   "file_extension": ".py",
   "mimetype": "text/x-python",
   "name": "python",
   "nbconvert_exporter": "python",
   "pygments_lexer": "ipython3",
   "version": "3.6.5"
  }
 },
 "nbformat": 4,
 "nbformat_minor": 1
}
