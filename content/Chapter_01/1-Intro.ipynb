{
 "cells": [
  {
   "cell_type": "markdown",
   "id": "e78eadbb",
   "metadata": {},
   "source": [
    "# What is Neurotechnology?\n",
    "\n",
    "<font size=\"4\">Neurotechnology is taking what we know about the brain and neurobiology and integrating it with technology to help in a variety of ways. The field of neurotechnology focuses on establishing communication between the nervous system and various technologies. This gives us insight into the inner workings of the brain and allows us to design tools and treatments for those with neurological diseases, among other things. Some relevant tools in the field of neurotechnology include: functional magnetic resonance imaging (*fMRI*) machines that measure brain activity, transcranial magnetic stimulation (*TMS*) devices that send electrical currents to the brain to alter the communication between neurons, electroencephalography (*EEG*), and artificial intelligence (*AI*), in which computer systems complete tasks ordinarily done by humans.</font>"
   ]
  }
 ],
 "metadata": {
  "kernelspec": {
   "display_name": "Python 3 (ipykernel)",
   "language": "python",
   "name": "python3"
  },
  "language_info": {
   "codemirror_mode": {
    "name": "ipython",
    "version": 3
   },
   "file_extension": ".py",
   "mimetype": "text/x-python",
   "name": "python",
   "nbconvert_exporter": "python",
   "pygments_lexer": "ipython3",
   "version": "3.9.12"
  }
 },
 "nbformat": 4,
 "nbformat_minor": 5
}
