{
 "cells": [
  {
   "cell_type": "markdown",
   "id": "462d51a7",
   "metadata": {},
   "source": [
    "# 1.4 What Kinds of Technology is Involved?\n",
    "Neurotech involves a myriad of technologies that are used to understand, diagnose, and treat nervous system conditions. Some of the key technologies are: Brain-Computer Interfaces (BCIs), Neuroprosthetics, Neuroimaging, Neuromodulation, and Genomics. \n",
    "\n",
    "# 1.4.1 Brain-Computer Interfaces\n",
    "BCIs are devices meant to allow for direct communication between the brain and an external device. They typically require the use of electrodes, either on the surface of a person’s head or implanted, to record and interpret neural signals which allows users to control the external device with their thoughts. A notable example would be the technology that Stephen Hawking used to communicate. \n",
    "\n",
    "# 1.4.2 Neuroprosthetics\n",
    "Neuroprosthetics are implants in the nervous system to replace and/or augment the function of a damaged/missing body part. Some notable examples are cochlear implants, which restore hearing to people without a functioning cochlea, and retinal implants, which restore vision. \n",
    "\n",
    "# 1.4.3 Neuroimaging\n",
    "Neuroimaging is the use of technology, such as MRI, fMRI, and EEG (all which are covered later in this book) to visualize structures and functions of the brain in real time. It is often used to diagnose and monitor neurological disorders, as well as to study the neural basis of cognition and behavior. \n",
    "\n",
    "# 1.4.4 Neuromodulation\n",
    "Neuromodulation is the use of electrical or magnetic stimulation to modulate the activity of neurons. It is often used to treat chronic pain, depression, epilepsy among other neurological and psychiatric disorders. Transcranial Magnetic Stimulation (TMS) and Deep Brain Stimulation (DBS) are two examples of this technology. \n",
    "\n",
    "# 1.4.5 Genomics\n",
    "Genomics is used to identify genetic risk factors for neurological conditions, and help develop personalized treatments based on a patient’s genetic profile. This often helpful for conditions like Huntington’s Syndrome which does not present itself until a person is in their 20s or 30s."
   ]
  }
 ],
 "metadata": {
  "kernelspec": {
   "display_name": "Python 3 (ipykernel)",
   "language": "python",
   "name": "python3"
  },
  "language_info": {
   "codemirror_mode": {
    "name": "ipython",
    "version": 3
   },
   "file_extension": ".py",
   "mimetype": "text/x-python",
   "name": "python",
   "nbconvert_exporter": "python",
   "pygments_lexer": "ipython3",
   "version": "3.9.12"
  }
 },
 "nbformat": 4,
 "nbformat_minor": 5
}
