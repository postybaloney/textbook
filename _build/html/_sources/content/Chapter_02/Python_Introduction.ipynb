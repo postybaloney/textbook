{
  "nbformat": 4,
  "nbformat_minor": 0,
  "metadata": {
    "colab": {
      "provenance": []
    },
    "kernelspec": {
      "name": "python3",
      "display_name": "Python 3"
    },
    "language_info": {
      "name": "python"
    }
  },
  "cells": [
    {
      "cell_type": "markdown",
      "source": [
        "# **Python Primer**"
      ],
      "metadata": {
        "id": "0cM2bc1s_yZ0"
      }
    },
    {
      "cell_type": "markdown",
      "source": [
        "In this python primer, we'll go through the fundamentals at a pretty bare-bones level, which is all you should need to complete and understand the contents of the following labs. If you would like more help with python coding, there are tons of online resources (like the first three tracks of the interactive Codecademy course on Python) that can help!"
      ],
      "metadata": {
        "id": "s89hRbLM_51j"
      }
    },
    {
      "cell_type": "markdown",
      "source": [
        "To get started, please make a copy of this by doing the following steps:\n",
        "\n",
        "**File => Save a Copy in Drive**\n",
        "\n",
        "This will allow you to edit the document however you want without disrupting anyone else using this."
      ],
      "metadata": {
        "id": "g1SU31MdZiJn"
      }
    },
    {
      "cell_type": "markdown",
      "source": [
        "# Running Commands"
      ],
      "metadata": {
        "id": "EE5jmWs0AmVX"
      }
    },
    {
      "cell_type": "markdown",
      "source": [
        "What you see below are a bunch of code blocks called cells. Each cell will run whatever code inside if you press shift + enter. Run the following lines of code to see their output! (side note: anything with a # before it is a comment that won't actually run in the code but is helpful for understanding and documentation!)"
      ],
      "metadata": {
        "id": "v3-0B4nfG-Af"
      }
    },
    {
      "cell_type": "code",
      "execution_count": null,
      "metadata": {
        "colab": {
          "base_uri": "https://localhost:8080/"
        },
        "id": "mkeB_b-w_dzm",
        "outputId": "f5ba5f7b-6122-4cf3-fb56-eade65965325"
      },
      "outputs": [
        {
          "output_type": "execute_result",
          "data": {
            "text/plain": [
              "8"
            ]
          },
          "metadata": {},
          "execution_count": 1
        }
      ],
      "source": [
        "4 + 4"
      ]
    },
    {
      "cell_type": "code",
      "source": [
        "10 - 7"
      ],
      "metadata": {
        "colab": {
          "base_uri": "https://localhost:8080/"
        },
        "id": "ymtplQLJBGQM",
        "outputId": "b2d11e8e-dbd4-4e03-c43f-0609d962eb34"
      },
      "execution_count": null,
      "outputs": [
        {
          "output_type": "execute_result",
          "data": {
            "text/plain": [
              "3"
            ]
          },
          "metadata": {},
          "execution_count": 2
        }
      ]
    },
    {
      "cell_type": "code",
      "source": [
        "6 * 2"
      ],
      "metadata": {
        "colab": {
          "base_uri": "https://localhost:8080/"
        },
        "id": "GAYfdlskBMwi",
        "outputId": "ce0016f6-0829-428e-cdb3-5d7a8cbb81a4"
      },
      "execution_count": null,
      "outputs": [
        {
          "output_type": "execute_result",
          "data": {
            "text/plain": [
              "12"
            ]
          },
          "metadata": {},
          "execution_count": 3
        }
      ]
    },
    {
      "cell_type": "code",
      "source": [
        "# a double asterisk is the command to raise a number to an exponent\n",
        "5 ** 3"
      ],
      "metadata": {
        "colab": {
          "base_uri": "https://localhost:8080/"
        },
        "id": "tL6XHWT7BPft",
        "outputId": "90cc4c4f-9fcf-45b2-e565-df3fc150c366"
      },
      "execution_count": null,
      "outputs": [
        {
          "output_type": "execute_result",
          "data": {
            "text/plain": [
              "125"
            ]
          },
          "metadata": {},
          "execution_count": 4
        }
      ]
    },
    {
      "cell_type": "code",
      "source": [
        "12 / 4"
      ],
      "metadata": {
        "colab": {
          "base_uri": "https://localhost:8080/"
        },
        "id": "iuubmm81BSij",
        "outputId": "76b9451c-1b24-4fb0-d549-d64d31482da5"
      },
      "execution_count": null,
      "outputs": [
        {
          "output_type": "execute_result",
          "data": {
            "text/plain": [
              "3.0"
            ]
          },
          "metadata": {},
          "execution_count": 5
        }
      ]
    },
    {
      "cell_type": "markdown",
      "source": [
        "Cells also can carry information to be used in other cells. For example, if you set a \"variable\" equal to something else, it will maintain that value in all future cells until you change it. See for yourself! "
      ],
      "metadata": {
        "id": "fy5D4Z9nBsKi"
      }
    },
    {
      "cell_type": "code",
      "source": [
        "# to see what value a variable has, you just need to list its name\n",
        "total = 3\n",
        "total"
      ],
      "metadata": {
        "colab": {
          "base_uri": "https://localhost:8080/"
        },
        "id": "TXy9ccUpBp3E",
        "outputId": "ccafb4c5-ea1b-4884-c6e1-450739b412cb"
      },
      "execution_count": null,
      "outputs": [
        {
          "output_type": "execute_result",
          "data": {
            "text/plain": [
              "3"
            ]
          },
          "metadata": {},
          "execution_count": 6
        }
      ]
    },
    {
      "cell_type": "code",
      "source": [
        "# you can also use the print() function to see the value as well!\n",
        "print(total)"
      ],
      "metadata": {
        "colab": {
          "base_uri": "https://localhost:8080/"
        },
        "id": "dj2i3uppCJ-Q",
        "outputId": "0b701708-b5e5-4ebf-8b50-0938141c3f88"
      },
      "execution_count": null,
      "outputs": [
        {
          "output_type": "stream",
          "name": "stdout",
          "text": [
            "3\n"
          ]
        }
      ]
    },
    {
      "cell_type": "code",
      "source": [
        "# in order to change the value, you need to set it equal to a new value. \n",
        "# for exmaple, simply running \"total + 3\" will not change it.\n",
        "total = total + 3\n",
        "total"
      ],
      "metadata": {
        "colab": {
          "base_uri": "https://localhost:8080/"
        },
        "id": "4h0d60HOCejA",
        "outputId": "239173b9-8192-447c-bb03-dee5f95686f9"
      },
      "execution_count": null,
      "outputs": [
        {
          "output_type": "execute_result",
          "data": {
            "text/plain": [
              "6"
            ]
          },
          "metadata": {},
          "execution_count": 8
        }
      ]
    },
    {
      "cell_type": "code",
      "source": [
        "# you can also use \"+=\" or \"-=\" as a more streamlined way to do the previous function\n",
        "# here you can see the usefulness of the print function! you can see the value before and after you change it\n",
        "print(total)\n",
        "total += 4\n",
        "print(total)"
      ],
      "metadata": {
        "colab": {
          "base_uri": "https://localhost:8080/"
        },
        "id": "-xa8cAkACimF",
        "outputId": "51e9756c-07de-4eb6-dec0-3b27ee820bd9"
      },
      "execution_count": null,
      "outputs": [
        {
          "output_type": "stream",
          "name": "stdout",
          "text": [
            "6\n",
            "10\n"
          ]
        }
      ]
    },
    {
      "cell_type": "markdown",
      "source": [
        "# Strings and Methods"
      ],
      "metadata": {
        "id": "Ip-FYOlCDZ4i"
      }
    },
    {
      "cell_type": "markdown",
      "source": [
        "Strings are a class of object that are processed in a particular way. Very roughly, strings are sequences of text characters.\n",
        "\n",
        "Methods are different computations that allow you to easily manipulate strings. Here, we'll look at the upper method, which converts a string to upper case. None of these methods will actually change the stored string. To change the stored string, you have to reassign it, as below.\n",
        "\n",
        "There are many different methods, all with their own helpful functionallity. Look them up to find out for yourself!"
      ],
      "metadata": {
        "id": "CQoPqEFjDkgf"
      }
    },
    {
      "cell_type": "code",
      "source": [
        "name = \"Tony\"\n",
        "name"
      ],
      "metadata": {
        "colab": {
          "base_uri": "https://localhost:8080/",
          "height": 35
        },
        "id": "AkhnecobDdzM",
        "outputId": "dc26efe5-d6bc-4163-df5c-c373cda0b79c"
      },
      "execution_count": null,
      "outputs": [
        {
          "output_type": "execute_result",
          "data": {
            "text/plain": [
              "'Tony'"
            ],
            "application/vnd.google.colaboratory.intrinsic+json": {
              "type": "string"
            }
          },
          "metadata": {},
          "execution_count": 10
        }
      ]
    },
    {
      "cell_type": "code",
      "source": [
        "name.upper()"
      ],
      "metadata": {
        "colab": {
          "base_uri": "https://localhost:8080/",
          "height": 35
        },
        "id": "WXd50ObyEBKW",
        "outputId": "0377faf0-61a3-4ed9-e729-ab3bdd0a0e1f"
      },
      "execution_count": null,
      "outputs": [
        {
          "output_type": "execute_result",
          "data": {
            "text/plain": [
              "'TONY'"
            ],
            "application/vnd.google.colaboratory.intrinsic+json": {
              "type": "string"
            }
          },
          "metadata": {},
          "execution_count": 11
        }
      ]
    },
    {
      "cell_type": "code",
      "source": [
        "name"
      ],
      "metadata": {
        "colab": {
          "base_uri": "https://localhost:8080/",
          "height": 35
        },
        "id": "yikzHOfIEE1b",
        "outputId": "4489f1c7-7b29-46cd-f871-73ec8ed62308"
      },
      "execution_count": null,
      "outputs": [
        {
          "output_type": "execute_result",
          "data": {
            "text/plain": [
              "'Tony'"
            ],
            "application/vnd.google.colaboratory.intrinsic+json": {
              "type": "string"
            }
          },
          "metadata": {},
          "execution_count": 12
        }
      ]
    },
    {
      "cell_type": "code",
      "source": [
        "name = name.upper()\n",
        "name"
      ],
      "metadata": {
        "colab": {
          "base_uri": "https://localhost:8080/",
          "height": 35
        },
        "id": "57YW8YtIEFeb",
        "outputId": "abd66f75-2856-445f-ec77-944f7afae178"
      },
      "execution_count": null,
      "outputs": [
        {
          "output_type": "execute_result",
          "data": {
            "text/plain": [
              "'TONY'"
            ],
            "application/vnd.google.colaboratory.intrinsic+json": {
              "type": "string"
            }
          },
          "metadata": {},
          "execution_count": 13
        }
      ]
    },
    {
      "cell_type": "markdown",
      "source": [
        "# Lists"
      ],
      "metadata": {
        "id": "00LDsx3LELNR"
      }
    },
    {
      "cell_type": "markdown",
      "source": [
        "Another useful type of object is the list. A list is an ordered set of objects that are stored together. Lists can contain anything - strings, integers, whatever. Two examples of lists:"
      ],
      "metadata": {
        "id": "qtvNB5QOEQSZ"
      }
    },
    {
      "cell_type": "code",
      "source": [
        "[\"Groucho\",\"Harpo\",\"Chico\",\"Gummo\",\"Zeppo\"]"
      ],
      "metadata": {
        "colab": {
          "base_uri": "https://localhost:8080/"
        },
        "id": "RxTR65tDEKOK",
        "outputId": "6650b850-9008-49d0-f19e-b9b072571cd8"
      },
      "execution_count": null,
      "outputs": [
        {
          "output_type": "execute_result",
          "data": {
            "text/plain": [
              "['Groucho', 'Harpo', 'Chico', 'Gummo', 'Zeppo']"
            ]
          },
          "metadata": {},
          "execution_count": 14
        }
      ]
    },
    {
      "cell_type": "code",
      "source": [
        "[1,1,2,3,5,8,11]"
      ],
      "metadata": {
        "colab": {
          "base_uri": "https://localhost:8080/"
        },
        "id": "tetszF_FEYQ8",
        "outputId": "a5db1a12-df05-4b4a-9993-9811089908c4"
      },
      "execution_count": null,
      "outputs": [
        {
          "output_type": "execute_result",
          "data": {
            "text/plain": [
              "[1, 1, 2, 3, 5, 8, 11]"
            ]
          },
          "metadata": {},
          "execution_count": 15
        }
      ]
    },
    {
      "cell_type": "markdown",
      "source": [
        "Note that:\n",
        "\n",
        " 1. Lists exist in square brackets\n",
        " 2. Entries are separated by commas\n",
        " 3. You can have repeated items\n",
        "\n",
        "Lists can be indexed into by position. Python indices begin with 0, not 1. Thus, if you saved the second list above as a variable called fib:"
      ],
      "metadata": {
        "id": "9sIzj4PfEZua"
      }
    },
    {
      "cell_type": "code",
      "source": [
        "fib = [1,1,2,3,5,8,11]\n",
        "fib"
      ],
      "metadata": {
        "colab": {
          "base_uri": "https://localhost:8080/"
        },
        "id": "UFXIR69UEp2Q",
        "outputId": "c0c763ce-cff9-43fe-a2ae-e1d5b57965b2"
      },
      "execution_count": null,
      "outputs": [
        {
          "output_type": "execute_result",
          "data": {
            "text/plain": [
              "[1, 1, 2, 3, 5, 8, 11]"
            ]
          },
          "metadata": {},
          "execution_count": 16
        }
      ]
    },
    {
      "cell_type": "code",
      "source": [
        "fib[0]"
      ],
      "metadata": {
        "colab": {
          "base_uri": "https://localhost:8080/"
        },
        "id": "U9n3-RGrEsmI",
        "outputId": "15d48f23-d7ba-4180-a24f-1875dfbc8ce7"
      },
      "execution_count": null,
      "outputs": [
        {
          "output_type": "execute_result",
          "data": {
            "text/plain": [
              "1"
            ]
          },
          "metadata": {},
          "execution_count": 17
        }
      ]
    },
    {
      "cell_type": "code",
      "source": [
        "fib[1]"
      ],
      "metadata": {
        "colab": {
          "base_uri": "https://localhost:8080/"
        },
        "id": "Z6qdVf0cEuMh",
        "outputId": "beafbd42-203c-4fb5-ff3a-50f1905909eb"
      },
      "execution_count": null,
      "outputs": [
        {
          "output_type": "execute_result",
          "data": {
            "text/plain": [
              "1"
            ]
          },
          "metadata": {},
          "execution_count": 18
        }
      ]
    },
    {
      "cell_type": "code",
      "source": [
        "fib[4]"
      ],
      "metadata": {
        "colab": {
          "base_uri": "https://localhost:8080/"
        },
        "id": "R9bro5bQEvtg",
        "outputId": "8a26123c-8e1e-4a88-8ab8-cb19b2a27366"
      },
      "execution_count": null,
      "outputs": [
        {
          "output_type": "execute_result",
          "data": {
            "text/plain": [
              "5"
            ]
          },
          "metadata": {},
          "execution_count": 19
        }
      ]
    },
    {
      "cell_type": "code",
      "source": [
        "# this syntax allows you to grab the numbers between these positions, starting with your first imput (left side of \":\")\n",
        "fib[2:5]"
      ],
      "metadata": {
        "colab": {
          "base_uri": "https://localhost:8080/"
        },
        "id": "QEqZlTEFExlJ",
        "outputId": "0b06e13f-e2d6-481f-8997-5e19fde60bb8"
      },
      "execution_count": null,
      "outputs": [
        {
          "output_type": "execute_result",
          "data": {
            "text/plain": [
              "[2, 3, 5]"
            ]
          },
          "metadata": {},
          "execution_count": 20
        }
      ]
    },
    {
      "cell_type": "code",
      "source": [
        "5 in fib"
      ],
      "metadata": {
        "colab": {
          "base_uri": "https://localhost:8080/"
        },
        "id": "x-9E9cmWFhjM",
        "outputId": "539d448c-fcc6-4c87-fe3f-586a6165a0b9"
      },
      "execution_count": null,
      "outputs": [
        {
          "output_type": "execute_result",
          "data": {
            "text/plain": [
              "True"
            ]
          },
          "metadata": {},
          "execution_count": 21
        }
      ]
    },
    {
      "cell_type": "code",
      "source": [
        "6 in fib"
      ],
      "metadata": {
        "colab": {
          "base_uri": "https://localhost:8080/"
        },
        "id": "Lk3TpzT3Fs3B",
        "outputId": "427df0d1-5425-4617-de19-4b260d8c1362"
      },
      "execution_count": null,
      "outputs": [
        {
          "output_type": "execute_result",
          "data": {
            "text/plain": [
              "False"
            ]
          },
          "metadata": {},
          "execution_count": 22
        }
      ]
    },
    {
      "cell_type": "code",
      "source": [
        "# the \"len\" function allows you to see how long a list is\n",
        "len(fib)"
      ],
      "metadata": {
        "colab": {
          "base_uri": "https://localhost:8080/"
        },
        "id": "97gOKXBwVcfF",
        "outputId": "72c16473-25db-4744-b23a-801b6b94fcba"
      },
      "execution_count": null,
      "outputs": [
        {
          "output_type": "execute_result",
          "data": {
            "text/plain": [
              "7"
            ]
          },
          "metadata": {},
          "execution_count": 23
        }
      ]
    },
    {
      "cell_type": "markdown",
      "source": [
        "# Dictionaries"
      ],
      "metadata": {
        "id": "YPzdsTzbFvrB"
      }
    },
    {
      "cell_type": "markdown",
      "source": [
        "Now that we've played around with lists, let's move on to dictionaries. Dictionaries are pretty similar to lists, except that instead of using integers to access them, you use \"keys.\" Every entry in a dictionary consists of a \"key\" and a \"value\" - think of a real-life dictionary with the \"keys\" being words and the \"values\" being their definitions."
      ],
      "metadata": {
        "id": "u_atu6hfF3C7"
      }
    },
    {
      "cell_type": "code",
      "source": [
        "comp = {'Cyp12a5':'Mitochondrion',\n",
        "        'MRG15':'Nucleus',\n",
        "        'Cop':'Golgi',\n",
        "        'bor':'Cytoplasm',\n",
        "        'Bx42':'Nucleus'}\n",
        "comp"
      ],
      "metadata": {
        "colab": {
          "base_uri": "https://localhost:8080/"
        },
        "id": "PU_4uxZBGAvp",
        "outputId": "c336c12e-8d46-40fa-c44f-abf70228f3aa"
      },
      "execution_count": null,
      "outputs": [
        {
          "output_type": "execute_result",
          "data": {
            "text/plain": [
              "{'Cyp12a5': 'Mitochondrion',\n",
              " 'MRG15': 'Nucleus',\n",
              " 'Cop': 'Golgi',\n",
              " 'bor': 'Cytoplasm',\n",
              " 'Bx42': 'Nucleus'}"
            ]
          },
          "metadata": {},
          "execution_count": 2
        }
      ]
    },
    {
      "cell_type": "code",
      "source": [
        "comp[\"bor\"]"
      ],
      "metadata": {
        "colab": {
          "base_uri": "https://localhost:8080/",
          "height": 36
        },
        "id": "UtgRAG-MGFE4",
        "outputId": "3ba8c321-4085-4097-cd92-1cc1b32f358f"
      },
      "execution_count": null,
      "outputs": [
        {
          "output_type": "execute_result",
          "data": {
            "text/plain": [
              "'Cytoplasm'"
            ],
            "application/vnd.google.colaboratory.intrinsic+json": {
              "type": "string"
            }
          },
          "metadata": {},
          "execution_count": 3
        }
      ]
    },
    {
      "cell_type": "code",
      "source": [
        "# you can access the \"keys\" (the strings on the left of the colon in the dictionary entry) by putting .keys() after the dictionary name\n",
        "comp.keys()\n",
        "\n",
        "comp['Cyp12a5']"
      ],
      "metadata": {
        "colab": {
          "base_uri": "https://localhost:8080/",
          "height": 36
        },
        "id": "HmLetSFSGGm3",
        "outputId": "fc26a309-fe45-43cd-a618-8fb8c7d1fc3d"
      },
      "execution_count": null,
      "outputs": [
        {
          "output_type": "execute_result",
          "data": {
            "text/plain": [
              "'Mitochondrion'"
            ],
            "application/vnd.google.colaboratory.intrinsic+json": {
              "type": "string"
            }
          },
          "metadata": {},
          "execution_count": 4
        }
      ]
    },
    {
      "cell_type": "code",
      "source": [
        "# you can do the same with .values()\n",
        "comp.values()"
      ],
      "metadata": {
        "colab": {
          "base_uri": "https://localhost:8080/"
        },
        "id": "AEn48cRAGINr",
        "outputId": "920ff334-6b5e-46f3-f4e1-e0c6138b4a6a"
      },
      "execution_count": null,
      "outputs": [
        {
          "output_type": "execute_result",
          "data": {
            "text/plain": [
              "dict_values(['Mitochondrion', 'Nucleus', 'Golgi', 'Cytoplasm', 'Nucleus'])"
            ]
          },
          "metadata": {},
          "execution_count": 27
        }
      ]
    },
    {
      "cell_type": "code",
      "source": [
        "# the \"for\" below is a control structure, which we will discuss in a couple cells\n",
        "for key, value in comp.items():\n",
        "    print(key, \"->\", value)"
      ],
      "metadata": {
        "colab": {
          "base_uri": "https://localhost:8080/"
        },
        "id": "wjRE-6nYGKfY",
        "outputId": "4a190ae8-4ff6-40fb-ff90-6cab5988359b"
      },
      "execution_count": null,
      "outputs": [
        {
          "output_type": "stream",
          "name": "stdout",
          "text": [
            "Cyp12a5 -> Mitochondrion\n",
            "MRG15 -> Nucleus\n",
            "Cop -> Golgi\n",
            "bor -> Cytoplasm\n",
            "Bx42 -> Nucleus\n"
          ]
        }
      ]
    },
    {
      "cell_type": "markdown",
      "source": [
        "# *Functions*"
      ],
      "metadata": {
        "id": "fWeU32lLHTd_"
      }
    },
    {
      "cell_type": "markdown",
      "source": [
        "Python has some mathematical functions built into it. Lets explore a few below (round, min, sum). There are tons of these, however, so feel free to look them up yourself!"
      ],
      "metadata": {
        "id": "s96eUHtrHVbK"
      }
    },
    {
      "cell_type": "code",
      "source": [
        "# a call expression using round\n",
        "round(1988.74699)"
      ],
      "metadata": {
        "colab": {
          "base_uri": "https://localhost:8080/"
        },
        "id": "Hxt399kfHdJa",
        "outputId": "a765c239-fafb-4019-ebbc-19fc1c164a84"
      },
      "execution_count": null,
      "outputs": [
        {
          "output_type": "execute_result",
          "data": {
            "text/plain": [
              "1989"
            ]
          },
          "metadata": {},
          "execution_count": 29
        }
      ]
    },
    {
      "cell_type": "code",
      "source": [
        "min(9, -34, 0, 99)"
      ],
      "metadata": {
        "colab": {
          "base_uri": "https://localhost:8080/"
        },
        "id": "nOf33vEiHkwf",
        "outputId": "ada77128-b7e2-41d7-e459-159224832c32"
      },
      "execution_count": null,
      "outputs": [
        {
          "output_type": "execute_result",
          "data": {
            "text/plain": [
              "-34"
            ]
          },
          "metadata": {},
          "execution_count": 30
        }
      ]
    },
    {
      "cell_type": "code",
      "source": [
        "array1 = (1, 2, 3, 4, 5,)\n",
        "array1"
      ],
      "metadata": {
        "colab": {
          "base_uri": "https://localhost:8080/"
        },
        "id": "j_EkItPKHnE6",
        "outputId": "5759b7d9-f0b1-4372-ba18-48f6d317ef1f"
      },
      "execution_count": null,
      "outputs": [
        {
          "output_type": "execute_result",
          "data": {
            "text/plain": [
              "(1, 2, 3, 4, 5)"
            ]
          },
          "metadata": {},
          "execution_count": 31
        }
      ]
    },
    {
      "cell_type": "code",
      "source": [
        "sum(array1)"
      ],
      "metadata": {
        "colab": {
          "base_uri": "https://localhost:8080/"
        },
        "id": "1ysguhL1H0OJ",
        "outputId": "aa0c4173-3bfe-400c-9385-cc2ae8db4334"
      },
      "execution_count": null,
      "outputs": [
        {
          "output_type": "execute_result",
          "data": {
            "text/plain": [
              "15"
            ]
          },
          "metadata": {},
          "execution_count": 32
        }
      ]
    },
    {
      "cell_type": "markdown",
      "source": [
        "You can use functions to change between different types of objects."
      ],
      "metadata": {
        "id": "OKjWB8eUYmyI"
      }
    },
    {
      "cell_type": "code",
      "source": [
        "#a \"tuple\" is used to store multiple items in a single variable\n",
        "lst = [1, 2, 3, 4]\n",
        "\n",
        "tpl = tuple(lst)\n",
        "tpl"
      ],
      "metadata": {
        "colab": {
          "base_uri": "https://localhost:8080/"
        },
        "id": "iC8cQMn1YwGc",
        "outputId": "322302b0-1e7c-4ddf-c386-303a8a814f34"
      },
      "execution_count": null,
      "outputs": [
        {
          "output_type": "execute_result",
          "data": {
            "text/plain": [
              "(1, 2, 3, 4)"
            ]
          },
          "metadata": {},
          "execution_count": 33
        }
      ]
    },
    {
      "cell_type": "code",
      "source": [
        "tpl = (5, 6, 7, 8)\n",
        "\n",
        "lst = list(tpl)\n",
        "lst"
      ],
      "metadata": {
        "colab": {
          "base_uri": "https://localhost:8080/"
        },
        "id": "7_Gc-IM4ZDX6",
        "outputId": "e5cacb1f-4d2f-429c-c717-925adb69cb92"
      },
      "execution_count": null,
      "outputs": [
        {
          "output_type": "execute_result",
          "data": {
            "text/plain": [
              "[5, 6, 7, 8]"
            ]
          },
          "metadata": {},
          "execution_count": 34
        }
      ]
    },
    {
      "cell_type": "markdown",
      "source": [
        "You can also define your own functions using \"def\""
      ],
      "metadata": {
        "id": "399s8G3KMVq3"
      }
    },
    {
      "cell_type": "code",
      "source": [
        "def square(num):\n",
        "    return num*num\n",
        "\n",
        "def double(num):\n",
        "    return num*2"
      ],
      "metadata": {
        "id": "Yr0b9uSiMZJH"
      },
      "execution_count": null,
      "outputs": []
    },
    {
      "cell_type": "markdown",
      "source": [
        "Notice that you are passing in a name to the function. This syntax allows you to pass whatever you want in as that variable and python will compute it as \"num\" or whatever name you gave it"
      ],
      "metadata": {
        "id": "ncQchoqbM0MK"
      }
    },
    {
      "cell_type": "code",
      "source": [
        "print(square(3))\n",
        "double(4)"
      ],
      "metadata": {
        "colab": {
          "base_uri": "https://localhost:8080/"
        },
        "id": "BNsMhT7rMvkf",
        "outputId": "98692039-3168-444c-f79f-9106cfec2475"
      },
      "execution_count": null,
      "outputs": [
        {
          "output_type": "stream",
          "name": "stdout",
          "text": [
            "9\n"
          ]
        },
        {
          "output_type": "execute_result",
          "data": {
            "text/plain": [
              "8"
            ]
          },
          "metadata": {},
          "execution_count": 36
        }
      ]
    },
    {
      "cell_type": "code",
      "source": [
        "print(square(10))\n",
        "double(20)"
      ],
      "metadata": {
        "colab": {
          "base_uri": "https://localhost:8080/"
        },
        "id": "XBTK2ZQYNAXP",
        "outputId": "41c8bf2b-06e6-453a-ef7c-edeefb35c20b"
      },
      "execution_count": null,
      "outputs": [
        {
          "output_type": "stream",
          "name": "stdout",
          "text": [
            "100\n"
          ]
        },
        {
          "output_type": "execute_result",
          "data": {
            "text/plain": [
              "40"
            ]
          },
          "metadata": {},
          "execution_count": 37
        }
      ]
    },
    {
      "cell_type": "markdown",
      "source": [
        "# Control Structures"
      ],
      "metadata": {
        "id": "IOdfZQBjG2K5"
      }
    },
    {
      "cell_type": "markdown",
      "source": [
        "This is where python can get fun. These are some tools that allow you to utilize the powerful computational power of the computer. We'll be doing some simple examples, but as you get more involved with code you'll see how just using these simple structures can get some pretty amazing results!"
      ],
      "metadata": {
        "id": "4sHI6SmFG5J9"
      }
    },
    {
      "cell_type": "markdown",
      "source": [
        "First is using if, elif, and else.\n",
        "1. if: allows you to tell the computer that if one variable is true, then do this thing\n",
        "2. elif: this essentially means that the code will check multiple conditions and return the output only if the other given condition is false and this one is true. It's similar to an “if-else” statement. \n",
        "3. else: similar to elif, but it will not check the condition."
      ],
      "metadata": {
        "id": "TFmEWYFCIbOG"
      }
    },
    {
      "cell_type": "code",
      "source": [
        "# you can play around with this temp number and then run the code cell again to see it give different answers\n",
        "temp = 68\n",
        "\n",
        "if temp > 80:\n",
        "    print(\"Boy, it's hot!\")\n",
        "elif temp == 32:\n",
        "    print(\"Its literally freezing!\")\n",
        "elif temp < 50:\n",
        "    print(\"Brrr...it's cold!\")\n",
        "else:\n",
        "    print(\"Nice and temperate!\")"
      ],
      "metadata": {
        "colab": {
          "base_uri": "https://localhost:8080/"
        },
        "id": "s_s3rUaXGeJi",
        "outputId": "a929deb5-3c71-4f1e-da9b-985bbcba33ac"
      },
      "execution_count": null,
      "outputs": [
        {
          "output_type": "stream",
          "name": "stdout",
          "text": [
            "Nice and temperate!\n"
          ]
        }
      ]
    },
    {
      "cell_type": "markdown",
      "source": [
        "Notice the use of \"==\". This means when the variable is exactly equal to that thing, and thus the positioning of this elif above the other is important to have the computer check this case first before continuing to the other elif."
      ],
      "metadata": {
        "id": "PbwMmtnGS4gm"
      }
    },
    {
      "cell_type": "markdown",
      "source": [
        "Next is the for loop. This allows you to parse through any number of interger spaces and perform some function at each interger."
      ],
      "metadata": {
        "id": "JWW71U0FJjMP"
      }
    },
    {
      "cell_type": "code",
      "source": [
        "# this example uses the \".append\" function which allows you to add an individual value to a list\n",
        "# notice how you can directly manipulate each number and then add them to a new list\n",
        "lst = [1, 2, 3, 4, 5, 6, 7, 8]\n",
        "new_lst = []\n",
        "print(\"lst =\", lst)\n",
        "\n",
        "for i in lst:\n",
        "  i += 1\n",
        "  new_lst.append(i)\n",
        "\n",
        "print(\"new_lst =\", new_lst)"
      ],
      "metadata": {
        "colab": {
          "base_uri": "https://localhost:8080/"
        },
        "id": "7votDz18JSVK",
        "outputId": "c4e14ca9-6ab5-47c4-b71a-a9e7ca376029"
      },
      "execution_count": null,
      "outputs": [
        {
          "output_type": "stream",
          "name": "stdout",
          "text": [
            "lst = [1, 2, 3, 4, 5, 6, 7, 8]\n",
            "new_lst = [2, 3, 4, 5, 6, 7, 8, 9]\n"
          ]
        }
      ]
    },
    {
      "cell_type": "code",
      "source": [
        "for i in range(3):\n",
        "    print(\"Counted number\", i)"
      ],
      "metadata": {
        "colab": {
          "base_uri": "https://localhost:8080/"
        },
        "id": "3cD3OSCJKCXo",
        "outputId": "3450539e-00f4-470e-972c-a97da1c7687d"
      },
      "execution_count": null,
      "outputs": [
        {
          "output_type": "stream",
          "name": "stdout",
          "text": [
            "Counted number 0\n",
            "Counted number 1\n",
            "Counted number 2\n"
          ]
        }
      ]
    },
    {
      "cell_type": "code",
      "source": [
        "drink = \"water\"\n",
        "for i in range(5):\n",
        "    print(\"Letter\", i+1, \"is\", drink[i])"
      ],
      "metadata": {
        "colab": {
          "base_uri": "https://localhost:8080/"
        },
        "id": "0BTbU-FNLNhe",
        "outputId": "8a14f224-1aa4-4c79-d7bb-52e232ed2f54"
      },
      "execution_count": null,
      "outputs": [
        {
          "output_type": "stream",
          "name": "stdout",
          "text": [
            "Letter 1 is w\n",
            "Letter 2 is a\n",
            "Letter 3 is t\n",
            "Letter 4 is e\n",
            "Letter 5 is r\n"
          ]
        }
      ]
    },
    {
      "cell_type": "code",
      "source": [
        "cowTypes = [\"brown\",\"white\",\"mooing\",\"corn on the cob\"]\n",
        "for cow in cowTypes:\n",
        "    print(\"I see a\", cow, \"cow!\")"
      ],
      "metadata": {
        "colab": {
          "base_uri": "https://localhost:8080/"
        },
        "id": "ZsjSgvuyLPWD",
        "outputId": "4139e840-2c58-4306-d463-9d8bffa70d81"
      },
      "execution_count": null,
      "outputs": [
        {
          "output_type": "stream",
          "name": "stdout",
          "text": [
            "I see a brown cow!\n",
            "I see a white cow!\n",
            "I see a mooing cow!\n",
            "I see a corn on the cob cow!\n"
          ]
        }
      ]
    },
    {
      "cell_type": "code",
      "source": [
        "name = \"Lucas Richardson\"\n",
        "for letter in name:\n",
        "    print(\"Letter: \", letter)"
      ],
      "metadata": {
        "colab": {
          "base_uri": "https://localhost:8080/"
        },
        "id": "b3g7EVU3LRhn",
        "outputId": "2b1e702b-db9a-4574-85bd-13c783b7af89"
      },
      "execution_count": null,
      "outputs": [
        {
          "output_type": "stream",
          "name": "stdout",
          "text": [
            "Letter:  L\n",
            "Letter:  u\n",
            "Letter:  c\n",
            "Letter:  a\n",
            "Letter:  s\n",
            "Letter:   \n",
            "Letter:  R\n",
            "Letter:  i\n",
            "Letter:  c\n",
            "Letter:  h\n",
            "Letter:  a\n",
            "Letter:  r\n",
            "Letter:  d\n",
            "Letter:  s\n",
            "Letter:  o\n",
            "Letter:  n\n"
          ]
        }
      ]
    },
    {
      "cell_type": "markdown",
      "source": [
        "Note that the indexing variable (e.g. above: i, cow, letter, etc.) can be whatever you want. So you could also technically have written for i in name or for turnip in name in the final example and used i or turnip as your variable instead if you so felt like it. Stylistically, it is good practice to use i, j, k, etc. when indexing through numbers or positions (i.e., a range of some sort) and an obvious name when indexing by item rather than by index position."
      ],
      "metadata": {
        "id": "MCPF5bA9LdpR"
      }
    },
    {
      "cell_type": "markdown",
      "source": [
        "Next is the while loop. This allows you to set hoe many times you want the computer to loop through until stopping"
      ],
      "metadata": {
        "id": "YKYVUStnLrgO"
      }
    },
    {
      "cell_type": "code",
      "source": [
        "#see how the bottom line alters the variable at each step, until it is 3 so the loop stops.\n",
        "bonks = 0\n",
        "while bonks < 3:\n",
        "    print(\"Bonk times\",bonks,\"!\")\n",
        "    bonks += 1"
      ],
      "metadata": {
        "colab": {
          "base_uri": "https://localhost:8080/"
        },
        "id": "81n16oITLZhF",
        "outputId": "74c91f43-cd64-4ea5-9ae7-e87829a1c7f5"
      },
      "execution_count": null,
      "outputs": [
        {
          "output_type": "stream",
          "name": "stdout",
          "text": [
            "Bonk times 0 !\n",
            "Bonk times 1 !\n",
            "Bonk times 2 !\n"
          ]
        }
      ]
    },
    {
      "cell_type": "markdown",
      "source": [
        "# Plotting Data"
      ],
      "metadata": {
        "id": "ZX0YwE8ENWts"
      }
    },
    {
      "cell_type": "markdown",
      "source": [
        "This is an integral part of data analysis, and it can be done very easily using simple code. In order to do this, you will need to import some things into python. Don't worry though, this is easy to do! Just run the next few blocks of code."
      ],
      "metadata": {
        "id": "6vTsYGBcNko1"
      }
    },
    {
      "cell_type": "code",
      "source": [
        "# When importing matplotlib, convention is to rename it “plt” as in:\n",
        "import matplotlib.pyplot as plt\n",
        "\n",
        "# To get iPython to plot stuff in-line, this magic command needs to go somewhere:\n",
        "%matplotlib inline\n",
        "\n",
        "import pandas as pd\n",
        "import seaborn as sns"
      ],
      "metadata": {
        "id": "a9Nt_CtDNWG_"
      },
      "execution_count": null,
      "outputs": []
    },
    {
      "cell_type": "markdown",
      "source": [
        "With that done, we can import an example dataset!"
      ],
      "metadata": {
        "id": "VsbRW1d4N_c4"
      }
    },
    {
      "cell_type": "code",
      "source": [
        "penguins = sns.load_dataset(\"penguins\")\n",
        "penguins"
      ],
      "metadata": {
        "colab": {
          "base_uri": "https://localhost:8080/"
        },
        "id": "zKsmGKmcN75B",
        "outputId": "31ef36a6-bcd6-43ac-f90f-706bafade10a"
      },
      "execution_count": null,
      "outputs": [
        {
          "output_type": "execute_result",
          "data": {
            "text/plain": [
              "    species     island  bill_length_mm  bill_depth_mm  flipper_length_mm  \\\n",
              "0    Adelie  Torgersen            39.1           18.7              181.0   \n",
              "1    Adelie  Torgersen            39.5           17.4              186.0   \n",
              "2    Adelie  Torgersen            40.3           18.0              195.0   \n",
              "3    Adelie  Torgersen             NaN            NaN                NaN   \n",
              "4    Adelie  Torgersen            36.7           19.3              193.0   \n",
              "..      ...        ...             ...            ...                ...   \n",
              "339  Gentoo     Biscoe             NaN            NaN                NaN   \n",
              "340  Gentoo     Biscoe            46.8           14.3              215.0   \n",
              "341  Gentoo     Biscoe            50.4           15.7              222.0   \n",
              "342  Gentoo     Biscoe            45.2           14.8              212.0   \n",
              "343  Gentoo     Biscoe            49.9           16.1              213.0   \n",
              "\n",
              "     body_mass_g     sex  \n",
              "0         3750.0    Male  \n",
              "1         3800.0  Female  \n",
              "2         3250.0  Female  \n",
              "3            NaN     NaN  \n",
              "4         3450.0  Female  \n",
              "..           ...     ...  \n",
              "339          NaN     NaN  \n",
              "340       4850.0  Female  \n",
              "341       5750.0    Male  \n",
              "342       5200.0  Female  \n",
              "343       5400.0    Male  \n",
              "\n",
              "[344 rows x 7 columns]"
            ],
            "text/html": [
              "\n",
              "  <div id=\"df-1fe9959d-b6a5-41a9-9a9e-4835cfb89f04\">\n",
              "    <div class=\"colab-df-container\">\n",
              "      <div>\n",
              "<style scoped>\n",
              "    .dataframe tbody tr th:only-of-type {\n",
              "        vertical-align: middle;\n",
              "    }\n",
              "\n",
              "    .dataframe tbody tr th {\n",
              "        vertical-align: top;\n",
              "    }\n",
              "\n",
              "    .dataframe thead th {\n",
              "        text-align: right;\n",
              "    }\n",
              "</style>\n",
              "<table border=\"1\" class=\"dataframe\">\n",
              "  <thead>\n",
              "    <tr style=\"text-align: right;\">\n",
              "      <th></th>\n",
              "      <th>species</th>\n",
              "      <th>island</th>\n",
              "      <th>bill_length_mm</th>\n",
              "      <th>bill_depth_mm</th>\n",
              "      <th>flipper_length_mm</th>\n",
              "      <th>body_mass_g</th>\n",
              "      <th>sex</th>\n",
              "    </tr>\n",
              "  </thead>\n",
              "  <tbody>\n",
              "    <tr>\n",
              "      <th>0</th>\n",
              "      <td>Adelie</td>\n",
              "      <td>Torgersen</td>\n",
              "      <td>39.1</td>\n",
              "      <td>18.7</td>\n",
              "      <td>181.0</td>\n",
              "      <td>3750.0</td>\n",
              "      <td>Male</td>\n",
              "    </tr>\n",
              "    <tr>\n",
              "      <th>1</th>\n",
              "      <td>Adelie</td>\n",
              "      <td>Torgersen</td>\n",
              "      <td>39.5</td>\n",
              "      <td>17.4</td>\n",
              "      <td>186.0</td>\n",
              "      <td>3800.0</td>\n",
              "      <td>Female</td>\n",
              "    </tr>\n",
              "    <tr>\n",
              "      <th>2</th>\n",
              "      <td>Adelie</td>\n",
              "      <td>Torgersen</td>\n",
              "      <td>40.3</td>\n",
              "      <td>18.0</td>\n",
              "      <td>195.0</td>\n",
              "      <td>3250.0</td>\n",
              "      <td>Female</td>\n",
              "    </tr>\n",
              "    <tr>\n",
              "      <th>3</th>\n",
              "      <td>Adelie</td>\n",
              "      <td>Torgersen</td>\n",
              "      <td>NaN</td>\n",
              "      <td>NaN</td>\n",
              "      <td>NaN</td>\n",
              "      <td>NaN</td>\n",
              "      <td>NaN</td>\n",
              "    </tr>\n",
              "    <tr>\n",
              "      <th>4</th>\n",
              "      <td>Adelie</td>\n",
              "      <td>Torgersen</td>\n",
              "      <td>36.7</td>\n",
              "      <td>19.3</td>\n",
              "      <td>193.0</td>\n",
              "      <td>3450.0</td>\n",
              "      <td>Female</td>\n",
              "    </tr>\n",
              "    <tr>\n",
              "      <th>...</th>\n",
              "      <td>...</td>\n",
              "      <td>...</td>\n",
              "      <td>...</td>\n",
              "      <td>...</td>\n",
              "      <td>...</td>\n",
              "      <td>...</td>\n",
              "      <td>...</td>\n",
              "    </tr>\n",
              "    <tr>\n",
              "      <th>339</th>\n",
              "      <td>Gentoo</td>\n",
              "      <td>Biscoe</td>\n",
              "      <td>NaN</td>\n",
              "      <td>NaN</td>\n",
              "      <td>NaN</td>\n",
              "      <td>NaN</td>\n",
              "      <td>NaN</td>\n",
              "    </tr>\n",
              "    <tr>\n",
              "      <th>340</th>\n",
              "      <td>Gentoo</td>\n",
              "      <td>Biscoe</td>\n",
              "      <td>46.8</td>\n",
              "      <td>14.3</td>\n",
              "      <td>215.0</td>\n",
              "      <td>4850.0</td>\n",
              "      <td>Female</td>\n",
              "    </tr>\n",
              "    <tr>\n",
              "      <th>341</th>\n",
              "      <td>Gentoo</td>\n",
              "      <td>Biscoe</td>\n",
              "      <td>50.4</td>\n",
              "      <td>15.7</td>\n",
              "      <td>222.0</td>\n",
              "      <td>5750.0</td>\n",
              "      <td>Male</td>\n",
              "    </tr>\n",
              "    <tr>\n",
              "      <th>342</th>\n",
              "      <td>Gentoo</td>\n",
              "      <td>Biscoe</td>\n",
              "      <td>45.2</td>\n",
              "      <td>14.8</td>\n",
              "      <td>212.0</td>\n",
              "      <td>5200.0</td>\n",
              "      <td>Female</td>\n",
              "    </tr>\n",
              "    <tr>\n",
              "      <th>343</th>\n",
              "      <td>Gentoo</td>\n",
              "      <td>Biscoe</td>\n",
              "      <td>49.9</td>\n",
              "      <td>16.1</td>\n",
              "      <td>213.0</td>\n",
              "      <td>5400.0</td>\n",
              "      <td>Male</td>\n",
              "    </tr>\n",
              "  </tbody>\n",
              "</table>\n",
              "<p>344 rows × 7 columns</p>\n",
              "</div>\n",
              "      <button class=\"colab-df-convert\" onclick=\"convertToInteractive('df-1fe9959d-b6a5-41a9-9a9e-4835cfb89f04')\"\n",
              "              title=\"Convert this dataframe to an interactive table.\"\n",
              "              style=\"display:none;\">\n",
              "        \n",
              "  <svg xmlns=\"http://www.w3.org/2000/svg\" height=\"24px\"viewBox=\"0 0 24 24\"\n",
              "       width=\"24px\">\n",
              "    <path d=\"M0 0h24v24H0V0z\" fill=\"none\"/>\n",
              "    <path d=\"M18.56 5.44l.94 2.06.94-2.06 2.06-.94-2.06-.94-.94-2.06-.94 2.06-2.06.94zm-11 1L8.5 8.5l.94-2.06 2.06-.94-2.06-.94L8.5 2.5l-.94 2.06-2.06.94zm10 10l.94 2.06.94-2.06 2.06-.94-2.06-.94-.94-2.06-.94 2.06-2.06.94z\"/><path d=\"M17.41 7.96l-1.37-1.37c-.4-.4-.92-.59-1.43-.59-.52 0-1.04.2-1.43.59L10.3 9.45l-7.72 7.72c-.78.78-.78 2.05 0 2.83L4 21.41c.39.39.9.59 1.41.59.51 0 1.02-.2 1.41-.59l7.78-7.78 2.81-2.81c.8-.78.8-2.07 0-2.86zM5.41 20L4 18.59l7.72-7.72 1.47 1.35L5.41 20z\"/>\n",
              "  </svg>\n",
              "      </button>\n",
              "      \n",
              "  <style>\n",
              "    .colab-df-container {\n",
              "      display:flex;\n",
              "      flex-wrap:wrap;\n",
              "      gap: 12px;\n",
              "    }\n",
              "\n",
              "    .colab-df-convert {\n",
              "      background-color: #E8F0FE;\n",
              "      border: none;\n",
              "      border-radius: 50%;\n",
              "      cursor: pointer;\n",
              "      display: none;\n",
              "      fill: #1967D2;\n",
              "      height: 32px;\n",
              "      padding: 0 0 0 0;\n",
              "      width: 32px;\n",
              "    }\n",
              "\n",
              "    .colab-df-convert:hover {\n",
              "      background-color: #E2EBFA;\n",
              "      box-shadow: 0px 1px 2px rgba(60, 64, 67, 0.3), 0px 1px 3px 1px rgba(60, 64, 67, 0.15);\n",
              "      fill: #174EA6;\n",
              "    }\n",
              "\n",
              "    [theme=dark] .colab-df-convert {\n",
              "      background-color: #3B4455;\n",
              "      fill: #D2E3FC;\n",
              "    }\n",
              "\n",
              "    [theme=dark] .colab-df-convert:hover {\n",
              "      background-color: #434B5C;\n",
              "      box-shadow: 0px 1px 3px 1px rgba(0, 0, 0, 0.15);\n",
              "      filter: drop-shadow(0px 1px 2px rgba(0, 0, 0, 0.3));\n",
              "      fill: #FFFFFF;\n",
              "    }\n",
              "  </style>\n",
              "\n",
              "      <script>\n",
              "        const buttonEl =\n",
              "          document.querySelector('#df-1fe9959d-b6a5-41a9-9a9e-4835cfb89f04 button.colab-df-convert');\n",
              "        buttonEl.style.display =\n",
              "          google.colab.kernel.accessAllowed ? 'block' : 'none';\n",
              "\n",
              "        async function convertToInteractive(key) {\n",
              "          const element = document.querySelector('#df-1fe9959d-b6a5-41a9-9a9e-4835cfb89f04');\n",
              "          const dataTable =\n",
              "            await google.colab.kernel.invokeFunction('convertToInteractive',\n",
              "                                                     [key], {});\n",
              "          if (!dataTable) return;\n",
              "\n",
              "          const docLinkHtml = 'Like what you see? Visit the ' +\n",
              "            '<a target=\"_blank\" href=https://colab.research.google.com/notebooks/data_table.ipynb>data table notebook</a>'\n",
              "            + ' to learn more about interactive tables.';\n",
              "          element.innerHTML = '';\n",
              "          dataTable['output_type'] = 'display_data';\n",
              "          await google.colab.output.renderOutput(dataTable, element);\n",
              "          const docLink = document.createElement('div');\n",
              "          docLink.innerHTML = docLinkHtml;\n",
              "          element.appendChild(docLink);\n",
              "        }\n",
              "      </script>\n",
              "    </div>\n",
              "  </div>\n",
              "  "
            ]
          },
          "metadata": {},
          "execution_count": 46
        }
      ]
    },
    {
      "cell_type": "markdown",
      "source": [
        "What you see above is an example dataset about a population of penguins. It has a bunch of data, but you can orient this into plots however you want. There are tons of different ways to do this, so I have just provided a couple examples. If you want more information on documentation or ways you can change it, you can look up pandas or seaborn documentation!"
      ],
      "metadata": {
        "id": "8pXWDS1COhgc"
      }
    },
    {
      "cell_type": "code",
      "source": [
        "sns.scatterplot(data=penguins, x=\"bill_length_mm\", y=\"flipper_length_mm\", hue=\"species\");"
      ],
      "metadata": {
        "colab": {
          "base_uri": "https://localhost:8080/"
        },
        "id": "YpKOwf55OH5E",
        "outputId": "5125b50c-72b7-4587-f7cc-3ab408f66eac"
      },
      "execution_count": null,
      "outputs": [
        {
          "output_type": "display_data",
          "data": {
            "text/plain": [
              "<Figure size 432x288 with 1 Axes>"
            ],
            "image/png": "[encoded data removed]"
          },
          "metadata": {
            "needs_background": "light"
          }
        }
      ]
    },
    {
      "cell_type": "code",
      "source": [
        "sns.boxplot(data=penguins, x=\"species\", y=\"body_mass_g\");"
      ],
      "metadata": {
        "colab": {
          "base_uri": "https://localhost:8080/"
        },
        "id": "qjUqUkkGOVB1",
        "outputId": "e53003ee-54d7-4cdf-992c-82efdae6a9db"
      },
      "execution_count": null,
      "outputs": [
        {
          "output_type": "display_data",
          "data": {
            "text/plain": [
              "<Figure size 432x288 with 1 Axes>"
            ],
            "image/png": "[encoded data removed]"
          },
          "metadata": {
            "needs_background": "light"
          }
        }
      ]
    },
    {
      "cell_type": "code",
      "source": [
        "sns.histplot(data=penguins, x=\"flipper_length_mm\", hue=\"species\");"
      ],
      "metadata": {
        "colab": {
          "base_uri": "https://localhost:8080/"
        },
        "id": "SYvotLeuOXEE",
        "outputId": "a45cc4b4-1e49-44d3-ce71-fd92ee58ab7c"
      },
      "execution_count": null,
      "outputs": [
        {
          "output_type": "display_data",
          "data": {
            "text/plain": [
              "<Figure size 432x288 with 1 Axes>"
            ],
            "image/png": "[encoded data removed]"
          },
          "metadata": {
            "needs_background": "light"
          }
        }
      ]
    },
    {
      "cell_type": "code",
      "source": [
        "penguins.groupby(\"island\").sex.value_counts(normalize=True).unstack().plot.bar(stacked=True);"
      ],
      "metadata": {
        "colab": {
          "base_uri": "https://localhost:8080/"
        },
        "id": "m4jkfRSWOaCK",
        "outputId": "e709c1bb-6dd8-4137-f990-219e16bfac82"
      },
      "execution_count": null,
      "outputs": [
        {
          "output_type": "display_data",
          "data": {
            "text/plain": [
              "<Figure size 432x288 with 1 Axes>"
            ],
            "image/png": "[encoded data removed]"
          },
          "metadata": {
            "needs_background": "light"
          }
        }
      ]
    },
    {
      "cell_type": "code",
      "source": [
        "penguins.groupby(\"species\").island.value_counts(normalize=True).unstack().plot.bar(stacked=True);"
      ],
      "metadata": {
        "colab": {
          "base_uri": "https://localhost:8080/"
        },
        "id": "oHFONW4MOcBF",
        "outputId": "dbb7c1c7-cb67-46d8-e8a6-d00eca1bdc86"
      },
      "execution_count": null,
      "outputs": [
        {
          "output_type": "display_data",
          "data": {
            "text/plain": [
              "<Figure size 432x288 with 1 Axes>"
            ],
            "image/png": "[encoded data removed]"
          },
          "metadata": {
            "needs_background": "light"
          }
        }
      ]
    },
    {
      "cell_type": "markdown",
      "source": [
        "#Practice"
      ],
      "metadata": {
        "id": "B3Zp9FlBO2s2"
      }
    },
    {
      "cell_type": "markdown",
      "source": [
        "Up until now, you have just been running the code that I have prepared to get you acclimated with the basics of python. Now its time to have you do some coding yourself! Try the following questions and attempt to get the desired output that I'll put below the empty code blocks. If you get stuck or can't figure it out, I have put the solutions in another section at the bottom. \n",
        "\n",
        "Happy coding!"
      ],
      "metadata": {
        "id": "QG52jIFCPAmb"
      }
    },
    {
      "cell_type": "markdown",
      "source": [
        "**ONE REALLY USEFUL TOOL IS THIS PYTHON TUTOR THAT WALKS THROUGH WHAT YOUR CODE IS DOING AT EACH STEP. GIVE IT A SHOT!!**\n",
        "\n",
        "Link: https://pythontutor.com/cp/composingprograms.html#mode=edit"
      ],
      "metadata": {
        "id": "GzcPGUVKQH80"
      }
    },
    {
      "cell_type": "markdown",
      "source": [
        "**Question 1**\n",
        "\n",
        "Create a loop that generates a fibonacci sequence of length 15, but could be any length if the variable is changed.\n",
        "\n",
        "\n",
        "\n",
        "(The Fibonacci Sequence is the series of numbers :\n",
        "0, 1, 1, 2, 3, 5, 8, 13, 21, ....\n",
        "\n",
        "\n",
        "Every next number is found by adding up the two numbers before it.)"
      ],
      "metadata": {
        "id": "TT371CWURlP0"
      }
    },
    {
      "cell_type": "code",
      "source": [],
      "metadata": {
        "id": "_rC_3kV-OecB"
      },
      "execution_count": null,
      "outputs": []
    },
    {
      "cell_type": "markdown",
      "source": [
        "answer: [0, 1, 1, 2, 3, 5, 8, 13, 21, 34, 55, 89, 144, 233, 377, 610]"
      ],
      "metadata": {
        "id": "tyglbxRuVsTR"
      }
    },
    {
      "cell_type": "markdown",
      "source": [
        "**Question 2**\n",
        "\n",
        "Transpose the following array from the order (X, Y, Z, T) to (T, Z, Y, X)\n",
        "\n",
        "array = (128, 96, 24, 2)"
      ],
      "metadata": {
        "id": "p8VliaHOUfeM"
      }
    },
    {
      "cell_type": "code",
      "source": [
        "array = (128, 96, 24, 2)\n"
      ],
      "metadata": {
        "id": "JsI5ui-xVrWD"
      },
      "execution_count": null,
      "outputs": []
    },
    {
      "cell_type": "markdown",
      "source": [
        "answer: (2, 24, 96, 128)"
      ],
      "metadata": {
        "id": "1bGZveYeVwcm"
      }
    },
    {
      "cell_type": "markdown",
      "source": [
        "#Solutions"
      ],
      "metadata": {
        "id": "73ib5h5QUUMm"
      }
    },
    {
      "cell_type": "markdown",
      "source": [
        "Note these are just the solutions I came up with. There are many ways to do coding problems and there may be solutions even more efficient than these!"
      ],
      "metadata": {
        "id": "2TOs51vTXCt0"
      }
    },
    {
      "cell_type": "markdown",
      "source": [
        "**Question 1**"
      ],
      "metadata": {
        "id": "Le-YUPlvUWcM"
      }
    },
    {
      "cell_type": "code",
      "source": [
        "length = 15\n",
        "lst = []\n",
        "start = 0\n",
        "\n",
        "for i in range(length):\n",
        "  if start == 0:\n",
        "    lst.append(start)\n",
        "    start += 1\n",
        "    lst.append(start)\n",
        "  else:\n",
        "    start = start + lst[i-1] #this i-1 allows you to access the previous interger\n",
        "    lst.append(start)\n",
        "\n",
        "lst"
      ],
      "metadata": {
        "colab": {
          "base_uri": "https://localhost:8080/"
        },
        "id": "QWM4eYSpUDG2",
        "outputId": "0570acf0-5269-42fc-866f-5cb19148b0e2"
      },
      "execution_count": null,
      "outputs": [
        {
          "output_type": "execute_result",
          "data": {
            "text/plain": [
              "[0, 1, 1, 2, 3, 5, 8, 13, 21, 34, 55, 89, 144, 233, 377, 610]"
            ]
          },
          "metadata": {},
          "execution_count": 53
        }
      ]
    },
    {
      "cell_type": "markdown",
      "source": [
        "**Question 2**"
      ],
      "metadata": {
        "id": "rVj9jixQUZrK"
      }
    },
    {
      "cell_type": "code",
      "source": [
        "array = (128, 96, 24, 2)\n",
        "transposed = []\n",
        "x = 0\n",
        "y = len(array) - 1\n",
        "\n",
        "while x < len(array):\n",
        "  transposed.append(array[y])\n",
        "  x += 1\n",
        "  y -= 1\n",
        "\n",
        "transposed = tuple(transposed)\n",
        "print(transposed)"
      ],
      "metadata": {
        "colab": {
          "base_uri": "https://localhost:8080/"
        },
        "id": "fvZHFIphUdWJ",
        "outputId": "e0a405ee-45b0-465a-e0ab-5c99d711940b"
      },
      "execution_count": null,
      "outputs": [
        {
          "output_type": "stream",
          "name": "stdout",
          "text": [
            "(2, 24, 96, 128)\n"
          ]
        }
      ]
    },
    {
      "cell_type": "markdown",
      "source": [
        "Congradulations! You now have the basics of python code down! This is all you will need for NMEP and then some."
      ],
      "metadata": {
        "id": "2n1OipcUZY1v"
      }
    }
  ]
}