{
 "cells": [
  {
   "cell_type": "code",
   "execution_count": 1,
   "metadata": {
    "execution": {
     "iopub.execute_input": "2021-05-13T03:53:57.556865Z",
     "iopub.status.busy": "2021-05-13T03:53:57.555980Z",
     "iopub.status.idle": "2021-05-13T03:53:59.018730Z",
     "shell.execute_reply": "2021-05-13T03:53:59.018377Z"
    },
    "tags": [
     "remove_cell"
    ]
   },
   "outputs": [],
   "source": [
    "# HIDDEN\n",
    "from datascience import *\n",
    "from prob140 import *\n",
    "import numpy as np\n",
    "import matplotlib.pyplot as plt\n",
    "plt.style.use('fivethirtyeight')\n",
    "%matplotlib inline"
   ]
  },
  {
   "cell_type": "markdown",
   "metadata": {},
   "source": [
    "# Random Counts #"
   ]
  },
  {
   "cell_type": "markdown",
   "metadata": {},
   "source": [
    "These form a class of random variables that are of fundamental importance in probability theory. You have seen some examples already: the number of matches (fixed points) in a random permutation of $n$ elements is an example of a \"random count\", as is the number of good elements in a simple random sample. \n",
    "\n",
    "The general setting is that there are a number of trials, each of which can be a success or a failure. The random count is the number of successes among all the trials.\n",
    "\n",
    "The distribution of the number of successes depends on the underlying assumptions of randomness. In this chapter we will study independent, identically distributed trials. Neither the matching problem nor simple random sampling fits this framework. However, we will see that both of these settings can be closely approximated by independent trials under some conditions on the parameters.\n",
    "\n",
    "Finally, we will discover some remarkable properties of random counts when the number of trials is itself random. Data science includes many powerful methods that are based on randomizing parameters.\n",
    "\n",
    "Let's start off with the simplest random count, that is a count that can only be either 0 or 1."
   ]
  },
  {
   "cell_type": "markdown",
   "metadata": {},
   "source": [
    "**Indicators and the Bernoulli $(p)$ Distribution**\n",
    "\n",
    "Consider a trial that can only result in one success or one failure. The number of successes $X$ is thus a zero-one valued random variable and is said to have the *Bernoulli $(p)$ distribution* where $p = P(X = 1)$ is the probability of success. \n",
    "\n",
    "This very simple random count $X$ is called the *indicator of success* on the trial.\n",
    "\n",
    "Here is the probability histogram of a random variable $X$ that has the Bernoulli $(1/3)$ distribution."
   ]
  },
  {
   "cell_type": "code",
   "execution_count": 2,
   "metadata": {
    "execution": {
     "iopub.execute_input": "2021-05-13T03:53:59.022328Z",
     "iopub.status.busy": "2021-05-13T03:53:59.021938Z",
     "iopub.status.idle": "2021-05-13T03:53:59.283386Z",
     "shell.execute_reply": "2021-05-13T03:53:59.283678Z"
    }
   },
   "outputs": [
    {
     "data": {
      "image/png": "[encoded data removed]",
      "text/plain": [
       "<Figure size 432x288 with 1 Axes>"
      ]
     },
     "metadata": {
      "filenames": {
       "image/png": "/mnt/c/users/ryan/documents/prob140/textbook/_build/jupyter_execute/content/Chapter_06/00_Random_Counts_4_0.png"
      },
      "needs_background": "light"
     },
     "output_type": "display_data"
    }
   ],
   "source": [
    "bern_1_3 = Table().values([0,1]).probabilities([2/3, 1/3])\n",
    "Plot(bern_1_3)\n",
    "plt.xlabel('Value of $X$')\n",
    "plt.title('Bernoulli (1/3)');"
   ]
  },
  {
   "cell_type": "markdown",
   "metadata": {},
   "source": [
    "**Counting is the Same as Adding Zeros and Ones**\n",
    "\n",
    "Consider a sequence of $n$ trials and for $1 \\le i \\le n$ let $X_i$ be the indicator of success on Trial $i$. \n",
    "\n",
    "The sum $S_n = X_1 + X_2 + \\cdots + X_n$ is then the total number of successes in the $n$ trials. For example, if $n=3$ and $X_1 = 0$, $X_2 = 0$, and $X_3 = 1$, then there is one success in the three trials and $S_3 = 1$. As you increase the number of trials, the count stays level at every $i$ for which $X_i = 0$, and increases by 1 at each $i$ for which $X_i = 1$.\n",
    "\n",
    "We will start out by assuming that all the $X_i$'s are i.i.d. That is, trials are mutually independent and the chance of success in a fixed trial is the same for all trials.\n",
    "\n",
    "To fix such an example in your mind, think of the trials as being 7 rolls of a die, and let $X_i$ be the indicator of getting a six on roll $i$. Each $X_i$ has the Bernoulli $(1/6)$ distribution and all the $X_i$'s are independent. Their sum $S_7$ is the number of sixes in the 7 rolls. "
   ]
  },
  {
   "cell_type": "code",
   "execution_count": 3,
   "metadata": {
    "collapsed": true
   },
   "outputs": [],
   "source": []
  },
  {
   "cell_type": "markdown",
   "metadata": {},
   "source": [
    "\n",
    "```{toctree}\n",
    ":hidden:\n",
    ":titlesonly:\n",
    "\n",
    "\n",
    "01_Binomial_Distribution\n",
    "02_Examples\n",
    "03_Multinomial_Distribution\n",
    "04_The_Hypergeometric_Revisited\n",
    "05_Odds_Ratios\n",
    "06_Law_of_Small_Numbers\n",
    "07_Exercises\n",
    "```\n"
   ]
  }
 ],
 "metadata": {
  "anaconda-cloud": {},
  "kernelspec": {
   "display_name": "Python 3",
   "language": "python",
   "name": "python3"
  },
  "language_info": {
   "codemirror_mode": {
    "name": "ipython",
    "version": 3
   },
   "file_extension": ".py",
   "mimetype": "text/x-python",
   "name": "python",
   "nbconvert_exporter": "python",
   "pygments_lexer": "ipython3",
   "version": "3.7.7"
  }
 },
 "nbformat": 4,
 "nbformat_minor": 1
}