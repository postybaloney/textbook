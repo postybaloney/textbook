{
 "cells": [
  {
   "cell_type": "code",
   "execution_count": 1,
   "metadata": {
    "execution": {
     "iopub.execute_input": "2021-02-06T03:14:58.130042Z",
     "iopub.status.busy": "2021-02-06T03:14:58.129601Z",
     "iopub.status.idle": "2021-02-06T03:14:59.831557Z",
     "shell.execute_reply": "2021-02-06T03:14:59.831215Z"
    },
    "tags": [
     "remove_cell"
    ]
   },
   "outputs": [],
   "source": [
    "# HIDDEN\n",
    "from datascience import *\n",
    "from prob140 import *\n",
    "import numpy as np\n",
    "import matplotlib.pyplot as plt\n",
    "plt.style.use('fivethirtyeight')\n",
    "%matplotlib inline\n",
    "from scipy import stats"
   ]
  },
  {
   "cell_type": "markdown",
   "metadata": {},
   "source": [
    "## The Hypergeometric, Revisited ##"
   ]
  },
  {
   "cell_type": "markdown",
   "metadata": {},
   "source": [
    "You have seen the hypergeometric probabilities earlier. In this section we will use them to define the distribution of a random count, and study the relation with the binomial distribution.\n",
    "\n",
    "As a review of the hypergeometric setting, suppose you have a population of a fixed size $N$, and suppose you are interested in a particular group of those $N$ individuals. Let's call them \"successes\" or \"good elements\". For example, you might be interested in:\n",
    "- a population of voters, and among them the group who will vote for a particular candidate\n",
    "- a population of households, and among them the group that have annual incomes below $50,000\n",
    "- a deck of cards, and the suit of diamonds\n",
    "\n",
    "Let $N = G+B$ where $G$ is the number of good elements and $B$ the remaining number of elements which we will unkindly describe as \"bad\". \n",
    "\n",
    "Now suppose you take a simple random sample (SRS) of $n$ elements from the population."
   ]
  },
  {
   "cell_type": "markdown",
   "metadata": {},
   "source": [
    "### Number of Good Elements in a SRS ###\n",
    "Let $X$ be the number of good elements in the sample. What is the distribution of $X$?\n",
    "\n",
    "The largest $X$ can be is $\\min(G, n)$. We'll say the smallest $X$ can be is 0, though if we are very careful we will see that in fact $X$ can't be any smaller than $\\max(0, n-B)$.\n",
    "\n",
    "Let $g$ be a possible value of $X$. Then, since all $\\binom{N}{n}$ samples are equally likely,\n",
    "\n",
    "$$\n",
    "P(X = g) ~ = ~ \\frac{\\binom{G}{g} \\binom{B}{b}}{\\binom{N}{n}}, ~~~\n",
    "g+b=n\n",
    "$$\n",
    "\n",
    "This is called the *hypergeometric distribution* with population size $N$, number of good elements or \"successes\" $G$, and sample size $n$. The name comes from the fact that the terms are the coefficients in a [*hypergeometric series*](https://en.wikipedia.org/wiki/Hypergeometric_function#The_hypergeometric_series), which is a piece of mathematics that we won't go into in this course."
   ]
  },
  {
   "cell_type": "markdown",
   "metadata": {},
   "source": [
    "### Example: Aces in a Five-Card Poker Hand ###\n",
    "The number of aces $N_a$ in a five-card poker hand has the hypergeometric distribution with population size 52, four good elements in the population, and a simple random sample size of 5.\n",
    "\n",
    "$$\n",
    "P(N_a = k) = \\frac{\\binom{4}{k} \\binom{48}{5-k}}{\\binom{52}{5}}, ~~ k = 0, 1, 2, 3, 4\n",
    "$$\n",
    "\n",
    "The `stats.hypergeom.pmf` function allows us to calculate hypergeometric probabilities. The first argument is the set of possible values for which we want the probabilities. Then come the parameters, in the order population size, number of good elements, sample size."
   ]
  },
  {
   "cell_type": "code",
   "execution_count": 2,
   "metadata": {
    "execution": {
     "iopub.execute_input": "2021-02-06T03:14:59.837123Z",
     "iopub.status.busy": "2021-02-06T03:14:59.836663Z",
     "iopub.status.idle": "2021-02-06T03:14:59.839808Z",
     "shell.execute_reply": "2021-02-06T03:14:59.839514Z"
    }
   },
   "outputs": [
    {
     "data": {
      "text/plain": [
       "array([6.58841998e-01, 2.99473636e-01, 3.99298181e-02, 1.73607905e-03,\n",
       "       1.84689260e-05])"
      ]
     },
     "execution_count": 2,
     "metadata": {},
     "output_type": "execute_result"
    }
   ],
   "source": [
    "k = np.arange(5)\n",
    "N = 52 # population size\n",
    "G = 4  # number of good elements in population\n",
    "n = 5  # simple random sample size\n",
    "stats.hypergeom.pmf(k, N, G, n)"
   ]
  },
  {
   "cell_type": "markdown",
   "metadata": {},
   "source": [
    "Those are the chances of all the different possible numbers of aces in a poker hand. They are rather hard to read, so let's try rounding them."
   ]
  },
  {
   "cell_type": "code",
   "execution_count": 3,
   "metadata": {
    "execution": {
     "iopub.execute_input": "2021-02-06T03:14:59.842788Z",
     "iopub.status.busy": "2021-02-06T03:14:59.842387Z",
     "iopub.status.idle": "2021-02-06T03:14:59.846111Z",
     "shell.execute_reply": "2021-02-06T03:14:59.845693Z"
    }
   },
   "outputs": [
    {
     "data": {
      "text/plain": [
       "array([0.659, 0.299, 0.04 , 0.002, 0.   ])"
      ]
     },
     "execution_count": 3,
     "metadata": {},
     "output_type": "execute_result"
    }
   ],
   "source": [
    "np.round(stats.hypergeom.pmf(k, N, G, n), 3)"
   ]
  },
  {
   "cell_type": "markdown",
   "metadata": {},
   "source": [
    "The number of aces among 5 cards is overwhelmingly likely to be 0 or 1. The histogram of the distribution can be drawn using `Plot`."
   ]
  },
  {
   "cell_type": "code",
   "execution_count": 4,
   "metadata": {
    "execution": {
     "iopub.execute_input": "2021-02-06T03:14:59.849455Z",
     "iopub.status.busy": "2021-02-06T03:14:59.848676Z",
     "iopub.status.idle": "2021-02-06T03:15:00.018655Z",
     "shell.execute_reply": "2021-02-06T03:15:00.019017Z"
    }
   },
   "outputs": [
    {
     "data": {
      "image/png": "[encoded data removed]",
      "text/plain": [
       "<Figure size 432x288 with 1 Axes>"
      ]
     },
     "metadata": {
      "filenames": {
       "image/png": "/mnt/c/Users/Ryan/Documents/prob140/textbook/_build/jupyter_execute/content/Chapter_06/04_The_Hypergeometric_Revisited_9_0.png"
      },
      "needs_background": "light"
     },
     "output_type": "display_data"
    }
   ],
   "source": [
    "ace_probs = stats.hypergeom.pmf(k, N, G, n)\n",
    "ace_dist = Table().values(k).probabilities(ace_probs)\n",
    "Plot(ace_dist)\n",
    "plt.title('Number of Aces in a 5-Card Hand');"
   ]
  },
  {
   "cell_type": "markdown",
   "metadata": {},
   "source": [
    "### Red Cards in a Bridge Hand ###\n",
    "Here is the distribution of the number of red cards in a bridge hand of 13 cards:"
   ]
  },
  {
   "cell_type": "code",
   "execution_count": 5,
   "metadata": {
    "execution": {
     "iopub.execute_input": "2021-02-06T03:15:00.029362Z",
     "iopub.status.busy": "2021-02-06T03:15:00.028971Z",
     "iopub.status.idle": "2021-02-06T03:15:00.200644Z",
     "shell.execute_reply": "2021-02-06T03:15:00.201110Z"
    }
   },
   "outputs": [
    {
     "data": {
      "image/png": "[encoded data removed]",
      "text/plain": [
       "<Figure size 432x288 with 1 Axes>"
      ]
     },
     "metadata": {
      "filenames": {
       "image/png": "/mnt/c/Users/Ryan/Documents/prob140/textbook/_build/jupyter_execute/content/Chapter_06/04_The_Hypergeometric_Revisited_11_0.png"
      },
      "needs_background": "light"
     },
     "output_type": "display_data"
    }
   ],
   "source": [
    "k = np.arange(14)\n",
    "N = 52\n",
    "G = 26\n",
    "n = 13\n",
    "bridge_probs = stats.hypergeom.pmf(k, N, G, n)\n",
    "bridge_dist = Table().values(k).probabilities(bridge_probs)\n",
    "\n",
    "Plot(bridge_dist)\n",
    "plt.title('Number of Red Cards in a 13-Card Hand');"
   ]
  },
  {
   "cell_type": "markdown",
   "metadata": {},
   "source": [
    "This one looks rather binomial. And indeed, there is a close relation between the binomial and the hypergeometric distributions."
   ]
  },
  {
   "cell_type": "markdown",
   "metadata": {},
   "source": [
    "### Relation with the Binomial ###\n",
    "Suppose you have a population of $N = G+B$ elements as above, and suppose you sample $n$ times *with* replacement. Then the number of good elements in the sample has the binomial distribution with parameters $n$ and $G/N$. \n",
    "\n",
    "If you sample *without* replacement, then the distribution of the number of good elements is hypergeometric $(N, G, n)$.\n",
    "\n",
    "The only difference between the two settings is the randomization: sampling with or without replacement. \n",
    "\n",
    "If the population size $N$ is large relative to the sample size $n$, then it doesn't make much difference whether you are sampling with or without replacement. If you only take out a very small proportion of the population as you sample, you make no noticeable difference to the proportions in the population.\n",
    "\n",
    "To see whether this intuition can be confirmed by calculation, let's visualize some hypergeometric distributions and the corresponding binomial approximations. You can change the parameters in the code below. Just make sure that $n$ is small relative to $N$."
   ]
  },
  {
   "cell_type": "code",
   "execution_count": 6,
   "metadata": {
    "execution": {
     "iopub.execute_input": "2021-02-06T03:15:00.206305Z",
     "iopub.status.busy": "2021-02-06T03:15:00.205518Z",
     "iopub.status.idle": "2021-02-06T03:15:00.467842Z",
     "shell.execute_reply": "2021-02-06T03:15:00.467497Z"
    }
   },
   "outputs": [
    {
     "data": {
      "image/png": "[encoded data removed]",
      "text/plain": [
       "<Figure size 432x288 with 1 Axes>"
      ]
     },
     "metadata": {
      "filenames": {
       "image/png": "/mnt/c/Users/Ryan/Documents/prob140/textbook/_build/jupyter_execute/content/Chapter_06/04_The_Hypergeometric_Revisited_14_0.png"
      },
      "needs_background": "light"
     },
     "output_type": "display_data"
    }
   ],
   "source": [
    "N = 100\n",
    "G = 30\n",
    "n = 10\n",
    "k = np.arange(n+1)\n",
    "hyp_probs = stats.hypergeom.pmf(k, N, G, n)\n",
    "bin_probs = stats.binom.pmf(k, n, G/N)\n",
    "hyp_dist = Table().values(k).probabilities(hyp_probs)\n",
    "bin_dist = Table().values(k).probabilities(bin_probs)\n",
    "Plots('Hypergeometric (100, 30, 10)', hyp_dist, 'Binomial (10, 0.3)', bin_dist)"
   ]
  },
  {
   "cell_type": "markdown",
   "metadata": {},
   "source": [
    "They are pretty close, though you can see that the hypergeometric distribution is a bit taller and narrower. In a later chapter we will quantify this difference in spread."
   ]
  },
  {
   "cell_type": "markdown",
   "metadata": {},
   "source": [
    "### Fisher's Exact Test ###\n",
    "Recall a [randomized controlled experiment](https://www.ncbi.nlm.nih.gov/pubmed/11376175) that was analyzed in Data 8. The treatment was the botulinum toxin A, a very potent toxin, used as medication for patients who had chronic back pain.\n",
    "\n",
    "A total of 31 patients participated in the study. Of these, 15 were randomly assigned to the treatment group and the remaining 16 to the control group. Eight weeks after treatment, 11 of the 15 in the treatment group had pain relief compared to 2 out of 16 in the control group. \n",
    "\n",
    "In other words, of the 13 patients who had pain relief, 11 were in the treatment group and 2 in the control group. Is this evidence in favor of the treatment?\n",
    "\n",
    "The null hypothesis says that the treatment does nothing; any difference between the two groups is due to the random assignment of patients to treatment and control. \n",
    "\n",
    "The alternative hypothesis says that the treatment was beneficial. \n",
    "\n",
    "Under the null hypothesis, the treatment did nothing different from the control, so among the 31 patients in the study, *13 would have had pain relief anyway*, regardless of the assignment to groups. \n",
    "\n",
    "To see which of the hypotheses is better supported by the data, we can find a P-value. This is the chance, under the null hypothesis, of getting data like the data that were observed or even more in the direction of the alternative. That is, the P-value is the chance of getting 11 or more of the \"pain relief\" patients in the treatment group, just by chance.\n",
    "\n",
    "To find the chance that 11 or more of the \"pain relief\" group would have ended up in the treatment group, we just need a hypergeometric probability:\n",
    "- N = 31, the population size\n",
    "- G = 13, the total number of \"pain relief\" patients\n",
    "- n = 15, the size of the treatment group\n",
    "- g = 11 or more"
   ]
  },
  {
   "cell_type": "code",
   "execution_count": 7,
   "metadata": {
    "execution": {
     "iopub.execute_input": "2021-02-06T03:15:00.471374Z",
     "iopub.status.busy": "2021-02-06T03:15:00.470779Z",
     "iopub.status.idle": "2021-02-06T03:15:00.474729Z",
     "shell.execute_reply": "2021-02-06T03:15:00.474293Z"
    }
   },
   "outputs": [
    {
     "data": {
      "text/plain": [
       "0.0008299755046076295"
      ]
     },
     "execution_count": 7,
     "metadata": {},
     "output_type": "execute_result"
    }
   ],
   "source": [
    "sum(stats.hypergeom.pmf([11, 12, 13], 31, 13, 15))"
   ]
  },
  {
   "cell_type": "markdown",
   "metadata": {},
   "source": [
    "That's a very small P-value, which implies that the data support the alternative hypothesis more than they support the null. The treatment helped. This is consistent with the conclusion of the researchers and also with our own analysis in Data 8 – but all three analyses are different.\n",
    "\n",
    "In Data 8 we simulated the difference between the two group proportions under the null hypothesis, by pooling the two groups and randomly permuting the pooled sample. Our conclusion was based on an empirical, approximate P-value. \n",
    "\n",
    "The calculation here does not require simulation and produces an exact P-value.\n",
    "\n",
    "This method is called Fisher's exact test. That's the same Sir Ronald Fisher who formalized tests of hypotheses, suggested cutoffs for P-values, and so on. The method can be used for any sample size and any randomized controlled experiment with a binary response."
   ]
  },
  {
   "cell_type": "markdown",
   "metadata": {
    "collapsed": true
   },
   "source": [
    "### Joint, Marginal, and Conditional Distributions ###\n",
    "The calculations above extend easily to samples that can come out in more than two categories. Consider a five-card poker hand dealt from a well-shuffled deck. Let $H$ be the number of hearts and $S$ the number of spades in the hand. Let us find the joint distribution of $H$ and $S$.\n",
    "\n",
    "The hand can have cards other than hearts and spades, of course. Let $X$ be the number of those cards, which must be diamonds or clubs. Then\n",
    "\n",
    "$$\n",
    "P(H = h, S = s) ~ = ~ P(H = h, S = s, X = 5 - (h+s)) ~ = ~ \n",
    "\\frac{\\binom{13}{h}\\binom{13}{s}\\binom{26}{5-h-s}}{\\binom{52}{5}}, ~~ h, s \\ge 0, ~ h+s \\le 5\n",
    "$$\n",
    "\n",
    "The SciPy module `special` allows you to calculate binomial coefficients, so let's import it."
   ]
  },
  {
   "cell_type": "code",
   "execution_count": 8,
   "metadata": {
    "execution": {
     "iopub.execute_input": "2021-02-06T03:15:00.479455Z",
     "iopub.status.busy": "2021-02-06T03:15:00.478952Z",
     "iopub.status.idle": "2021-02-06T03:15:00.482419Z",
     "shell.execute_reply": "2021-02-06T03:15:00.481422Z"
    }
   },
   "outputs": [],
   "source": [
    "from scipy import special"
   ]
  },
  {
   "cell_type": "markdown",
   "metadata": {},
   "source": [
    "The expression `special.comb(n, k)` evaluates to $\\binom{n}{k}$. This allows us to calculate the joint distribution of $H$ and $S$."
   ]
  },
  {
   "cell_type": "code",
   "execution_count": 9,
   "metadata": {
    "execution": {
     "iopub.execute_input": "2021-02-06T03:15:00.497221Z",
     "iopub.status.busy": "2021-02-06T03:15:00.492526Z",
     "iopub.status.idle": "2021-02-06T03:15:00.507911Z",
     "shell.execute_reply": "2021-02-06T03:15:00.507340Z"
    }
   },
   "outputs": [
    {
     "data": {
      "text/html": [
       "<div>\n",
       "<style scoped>\n",
       "    .dataframe tbody tr th:only-of-type {\n",
       "        vertical-align: middle;\n",
       "    }\n",
       "\n",
       "    .dataframe tbody tr th {\n",
       "        vertical-align: top;\n",
       "    }\n",
       "\n",
       "    .dataframe thead th {\n",
       "        text-align: right;\n",
       "    }\n",
       "</style>\n",
       "<table border=\"1\" class=\"dataframe\">\n",
       "  <thead>\n",
       "    <tr style=\"text-align: right;\">\n",
       "      <th></th>\n",
       "      <th>H=0</th>\n",
       "      <th>H=1</th>\n",
       "      <th>H=2</th>\n",
       "      <th>H=3</th>\n",
       "      <th>H=4</th>\n",
       "      <th>H=5</th>\n",
       "    </tr>\n",
       "  </thead>\n",
       "  <tbody>\n",
       "    <tr>\n",
       "      <th>S=5</th>\n",
       "      <td>0.000495</td>\n",
       "      <td>0.000000</td>\n",
       "      <td>0.000000</td>\n",
       "      <td>0.000000</td>\n",
       "      <td>0.000000</td>\n",
       "      <td>0.000000</td>\n",
       "    </tr>\n",
       "    <tr>\n",
       "      <th>S=4</th>\n",
       "      <td>0.007153</td>\n",
       "      <td>0.003576</td>\n",
       "      <td>0.000000</td>\n",
       "      <td>0.000000</td>\n",
       "      <td>0.000000</td>\n",
       "      <td>0.000000</td>\n",
       "    </tr>\n",
       "    <tr>\n",
       "      <th>S=3</th>\n",
       "      <td>0.035764</td>\n",
       "      <td>0.037195</td>\n",
       "      <td>0.008583</td>\n",
       "      <td>0.000000</td>\n",
       "      <td>0.000000</td>\n",
       "      <td>0.000000</td>\n",
       "    </tr>\n",
       "    <tr>\n",
       "      <th>S=2</th>\n",
       "      <td>0.078031</td>\n",
       "      <td>0.126801</td>\n",
       "      <td>0.060864</td>\n",
       "      <td>0.008583</td>\n",
       "      <td>0.000000</td>\n",
       "      <td>0.000000</td>\n",
       "    </tr>\n",
       "    <tr>\n",
       "      <th>S=1</th>\n",
       "      <td>0.074780</td>\n",
       "      <td>0.169068</td>\n",
       "      <td>0.126801</td>\n",
       "      <td>0.037195</td>\n",
       "      <td>0.003576</td>\n",
       "      <td>0.000000</td>\n",
       "    </tr>\n",
       "    <tr>\n",
       "      <th>S=0</th>\n",
       "      <td>0.025310</td>\n",
       "      <td>0.074780</td>\n",
       "      <td>0.078031</td>\n",
       "      <td>0.035764</td>\n",
       "      <td>0.007153</td>\n",
       "      <td>0.000495</td>\n",
       "    </tr>\n",
       "  </tbody>\n",
       "</table>\n",
       "</div>"
      ],
      "text/plain": [
       "          H=0       H=1       H=2       H=3       H=4       H=5\n",
       "S=5  0.000495  0.000000  0.000000  0.000000  0.000000  0.000000\n",
       "S=4  0.007153  0.003576  0.000000  0.000000  0.000000  0.000000\n",
       "S=3  0.035764  0.037195  0.008583  0.000000  0.000000  0.000000\n",
       "S=2  0.078031  0.126801  0.060864  0.008583  0.000000  0.000000\n",
       "S=1  0.074780  0.169068  0.126801  0.037195  0.003576  0.000000\n",
       "S=0  0.025310  0.074780  0.078031  0.035764  0.007153  0.000495"
      ]
     },
     "execution_count": 9,
     "metadata": {},
     "output_type": "execute_result"
    }
   ],
   "source": [
    "def joint_prob(h, s):\n",
    "    if (h+s >=0) and (h+s <=5):\n",
    "        numerator = special.comb(13, h) * special.comb(13, s) * special.comb(26, 5 - h -s)\n",
    "        denominator = special.comb(52, 5)\n",
    "        return numerator / denominator\n",
    "    else:\n",
    "        return 0\n",
    "    \n",
    "k = np.arange(6)\n",
    "joint_dist = Table().values('H', k, 'S', k).probability_function(joint_prob)\n",
    "joint_dist"
   ]
  },
  {
   "cell_type": "markdown",
   "metadata": {},
   "source": [
    "The distribution of $H$ can be obtained by summing along the columns, or by using the `marginal` method:"
   ]
  },
  {
   "cell_type": "code",
   "execution_count": 10,
   "metadata": {
    "execution": {
     "iopub.execute_input": "2021-02-06T03:15:00.522587Z",
     "iopub.status.busy": "2021-02-06T03:15:00.522102Z",
     "iopub.status.idle": "2021-02-06T03:15:00.526005Z",
     "shell.execute_reply": "2021-02-06T03:15:00.525417Z"
    }
   },
   "outputs": [
    {
     "data": {
      "text/html": [
       "<div>\n",
       "<style scoped>\n",
       "    .dataframe tbody tr th:only-of-type {\n",
       "        vertical-align: middle;\n",
       "    }\n",
       "\n",
       "    .dataframe tbody tr th {\n",
       "        vertical-align: top;\n",
       "    }\n",
       "\n",
       "    .dataframe thead th {\n",
       "        text-align: right;\n",
       "    }\n",
       "</style>\n",
       "<table border=\"1\" class=\"dataframe\">\n",
       "  <thead>\n",
       "    <tr style=\"text-align: right;\">\n",
       "      <th></th>\n",
       "      <th>H=0</th>\n",
       "      <th>H=1</th>\n",
       "      <th>H=2</th>\n",
       "      <th>H=3</th>\n",
       "      <th>H=4</th>\n",
       "      <th>H=5</th>\n",
       "    </tr>\n",
       "  </thead>\n",
       "  <tbody>\n",
       "    <tr>\n",
       "      <th>S=5</th>\n",
       "      <td>0.000495</td>\n",
       "      <td>0.000000</td>\n",
       "      <td>0.000000</td>\n",
       "      <td>0.000000</td>\n",
       "      <td>0.000000</td>\n",
       "      <td>0.000000</td>\n",
       "    </tr>\n",
       "    <tr>\n",
       "      <th>S=4</th>\n",
       "      <td>0.007153</td>\n",
       "      <td>0.003576</td>\n",
       "      <td>0.000000</td>\n",
       "      <td>0.000000</td>\n",
       "      <td>0.000000</td>\n",
       "      <td>0.000000</td>\n",
       "    </tr>\n",
       "    <tr>\n",
       "      <th>S=3</th>\n",
       "      <td>0.035764</td>\n",
       "      <td>0.037195</td>\n",
       "      <td>0.008583</td>\n",
       "      <td>0.000000</td>\n",
       "      <td>0.000000</td>\n",
       "      <td>0.000000</td>\n",
       "    </tr>\n",
       "    <tr>\n",
       "      <th>S=2</th>\n",
       "      <td>0.078031</td>\n",
       "      <td>0.126801</td>\n",
       "      <td>0.060864</td>\n",
       "      <td>0.008583</td>\n",
       "      <td>0.000000</td>\n",
       "      <td>0.000000</td>\n",
       "    </tr>\n",
       "    <tr>\n",
       "      <th>S=1</th>\n",
       "      <td>0.074780</td>\n",
       "      <td>0.169068</td>\n",
       "      <td>0.126801</td>\n",
       "      <td>0.037195</td>\n",
       "      <td>0.003576</td>\n",
       "      <td>0.000000</td>\n",
       "    </tr>\n",
       "    <tr>\n",
       "      <th>S=0</th>\n",
       "      <td>0.025310</td>\n",
       "      <td>0.074780</td>\n",
       "      <td>0.078031</td>\n",
       "      <td>0.035764</td>\n",
       "      <td>0.007153</td>\n",
       "      <td>0.000495</td>\n",
       "    </tr>\n",
       "    <tr>\n",
       "      <th>Sum: Marginal of H</th>\n",
       "      <td>0.221534</td>\n",
       "      <td>0.411420</td>\n",
       "      <td>0.274280</td>\n",
       "      <td>0.081543</td>\n",
       "      <td>0.010729</td>\n",
       "      <td>0.000495</td>\n",
       "    </tr>\n",
       "  </tbody>\n",
       "</table>\n",
       "</div>"
      ],
      "text/plain": [
       "                         H=0       H=1       H=2       H=3       H=4       H=5\n",
       "S=5                 0.000495  0.000000  0.000000  0.000000  0.000000  0.000000\n",
       "S=4                 0.007153  0.003576  0.000000  0.000000  0.000000  0.000000\n",
       "S=3                 0.035764  0.037195  0.008583  0.000000  0.000000  0.000000\n",
       "S=2                 0.078031  0.126801  0.060864  0.008583  0.000000  0.000000\n",
       "S=1                 0.074780  0.169068  0.126801  0.037195  0.003576  0.000000\n",
       "S=0                 0.025310  0.074780  0.078031  0.035764  0.007153  0.000495\n",
       "Sum: Marginal of H  0.221534  0.411420  0.274280  0.081543  0.010729  0.000495"
      ]
     },
     "execution_count": 10,
     "metadata": {},
     "output_type": "execute_result"
    }
   ],
   "source": [
    "joint_dist.marginal('H')"
   ]
  },
  {
   "cell_type": "markdown",
   "metadata": {},
   "source": [
    "But $H$ is the number of hearts in a five-card hand, so we already know that $H$ has the hypergeometric $(52, 13, 5)$ distribution. Let's confirm that this is the same as the marginal distribution above."
   ]
  },
  {
   "cell_type": "code",
   "execution_count": 11,
   "metadata": {
    "execution": {
     "iopub.execute_input": "2021-02-06T03:15:00.533880Z",
     "iopub.status.busy": "2021-02-06T03:15:00.532215Z",
     "iopub.status.idle": "2021-02-06T03:15:00.537622Z",
     "shell.execute_reply": "2021-02-06T03:15:00.536863Z"
    }
   },
   "outputs": [
    {
     "data": {
      "text/plain": [
       "array([0.22153361, 0.41141957, 0.27427971, 0.08154262, 0.01072929,\n",
       "       0.0004952 ])"
      ]
     },
     "execution_count": 11,
     "metadata": {},
     "output_type": "execute_result"
    }
   ],
   "source": [
    "stats.hypergeom.pmf(k, 52, 13, 5)"
   ]
  },
  {
   "cell_type": "markdown",
   "metadata": {},
   "source": [
    "If you know how many spades are in the hand, then what is the conditional distribution of $H$?"
   ]
  },
  {
   "cell_type": "code",
   "execution_count": 12,
   "metadata": {
    "execution": {
     "iopub.execute_input": "2021-02-06T03:15:00.546530Z",
     "iopub.status.busy": "2021-02-06T03:15:00.546035Z",
     "iopub.status.idle": "2021-02-06T03:15:00.567077Z",
     "shell.execute_reply": "2021-02-06T03:15:00.566013Z"
    }
   },
   "outputs": [
    {
     "data": {
      "text/html": [
       "<div>\n",
       "<style scoped>\n",
       "    .dataframe tbody tr th:only-of-type {\n",
       "        vertical-align: middle;\n",
       "    }\n",
       "\n",
       "    .dataframe tbody tr th {\n",
       "        vertical-align: top;\n",
       "    }\n",
       "\n",
       "    .dataframe thead th {\n",
       "        text-align: right;\n",
       "    }\n",
       "</style>\n",
       "<table border=\"1\" class=\"dataframe\">\n",
       "  <thead>\n",
       "    <tr style=\"text-align: right;\">\n",
       "      <th></th>\n",
       "      <th>H=0</th>\n",
       "      <th>H=1</th>\n",
       "      <th>H=2</th>\n",
       "      <th>H=3</th>\n",
       "      <th>H=4</th>\n",
       "      <th>H=5</th>\n",
       "      <th>Sum</th>\n",
       "    </tr>\n",
       "  </thead>\n",
       "  <tbody>\n",
       "    <tr>\n",
       "      <th>Dist. of H | S=5</th>\n",
       "      <td>1.000000</td>\n",
       "      <td>0.000000</td>\n",
       "      <td>0.000000</td>\n",
       "      <td>0.000000</td>\n",
       "      <td>0.000000</td>\n",
       "      <td>0.000000</td>\n",
       "      <td>1.0</td>\n",
       "    </tr>\n",
       "    <tr>\n",
       "      <th>Dist. of H | S=4</th>\n",
       "      <td>0.666667</td>\n",
       "      <td>0.333333</td>\n",
       "      <td>0.000000</td>\n",
       "      <td>0.000000</td>\n",
       "      <td>0.000000</td>\n",
       "      <td>0.000000</td>\n",
       "      <td>1.0</td>\n",
       "    </tr>\n",
       "    <tr>\n",
       "      <th>Dist. of H | S=3</th>\n",
       "      <td>0.438596</td>\n",
       "      <td>0.456140</td>\n",
       "      <td>0.105263</td>\n",
       "      <td>0.000000</td>\n",
       "      <td>0.000000</td>\n",
       "      <td>0.000000</td>\n",
       "      <td>1.0</td>\n",
       "    </tr>\n",
       "    <tr>\n",
       "      <th>Dist. of H | S=2</th>\n",
       "      <td>0.284495</td>\n",
       "      <td>0.462304</td>\n",
       "      <td>0.221906</td>\n",
       "      <td>0.031294</td>\n",
       "      <td>0.000000</td>\n",
       "      <td>0.000000</td>\n",
       "      <td>1.0</td>\n",
       "    </tr>\n",
       "    <tr>\n",
       "      <th>Dist. of H | S=1</th>\n",
       "      <td>0.181761</td>\n",
       "      <td>0.410937</td>\n",
       "      <td>0.308203</td>\n",
       "      <td>0.090406</td>\n",
       "      <td>0.008693</td>\n",
       "      <td>0.000000</td>\n",
       "      <td>1.0</td>\n",
       "    </tr>\n",
       "    <tr>\n",
       "      <th>Dist. of H | S=0</th>\n",
       "      <td>0.114250</td>\n",
       "      <td>0.337556</td>\n",
       "      <td>0.352232</td>\n",
       "      <td>0.161440</td>\n",
       "      <td>0.032288</td>\n",
       "      <td>0.002235</td>\n",
       "      <td>1.0</td>\n",
       "    </tr>\n",
       "    <tr>\n",
       "      <th>Marginal of H</th>\n",
       "      <td>0.221534</td>\n",
       "      <td>0.411420</td>\n",
       "      <td>0.274280</td>\n",
       "      <td>0.081543</td>\n",
       "      <td>0.010729</td>\n",
       "      <td>0.000495</td>\n",
       "      <td>1.0</td>\n",
       "    </tr>\n",
       "  </tbody>\n",
       "</table>\n",
       "</div>"
      ],
      "text/plain": [
       "                       H=0       H=1       H=2       H=3       H=4       H=5  \\\n",
       "Dist. of H | S=5  1.000000  0.000000  0.000000  0.000000  0.000000  0.000000   \n",
       "Dist. of H | S=4  0.666667  0.333333  0.000000  0.000000  0.000000  0.000000   \n",
       "Dist. of H | S=3  0.438596  0.456140  0.105263  0.000000  0.000000  0.000000   \n",
       "Dist. of H | S=2  0.284495  0.462304  0.221906  0.031294  0.000000  0.000000   \n",
       "Dist. of H | S=1  0.181761  0.410937  0.308203  0.090406  0.008693  0.000000   \n",
       "Dist. of H | S=0  0.114250  0.337556  0.352232  0.161440  0.032288  0.002235   \n",
       "Marginal of H     0.221534  0.411420  0.274280  0.081543  0.010729  0.000495   \n",
       "\n",
       "                  Sum  \n",
       "Dist. of H | S=5  1.0  \n",
       "Dist. of H | S=4  1.0  \n",
       "Dist. of H | S=3  1.0  \n",
       "Dist. of H | S=2  1.0  \n",
       "Dist. of H | S=1  1.0  \n",
       "Dist. of H | S=0  1.0  \n",
       "Marginal of H     1.0  "
      ]
     },
     "execution_count": 12,
     "metadata": {},
     "output_type": "execute_result"
    }
   ],
   "source": [
    "joint_dist.conditional_dist('H', 'S')"
   ]
  },
  {
   "cell_type": "markdown",
   "metadata": {},
   "source": [
    "Let's see if we recognize these numbers. Remember that the $(h, s)$ cell of the table contains $P(H = h \\mid S =s )$.\n",
    "\n",
    "For an extreme case, look at the top row. Given that there are five spades in the hand, there can't be any hearts. That is why the table says $P(H = 0 \\mid S = 5) = 1$.\n",
    "\n",
    "Now suppose we are given that $S = 1$. Then $H$ can have values 0 through 4, and for any integer $h$ in this range we have\n",
    "\n",
    "$$\n",
    "P(H = h \\mid S = 1) ~ = ~ \\frac{P(H = h, S = 1)}{P(S = 1)} ~ = ~ \n",
    "\\frac{\\binom{13}{h}\\binom{13}{1}\\binom{26}{5 - h - 1}}{\\binom{13}{1}\\binom{39}{4}}\n",
    "$$\n",
    "\n",
    "by canceling factors of $1/\\binom{52}{5}$ in the numerator and denominator. After canceling $\\binom{13}{1}$ as well, we have\n",
    "\n",
    "$$\n",
    "P(H = h \\mid S = 1) ~ = ~ \\frac{\\binom{13}{h}\\binom{26}{4 - h}}{\\binom{39}{4}}, ~~ 0 \\le h \\le 4\n",
    "$$\n",
    "\n",
    "This is the hypergeometric $(39, 13, 4)$ distribution: given that there is one spade in the hand, the other four cards are like a simple random sample drawn from the 39 hearts, diamonds, and clubs."
   ]
  },
  {
   "cell_type": "code",
   "execution_count": 13,
   "metadata": {
    "execution": {
     "iopub.execute_input": "2021-02-06T03:15:00.571905Z",
     "iopub.status.busy": "2021-02-06T03:15:00.571419Z",
     "iopub.status.idle": "2021-02-06T03:15:00.574448Z",
     "shell.execute_reply": "2021-02-06T03:15:00.574089Z"
    }
   },
   "outputs": [
    {
     "data": {
      "text/plain": [
       "array([0.18176071, 0.41093725, 0.30820294, 0.0904062 , 0.0086929 ])"
      ]
     },
     "execution_count": 13,
     "metadata": {},
     "output_type": "execute_result"
    }
   ],
   "source": [
    "stats.hypergeom.pmf(np.arange(5), 39, 13, 4)"
   ]
  },
  {
   "cell_type": "markdown",
   "metadata": {},
   "source": [
    "These are the probabilities in the row corresponding to the given condition $S=1$ in the table of conditional distributions above."
   ]
  },
  {
   "cell_type": "code",
   "execution_count": null,
   "metadata": {},
   "outputs": [],
   "source": []
  }
 ],
 "metadata": {
  "kernelspec": {
   "display_name": "Python 3",
   "language": "python",
   "name": "python3"
  },
  "language_info": {
   "codemirror_mode": {
    "name": "ipython",
    "version": 3
   },
   "file_extension": ".py",
   "mimetype": "text/x-python",
   "name": "python",
   "nbconvert_exporter": "python",
   "pygments_lexer": "ipython3",
   "version": "3.7.7"
  }
 },
 "nbformat": 4,
 "nbformat_minor": 1
}