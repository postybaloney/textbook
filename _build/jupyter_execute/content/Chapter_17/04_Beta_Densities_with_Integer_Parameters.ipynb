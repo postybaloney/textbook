{
 "cells": [
  {
   "cell_type": "code",
   "execution_count": 1,
   "metadata": {
    "tags": [
     "remove_cell"
    ]
   },
   "outputs": [],
   "source": [
    "# HIDDEN\n",
    "from datascience import *\n",
    "from prob140 import *\n",
    "import numpy as np\n",
    "import matplotlib.pyplot as plt\n",
    "plt.style.use('fivethirtyeight')\n",
    "%matplotlib inline\n",
    "import math\n",
    "from scipy import stats\n",
    "from sympy import *\n",
    "init_printing()"
   ]
  },
  {
   "cell_type": "markdown",
   "metadata": {},
   "source": [
    "## Beta Densities with Integer Parameters ##"
   ]
  },
  {
   "cell_type": "markdown",
   "metadata": {},
   "source": [
    "In the previous section we learned how to work with joint densities, but many of the joint density functions seemed to appear out of nowhere. For example, we checked that the function\n",
    "\n",
    "$$\n",
    "f(x, y) = 120x(y-x)(1-y), ~~~~ 0 < x < y < 1\n",
    "$$\n",
    "\n",
    "is a joint density, but there was no clue where it came from. In this section we will find its origin and go on to develop an important family of densities on the unit interval."
   ]
  },
  {
   "cell_type": "markdown",
   "metadata": {},
   "source": [
    "### Order Statistics of IID Uniform $(0, 1)$ Variables ###\n",
    "Let $U_1, U_2, \\ldots, U_n$ be i.i.d. uniform on $(0, 1)$. Imagine each $U_i$ as the position of a dart thrown at the unit interval. The graph below shows the positions of five such darts, each shown as a star."
   ]
  },
  {
   "cell_type": "code",
   "execution_count": 2,
   "metadata": {
    "tags": [
     "remove_input"
    ]
   },
   "outputs": [
    {
     "data": {
      "image/png": "[encoded data removed]",
      "text/plain": [
       "<Figure size 432x288 with 1 Axes>"
      ]
     },
     "metadata": {
      "filenames": {
       "image/png": "/Users/liangxinran/Desktop/Berkeley College Life/Senior/Teaching/prob140-textbook/_build/jupyter_execute/content/Chapter_17/04_Beta_Densities_with_Integer_Parameters_4_0.png"
      }
     },
     "output_type": "display_data"
    }
   ],
   "source": [
    "# NO CODE\n",
    "np.random.seed(17) #make plot deterministic \n",
    "\n",
    "\n",
    "plt.plot([0, 1], [0, 0], color='k', lw=2)\n",
    "y = 1 - np.ones(5)\n",
    "x = stats.uniform.rvs(size=5)\n",
    "order_stats = np.sort(x)\n",
    "plt.scatter(x, y, marker='*', color='r', s=100)\n",
    "plt.text(0, -0.0007, r'0', size=16)\n",
    "plt.text(0.98, -0.0007, r'1', size=16)\n",
    "plt.xlim(0, 1)\n",
    "plt.yticks([])\n",
    "plt.xticks([])\n",
    "plt.title('Five IID Uniform (0, 1) Variables');"
   ]
  },
  {
   "cell_type": "markdown",
   "metadata": {},
   "source": [
    "Based on the graph above, can you tell which star corresponds to $U_1$? You can't, because $U_1$ could be any of the five stars. So also you can't identify any of the five variables $U_1, U_2, U_3, U_4, U_5$. \n",
    "\n",
    "What you *can* see, however, is the list of $U_i$'s *sorted in increasing order*. You can see the value of the minimum, the second on the sorted list, the third, the fourth, and finally the fifth which is the maximum.\n",
    "\n",
    "These are called the *order statistics* of $U_1, U_2, U_3, U_4, U_5$, and are denoted $U_{(1)}, U_{(2)}, U_{(3)}, U_{(4)}, U_{(5)}$.\n",
    "\n",
    "Remember that because the $U_i$'s are independent random variables with densities, there can't be ties: the chance that two of them are equal is 0."
   ]
  },
  {
   "cell_type": "code",
   "execution_count": 3,
   "metadata": {
    "tags": [
     "remove_input"
    ]
   },
   "outputs": [
    {
     "data": {
      "image/png": "[encoded data removed]",
      "text/plain": [
       "<Figure size 432x288 with 1 Axes>"
      ]
     },
     "metadata": {
      "filenames": {
       "image/png": "/Users/liangxinran/Desktop/Berkeley College Life/Senior/Teaching/prob140-textbook/_build/jupyter_execute/content/Chapter_17/04_Beta_Densities_with_Integer_Parameters_6_0.png"
      }
     },
     "output_type": "display_data"
    }
   ],
   "source": [
    "# NO CODE\n",
    "\n",
    "plt.plot([0, 1], [0, 0], color='k', lw=2)\n",
    "order_stats = np.sort(x)\n",
    "plt.scatter(x, y, marker='*', color='r', s=100)\n",
    "u_labels = make_array('$U_{(1)}$', '$U_{(2)}$', '$U_{(3)}$', '$U_{(4)}$', '$U_{(5)}$')\n",
    "for i in range(5):\n",
    "    plt.text(order_stats[i], -0.0007, u_labels[i], size=16)\n",
    "plt.text(0, -0.0007, r'0', size=16)\n",
    "plt.text(0.98, -0.0007, r'1', size=16)\n",
    "plt.xlim(0, 1)\n",
    "plt.yticks([])\n",
    "plt.xticks([])\n",
    "plt.title('Order Statistics of the Five IID Uniform (0, 1) Variables');"
   ]
  },
  {
   "cell_type": "markdown",
   "metadata": {},
   "source": [
    "In general for $1 \\le k \\le n$, the *$k$th order statistic* of $U_1, U_2, \\ldots, U_n$ is the $k$th value when the $U_i$'s are sorted in increasing order. This can also be thought of as the $k$th *ranked* value when the minimum has rank 1. It is denoted $U_{(k)}$."
   ]
  },
  {
   "cell_type": "code",
   "execution_count": 4,
   "metadata": {
    "tags": [
     "remove-input",
     "hide-output"
    ]
   },
   "outputs": [
    {
     "data": {
      "text/html": [
       "\n",
       "<iframe\n",
       "    width=\"400\"\n",
       "    height=\"300\"\n",
       "    src=\"https://www.youtube.com/embed/3AIyXF1kQPA\"\n",
       "    frameborder=\"0\"\n",
       "    allowfullscreen\n",
       "></iframe>\n"
      ],
      "text/plain": [
       "<IPython.lib.display.YouTubeVideo at 0x7fd17a2dd460>"
      ]
     },
     "execution_count": 4,
     "metadata": {},
     "output_type": "execute_result"
    }
   ],
   "source": [
    "# VIDEO\n",
    "from IPython.display import YouTubeVideo\n",
    "\n",
    "YouTubeVideo('3AIyXF1kQPA')"
   ]
  },
  {
   "cell_type": "markdown",
   "metadata": {},
   "source": [
    "### Joint Density of Two Order Statistics ###\n",
    "Let $n = 5$ as above and let's try to work out the joint density of $U_{(2)}$ and $U_{(4)}$. That's the joint density of the second and fourth values on the sorted list.\n",
    "\n",
    "The graph below shows the event $\\{U_{(2)} \\in dx, U_{(4)} \\in dy\\}$ for values $x$ and $y$ such that $0 < x < y < 1$."
   ]
  },
  {
   "cell_type": "code",
   "execution_count": 5,
   "metadata": {
    "tags": [
     "remove_input"
    ]
   },
   "outputs": [
    {
     "data": {
      "image/png": "[encoded data removed]",
      "text/plain": [
       "<Figure size 432x288 with 1 Axes>"
      ]
     },
     "metadata": {
      "filenames": {
       "image/png": "/Users/liangxinran/Desktop/Berkeley College Life/Senior/Teaching/prob140-textbook/_build/jupyter_execute/content/Chapter_17/04_Beta_Densities_with_Integer_Parameters_10_0.png"
      }
     },
     "output_type": "display_data"
    }
   ],
   "source": [
    "# NO CODE\n",
    "\n",
    "plt.plot([0, 1], [0, 0], color='k', lw=2)\n",
    "y = 1 - np.ones(5)\n",
    "x = make_array(0.1, 0.3, 0.45, 0.7, 0.9)\n",
    "plt.scatter(x, y, marker='*', color='r', s=100)\n",
    "plt.plot([0.28, 0.32], [0, 0], color='gold', lw=2)\n",
    "plt.text(0.28, -0.0007, r'$dx$', size=16)\n",
    "plt.plot([0.68, 0.72], [0, 0], color='gold', lw=2)\n",
    "plt.text(0.68, -0.0007, r'$dy$', size=16)\n",
    "plt.text(0, -0.0007, r'0', size=16)\n",
    "plt.text(0.98, -0.0007, r'1', size=16)\n",
    "plt.xlim(0, 1)\n",
    "plt.yticks([])\n",
    "plt.xticks([])\n",
    "plt.title('$n = 5$; $\\{ U_{(2)} \\in dx, U_{(4)} \\in dy \\}$');"
   ]
  },
  {
   "cell_type": "markdown",
   "metadata": {},
   "source": [
    "To find $P(U_{(2)} \\in dx, U_{(4)} \\in dy)$, notice that for this event to occur:\n",
    "\n",
    "- one of $U_1, U_2, U_3, U_4, U_5$ must be in $(0, x)$\n",
    "- one must be in $dx$\n",
    "- one must be in $(x, y)$\n",
    "- one must be in $dy$\n",
    "- one must be in $(y, 1)$\n",
    "\n",
    "You can think of each of the five independent uniform $(0, 1)$ variables as a multinomial trial. It can land in any of the five intervals above, independently of the others and with the same chance as the others. \n",
    "\n",
    "The chances are given by\n",
    "\n",
    "$$\n",
    "\\begin{align*}\n",
    "&P(U \\in (0, x)) = x, ~~ P(U \\in dx) \\sim 1dx, ~~ P(U \\in (x, y)) = (y-x)\\\\\n",
    "&P(U \\in dy) \\sim 1dy, ~~ P(U \\in (y, 1)) = 1-y\n",
    "\\end{align*}\n",
    "$$\n",
    "\n",
    "where $U$ is any uniform $(0, 1)$ random variable.\n",
    "\n",
    "Apply the multinomial formula to get\n",
    "\n",
    "$$\n",
    "\\begin{align*}\n",
    "P(U_{(2)} \\in dx, U_{(4)} \\in dy) ~ &\\sim ~ \n",
    "\\frac{5!}{1!1!1!1!1!} x^1 (1dx)^1 (y-x)^1 (1dy)^1 (1-y)^1 \\\\\n",
    "&\\sim ~ 120x(y-x)(1-y)dxdy\n",
    "\\end{align*}\n",
    "$$\n",
    "\n",
    "and therefore the joint density of $U_{(2)}$ and $U_{(4)}$ is given by\n",
    "\n",
    "$$\n",
    "f(x, y) = 120x(y-x)(1-y), ~~~ 0 < x < y < 1\n",
    "$$\n",
    "\n",
    "This solves the mystery of how the formula arises. \n",
    "\n",
    "But it also does much more. The *marginal* densities of the order statistics of i.i.d. uniform $(0, 1)$ variables form a family that is important in data science."
   ]
  },
  {
   "cell_type": "markdown",
   "metadata": {},
   "source": [
    "```{admonition} Quick Check\n",
    "$U_1, U_2, \\ldots, U_{10}$ are i.i.d. uniform $(0, 1)$ random variables. Find the joint density of $U_{(3)}$ and $U_{(7)}$. You can leave the constant in terms of factorials.\n",
    "\n",
    "```"
   ]
  },
  {
   "cell_type": "markdown",
   "metadata": {},
   "source": [
    "```{admonition} Answer\n",
    ":class: dropdown\n",
    "$f(x,y) = \\frac{10!}{2!1!3!1!3!}x^2(y-x)^3(1-y)^3$, $0 < x < y < 1$\n",
    "\n",
    "```"
   ]
  },
  {
   "cell_type": "markdown",
   "metadata": {},
   "source": [
    "### The Density of $U_{(k)}$ ###\n",
    "Let $U_{(k)}$ be the $k$th order statistic of $U_1, U_2, \\ldots, U_n$. We will find the density of $U_{(k)}$ by following the same general process that we followed to find the joint density above.\n",
    "\n",
    "The graph below displays the event $\\{ U_{(k)} \\in dx \\}$. For the event to occur,\n",
    "- One of the variables $U_1, U_2, \\ldots, U_n$ has to be in $dx$.\n",
    "- Of the remaining $n-1$ variables, $k-1$ must have values in $(0, x)$ and the rest in $(x, 1)$."
   ]
  },
  {
   "cell_type": "code",
   "execution_count": 6,
   "metadata": {
    "tags": [
     "remove_input"
    ]
   },
   "outputs": [
    {
     "data": {
      "image/png": "[encoded data removed]",
      "text/plain": [
       "<Figure size 432x288 with 1 Axes>"
      ]
     },
     "metadata": {
      "filenames": {
       "image/png": "/Users/liangxinran/Desktop/Berkeley College Life/Senior/Teaching/prob140-textbook/_build/jupyter_execute/content/Chapter_17/04_Beta_Densities_with_Integer_Parameters_15_0.png"
      }
     },
     "output_type": "display_data"
    }
   ],
   "source": [
    "# NO CODE\n",
    "\n",
    "plt.plot([0, 1], [0, 0], color='k', lw=2)\n",
    "plt.scatter(0.4, 0, marker='*', color='r', s=100)\n",
    "plt.plot([0.38, 0.42], [0, 0], color='gold', lw=2)\n",
    "plt.text(0.38, -0.0007, r'$dx$', size=16)\n",
    "plt.text(0.1, 0.001, '$k-1$ stars', size=16)\n",
    "plt.text(0.1, 0.0005, 'in $(0, x)$', size=16)\n",
    "plt.text(0.6, 0.001, '$n-k$ stars', size=16)\n",
    "plt.text(0.6, 0.0005, 'in $(x, 1)$', size=16)\n",
    "plt.text(0, -0.0007, r'0', size=16)\n",
    "plt.text(0.98, -0.0007, r'1', size=16)\n",
    "plt.xlim(0, 1)\n",
    "plt.yticks([])\n",
    "plt.xticks([])\n",
    "plt.title('$\\{ U_{(k)} \\in dx \\}$');"
   ]
  },
  {
   "cell_type": "markdown",
   "metadata": {},
   "source": [
    "Apply the multinomial formula again.\n",
    "\n",
    "$$\n",
    "P(U_{(k)} \\in dx) ~ \\sim ~\n",
    "\\frac{n!}{(k-1)! 1! (n-k)!} x^{k-1} (1dx)^1 (1-x)^{n-k}\n",
    "$$\n",
    "\n",
    "Therefore the density of $U_{(k)}$ is given by\n",
    "\n",
    "$$\n",
    "f_{U_{(k)}} (x) = \\frac{n!}{(k-1)!(n-k)!} x^{k-1}(1-x)^{n-k}, ~~~ 0 < x < 1\n",
    "$$\n",
    "\n",
    "For consistency, let's rewrite the exponents slightly so that each ends with $-1$:\n",
    "\n",
    "$$\n",
    "f_{U_{(k)}} (x) = \\frac{n!}{(k-1)!((n-k+1)-1)!} x^{k-1}(1-x)^{(n-k+1)-1}, ~~~ 0 < x < 1\n",
    "$$\n",
    "\n",
    "Because $1 \\le k \\le n$, we know that $n-k+1$ is a positive integer. Since $n$ is an arbitrary positive integer, so is $n-k+1$."
   ]
  },
  {
   "cell_type": "markdown",
   "metadata": {},
   "source": [
    "### Beta Densities ###\n",
    "We have shown that if $r$ and $s$ are any two positive integers, then the function\n",
    "\n",
    "$$\n",
    "f(x) ~ = ~ \\frac{(r+s-1)!}{(r-1)!(s-1)!} x^{r-1}(1-x)^{s-1}, ~~~ 0 < x < 1\n",
    "$$\n",
    "\n",
    "is a probability density function. This is called the *beta density with parameters $r$ and $s$*.\n",
    "\n",
    "By the derivation above, **the $k$th order statistic $U_{(k)}$ of $n$ i.i.d. uniform $(0, 1)$ random variables has the beta density with parameters $k$ and $n-k+1$.**\n",
    "\n",
    "The shape of the density is determined by the two factors that involve $x$. All the factorials are just parts of the constant that make the density integrate to 1.\n",
    "\n",
    "Notice that the uniform $(0, 1)$ density is the same as the beta density with parameters $r = 1$ and $s = 1$. The uniform $(0, 1)$ density is a member of the *beta family*.\n",
    "\n",
    "The graph below shows some beta density curves. As you would expect, the beta $(3, 3)$ density is symmetric about 0.5. "
   ]
  },
  {
   "cell_type": "code",
   "execution_count": 7,
   "metadata": {},
   "outputs": [
    {
     "data": {
      "image/png": "[encoded data removed]",
      "text/plain": [
       "<Figure size 432x288 with 1 Axes>"
      ]
     },
     "metadata": {
      "filenames": {
       "image/png": "/Users/liangxinran/Desktop/Berkeley College Life/Senior/Teaching/prob140-textbook/_build/jupyter_execute/content/Chapter_17/04_Beta_Densities_with_Integer_Parameters_18_0.png"
      },
      "needs_background": "light"
     },
     "output_type": "display_data"
    }
   ],
   "source": [
    "x = np.arange(0, 1.01, 0.01)\n",
    "for i in np.arange(1, 7, 1):\n",
    "    plt.plot(x, stats.beta.pdf(x, i, 6-i), lw=2)\n",
    "plt.title('Beta $(i, 6-i)$ densities for $1 \\leq i \\leq 5$');"
   ]
  },
  {
   "cell_type": "markdown",
   "metadata": {},
   "source": [
    "By choosing the parameters appropriately, you can create beta densities that put much of their mass near a prescribed value. That is one of the reasons beta densities are used to model *random proportions*. For example, if you think that the probability that an email is spam is most likely in the 60% to 90% range, but might be lower, you might model your belief by choosing the density that peaks at around 0.75 in the graph above.\n",
    "\n",
    "The calculation below shows you how to get started on the process of picking parameters so that the beta density with those parameters has properties that reflect your beliefs."
   ]
  },
  {
   "cell_type": "markdown",
   "metadata": {
    "collapsed": true
   },
   "source": [
    "### The Beta Integral ###\n",
    "The beta density integrates to 1, and hence for all positive integers $r$ and $s$ we have\n",
    "\n",
    "$$\n",
    "\\int_0^1 x^{r-1}(1-x)^{s-1}dx ~ = ~ \\frac{(r-1)!(s-1)!}{(r+s-1)!}\n",
    "$$\n",
    "\n",
    "Thus probability theory makes short work of an otherwise laborious integral. Also, we can now find the expectation of a random variable with a beta density.\n",
    "\n",
    "Let $X$ have the beta $(r, s)$ density for two positive integer parameters $r$ and $s$. Then\n",
    "\n",
    "$$\n",
    "\\begin{align*}\n",
    "E(X) &= \\int_0^1 x \\frac{(r+s-1)!}{(r-1)!(s-1)!} x^{r-1}(1-x)^{s-1}dx \\\\ \\\\\n",
    "&= \\frac{(r+s-1)!}{(r-1)!(s-1)!} \\int_0^1 x^r(1-x)^{s-1}dx \\\\ \\\\\n",
    "&= \\frac{(r+s-1)!}{(r-1)!(s-1)!} \\cdot \\frac{r!(s-1)!}{(r+s)!} ~~~~~~~ \\text{(beta integral for parameters } r+1 \\text{and } s\\text{)}\\\\ \\\\\n",
    "&= \\frac{r}{r+s}\n",
    "\\end{align*}\n",
    "$$\n",
    "\n",
    "You can follow the same method to find $E(X^2)$ and hence $Var(X)$.\n",
    "\n",
    "The formula for the expectation allows you to pick parameters corresponding to your belief about the random proportion being modeled by $X$. For example, if you think the proportion is likely to be somewhere around 0.4, you might start by trying out a beta prior with $r = 2$ and $s = 3$."
   ]
  },
  {
   "cell_type": "markdown",
   "metadata": {},
   "source": [
    "You will have noticed that the form of the beta density looks rather like the binomial formula. Indeed, we used the binomial formula to derive the beta density. Later in the course you will see another close relation between the beta and the binomial. These properties make the beta family one of the most widely used families of densities in machine learning."
   ]
  },
  {
   "cell_type": "code",
   "execution_count": 7,
   "metadata": {
    "collapsed": true
   },
   "outputs": [],
   "source": []
  }
 ],
 "metadata": {
  "anaconda-cloud": {},
  "celltoolbar": "Tags",
  "kernelspec": {
   "display_name": "Python 3",
   "language": "python",
   "name": "python3"
  },
  "language_info": {
   "codemirror_mode": {
    "name": "ipython",
    "version": 3
   },
   "file_extension": ".py",
   "mimetype": "text/x-python",
   "name": "python",
   "nbconvert_exporter": "python",
   "pygments_lexer": "ipython3",
   "version": "3.9.5"
  }
 },
 "nbformat": 4,
 "nbformat_minor": 1
}