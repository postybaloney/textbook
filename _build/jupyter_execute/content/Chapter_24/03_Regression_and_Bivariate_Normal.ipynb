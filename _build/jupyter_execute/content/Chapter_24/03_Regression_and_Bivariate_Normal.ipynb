{
 "cells": [
  {
   "cell_type": "code",
   "execution_count": 1,
   "metadata": {
    "tags": [
     "remove_cell"
    ]
   },
   "outputs": [],
   "source": [
    "# HIDDEN\n",
    "from datascience import *\n",
    "from prob140 import *\n",
    "import numpy as np\n",
    "import warnings\n",
    "import matplotlib.cbook\n",
    "warnings.filterwarnings(\"ignore\",category=matplotlib.cbook.mplDeprecation)\n",
    "import matplotlib.pyplot as plt\n",
    "plt.style.use('fivethirtyeight')\n",
    "%matplotlib inline\n",
    "from scipy import stats"
   ]
  },
  {
   "cell_type": "code",
   "execution_count": 2,
   "metadata": {
    "tags": [
     "remove_cell"
    ]
   },
   "outputs": [],
   "source": [
    "# HIDDEN \n",
    "def bivariate_normal_regression(rho, n):\n",
    "    x = stats.norm.rvs(size=n)\n",
    "    z = stats.norm.rvs(size=n)\n",
    "    y = rho * x  +  (1 - rho**2)**0.5 * z\n",
    "    plt.scatter(x, y, color='darkblue', s=10)\n",
    "    if rho >= 0:\n",
    "        plt.plot([-4, 4], [-4, 4], color='red', lw=2, label='y = x')\n",
    "    else:\n",
    "        plt.plot([-4, 4], [4, -4], color='red', lw=2, label='y = -x')\n",
    "    \n",
    "    plt.plot([-4, 4], [rho*(-4), rho*(4)], color='green', lw=2, label='Regression Line: y = '+str(rho)+'x')\n",
    "    \n",
    "    # Axes, labels, and titles\n",
    "    plt.xlim(-4, 4)\n",
    "    plt.ylim(-4, 4)\n",
    "    plt.axes().set_aspect('equal')\n",
    "    plt.legend(bbox_to_anchor=(2, 1.02))\n",
    "    plt.xlabel('$X$')\n",
    "    plt.ylabel('$Y$', rotation=0)\n",
    "    plt.title('Standard Bivariate Normal, Correlation '+str(rho))"
   ]
  },
  {
   "cell_type": "markdown",
   "metadata": {},
   "source": [
    "## Regression and the Bivariate Normal ##"
   ]
  },
  {
   "cell_type": "markdown",
   "metadata": {},
   "source": [
    "Let $X$ and $Y$ be standard bivariate normal with correlatin $\\rho$. The relation \n",
    "\n",
    "$$\n",
    "Y ~ = ~ \\rho X + \\sqrt{1 - \\rho^2}Z\n",
    "$$\n",
    "\n",
    "where $X$ and $Z$ are independent standard normal variables leads directly the best predictor of $Y$ based on all functions of $X$. You know that the best predictor is the conditional expectation $E(Y \\mid X)$, and clearly,\n",
    "\n",
    "$$\n",
    "E(Y \\mid X) ~ = ~ \\rho X\n",
    "$$\n",
    "\n",
    "because $Z$ is independent of $X$ and $E(Z) = 0$. \n",
    "\n",
    "Because $E(Y \\mid X)$ is a linear function of $X$, we have shown:\n",
    "\n",
    "**If $X$ and $Y$ have a standard bivariate normal distribution, then the best predictor of $Y$ based on $X$ is linear,** and has the equation of the regression line derived earlier.\n",
    "\n",
    "Every bivariate normal distribution can be constructed by linear transformations of standard bivariate normal variables. Therefore:\n",
    "\n",
    "**If $X$ and $Y$ are bivariate normal, then the best linear predictor of $Y$ based on $X$ is also the best among all predictors of $Y$ based on $X$.**\n",
    "\n",
    "The function `bivariate_normal_regression` takes $\\rho$ and $n$ as its arguments and displays a scatter plot of $n$ points generated from the standard bivariate normal distribution with correlation $\\rho$. It also shows the 45 degree \"equal standard units\" line in red and the line $E(Y \\mid X) = \\rho X$ in green. \n",
    "\n",
    "You saw such plots in Data 8 but run the cell a few times anyway to refresh your memory. You can see the regression effect when $\\rho > 0$: the green line is flatter than the red \"equal standard units\" 45 degree line. "
   ]
  },
  {
   "cell_type": "code",
   "execution_count": 3,
   "metadata": {},
   "outputs": [
    {
     "name": "stderr",
     "output_type": "stream",
     "text": [
      "No artists with labels found to put in legend.  Note that artists whose label start with an underscore are ignored when legend() is called with no argument.\n"
     ]
    },
    {
     "data": {
      "image/png": "[encoded data removed]",
      "text/plain": [
       "<Figure size 432x288 with 2 Axes>"
      ]
     },
     "metadata": {
      "filenames": {
       "image/png": "/mnt/c/Users/septi/Desktop/Berkeley/Summer 2022/Jupyter Book/Data 140/textbook/_build/jupyter_execute/content/Chapter_24/03_Regression_and_Bivariate_Normal_4_1.png"
      },
      "needs_background": "light"
     },
     "output_type": "display_data"
    }
   ],
   "source": [
    "bivariate_normal_regression(0.6, 1000)"
   ]
  },
  {
   "cell_type": "code",
   "execution_count": 4,
   "metadata": {
    "tags": [
     "remove-input",
     "hide-output"
    ]
   },
   "outputs": [
    {
     "data": {
      "text/html": [
       "\n",
       "<iframe\n",
       "    width=\"400\"\n",
       "    height=\"300\"\n",
       "    src=\"https://www.youtube.com/embed/akPEba4L-wo\"\n",
       "    frameborder=\"0\"\n",
       "    allowfullscreen\n",
       "\n",
       "></iframe>\n"
      ],
      "text/plain": [
       "<IPython.lib.display.YouTubeVideo at 0x7f08245b5e50>"
      ]
     },
     "execution_count": 4,
     "metadata": {},
     "output_type": "execute_result"
    }
   ],
   "source": [
    "# VIDEO: Bivariate Normal: Prediction\n",
    "from IPython.display import YouTubeVideo\n",
    "\n",
    "YouTubeVideo('akPEba4L-wo')"
   ]
  },
  {
   "cell_type": "markdown",
   "metadata": {},
   "source": [
    "### Prediction Error ###\n",
    "By definition, $Y$ is equal to a \"signal\" that is a linear function of $X$, plus some noise equal to $\\sqrt{1 - \\rho^2}Z$. The best predictor of $Y$ based on $X$ is the linear function $\\rho X$. \n",
    "\n",
    "The mean squared error of this prediction is\n",
    "\n",
    "$$\n",
    "Var(Y \\mid X) ~ = ~ (1 - \\rho^2)Var(Z) ~ = ~ 1 - \\rho^2\n",
    "$$\n",
    "\n",
    "which doesn't depend on $X$. This makes sense because the \"noise\" term in the definition of $Y$ is independent of $X$."
   ]
  },
  {
   "cell_type": "markdown",
   "metadata": {},
   "source": [
    "### Distribution in a Vertical Strip ###\n",
    "If $X$ and $Y$ are standard bivariate normal with correlation $\\rho$, the calculations above show that the conditional distribution of $Y$ given $X = x$  is normal with mean $\\rho x$ and SD $\\sqrt{1 - \\rho^2}$."
   ]
  },
  {
   "cell_type": "markdown",
   "metadata": {},
   "source": [
    "### Predicting Ranks ###\n",
    "Suppose the scatter diagram of verbal and math test scores of a large population of students is roughly oval and that the correlation between the two variables is 0.5.\n",
    "\n",
    "Given that a randomly picked student is on the 80th percentile of verbal scores, what is your prediction of the student's percentile rank on the math scores?\n",
    "\n",
    "One way to answer such questions is by making some probabilistic assumptions. Rough approximations to the reality, based on the information given, are that the student's standardized math score $M$ and standardized verbal score $V$ have the standard bivariate normal distribution with correlation $\\rho = 0.5$. \n",
    "\n",
    "Given that the student is on the 80th percentile of verbal scores, we know they are at what Python calls the 80 percent point of the standard normal curve. So their score in standard units is approximately 0.84:"
   ]
  },
  {
   "cell_type": "code",
   "execution_count": 5,
   "metadata": {},
   "outputs": [
    {
     "data": {
      "text/plain": [
       "0.8416212335729143"
      ]
     },
     "execution_count": 5,
     "metadata": {},
     "output_type": "execute_result"
    }
   ],
   "source": [
    "standard_units_x = stats.norm.ppf(0.8)\n",
    "standard_units_x"
   ]
  },
  {
   "cell_type": "markdown",
   "metadata": {},
   "source": [
    "The regression prediction of the math score in standard units is $0.5 \\times 0.84 = 0.42$."
   ]
  },
  {
   "cell_type": "code",
   "execution_count": 6,
   "metadata": {},
   "outputs": [
    {
     "data": {
      "text/plain": [
       "0.42081061678645715"
      ]
     },
     "execution_count": 6,
     "metadata": {},
     "output_type": "execute_result"
    }
   ],
   "source": [
    "rho = 0.5\n",
    "standard_units_predicted_y = rho * standard_units_x\n",
    "standard_units_predicted_y"
   ]
  },
  {
   "cell_type": "markdown",
   "metadata": {},
   "source": [
    "The area to the left of 0.42 under the standard normal curve is about 66%, so your prediction is that the student will be on roughly the 66th percentile of math scores."
   ]
  },
  {
   "cell_type": "code",
   "execution_count": 7,
   "metadata": {},
   "outputs": [
    {
     "data": {
      "text/plain": [
       "0.6630533107760167"
      ]
     },
     "execution_count": 7,
     "metadata": {},
     "output_type": "execute_result"
    }
   ],
   "source": [
    "stats.norm.cdf(standard_units_predicted_y)"
   ]
  },
  {
   "cell_type": "markdown",
   "metadata": {},
   "source": [
    "Don't worry about decimal points and great accuracy in such settings. The calculation is based on a probabilistic model about data; deviations from that model will have a much larger effect on the quality of the prediction than whether your answer is the 67th percentile instead of the 66th.\n",
    "\n",
    "You should notice, however, that the regression effect is clearly visible in the answer. The student's predicted math score is closer to average than their verbal score."
   ]
  }
 ],
 "metadata": {
  "anaconda-cloud": {},
  "celltoolbar": "Tags",
  "kernelspec": {
   "display_name": "Python 3",
   "language": "python",
   "name": "python3"
  },
  "language_info": {
   "codemirror_mode": {
    "name": "ipython",
    "version": 3
   },
   "file_extension": ".py",
   "mimetype": "text/x-python",
   "name": "python",
   "nbconvert_exporter": "python",
   "pygments_lexer": "ipython3",
   "version": "3.8.10"
  }
 },
 "nbformat": 4,
 "nbformat_minor": 1
}