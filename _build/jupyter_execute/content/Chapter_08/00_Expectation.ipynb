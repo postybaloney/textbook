{
 "cells": [
  {
   "cell_type": "code",
   "execution_count": 1,
   "metadata": {
    "collapsed": true,
    "execution": {
     "iopub.execute_input": "2020-11-18T00:49:04.625635Z",
     "iopub.status.busy": "2020-11-18T00:49:04.625130Z",
     "iopub.status.idle": "2020-11-18T00:49:06.127254Z",
     "shell.execute_reply": "2020-11-18T00:49:06.126873Z"
    },
    "tags": [
     "remove_cell"
    ]
   },
   "outputs": [],
   "source": [
    "# HIDDEN\n",
    "from datascience import *\n",
    "from prob140 import *\n",
    "import numpy as np\n",
    "import matplotlib.pyplot as plt\n",
    "plt.style.use('fivethirtyeight')\n",
    "%matplotlib inline"
   ]
  },
  {
   "cell_type": "markdown",
   "metadata": {},
   "source": [
    "# Expectation #"
   ]
  },
  {
   "cell_type": "markdown",
   "metadata": {},
   "source": [
    "The distribution of a random variable gives us detailed information about how probability is distributed over all the possible values of the variable. But often we would just like a sense of roughly where the distribution is situated on the number line. In other words, we would like some idea of where the center of the distribution is.\n",
    "\n",
    "As any student who has taken multiple \"midterm\" exams in a class knows, words like \"middle\" and \"center\" don't have a unique meaning. This chapter is about a particular kind of \"center\" of the distribution of a random variable."
   ]
  },
  {
   "cell_type": "markdown",
   "metadata": {},
   "source": [
    "\n",
    "```{toctree}\n",
    ":hidden:\n",
    ":titlesonly:\n",
    "\n",
    "\n",
    "01_Definition\n",
    "02_Applying_the_Definition\n",
    "03_Expectations_of_Functions\n",
    "04_Additivity\n",
    "05_Method_of_Indicators\n",
    "06_Exercises\n",
    "```\n"
   ]
  }
 ],
 "metadata": {
  "anaconda-cloud": {},
  "kernelspec": {
   "display_name": "Python 3",
   "language": "python",
   "name": "python3"
  },
  "language_info": {
   "codemirror_mode": {
    "name": "ipython",
    "version": 3
   },
   "file_extension": ".py",
   "mimetype": "text/x-python",
   "name": "python",
   "nbconvert_exporter": "python",
   "pygments_lexer": "ipython3",
   "version": "3.7.7"
  }
 },
 "nbformat": 4,
 "nbformat_minor": 0
}