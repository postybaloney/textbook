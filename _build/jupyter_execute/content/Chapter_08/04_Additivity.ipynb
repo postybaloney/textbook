{
 "cells": [
  {
   "cell_type": "code",
   "execution_count": 1,
   "metadata": {
    "execution": {
     "iopub.execute_input": "2020-11-04T22:20:45.650084Z",
     "iopub.status.busy": "2020-11-04T22:20:45.649596Z",
     "iopub.status.idle": "2020-11-04T22:20:47.115169Z",
     "shell.execute_reply": "2020-11-04T22:20:47.114781Z"
    },
    "tags": [
     "remove_cell"
    ]
   },
   "outputs": [],
   "source": [
    "# HIDDEN\n",
    "import warnings\n",
    "warnings.filterwarnings('ignore')\n",
    "from datascience import *\n",
    "from prob140 import *\n",
    "import numpy as np\n",
    "import matplotlib.pyplot as plt\n",
    "plt.style.use('fivethirtyeight')\n",
    "%matplotlib inline\n",
    "from scipy import stats"
   ]
  },
  {
   "cell_type": "code",
   "execution_count": 2,
   "metadata": {
    "execution": {
     "iopub.execute_input": "2020-11-04T22:20:47.120029Z",
     "iopub.status.busy": "2020-11-04T22:20:47.119636Z",
     "iopub.status.idle": "2020-11-04T22:20:47.121791Z",
     "shell.execute_reply": "2020-11-04T22:20:47.121510Z"
    },
    "tags": [
     "remove_cell"
    ]
   },
   "outputs": [],
   "source": [
    "# NO CODE\n",
    "\n",
    "def simulate_T1_T2(N, n):\n",
    "    tanks = np.arange(1, N+1)\n",
    "    sample = np.random.choice(tanks, size=n, replace=False)\n",
    "    t1 = 2*np.mean(sample) - 1\n",
    "    t2 = max(sample)*(n+1)/n - 1\n",
    "    return [t1, t2]\n",
    "\n",
    "def compare_T1_T2(N, n, repetitions):\n",
    "    tbl = Table(['T_1 = 2*Mean-1', 'T_2 = Augmented Max'])\n",
    "    for i in np.arange(repetitions):\n",
    "        tbl.append(simulate_T1_T2(N, n))\n",
    "    \n",
    "    tbl.hist(bins=np.arange(N/2, 3*N/2))\n",
    "    plt.title('$N =$'+str(N)+', $n =$'+str(n)+' ('+str(repetitions)+' repetitions)');\n"
   ]
  },
  {
   "cell_type": "markdown",
   "metadata": {},
   "source": [
    "## Additivity ##"
   ]
  },
  {
   "cell_type": "markdown",
   "metadata": {},
   "source": [
    "Calculating expectation by plugging into the definition works in simple cases, but often it can be cumbersome or lack insight. The most powerful result for calculating expectation turns out not to be the definition. It looks rather innocuous:\n",
    "\n",
    "### Additivity of Expectation ###\n",
    "Let $X$ and $Y$ be two random variables defined on the same probability space. Then\n",
    "\n",
    "$$\n",
    "E(X+Y) = E(X) + E(Y)\n",
    "$$\n",
    "\n",
    "Before we look more closely at this result, note that we are assuming that all the expectations exist; we will do this throughout in this course. \n",
    "\n",
    "And now note that **there are no assumptions about the relation between $X$ and $Y$**. They could be dependent or independent. Regardless, the expectation of the sum is the sum of the expectations. This makes the result powerful."
   ]
  },
  {
   "cell_type": "code",
   "execution_count": 3,
   "metadata": {
    "execution": {
     "iopub.execute_input": "2020-11-04T22:20:47.126415Z",
     "iopub.status.busy": "2020-11-04T22:20:47.126050Z",
     "iopub.status.idle": "2020-11-04T22:20:47.237093Z",
     "shell.execute_reply": "2020-11-04T22:20:47.235840Z"
    },
    "tags": [
     "remove_input",
     "hide-output"
    ]
   },
   "outputs": [
    {
     "data": {
      "text/html": [
       "\n",
       "<iframe\n",
       "    width=\"400\"\n",
       "    height=\"300\"\n",
       "    src=\"https://www.youtube.com/embed/HzZEhM4NHUQ\"\n",
       "    frameborder=\"0\"\n",
       "    allowfullscreen\n",
       "></iframe>\n"
      ],
      "text/plain": [
       "<IPython.lib.display.YouTubeVideo at 0x7f7d059c9410>"
      ]
     },
     "execution_count": 3,
     "metadata": {},
     "output_type": "execute_result"
    }
   ],
   "source": [
    "# VIDEO: Additivity of Expectation\n",
    "from IPython.display import YouTubeVideo\n",
    "\n",
    "YouTubeVideo('HzZEhM4NHUQ')"
   ]
  },
  {
   "cell_type": "markdown",
   "metadata": {},
   "source": [
    "Additivity follows easily from the definition of $X+Y$ and the definition of expectation on the domain space. First note that the random variable $X+Y$ is the function defined by\n",
    "\n",
    "$$\n",
    "(X+Y)(\\omega) = X(\\omega) + Y(\\omega) ~~~~ \\text{for all }\n",
    "\\omega \\in \\Omega\n",
    "$$\n",
    "\n",
    "Thus a \"value of $X+Y$ weighted by the probability\" can be written as\n",
    "\n",
    "$$\n",
    "(X+Y)(\\omega) \\cdot P(\\omega) = X(\\omega)P(\\omega) + \n",
    "Y(\\omega)P(\\omega )\n",
    "$$\n",
    "\n",
    "Sum the two sides over all $\\omega \\in \\Omega$ to prove additivty of expecation.\n",
    "\n",
    "By induction, additivity extends to any finite number of random variables. If $X_1, X_2, \\ldots , X_n$ are random variables defined on the same probability space, then\n",
    "\n",
    "$$\n",
    "E(X_1 + X_2 + \\cdots + X_n) = E(X_1) + E(X_2) + \\cdots + E(X_n)\n",
    "$$\n",
    "\n",
    "regardless of the dependence structure of $X_1, X_2, \\ldots, X_n$.\n",
    "\n",
    "If you are trying to find an expectation, then the way to use additivity is to write your random variable as a sum of simpler variables whose expectations you know or can calculate easily. "
   ]
  },
  {
   "cell_type": "markdown",
   "metadata": {},
   "source": [
    "### $E(X^2)$ for a Poisson Variable $X$ ###\n",
    "\n",
    "Let $X$ have the Poisson $\\mu$ distribution. In earlier sections we showed that $E(X) = \\mu$ and $E(X(X-1)) = \\mu^2$.\n",
    "\n",
    "Now $X^2 = X(X-1) + X$. The random variables $X(X-1)$ and $X$ are both functions of $X$, so they are not independent of each other. But additivity of expectation doesn't require independence, so we can use it to see that\n",
    "\n",
    "$$\n",
    "E(X^2) ~ = ~ E(X(X-1)) + E(X) ~ = ~ \\mu^2 + \\mu\n",
    "$$\n",
    "\n",
    "We will use this fact later when we study the variability of $X$. \n",
    "\n",
    "It is worth noting that it is not easy to calculate $E(X^2)$ directly, since\n",
    "\n",
    "$$\n",
    "E(X^2) ~ = ~ \\sum_{k=0}^\\infty k^2 e^{-\\mu}\\frac{\\mu^k}{k!}\n",
    "$$\n",
    "\n",
    "is not an easy sum to simplify."
   ]
  },
  {
   "cell_type": "markdown",
   "metadata": {},
   "source": [
    "### Sample Sum ###\n",
    "Let $X_1, X_2, \\ldots , X_n$ be a sample drawn at random from a numerical population that has mean $\\mu$, and let the sample sum be \n",
    "\n",
    "$$\n",
    "S_n = X_1 + X_2 + \\cdots + X_n\n",
    "$$\n",
    "\n",
    "Then, regardless of whether the sample was drawn with or without replacement, each $X_i$ has the same distribution as the population. This is clearly true if the sampling is with replacement, and it is true by symmetry if the sampling is without replacement as we saw in an earlier chapter.\n",
    "\n",
    "So, regardless of whether the sample is drawn with or without replacement, $E(X_i) = \\mu$ for each $i$, and hence\n",
    "\n",
    "$$\n",
    "E(S_n) = E(X_1) + E(X_2) + \\cdots + E(X_n) = n\\mu\n",
    "$$\n",
    "\n",
    "We can use this to estimate a population mean based on a sample mean."
   ]
  },
  {
   "cell_type": "markdown",
   "metadata": {},
   "source": [
    "### Unbiased Estimator ###\n",
    "\n",
    "Suppose a random variable $X$ is being used to estimate a fixed numerical parameter $\\theta$. Then $X$ is called an *estimator* of $\\theta$. \n",
    "\n",
    "The *bias* of $X$ is the difference $E(X) - \\theta$. The bias measures the amount by which the estimator exceeds the parameter, on average. The bias can be negative if the estimator tends to underestimate the parameter.\n",
    "\n",
    "If the bias of an estimator is $0$ then the estimator is called *unbiased*. So $X$ is an unbiased estimator of $\\theta$ if $E(X) = \\theta$.\n",
    "\n",
    "If an estimator is unbiased, and you use it to generate estimates repeatedly and independently, then in the long run the average of all the estimates is equal to the parameter being estimated. On average, the unbiased estimator is neither higher nor lower than the parameter. That's usually considered a good quality in an estimator.\n",
    "\n",
    "In practical terms, if a data scientist wants to estimate an unknown parameter based on a random sample $X_1, X_2, \\ldots, X_n$, the data scientist has to come up with a *statistic* to use as the estimator. \n",
    "\n",
    "Recall from Data 8 that a statistic is a number computed from the sample. In other words, a statistic is a numerical function of $X_1, X_2, \\ldots, X_n$.\n",
    "\n",
    "Constructing an unbiased estimator of a parameter $\\theta$ therefore amounts to finding a statistic $T = g(X_1, X_2, \\ldots, X_n)$ for a function $g$ such that $E(T) = \\theta$."
   ]
  },
  {
   "cell_type": "markdown",
   "metadata": {},
   "source": [
    "### Unbiased Estimators of a Population Mean ###\n",
    "\n",
    "As in the sample sum example above, let $S_n$ be the sum of a sample $X_1, X_2, \\ldots , X_n$ drawn at random from a population that has mean $\\mu$. The standard statistical notation for the average of $X_1, X_2, \\ldots , X_n$ is $\\bar{X}_n$. So\n",
    "\n",
    "$$\n",
    "\\bar{X}_n = \\frac{S_n}{n}\n",
    "$$\n",
    "\n",
    "Then, regardless of whether the draws were made with replacement or without,\n",
    "\n",
    "$$\n",
    "\\begin{align*}\n",
    "E(\\bar{X}_n) &= \\frac{E(S_n)}{n} ~~~~ \\text{(linear function rule)} \\\\\n",
    "&= \\frac{n \\mu}{n} ~~~~~~~~~ \\text{(} E(S_n) = n\\mu \\text{)} \\\\\n",
    "&= \\mu\n",
    "\\end{align*}\n",
    "$$\n",
    "\n",
    "Thus the sample mean is an unbiased estimator of the population mean.\n",
    "\n",
    "It is worth noting that $X_1$ is also an unbiased estimator of $\\mu$, since $E(X_1) = \\mu$. So is $X_j$ for any $j$, also $(X_1 + X_9)/2$, or any linear combination of the sample if the coefficients add up to 1.\n",
    "\n",
    "But it seems clear that using the sample mean as the estimator is better than using just one sampled element, even though both are unbiased. This is true, and is related to how variable the estimators are. We will address this later in the course."
   ]
  },
  {
   "cell_type": "markdown",
   "metadata": {},
   "source": [
    "```{admonition} Quick Check\n",
    "Let $X_1, X_2, X_3$ be i.i.d. Poisson $(\\mu)$ random variables, and suppose the value of $\\mu$ is unknown. Is $0.4X_1 + 0.2X_2 + 0.4X_3$ an unbiased estimator of $\\mu$?\n",
    "\n",
    "```"
   ]
  },
  {
   "cell_type": "markdown",
   "metadata": {},
   "source": [
    "```{admonition} Answer\n",
    ":class: dropdown\n",
    "Yes\n",
    "\n",
    "```"
   ]
  },
  {
   "cell_type": "code",
   "execution_count": 4,
   "metadata": {
    "execution": {
     "iopub.execute_input": "2020-11-04T22:20:47.265525Z",
     "iopub.status.busy": "2020-11-04T22:20:47.264766Z",
     "iopub.status.idle": "2020-11-04T22:20:47.373623Z",
     "shell.execute_reply": "2020-11-04T22:20:47.371196Z"
    },
    "tags": [
     "remove-input",
     "hide-output"
    ]
   },
   "outputs": [
    {
     "data": {
      "text/html": [
       "\n",
       "<iframe\n",
       "    width=\"400\"\n",
       "    height=\"300\"\n",
       "    src=\"https://www.youtube.com/embed/ruEpGZJwHmw\"\n",
       "    frameborder=\"0\"\n",
       "    allowfullscreen\n",
       "></iframe>\n"
      ],
      "text/plain": [
       "<IPython.lib.display.YouTubeVideo at 0x7f7d059c9910>"
      ]
     },
     "execution_count": 4,
     "metadata": {},
     "output_type": "execute_result"
    }
   ],
   "source": [
    "# VIDEO: Example of an Unbiased Estimator\n",
    "\n",
    "YouTubeVideo('ruEpGZJwHmw')"
   ]
  },
  {
   "cell_type": "markdown",
   "metadata": {},
   "source": [
    "### First Unbiased Estimator of a Maximum Possible Value ###\n",
    "\n",
    "Suppose we have a sample $X_1, X_2, \\ldots , X_n$ drawn at random from $1, 2, \\ldots , N$ for some fixed $N$, and we are trying to estimate $N$. \n",
    "\n",
    "How can we use the sample to construct an unbiased estimator of $N$? By definition, such an estimator must be a function of the sample and its expectation must be $N$.\n",
    "\n",
    "In other words, we have to construct a statistic that has expectation $N$.\n",
    "\n",
    "Each $X_i$ has the uniform distribution on $1, 2, \\ldots , N$. This is true for sampling with replacement as well as for simple random sampling, by symmetry. \n",
    "\n",
    "The expectation of each of the uniform variables is $(N+1)/2$, as we have seen earlier. So if $\\bar{X}_n$ is the sample mean, then\n",
    "\n",
    "$$\n",
    "E(\\bar{X}_n) = \\frac{N+1}{2}\n",
    "$$\n",
    "\n",
    "Clearly, $\\bar{X}_n$ is not an unbiased estimator of $N$. That's not surprising because $N$ is the maximum possible value of each observation and $\\bar{X}_n$ should be somewhere in the middle of all the possible values.\n",
    "\n",
    "But because $E(\\bar{X}_n)$ is a linear function of $N$, we can figure out how to create an unbiased estimator of $N$. \n",
    "\n",
    "Remember that our job is to create a function of the sample $X_1, X_2, \\ldots, X_n$ in such a way that the expectation of that function is $N$.\n",
    "\n",
    "Start by inverting the linear function, that is, by isolating $N$ in the equation above.\n",
    "\n",
    "$$\n",
    "2E(\\bar{X}_n) - 1 =  N\n",
    "$$\n",
    "\n",
    "This tells us what we have to do to the sample $X_1, X_2, \\ldots, X_n$ to get an unbiased estimator of $N$.\n",
    "\n",
    "We should just use the statistic $T_1 = 2\\bar{X}_n - 1$ as the estimator. It is unbiased because $E(T_1) = N$ by the calculation above."
   ]
  },
  {
   "cell_type": "markdown",
   "metadata": {},
   "source": [
    "```{admonition} Quick Check\n",
    "In the setting above, what is the bias of $2\\bar{X}_n$ as an estimator of $N$? Does it tend to overestimate on average, or underestimate?\n",
    "\n",
    "```"
   ]
  },
  {
   "cell_type": "markdown",
   "metadata": {},
   "source": [
    "```{admonition} Answer\n",
    ":class: dropdown\n",
    "$1$; overestimate\n",
    "\n",
    "```"
   ]
  },
  {
   "cell_type": "markdown",
   "metadata": {
    "collapsed": true
   },
   "source": [
    "### Second Unbiased Estimator of the Maximum Possible Value ###\n",
    "\n",
    "The calculation above stems from a problem the Allied forces faced in World War II. Germany had a seemingly never-ending fleet of Panzer tanks, and the Allies needed to estimate how many they had. They decided to base their estimates on the serial numbers of the tanks that they saw.\n",
    "\n",
    "Here is a picture of one from [Wikipedia](https://en.wikipedia.org/wiki/Panzer_IV).\n",
    "\n",
    "![Panzer Tank](panzer.png)\n",
    "\n",
    "Notice the serial number on the top left. When tanks were disabled or destroyed, it was discovered that their parts had serial numbers too. The ones from the gear boxes proved very useful.\n",
    "\n",
    "The idea was to model the observed serial numbers as random draws from $1, 2, \\ldots, N$ and then estimate $N$. This is of course a very simplified model of reality. But estimates based on even such simple probabilistic models proved to be quite a bit [more accurate](https://en.wikipedia.org/wiki/German_tank_problem#Specific_data) than those based on the intelligence gathered by the Allies. For example, in August 1942, intelligence estimates were that Germany was producing 1,550 tanks per month. The prediction based on the probability model was 327 per month. After the war, German records showed that the actual production rate was 342 per month.\n",
    "\n",
    "The model was that the draws were made at random without replacement from the integers 1 through $N$. \n",
    "\n",
    "In the example above, we constructed the random variable $T$ to be an unbiased estimator of $N$ under this model.\n",
    "\n",
    "The Allied statisticians instead started with $M$, the sample maximum:\n",
    "\n",
    "$$\n",
    "M ~ = ~ \\max\\{X_1, X_2, \\ldots, X_n\\}\n",
    "$$\n",
    "\n",
    "The sample maximum $M$ is a biased estimator of $N$, because we know that its value is always less than or equal to $N$. Its average value therefore will be somewhat less than $N$.\n",
    "\n",
    "To correct for this, the Allied statisticians imagined a row of $N$ spots for the serial numbers $1$ through $N$, with marks at the spots corresponding to the observed serial numbers. The visualization below shows an outcome in the case $N= 20$ and $n = 3$.\n",
    "\n",
    "![gaps](all_gaps.png)\n",
    "\n",
    "- There are $N = 20$ spots in all. \n",
    "- From these, we take a simple random sample of size $n = 3$. Those are the gold spots.\n",
    "- The remaining $N - n = 17$ spots are colored blue.\n",
    "\n",
    "The $n = 3$ sampled spots create $n+1 = 4$ blue \"gaps\" between sampled values: one before the leftmost gold spot, two between successive gold spots, and one after the rightmost gold spot that is at position $M$.\n",
    "\n",
    "A key observation is that because of the symmetry of simple random sampling, **the lengths of all four gaps have the same distribution.** \n",
    "\n",
    "But of course we don't get to see all the gaps. In the sample, we can see all but the last gap, as in the figure below. The red question mark reminds you that the gap to the right of $M$ is invisible to us.\n",
    "\n",
    "![mystery gap](mystery_gap.png)\n",
    "\n",
    "If we could see the gap to the right of $M$, we would see $N$. But we can't. So we can try to do the next best thing, which is to augment $M$ by the estimated size of that gap.\n",
    "\n",
    "Since we can see all of the spots and their colors up to and including $M$, we can see $n$ out of the $n+1$ gaps. The lengths of the gaps all have the same distribution by symmetry, so we can estimate the length of a single gap by the average length of all the gaps that we can see.\n",
    "\n",
    "We can see $M$ spots, of which $n$ are the sampled values. So the total length of all $n$ visible gaps is $M-n$. Therefore\n",
    "\n",
    "$$\n",
    "\\text{estimated length of one gap} ~ = ~ \\frac{M-n}{n}\n",
    "$$\n",
    "\n",
    "So the Allied statisticians decided to improve upon $M$ by using the *augmented maximum* as their estimator:\n",
    "\n",
    "$$\n",
    "T_2 ~ = ~  M + \\frac{M-n}{n}\n",
    "$$\n",
    "\n",
    "By algebra, this estimator can be rewritten as\n",
    "\n",
    "$$\n",
    "T_2 ~ = ~ M\\cdot\\frac{n+1}{n} ~ - ~ 1\n",
    "$$\n",
    "\n",
    "Is $T_2$ an unbiased estimator of $N$? To answer this, we have to find its expectation. Since $T_2$ is a linear function of $M$, we'll find the expectation of $M$ first.\n",
    "\n",
    "Here once again is the visualization of what's going on.\n",
    "\n",
    "![gaps](all_gaps.png)\n",
    "\n",
    "Let $G$ be the length of the last gap. Then $M = N - G$.\n",
    "\n",
    "There are $n+1$ gaps, made up of the $N-n$ unsampled values. Since they all have the same expected length,\n",
    "\n",
    "$$\n",
    "E(G) ~ = ~ \\frac{N-n}{n+1}\n",
    "$$\n",
    "\n",
    "So\n",
    "\n",
    "$$\n",
    "E(M) ~ = ~ N - \\frac{N-n}{n+1} ~ = ~ (N+1)\\frac{n}{n+1}\n",
    "$$\n",
    "\n",
    "Recall that the Allied statisticians' estimate of $N$ is\n",
    "\n",
    "$$\n",
    "T_2 ~ = ~ M\\cdot\\frac{n+1}{n}  -  1\n",
    "$$\n",
    "\n",
    "Now\n",
    "\n",
    "$$\n",
    "E(T_2) ~ = ~ E(M)\\cdot\\frac{n+1}{n}  -  1 ~ = ~ (N+1)\\frac{n}{n+1}\\cdot\\frac{n+1}{n} - 1 ~ = ~ N\n",
    "$$\n",
    "\n",
    "Thus the augmented maximum $T_2$ is an unbiased estimator of $N$."
   ]
  },
  {
   "cell_type": "markdown",
   "metadata": {},
   "source": [
    "```{admonition} Quick Check\n",
    "A gardener in Berkeley has 23 blue flower pots in a row. She picks a simple random sample of 5 of them and colors the selected pots gold. What is the expected number of blue flower pots at the end of the row?\n",
    "\n",
    "```"
   ]
  },
  {
   "cell_type": "markdown",
   "metadata": {},
   "source": [
    "```{admonition} Answer\n",
    ":class: dropdown\n",
    "$3$\n",
    "\n",
    "```"
   ]
  },
  {
   "cell_type": "markdown",
   "metadata": {},
   "source": [
    "### Which Estimator to Use? ###\n",
    "The Allied statisticians thus had two unbiased estimators of $N$ from which to choose. They went with $T_2$ instead of $T_1$ because $T_2$ has less variability.\n",
    "\n",
    "We will quantify this later in the course. For now, here is a simulation of distributions of the two estimators in the case $N = 300$ and $n=30$. The simulation is based on $5000$ repetitions of drawing a simple random sample of size $30$ from the integers $1$ through $300$."
   ]
  },
  {
   "cell_type": "code",
   "execution_count": 5,
   "metadata": {
    "execution": {
     "iopub.execute_input": "2020-11-04T22:20:47.379826Z",
     "iopub.status.busy": "2020-11-04T22:20:47.379440Z",
     "iopub.status.idle": "2020-11-04T22:20:47.948781Z",
     "shell.execute_reply": "2020-11-04T22:20:47.949093Z"
    },
    "tags": [
     "remove_input"
    ]
   },
   "outputs": [
    {
     "data": {
      "image/png": "[encoded data removed]",
      "text/plain": [
       "<Figure size 432x288 with 1 Axes>"
      ]
     },
     "metadata": {
      "filenames": {
       "image/png": "/mnt/c/Users/ryan/Documents/prob140/textbook/_build/jupyter_execute/content/Chapter_08/04_Additivity_20_0.png"
      },
      "needs_background": "light"
     },
     "output_type": "display_data"
    }
   ],
   "source": [
    "compare_T1_T2(300, 30, 5000)"
   ]
  },
  {
   "cell_type": "markdown",
   "metadata": {},
   "source": [
    "You can see why $T_2$ is a better estimator than $T_1$. \n",
    "\n",
    "- Both are unbiased. So both the empirical histograms are balanced at around $300$, the true value of $N$.\n",
    "- The emipirical distribution of $T_2$ is clustered much closer to the true value $300$ than the empirical distribution of $T_1$.\n",
    "\n",
    "For a recap, take another look at the [accuracy table](https://en.wikipedia.org/wiki/German_tank_problem#Specific_data) of the Allied statisticians' estimator $T_2$. Not bad for an estimator based on a model that assumes nothing more complicated than simple random sampling!"
   ]
  }
 ],
 "metadata": {
  "anaconda-cloud": {},
  "celltoolbar": "Tags",
  "kernelspec": {
   "display_name": "Python 3",
   "language": "python",
   "name": "python3"
  },
  "language_info": {
   "codemirror_mode": {
    "name": "ipython",
    "version": 3
   },
   "file_extension": ".py",
   "mimetype": "text/x-python",
   "name": "python",
   "nbconvert_exporter": "python",
   "pygments_lexer": "ipython3",
   "version": "3.7.7"
  }
 },
 "nbformat": 4,
 "nbformat_minor": 1
}