{
 "cells": [
  {
   "cell_type": "code",
   "execution_count": 1,
   "metadata": {
    "execution": {
     "iopub.execute_input": "2020-11-23T22:38:39.342852Z",
     "iopub.status.busy": "2020-11-23T22:38:39.342408Z",
     "iopub.status.idle": "2020-11-23T22:38:40.897385Z",
     "shell.execute_reply": "2020-11-23T22:38:40.897015Z"
    },
    "tags": [
     "remove_cell"
    ]
   },
   "outputs": [],
   "source": [
    "# HIDDEN\n",
    "from datascience import *\n",
    "from prob140 import *\n",
    "import numpy as np\n",
    "import matplotlib.pyplot as plt\n",
    "plt.style.use('fivethirtyeight')\n",
    "%matplotlib inline\n",
    "import math\n",
    "from scipy import stats"
   ]
  },
  {
   "cell_type": "markdown",
   "metadata": {},
   "source": [
    "## Definition ##"
   ]
  },
  {
   "cell_type": "code",
   "execution_count": 2,
   "metadata": {
    "execution": {
     "iopub.execute_input": "2020-11-23T22:38:40.901760Z",
     "iopub.status.busy": "2020-11-23T22:38:40.901359Z",
     "iopub.status.idle": "2020-11-23T22:38:40.985829Z",
     "shell.execute_reply": "2020-11-23T22:38:40.985013Z"
    },
    "tags": [
     "remove-input",
     "hide-output"
    ]
   },
   "outputs": [
    {
     "data": {
      "text/html": [
       "\n",
       "<iframe\n",
       "    width=\"400\"\n",
       "    height=\"300\"\n",
       "    src=\"https://www.youtube.com/embed/jhKL5nVe0Mk\"\n",
       "    frameborder=\"0\"\n",
       "    allowfullscreen\n",
       "></iframe>\n"
      ],
      "text/plain": [
       "<IPython.lib.display.YouTubeVideo at 0x7f06c7b48bd0>"
      ]
     },
     "execution_count": 2,
     "metadata": {},
     "output_type": "execute_result"
    }
   ],
   "source": [
    "# VIDEO: Two Equivalent Definitions\n",
    "from IPython.display import YouTubeVideo\n",
    "\n",
    "YouTubeVideo('jhKL5nVe0Mk')"
   ]
  },
  {
   "cell_type": "markdown",
   "metadata": {},
   "source": [
    "The *expectation* of a random variable $X$, denoted $E(X)$, is the average of the possible values of $X$ weighted by their probabilities. This can be calculated in two equivalent ways.\n",
    "\n",
    "**On the domain of $X$:**\n",
    "\n",
    "$$\n",
    "E(X) = \\sum_{\\omega \\in \\Omega} X(\\omega)P(\\omega)\n",
    "$$\n",
    "\n",
    "**On the range of $X$:**\n",
    "\n",
    "$$\n",
    "E(X) = \\sum_{\\text{all }x} xP(X=x)\n",
    "$$"
   ]
  },
  {
   "cell_type": "markdown",
   "metadata": {},
   "source": [
    "```{admonition} Quick Check\n",
    "Let $X$ be the maximum of two draws at random without replacement from $\\{ 1, 2, 3 \\}$. \n",
    "\n",
    "(a) For the outcome $\\omega = (3, 1)$ of Draw 1 followed by Draw 2, what is the value of $X(\\omega)P(\\omega)$?\n",
    "\n",
    "(b) Show how to calculate $E(X)$ on the range of $X$.\n",
    "\n",
    "```"
   ]
  },
  {
   "cell_type": "markdown",
   "metadata": {},
   "source": [
    "```{admonition} Answer\n",
    ":class: dropdown\n",
    "(a) $3\\cdot\\frac{1}{6}$\n",
    "\n",
    "(b) $2 \\cdot \\frac{2}{6} + 3 \\cdot \\frac{4}{6}$\n",
    "\n",
    "```"
   ]
  },
  {
   "cell_type": "markdown",
   "metadata": {},
   "source": [
    "**Technical Note:** If $X$ has finitely many possible values, the sums above are always well defined and finite. If $X$ can have countably many values (that is, values indexed by 1, 2, 3, $\\ldots$), then more care is needed to make sure that the formulas result in a well defined number. We will deal with that issue shortly; for now, assume that the sum is well defined.\n",
    "\n",
    "Assuming the sums are well defined, it is straightforward to show that these two formulas give the same answer. One way to show it is to group terms in the first sum by the distinct values of $X(\\omega)$ over all the different outcomes $\\omega$.\n",
    "\n",
    "The second formula is often given as \"the\" definition of expectation, but the first can be helpful for understanding properties of expectation. In particular, it shows that if two random variables have the same distribution, then they also have the same expectation."
   ]
  },
  {
   "cell_type": "markdown",
   "metadata": {},
   "source": [
    "### Center of Gravity ###\n",
    "Suppose $X$ has the distribution given below."
   ]
  },
  {
   "cell_type": "code",
   "execution_count": 3,
   "metadata": {
    "execution": {
     "iopub.execute_input": "2020-11-23T22:38:40.990266Z",
     "iopub.status.busy": "2020-11-23T22:38:40.989800Z",
     "iopub.status.idle": "2020-11-23T22:38:41.165576Z",
     "shell.execute_reply": "2020-11-23T22:38:41.165251Z"
    }
   },
   "outputs": [
    {
     "data": {
      "image/png": "[encoded data removed]",
      "text/plain": [
       "<Figure size 432x288 with 1 Axes>"
      ]
     },
     "metadata": {
      "filenames": {
       "image/png": "/mnt/c/Users/ryan/Documents/prob140/textbook/_build/jupyter_execute/content/Chapter_08/01_Definition_8_0.png"
      },
      "needs_background": "light"
     },
     "output_type": "display_data"
    }
   ],
   "source": [
    "x = np.arange(1, 6)\n",
    "probs = make_array(0.15, 0.25, 0.3, 0.2, 0.1)\n",
    "example_dist = Table().values(x).probabilities(probs)\n",
    "Plot(example_dist)"
   ]
  },
  {
   "cell_type": "markdown",
   "metadata": {},
   "source": [
    "Then by the formula on the range of $X$, we have $E(X) = 2.85$."
   ]
  },
  {
   "cell_type": "code",
   "execution_count": 4,
   "metadata": {
    "execution": {
     "iopub.execute_input": "2020-11-23T22:38:41.169080Z",
     "iopub.status.busy": "2020-11-23T22:38:41.168311Z",
     "iopub.status.idle": "2020-11-23T22:38:41.171770Z",
     "shell.execute_reply": "2020-11-23T22:38:41.171393Z"
    }
   },
   "outputs": [
    {
     "data": {
      "text/plain": [
       "2.8499999999999996"
      ]
     },
     "execution_count": 4,
     "metadata": {},
     "output_type": "execute_result"
    }
   ],
   "source": [
    "ev_X = sum(x*probs)\n",
    "ev_X"
   ]
  },
  {
   "cell_type": "markdown",
   "metadata": {},
   "source": [
    "You can also call the `prob140` function `ev` to calculate $E(X)$:"
   ]
  },
  {
   "cell_type": "code",
   "execution_count": 5,
   "metadata": {
    "execution": {
     "iopub.execute_input": "2020-11-23T22:38:41.175601Z",
     "iopub.status.busy": "2020-11-23T22:38:41.175119Z",
     "iopub.status.idle": "2020-11-23T22:38:41.178500Z",
     "shell.execute_reply": "2020-11-23T22:38:41.178179Z"
    }
   },
   "outputs": [
    {
     "data": {
      "text/plain": [
       "2.8500000000000005"
      ]
     },
     "execution_count": 5,
     "metadata": {},
     "output_type": "execute_result"
    }
   ],
   "source": [
    "example_dist.ev()"
   ]
  },
  {
   "cell_type": "markdown",
   "metadata": {},
   "source": [
    "Expectation is often also called *expected value*, hence the name of the function and also our name `ev_X`. But notice that **the \"expected value\" need not be a possible value of the random variable**. This random variable $X$ can't be 2.85.\n",
    "\n",
    "But then what does the expected value represent? To see this, first visualize $E(X)$ using the `show_ev=True` option to `Plot`."
   ]
  },
  {
   "cell_type": "code",
   "execution_count": 6,
   "metadata": {
    "execution": {
     "iopub.execute_input": "2020-11-23T22:38:41.188962Z",
     "iopub.status.busy": "2020-11-23T22:38:41.187525Z",
     "iopub.status.idle": "2020-11-23T22:38:41.344859Z",
     "shell.execute_reply": "2020-11-23T22:38:41.344509Z"
    }
   },
   "outputs": [
    {
     "data": {
      "image/png": "[encoded data removed]",
      "text/plain": [
       "<Figure size 432x288 with 1 Axes>"
      ]
     },
     "metadata": {
      "filenames": {
       "image/png": "/mnt/c/Users/ryan/Documents/prob140/textbook/_build/jupyter_execute/content/Chapter_08/01_Definition_14_0.png"
      },
      "needs_background": "light"
     },
     "output_type": "display_data"
    }
   ],
   "source": [
    "Plot(example_dist, show_ev=True)"
   ]
  },
  {
   "cell_type": "markdown",
   "metadata": {},
   "source": [
    "If you have studied some physics, you will recognize that the formula we used for the expectation is the same as the formula for the center of gravity of a system in which weights equal to the corresponding probabilities hang from each possible value 1, 2, 3, 4, and 5. \n",
    "\n",
    "So suppose the histogram is made of cardboard or some rigid material, and imagine trying to balance it on the tip of a pencil held somewhere on the horizontal axis. You'll have to hold the pencil at 2.85 for the figure to balance.\n",
    "\n",
    "The expectation is the *center* of the distribution in this physical sense: it is the *center of gravity* or *center of mass* of the distribution."
   ]
  },
  {
   "cell_type": "markdown",
   "metadata": {},
   "source": [
    "```{admonition} Quick Check\n",
    "True or False: If $X \\stackrel{d}{=} Y$ then $E(X) = E(Y)$.\n",
    "\n",
    "```"
   ]
  },
  {
   "cell_type": "markdown",
   "metadata": {},
   "source": [
    "```{admonition} Answer\n",
    ":class: dropdown\n",
    "True\n",
    "\n",
    "```"
   ]
  },
  {
   "cell_type": "markdown",
   "metadata": {},
   "source": [
    "### Long Run Average ###\n",
    "You can also think of expectation as the *long run average* value of the random variable when you generate the variable over and over again independently and under identical conditions. The `sample_from_dist` method applied to `prob140` distribution objects allows you to do just that. It samples at random with replacement from the distribution and returns an array of sampled values. The argument is the sample size.\n",
    "\n",
    "You can use the `emp_dist` method to convert the array of simulated values to a distribution object which you can then use with `Plot` and other `prob140` functions. The `show_ave=True` option of `Plot` displays the average of the simulated values. "
   ]
  },
  {
   "cell_type": "code",
   "execution_count": 7,
   "metadata": {
    "execution": {
     "iopub.execute_input": "2020-11-23T22:38:41.348101Z",
     "iopub.status.busy": "2020-11-23T22:38:41.347684Z",
     "iopub.status.idle": "2020-11-23T22:38:41.734414Z",
     "shell.execute_reply": "2020-11-23T22:38:41.734744Z"
    }
   },
   "outputs": [
    {
     "data": {
      "image/png": "[encoded data removed]",
      "text/plain": [
       "<Figure size 432x288 with 1 Axes>"
      ]
     },
     "metadata": {
      "filenames": {
       "image/png": "/mnt/c/Users/ryan/Documents/prob140/textbook/_build/jupyter_execute/content/Chapter_08/01_Definition_19_0.png"
      },
      "needs_background": "light"
     },
     "output_type": "display_data"
    }
   ],
   "source": [
    "simulated_X = example_dist.sample_from_dist(10000)\n",
    "emp_dist_X = emp_dist(simulated_X)\n",
    "Plot(emp_dist_X, show_ave=True)\n",
    "plt.title('Empirical Distribution');"
   ]
  },
  {
   "cell_type": "markdown",
   "metadata": {},
   "source": [
    "The average of the 10,000 simulated values of $X$ is very close to $E(X)$ but not exactly equal."
   ]
  },
  {
   "cell_type": "code",
   "execution_count": 8,
   "metadata": {
    "execution": {
     "iopub.execute_input": "2020-11-23T22:38:41.738402Z",
     "iopub.status.busy": "2020-11-23T22:38:41.737898Z",
     "iopub.status.idle": "2020-11-23T22:38:41.741204Z",
     "shell.execute_reply": "2020-11-23T22:38:41.741534Z"
    }
   },
   "outputs": [
    {
     "data": {
      "text/plain": [
       "2.8614"
      ]
     },
     "execution_count": 8,
     "metadata": {},
     "output_type": "execute_result"
    }
   ],
   "source": [
    "np.mean(simulated_X)"
   ]
  },
  {
   "cell_type": "markdown",
   "metadata": {},
   "source": [
    "This is because of what you can see in the empirical histogram: it looks very much like the probability histogram of $X$. About 15% of the simulated values are 1, about 20% are 2's, and so on, so the average is very close to 2.85. \n",
    "\n",
    "The similarity of the two histograms is because of the Law of Averages that you saw in Data 8 and that we will establish formally in this course."
   ]
  },
  {
   "cell_type": "code",
   "execution_count": 9,
   "metadata": {
    "execution": {
     "iopub.execute_input": "2020-11-23T22:38:41.752457Z",
     "iopub.status.busy": "2020-11-23T22:38:41.751645Z",
     "iopub.status.idle": "2020-11-23T22:38:41.831632Z",
     "shell.execute_reply": "2020-11-23T22:38:41.830937Z"
    },
    "tags": [
     "remove-input",
     "hide-output"
    ]
   },
   "outputs": [
    {
     "data": {
      "text/html": [
       "\n",
       "<iframe\n",
       "    width=\"400\"\n",
       "    height=\"300\"\n",
       "    src=\"https://www.youtube.com/embed/9gjBI8SMQis\"\n",
       "    frameborder=\"0\"\n",
       "    allowfullscreen\n",
       "></iframe>\n"
      ],
      "text/plain": [
       "<IPython.lib.display.YouTubeVideo at 0x7f065a3a03d0>"
      ]
     },
     "execution_count": 9,
     "metadata": {},
     "output_type": "execute_result"
    }
   ],
   "source": [
    "# VIDEO: Existence\n",
    "\n",
    "YouTubeVideo('9gjBI8SMQis')"
   ]
  },
  {
   "cell_type": "markdown",
   "metadata": {},
   "source": [
    "### Existence ###\n",
    "If $X$ has countably many values, then the sums used to define expectation are infinite and hence are limits of partial sums. But not all sequences of partial sums have limits, and so not all random variables have expectations. Indeed, $E(X)$ is only well defined when the sum is *absolutely convergent*:\n",
    "\n",
    "$$\n",
    "E(X) = \\sum_{\\text{all }x} xP(X=x) ~~~~ \\text{provided }\n",
    "\\sum_{\\text{all }x} |x|P(X=x) < \\infty\n",
    "$$\n",
    "\n",
    "That's a bit technical for this level of course, and you will almost never have to deal with non-existent expectations in Prob140. Just keep in mind that expectation isn't always finite or even well defined. \n",
    "\n",
    "Here is an example in which you can see that the expectation can't be finite. First notice that the sequence $1/2^n, ~n = 1, 2, 3, \\ldots $ is a probability distribution: by summing the geometric series you get 1.\n",
    "\n",
    "$$\n",
    "\\sum_{k=1}^\\infty (\\frac{1}{2^n}) ~ = ~ \\frac{1}{2} \\cdot \\frac{1}{1 - \\frac{1}{2}} ~ = ~ 1\n",
    "$$\n",
    "\n",
    "Now suppose the random variable $X$ has values $2, 4, 8, 16 \\ldots$ so that $P(X = 2^n) = 1/2^n$ for $n = 1, 2, 3, \\ldots $. Then for every possible value $x$, the product $xP(X=x) = 1$. If you try to add infinitely many 1's, the only sensible answer is infinity. \n",
    "\n",
    "This problem with expectation happens when the distribution has \"mass drifting off to infinity\" at a rate that makes it impossible to balance the probability histogram anywhere on the horizontal axis. "
   ]
  },
  {
   "cell_type": "markdown",
   "metadata": {},
   "source": [
    "```{admonition} Quick Check\n",
    "Let $X$ be the number of spots on one roll of a die. Say whether each of the following statements is True or False.\n",
    "\n",
    "(a) $E(X)$ does not exist because $X$ can't be $3.5$.\n",
    "\n",
    "(b) If you roll a die repeatedly, the average number of spots per roll is likely to be about 3.5.\n",
    "\n",
    "```"
   ]
  },
  {
   "cell_type": "markdown",
   "metadata": {},
   "source": [
    "```{admonition} Answer\n",
    ":class: dropdown\n",
    "(a) False; $E(X) = 3.5$\n",
    "\n",
    "(b) True\n",
    "\n",
    "```"
   ]
  },
  {
   "cell_type": "code",
   "execution_count": null,
   "metadata": {},
   "outputs": [],
   "source": []
  }
 ],
 "metadata": {
  "anaconda-cloud": {},
  "celltoolbar": "Tags",
  "kernelspec": {
   "display_name": "Python 3",
   "language": "python",
   "name": "python3"
  },
  "language_info": {
   "codemirror_mode": {
    "name": "ipython",
    "version": 3
   },
   "file_extension": ".py",
   "mimetype": "text/x-python",
   "name": "python",
   "nbconvert_exporter": "python",
   "pygments_lexer": "ipython3",
   "version": "3.7.7"
  }
 },
 "nbformat": 4,
 "nbformat_minor": 1
}