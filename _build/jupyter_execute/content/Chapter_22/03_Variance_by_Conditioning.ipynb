{
 "cells": [
  {
   "cell_type": "code",
   "execution_count": 1,
   "metadata": {
    "collapsed": true,
    "execution": {
     "iopub.execute_input": "2020-12-01T17:50:22.451015Z",
     "iopub.status.busy": "2020-12-01T17:50:22.450574Z",
     "iopub.status.idle": "2020-12-01T17:50:23.977868Z",
     "shell.execute_reply": "2020-12-01T17:50:23.977305Z"
    },
    "tags": [
     "remove_cell"
    ]
   },
   "outputs": [],
   "source": [
    "# HIDDEN\n",
    "from datascience import *\n",
    "from prob140 import *\n",
    "import numpy as np\n",
    "import matplotlib.pyplot as plt\n",
    "plt.style.use('fivethirtyeight')\n",
    "%matplotlib inline\n",
    "from scipy import stats"
   ]
  },
  {
   "cell_type": "code",
   "execution_count": 2,
   "metadata": {
    "collapsed": true,
    "execution": {
     "iopub.execute_input": "2020-12-01T17:50:23.981454Z",
     "iopub.status.busy": "2020-12-01T17:50:23.981030Z",
     "iopub.status.idle": "2020-12-01T17:50:23.986420Z",
     "shell.execute_reply": "2020-12-01T17:50:23.985987Z"
    },
    "tags": [
     "remove_cell"
    ]
   },
   "outputs": [],
   "source": [
    "# HIDDEN\n",
    "n = 10000\n",
    "a = -2\n",
    "b = 2\n",
    "z = stats.norm.rvs(size=n)\n",
    "y = z**2 + stats.uniform.rvs(a, b-a, size=n)\n",
    "xmin = min(z)\n",
    "xmax = max(z)"
   ]
  },
  {
   "cell_type": "code",
   "execution_count": 3,
   "metadata": {
    "collapsed": true,
    "execution": {
     "iopub.execute_input": "2020-12-01T17:50:23.990072Z",
     "iopub.status.busy": "2020-12-01T17:50:23.989659Z",
     "iopub.status.idle": "2020-12-01T17:50:23.991884Z",
     "shell.execute_reply": "2020-12-01T17:50:23.991579Z"
    },
    "tags": [
     "remove_cell"
    ]
   },
   "outputs": [],
   "source": [
    "# HIDDEN\n",
    "def plot_curved_scatter():\n",
    "    plt.scatter(z, y)\n",
    "    plt.xlabel('$X$')\n",
    "    plt.ylabel('$Y$', rotation=0)\n",
    "    plt.xlim(-2, 2)\n",
    "    plt.ylim(-3, 6);"
   ]
  },
  {
   "cell_type": "markdown",
   "metadata": {},
   "source": [
    "## Variance by Conditioning ##"
   ]
  },
  {
   "cell_type": "code",
   "execution_count": 4,
   "metadata": {
    "execution": {
     "iopub.execute_input": "2020-12-01T17:50:23.996515Z",
     "iopub.status.busy": "2020-12-01T17:50:23.996127Z",
     "iopub.status.idle": "2020-12-01T17:50:24.094368Z",
     "shell.execute_reply": "2020-12-01T17:50:24.093582Z"
    },
    "tags": [
     "remove-input",
     "hide-output"
    ]
   },
   "outputs": [
    {
     "data": {
      "text/html": [
       "\n",
       "<iframe\n",
       "    width=\"400\"\n",
       "    height=\"300\"\n",
       "    src=\"https://www.youtube.com/embed/H1aOoaIWLQQ\"\n",
       "    frameborder=\"0\"\n",
       "    allowfullscreen\n",
       "></iframe>\n"
      ],
      "text/plain": [
       "<IPython.lib.display.YouTubeVideo at 0x7feb26ea8890>"
      ]
     },
     "execution_count": 4,
     "metadata": {},
     "output_type": "execute_result"
    }
   ],
   "source": [
    "# VIDEO: Variance by Conditioning: An Observation\n",
    "from IPython.display import YouTubeVideo\n",
    "\n",
    "YouTubeVideo('H1aOoaIWLQQ')"
   ]
  },
  {
   "cell_type": "markdown",
   "metadata": {},
   "source": [
    "Iteration allows us to find expectation by conditioning. We now have the tools to find variance by conditioning as well.\n",
    "\n",
    "Recall the notation of the previous section:\n",
    "- $X$ and $Y$ are jointly distributed random variables\n",
    "- $b(X) = E(Y \\mid X)$\n",
    "- $D_w = Y - b(X)$\n",
    "\n",
    "Define $D_Y = Y - E(Y)$. Then\n",
    "\n",
    "$$\n",
    "D_Y ~ = ~  D_w + (b(X) - E(Y)) ~ = ~ D_w + D_b\n",
    "$$\n",
    "\n",
    "where $D_b = b(X) - E(Y)$ is the deviation of the random variable $b(X)$ from its expectation $E(Y)$.\n",
    "\n",
    "In the graph below, the black line is at the level $E(Y)$, and the dark blue point is a generic point $(X, Y)$ in the scatter plot. Its distance from the black line is $D_Y$ and is equal to the sum of two lengths:\n",
    "- $D_w$, the length of the purple segment\n",
    "- $D_b$, the length of the green segment"
   ]
  },
  {
   "cell_type": "code",
   "execution_count": 5,
   "metadata": {
    "execution": {
     "iopub.execute_input": "2020-12-01T17:50:24.102584Z",
     "iopub.status.busy": "2020-12-01T17:50:24.101935Z",
     "iopub.status.idle": "2020-12-01T17:50:24.504417Z",
     "shell.execute_reply": "2020-12-01T17:50:24.503693Z"
    },
    "tags": [
     "remove_input"
    ]
   },
   "outputs": [
    {
     "data": {
      "image/png": "[encoded data removed]",
      "text/plain": [
       "<Figure size 432x288 with 1 Axes>"
      ]
     },
     "metadata": {
      "filenames": {
       "image/png": "/mnt/c/Users/ryan/Documents/prob140/textbook/_build/jupyter_execute/content/Chapter_22/03_Variance_by_Conditioning_6_0.png"
      },
      "needs_background": "light"
     },
     "output_type": "display_data"
    }
   ],
   "source": [
    "# NO CODE\n",
    "plot_curved_scatter()\n",
    "x = np.arange(xmin, xmax+0.01, 0.01)\n",
    "plt.plot([xmin, xmax], [1, 1], color='k', lw=3, label='E(Y)')\n",
    "plt.plot(x, x**2, color='gold', lw=3, label='$b(X)$')\n",
    "xstar = 1.25\n",
    "ystar = 3\n",
    "plt.plot([xstar, xstar], [ystar, xstar**2], color='purple', lw=3)\n",
    "plt.plot([xstar, xstar], [xstar**2, 1], color='lime', lw=3)\n",
    "plt.scatter(xstar, ystar, color='darkblue', s=30, zorder=3)\n",
    "plt.legend(loc=(1, 0.8))\n",
    "plt.title('$D_Y = D_w + D_b$')\n",
    "plt.xlim(-2, 2)\n",
    "plt.ylim(-3, 6);"
   ]
  },
  {
   "cell_type": "code",
   "execution_count": 6,
   "metadata": {
    "execution": {
     "iopub.execute_input": "2020-12-01T17:50:24.507461Z",
     "iopub.status.busy": "2020-12-01T17:50:24.507078Z",
     "iopub.status.idle": "2020-12-01T17:50:24.608490Z",
     "shell.execute_reply": "2020-12-01T17:50:24.607509Z"
    },
    "tags": [
     "remove-input",
     "hide-output"
    ]
   },
   "outputs": [
    {
     "data": {
      "text/html": [
       "\n",
       "<iframe\n",
       "    width=\"400\"\n",
       "    height=\"300\"\n",
       "    src=\"https://www.youtube.com/embed/EWxRQv5k-uE\"\n",
       "    frameborder=\"0\"\n",
       "    allowfullscreen\n",
       "></iframe>\n"
      ],
      "text/plain": [
       "<IPython.lib.display.YouTubeVideo at 0x7feb246e7cd0>"
      ]
     },
     "execution_count": 6,
     "metadata": {},
     "output_type": "execute_result"
    }
   ],
   "source": [
    "# VIDEO: Variance by Conditioning: Formula\n",
    "YouTubeVideo('EWxRQv5k-uE')"
   ]
  },
  {
   "cell_type": "markdown",
   "metadata": {},
   "source": [
    "### Decomposition of Variance ###\n",
    "\n",
    "The expectation $E(Y)$ is a constant. That means $D_b = b(X) - E(Y)$ is a function of $X$, and hence $E(D_wD_b) = 0$. So\n",
    "\n",
    "$$\n",
    "\\begin{align*}\n",
    "Var(Y) ~ = ~ E(D_Y^2) ~ &= ~ E\\big{(} (D_w + D_b)^2 \\big{)} \\\\\n",
    "&= E(D_w^2) + E(D_b^2) + 2 E(D_wD_b) \\\\\n",
    "&= E(D_w^2) + E(D_b^2)\n",
    "\\end{align*}\n",
    "$$\n",
    "\n",
    "Let's take a closer look at the two terms on the right hand side. In the previous section we saw that\n",
    "\n",
    "$$\n",
    "E(D_w^2) ~ = ~ MSE(b) ~ = ~ E(Var(Y \\mid X))\n",
    "$$\n",
    "\n",
    "Thus the first term on the right hand side is the *expectation of the conditional variance*.\n",
    "\n",
    "To understand the second term, note that $D_b = b(X) - E(Y) = b(X) - E(b(X))$. So\n",
    "\n",
    "$$\n",
    "E(D_b^2) ~ = ~ Var(b(X)) ~ = ~ Var(E(Y \\mid X))\n",
    "$$\n",
    "\n",
    "Thus the second term on the right is the *variance of the conditional expectation*.\n",
    "\n",
    "We thus have a *decomposition of variance*:\n",
    "\n",
    "$$\n",
    "Var(Y) ~ = ~ E(Var(Y \\mid X)) + Var(E(Y \\mid X))\n",
    "$$\n",
    "\n",
    "That is, **the variance is equal to the expectation of the conditional variance plus the variance of the conditional expectation**.\n",
    "\n",
    "It makes sense that the two quantities on the right hand side are involved in the calculation of $Var(Y)$. The variability of $Y$ has two components:\n",
    "\n",
    "- the rough size of the variability within the individual vertical strips, that is, the expectation of the conditional variance\n",
    "- the variability between strips, measured by the variance of the centers of the strips.\n",
    "\n",
    "The variance decomposition show that you can just add the two terms to get $Var(Y)$.\n",
    "\n",
    "This decomposition is the basis of *analysis of variance* (ANOVA), widely used in statistics. In this course we are going to use it to find variances by conditioning."
   ]
  }
 ],
 "metadata": {
  "anaconda-cloud": {},
  "celltoolbar": "Tags",
  "kernelspec": {
   "display_name": "Python 3",
   "language": "python",
   "name": "python3"
  },
  "language_info": {
   "codemirror_mode": {
    "name": "ipython",
    "version": 3
   },
   "file_extension": ".py",
   "mimetype": "text/x-python",
   "name": "python",
   "nbconvert_exporter": "python",
   "pygments_lexer": "ipython3",
   "version": "3.7.7"
  }
 },
 "nbformat": 4,
 "nbformat_minor": 1
}