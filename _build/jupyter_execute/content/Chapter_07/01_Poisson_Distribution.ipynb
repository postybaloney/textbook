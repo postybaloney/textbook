{
 "cells": [
  {
   "cell_type": "code",
   "execution_count": 1,
   "metadata": {
    "tags": [
     "remove_cell"
    ]
   },
   "outputs": [],
   "source": [
    "# HIDDEN\n",
    "import warnings\n",
    "warnings.filterwarnings('ignore')\n",
    "from datascience import *\n",
    "from prob140 import *\n",
    "import numpy as np\n",
    "import matplotlib.pyplot as plt\n",
    "plt.style.use('fivethirtyeight')\n",
    "%matplotlib inline\n",
    "from scipy import stats"
   ]
  },
  {
   "cell_type": "markdown",
   "metadata": {},
   "source": [
    "## Poisson Distribution ##"
   ]
  },
  {
   "cell_type": "markdown",
   "metadata": {},
   "source": [
    "We know that when $n$ is large and $p$ is small, the chance of $k$ successes in $n$ i.i.d. Bernoulli $(p)$ trials is roughly\n",
    "\n",
    "$$\n",
    "P(k) ~ \\approx ~ e^{-\\mu} \\frac{\\mu^k}{k!}, ~~ k = 0, 1, 2, \\ldots, n\n",
    "$$\n",
    "where $\\mu = np$.\n",
    "\n",
    "The terms in the approximation are proportional to terms in the series expansion of $e^\\mu$, but *that expansion is infinite*. It doesn't stop at $n$, so we won't either. "
   ]
  },
  {
   "cell_type": "markdown",
   "metadata": {},
   "source": [
    "A little care is required before we go further. First, we must state the additivity axiom of probability theory in terms of countably many outcomes:\n",
    "\n",
    "If events $A_1, A_2, \\ldots$ are mutually exclusive, then\n",
    "\n",
    "$$\n",
    "P(\\bigcup_{i=1}^\\infty A_i) ~ = ~ \\sum_{i=1}^\\infty P(A_i)\n",
    "$$\n",
    "\n",
    "This is called the *countable additivity* axiom, in contrast to the finite additivity axiom we have thus far assumed. It doesn't follow from finite additivity, but of course finite additivity follows from it. \n",
    "\n",
    "In this course, we will not go into the technical aspects of countable additivity and the existence of probability functions that satisfy the axioms on the spaces that interest us. But those technical aspects do have to be studied before you can develop a deeper understanding of probability theory. If you want to do that, a good start is to take Real Analysis and then Measure Theory.\n",
    "\n",
    "While in this course, you don't have to worry about it. Just assume that all our work is consistent with the axioms. \n",
    "\n",
    "Here is our first infinite valued distribution."
   ]
  },
  {
   "cell_type": "code",
   "execution_count": 2,
   "metadata": {
    "tags": [
     "remove-input",
     "hide-output"
    ]
   },
   "outputs": [
    {
     "data": {
      "text/html": [
       "\n",
       "<iframe\n",
       "    width=\"400\"\n",
       "    height=\"300\"\n",
       "    src=\"https://www.youtube.com/embed/mc9r6cgXaHY\"\n",
       "    frameborder=\"0\"\n",
       "    allowfullscreen\n",
       "></iframe>\n"
      ],
      "text/plain": [
       "<IPython.lib.display.YouTubeVideo at 0x7ff485c3df70>"
      ]
     },
     "execution_count": 2,
     "metadata": {},
     "output_type": "execute_result"
    }
   ],
   "source": [
    "# VIDEO: Poisson Distribution\n",
    "from IPython.display import YouTubeVideo\n",
    "\n",
    "YouTubeVideo('mc9r6cgXaHY')"
   ]
  },
  {
   "cell_type": "markdown",
   "metadata": {},
   "source": [
    "### Poisson Probabilities ###\n",
    "A random variable $X$ has the *Poisson distribution with parameter $\\mu > 0$* if\n",
    "\n",
    "$$\n",
    "P(X = k) ~ = ~ e^{-\\mu} \\frac{\\mu^k}{k!}, ~~~~ k = 0, 1, 2, \\ldots\n",
    "$$\n",
    "\n",
    "The terms are proportional to the terms in the infinte series expansion of $e^{\\mu}$. These terms $\\frac{\\mu^k}{k!}$ for $k \\ge 0$ determine the shape of the distribution.\n",
    "\n",
    "The constant of proportionality is $e^{-\\mu}$. It doesn't affect the shape of the histogram. It just ensures that the probabilities add up to 1.\n",
    "\n",
    "$$\n",
    "\\sum_{k=0}^\\infty P(X = k) \n",
    "~ = ~ \\sum_{k=0}^\\infty e^{-\\mu} \\frac{\\mu^k}{k!} \n",
    "~ = ~ e^{-\\mu} \\sum_{k=0}^\\infty \\frac{\\mu^k}{k!} \n",
    "~ = ~ e^{-\\mu} \\cdot e^{\\mu} ~ = ~ 1\n",
    "$$ \n",
    "\n",
    "Keep in mind that the Poisson is a distribution in its own right. It does not have to arise as a limit, though it is sometimes helpful to think of it that way. Poisson distributions are often used to model counts of rare events, not necessarily arising out of a binomial setting."
   ]
  },
  {
   "cell_type": "markdown",
   "metadata": {},
   "source": [
    "```{admonition} Quick Check\n",
    "The number of raisins in a cookie has the Poisson $(3)$ distribution. Find the chance that there are more than 4 raisins in the cookie. Don't leave infinite sums in your answer.\n",
    "\n",
    "```"
   ]
  },
  {
   "cell_type": "markdown",
   "metadata": {},
   "source": [
    "```{admonition} Answer\n",
    ":class: dropdown\n",
    "$1 - \\sum_{k=0}^4 e^{-3}\\frac{3^k}{k!}$\n",
    "\n",
    "```"
   ]
  },
  {
   "cell_type": "markdown",
   "metadata": {},
   "source": [
    "### An Interpretation of the Parameter ###\n",
    "To understand the parameter $\\mu$ of the Poisson distribution, a first step is to notice that mode of the distribution is just around $\\mu$. Here is an example where $\\mu = 3.74$. No computing system can calculate infinitely many probabilities, so we have just calculated the Poisson probabilities till the sum is close enough to 1 that the `prob140` library considers it a Distribution object. "
   ]
  },
  {
   "cell_type": "code",
   "execution_count": 3,
   "metadata": {},
   "outputs": [
    {
     "data": {
      "image/png": "[encoded data removed]",
      "text/plain": [
       "<Figure size 432x288 with 1 Axes>"
      ]
     },
     "metadata": {
      "filenames": {
       "image/png": "/Users/liangxinran/Desktop/Berkeley College Life/Senior/Teaching/prob140-textbook/_build/jupyter_execute/content/Chapter_07/01_Poisson_Distribution_9_0.png"
      },
      "needs_background": "light"
     },
     "output_type": "display_data"
    }
   ],
   "source": [
    "mu = 3.74\n",
    "k = range(20)\n",
    "poi_probs_374 = stats.poisson.pmf(k, mu)\n",
    "poi_dist_374 = Table().values(k).probabilities(poi_probs_374)\n",
    "Plot(poi_dist_374)\n",
    "plt.title('Poisson (3.74)');"
   ]
  },
  {
   "cell_type": "markdown",
   "metadata": {},
   "source": [
    "The mode is 3. To find a formula for the mode, follow the process we used for the binomial: calculate the consecutive odds ratios, notice that they are decreasing, and see where they cross 1. This is left to you as an exercise. Your calculations should conclude the following:\n",
    "\n",
    "The **mode** of the Poisson distribution is the integer part of $\\mu$. That is, the most likely value is $\\mu$ rounded *down* to an integer. If $\\mu$ is an integer, both $\\mu$ and $\\mu - 1$ are modes."
   ]
  },
  {
   "cell_type": "code",
   "execution_count": 4,
   "metadata": {},
   "outputs": [
    {
     "data": {
      "image/png": "[encoded data removed]",
      "text/plain": [
       "<Figure size 432x288 with 1 Axes>"
      ]
     },
     "metadata": {
      "filenames": {
       "image/png": "/Users/liangxinran/Desktop/Berkeley College Life/Senior/Teaching/prob140-textbook/_build/jupyter_execute/content/Chapter_07/01_Poisson_Distribution_11_0.png"
      },
      "needs_background": "light"
     },
     "output_type": "display_data"
    }
   ],
   "source": [
    "mu = 4\n",
    "k = range(20)\n",
    "poi_probs_4 = stats.poisson.pmf(k, mu)\n",
    "poi_dist_4 = Table().values(k).probabilities(poi_probs_4)\n",
    "Plot(poi_dist_4)\n",
    "plt.title('Poisson (4)');\n"
   ]
  },
  {
   "cell_type": "markdown",
   "metadata": {},
   "source": [
    "In later chapters we will learn a lot more about the parameter $\\mu$ of the Poisson distribution. For now, just keep in mind that the most likely value is essentially $\\mu$."
   ]
  },
  {
   "cell_type": "code",
   "execution_count": 5,
   "metadata": {
    "tags": [
     "remove-input",
     "hide-output"
    ]
   },
   "outputs": [
    {
     "data": {
      "text/html": [
       "\n",
       "<iframe\n",
       "    width=\"400\"\n",
       "    height=\"300\"\n",
       "    src=\"https://www.youtube.com/embed/BJ-hAV1TiHk\"\n",
       "    frameborder=\"0\"\n",
       "    allowfullscreen\n",
       "></iframe>\n"
      ],
      "text/plain": [
       "<IPython.lib.display.YouTubeVideo at 0x7ff48b449310>"
      ]
     },
     "execution_count": 5,
     "metadata": {},
     "output_type": "execute_result"
    }
   ],
   "source": [
    "# VIDEO: Sum of Independent Poissons\n",
    "\n",
    "YouTubeVideo('BJ-hAV1TiHk')"
   ]
  },
  {
   "cell_type": "markdown",
   "metadata": {
    "collapsed": true
   },
   "source": [
    "### Sums of Independent Poisson Variables ###\n",
    "Let $X$ have the Poisson ($\\mu$) distribution, and let $Y$ independent of $X$ have the Poisson ($\\lambda$) distribution. Then the sum $S = X+Y$ has the Poisson ($\\mu + \\lambda$) distribution.\n",
    "\n",
    "To prove this, first notice that the possible values of $S$ are the non-negative integers.  For a non-negative integer $s$, find $P(S = s)$ by partitioning the event according to values of $X$, keeping in mind that both $X$ and $Y$ have to be non-negative because both are Poisson.\n",
    "\n",
    "$$\n",
    "\\begin{align*}\n",
    "P(S = s) &= \\sum_{k=0}^s P(X=k, Y=s-k) \\\\\n",
    "&= \\sum_{k=0}^s e^{-\\mu} \\frac{\\mu^k}{k!} \\cdot e^{-\\lambda} \\frac{\\lambda^{s-k}}{(s-k)!} \\\\\n",
    "&= e^{-(\\mu+\\lambda)} \\frac{1}{s!} \\sum_{k=0}^s\n",
    "\\frac{s!}{k!(s-k)!} \\mu^k \\lambda^{s-k} \\\\\n",
    "&= e^{-(\\mu+\\lambda)} \\frac{(\\mu+\\lambda)^s}{s!}\n",
    "\\end{align*}\n",
    "$$\n",
    "\n",
    "by the binomial expansion of $(\\mu+\\lambda)^s$. This is the Poisson $(\\mu + \\lambda)$ probability formula for the value $s$.\n",
    "\n",
    "One important application of this result is that if $X_1, X_2, \\ldots , X_n$ are i.i.d. Poisson $(\\mu)$ variables, then their sum $X_1 + X_2 + \\ldots + X_n$ has the Poisson $(n\\mu)$ distribution.\n"
   ]
  },
  {
   "cell_type": "markdown",
   "metadata": {},
   "source": [
    "```{admonition} Quick Check\n",
    "In a grocery store line, the number of people younger than 25 has the Poisson $(4)$ distribution. Independently, the number of people aged 25 and older has the Poisson $(2)$ distribution. Find the chance that there are $10$ people in the line.\n",
    "\n",
    "```"
   ]
  },
  {
   "cell_type": "markdown",
   "metadata": {},
   "source": [
    "```{admonition} Answer\n",
    ":class: dropdown\n",
    "$e^{-6}\\frac{6^{10}}{10!}$\n",
    "\n",
    "```"
   ]
  },
  {
   "cell_type": "code",
   "execution_count": null,
   "metadata": {},
   "outputs": [],
   "source": []
  }
 ],
 "metadata": {
  "celltoolbar": "Tags",
  "kernelspec": {
   "display_name": "Python 3",
   "language": "python",
   "name": "python3"
  },
  "language_info": {
   "codemirror_mode": {
    "name": "ipython",
    "version": 3
   },
   "file_extension": ".py",
   "mimetype": "text/x-python",
   "name": "python",
   "nbconvert_exporter": "python",
   "pygments_lexer": "ipython3",
   "version": "3.9.5"
  }
 },
 "nbformat": 4,
 "nbformat_minor": 1
}