{
 "cells": [
  {
   "cell_type": "code",
   "execution_count": 1,
   "metadata": {
    "execution": {
     "iopub.execute_input": "2020-11-10T10:15:14.322487Z",
     "iopub.status.busy": "2020-11-10T10:15:14.321343Z",
     "iopub.status.idle": "2020-11-10T10:15:15.829011Z",
     "shell.execute_reply": "2020-11-10T10:15:15.828627Z"
    },
    "tags": [
     "remove_cell"
    ]
   },
   "outputs": [],
   "source": [
    "# HIDDEN\n",
    "from datascience import *\n",
    "from prob140 import *\n",
    "import numpy as np\n",
    "import matplotlib.pyplot as plt\n",
    "plt.style.use('fivethirtyeight')\n",
    "%matplotlib inline\n",
    "import math\n",
    "from scipy import stats"
   ]
  },
  {
   "cell_type": "markdown",
   "metadata": {},
   "source": [
    "## Probability by Conditioning ##"
   ]
  },
  {
   "cell_type": "markdown",
   "metadata": {},
   "source": [
    "The theory in this section isn't new. It's the old familiar multiplication rule. We are just going to use it in the context of processes indexed by time, in a method that we are going to call *conditioning on early moves*."
   ]
  },
  {
   "cell_type": "code",
   "execution_count": 2,
   "metadata": {
    "execution": {
     "iopub.execute_input": "2020-11-10T10:15:15.833450Z",
     "iopub.status.busy": "2020-11-10T10:15:15.832989Z",
     "iopub.status.idle": "2020-11-10T10:15:15.954499Z",
     "shell.execute_reply": "2020-11-10T10:15:15.955023Z"
    },
    "tags": [
     "remove-input",
     "hide-output"
    ]
   },
   "outputs": [
    {
     "data": {
      "text/html": [
       "\n",
       "<iframe\n",
       "    width=\"400\"\n",
       "    height=\"300\"\n",
       "    src=\"https://www.youtube.com/embed/BCx-DlphihU\"\n",
       "    frameborder=\"0\"\n",
       "    allowfullscreen\n",
       "></iframe>\n"
      ],
      "text/plain": [
       "<IPython.lib.display.YouTubeVideo at 0x7f39c3800650>"
      ]
     },
     "execution_count": 2,
     "metadata": {},
     "output_type": "execute_result"
    }
   ],
   "source": [
    "# VIDEO: Conditioning on Early Moves\n",
    "from IPython.display import YouTubeVideo\n",
    "YouTubeVideo('BCx-DlphihU')"
   ]
  },
  {
   "cell_type": "markdown",
   "metadata": {},
   "source": [
    "### Winning a Game of Dice ###\n",
    "Suppose Jo and Bo play the following game. Jo rolls a die, then Bo rolls it, then Jo rolls again, and so on, until the first time one of them gets the face with six spots. That person is the winner.\n",
    "\n",
    "**Question.** What is the chance that Jo wins?\n",
    "\n",
    "**Answer.** Before you do any calculations, notice that the game isn't symmetric in the two players. Jo has the advantage of going first, and could win on the first roll. So the probability that Jo wins should be greater than half.\n",
    "\n",
    "To see exactly what it is, notice that there's a natural recursion or \"renewal\" in the setup. For Jo to win, we can *condition on the first two moves* as follows:\n",
    "- either Jo wins on Roll 1;\n",
    "- or Jo gets a non-six on Roll 1, then Bo gets a non-six on Roll 2, and then *the game starts over* and Jo wins.\n",
    "\n",
    "So at Time 0 (that is, before the dice are rolled), let $x$ be the chance that Jo is the winner. Then $x$ satisfies an equation:\n",
    "\n",
    "$$\n",
    "x = \\frac{1}{6} + \\big{(}\\frac{5}{6}\\big{)}^2 x\n",
    "$$\n",
    "\n",
    "This is easy to solve.\n",
    "\n",
    "$$\n",
    "\\frac{11}{36}x ~ = ~ \\frac{6}{36} ~~~~ \\text{and so } ~~~~ x = \\frac{6}{11}\n",
    "$$\n",
    "\n",
    "which is greater than half as we had guessed."
   ]
  },
  {
   "cell_type": "markdown",
   "metadata": {},
   "source": [
    "```{admonition} Quick Check\n",
    "I have a coin that lands heads with chance $1/3$, and you have a fair coin. We take turns tossing our coins until one of us gets a head; that person is the winner. Since my coin is less likely than yours to land heads, I get to toss first. \n",
    "\n",
    "Let $x$ be the chance that I am the winner. \n",
    "\n",
    "(a) Find an equation for $x$ by conditioning on the first two tosses.\n",
    "\n",
    "(b) Solve the equation to find the chance that I am the winner.\n",
    "\n",
    "```"
   ]
  },
  {
   "cell_type": "markdown",
   "metadata": {},
   "source": [
    "```{admonition} Answer\n",
    ":class: dropdown\n",
    "(a) $x = \\frac{1}{3} + \\frac{2}{3}\\cdot\\frac{1}{2}x$\n",
    "\n",
    "(b) $x = \\frac{1}{2}$\n",
    "\n",
    "```"
   ]
  },
  {
   "cell_type": "markdown",
   "metadata": {},
   "source": [
    "### Gambler's Ruin: Fair Coin ###\n",
    "Let $a$ and $b$ be two positive integers. Suppose a gambler starts with $a$ dollars and bets on the tosses of a coin. Every time the coin lands heads, the gambler wins a dollar. Every time it lands tails, the gambler loses a dollar. \n",
    "\n",
    "Now suppose the gambler has a *stopping rule*: he will stop once his net gain is $b$ dollars or he has no money left, whichever happens first. If the gambler ends up when has no money, he is ruined. Our goal in this example is to find the probability that the gambler is ruined.\n",
    "\n",
    "At each toss we will keep track of the gambler's net gain. So he will start out at 0 and stop when the he gets to $b$ or $-a$, whichever happens first.\n",
    "\n",
    "It's a good idea to start visualizing the random trajectory of the gambler's net gain as a *path*. Here are two graphs that assume $a = 3$ and $b = 7$. The first graph shows a path that leads to the gambler reaching a net gain of $\\\\$b$. The second shows a path to ruin."
   ]
  },
  {
   "cell_type": "code",
   "execution_count": 3,
   "metadata": {
    "execution": {
     "iopub.execute_input": "2020-11-10T10:15:15.962974Z",
     "iopub.status.busy": "2020-11-10T10:15:15.962536Z",
     "iopub.status.idle": "2020-11-10T10:15:16.230431Z",
     "shell.execute_reply": "2020-11-10T10:15:16.230106Z"
    },
    "tags": [
     "remove_input"
    ]
   },
   "outputs": [
    {
     "data": {
      "image/png": "[encoded data removed]",
      "text/plain": [
       "<Figure size 432x288 with 1 Axes>"
      ]
     },
     "metadata": {
      "filenames": {
       "image/png": "/mnt/c/Users/ryan/Documents/prob140/textbook/_build/jupyter_execute/content/Chapter_09/01_Probability_by_Conditioning_8_0.png"
      },
      "needs_background": "light"
     },
     "output_type": "display_data"
    }
   ],
   "source": [
    "# NO CODE\n",
    "a = 3\n",
    "b = 7\n",
    "tosses = make_array(1, 1, 1, -1, -1, 1, 1, 1, 1, -1, 1, 1, 1)\n",
    "fortune = np.cumsum(np.append(0, tosses))\n",
    "plt.scatter(np.arange(14), fortune, color='k')\n",
    "plt.plot([0, 13.5], [-1*a, -1*a], lw=2, color='r')\n",
    "plt.plot([0, 13.5], [b, b], lw=2, color='g')\n",
    "plt.ylim(-3.5, 10.5)\n",
    "plt.xlim(-0.2, 13.5)\n",
    "plt.xticks(np.arange(0, 14, 1))\n",
    "plt.yticks(np.arange(-3, 11))\n",
    "plt.xlabel('Tosses')\n",
    "plt.ylabel('Net Gain')\n",
    "plt.title('$a = 3$, $b = 7$: A Path to Fortune');"
   ]
  },
  {
   "cell_type": "code",
   "execution_count": 4,
   "metadata": {
    "execution": {
     "iopub.execute_input": "2020-11-10T10:15:16.240657Z",
     "iopub.status.busy": "2020-11-10T10:15:16.240226Z",
     "iopub.status.idle": "2020-11-10T10:15:16.399371Z",
     "shell.execute_reply": "2020-11-10T10:15:16.399040Z"
    },
    "tags": [
     "remove_input"
    ]
   },
   "outputs": [
    {
     "data": {
      "image/png": "[encoded data removed]",
      "text/plain": [
       "<Figure size 432x288 with 1 Axes>"
      ]
     },
     "metadata": {
      "filenames": {
       "image/png": "/mnt/c/Users/ryan/Documents/prob140/textbook/_build/jupyter_execute/content/Chapter_09/01_Probability_by_Conditioning_9_0.png"
      },
      "needs_background": "light"
     },
     "output_type": "display_data"
    }
   ],
   "source": [
    "# NO CODE\n",
    "a = 3\n",
    "b = 7\n",
    "tosses = make_array(1, 1, 1, -1, -1, 1, -1, -1, -1, -1, -1)\n",
    "fortune = np.cumsum(np.append(0, tosses))\n",
    "plt.scatter(np.arange(12), fortune, color='k')\n",
    "plt.plot([0, 11.5], [-1*a, -1*a], lw=2, color='r')\n",
    "plt.plot([0, 11.5], [b, b], lw=2, color='g')\n",
    "plt.ylim(-3.5, 10.5)\n",
    "plt.xlim(-0.2, 11.5)\n",
    "plt.xlabel('Tosses')\n",
    "plt.ylabel('Net Gain')\n",
    "plt.xticks(np.arange(0, 12, 1))\n",
    "plt.yticks(np.arange(-3, 11))\n",
    "plt.title('$a = 3$, $b = 7$: A Path to Ruin');"
   ]
  },
  {
   "cell_type": "markdown",
   "metadata": {},
   "source": [
    "**Question.** What is the probability that the gambler is ruined?\n",
    "\n",
    "**Answer.** You can see from the paths above that at the first step the gambler's net gain will be either -1 or 1, and then we will have to work out the probability of ruin from that point.\n",
    "\n",
    "For any $k$, let $p_k$ be the chance that the gambler is ruined given that he starts with a net gain of $k$ dollars. \n",
    "\n",
    "The chance that we are looking for is $p_0$. \n",
    "\n",
    "By *conditioning on the first move*, we can see that $p_k$ satisfies an equation:\n",
    "\n",
    "$$ \n",
    "p_k = \\frac{1}{2}p_{k-1} + \\frac{1}{2}p_{k+1}, ~~~~ -a+1 \\le k \\le b-1\n",
    "$$\n",
    "\n",
    "with the \"edge cases\" defined as\n",
    "\n",
    "$$\n",
    "p_{-a} = 1 ~~~~~ \\text{and} ~~~~~ p_b = 0\n",
    "$$\n",
    "\n",
    "Write the left hand side of the equation as $\\frac{1}{2}p_k + \\frac{1}{2}p_k$ and rearrange it to see that \n",
    "\n",
    "$$\n",
    "p_k - p_{k-1} = p_{k+1} - p_k\n",
    "$$\n",
    "\n",
    "The successive differences are equal, which means that $p_k$ is a linear function of $k$.\n",
    "\n",
    "Here is the line assuming $a= 3$ and $b = 7$ as before. The red lines show that $p_0 = 0.7$."
   ]
  },
  {
   "cell_type": "code",
   "execution_count": 5,
   "metadata": {
    "execution": {
     "iopub.execute_input": "2020-11-10T10:15:16.410808Z",
     "iopub.status.busy": "2020-11-10T10:15:16.410356Z",
     "iopub.status.idle": "2020-11-10T10:15:16.568175Z",
     "shell.execute_reply": "2020-11-10T10:15:16.567845Z"
    },
    "tags": [
     "remove_input"
    ]
   },
   "outputs": [
    {
     "data": {
      "image/png": "[encoded data removed]",
      "text/plain": [
       "<Figure size 432x288 with 1 Axes>"
      ]
     },
     "metadata": {
      "filenames": {
       "image/png": "/mnt/c/Users/ryan/Documents/prob140/textbook/_build/jupyter_execute/content/Chapter_09/01_Probability_by_Conditioning_11_0.png"
      },
      "needs_background": "light"
     },
     "output_type": "display_data"
    }
   ],
   "source": [
    "# NO CODE\n",
    "a = 3\n",
    "b = 7\n",
    "plt.scatter(np.arange(-3, 8, 1), np.arange(1, -0.1, -0.1), lw=2, color='darkblue')\n",
    "plt.plot([0, 0], [0, 0.7], lw=1, color='r')\n",
    "plt.plot([-3, 0], [0.7, 0.7], lw=1, color='r')\n",
    "plt.ylim(-0.03, 1.03)\n",
    "plt.xticks(np.arange(-3, 8))\n",
    "plt.yticks(np.arange(0, 1.1, 0.1))\n",
    "plt.xlabel('$k$')\n",
    "plt.ylabel('$p_k$', rotation=2)\n",
    "plt.title('$a=3$, $b=7$, p=0.5: Chance of Ruin Starting With $\\$k$');"
   ]
  },
  {
   "cell_type": "markdown",
   "metadata": {},
   "source": [
    "For general $a$ and $b$, the line starts at $(-a, 1)$ and has slope $-1/(a+b)$. So\n",
    "the chance of ruin is\n",
    "\n",
    "$$\n",
    "p_0 ~ = ~ 1 - \\frac{a}{a+b} ~ = ~  \\frac{b}{a+b}\n",
    "$$\n",
    "\n",
    "The chance that the gambler ends up gaining $b$ dollars is\n",
    "\n",
    "$$\n",
    "1 - p_0 = \\frac{a}{a+b}\n",
    "$$\n",
    "\n",
    "For fixed $a$, this is a decreasing function of $b$. That makes sense. For fixed $a$, the larger $b$ is, the harder it is for the gambler to end up making $b$ dollars."
   ]
  },
  {
   "cell_type": "markdown",
   "metadata": {},
   "source": [
    "### Gambler's Ruin: Unfair Coin ###\n",
    "If the gambler bets on tosses of a coin that lands heads with $p \\ne 1/2$, then the equations become\n",
    "\n",
    "$$\n",
    "p_k = q\\cdot p_{k-1} + p\\cdot p_{k+1}, ~~~~ -a+1 \\le k \\le b-1\n",
    "$$\n",
    "\n",
    "where $q = 1-p$, and the edge cases are \n",
    "\n",
    "$$\n",
    "p_{-a} = 1 ~~~~~ \\text{and} ~~~~~ p_b = 0\n",
    "$$\n",
    "\n",
    "as before. Now the rearrangement is\n",
    "\n",
    "$$\n",
    "q(p_k - p_{k-1}) = p(p_{k+1} - p_k)\n",
    "$$\n",
    "\n",
    "which means that the ratio of the successive differences is constant and equal to $r = \\frac{q}{p}$. So the probabilities $p_k$ are the sums of the terms in a geometric progression with common ratio $r$. You can check that this works out to\n",
    "\n",
    "$$\n",
    "p_k = \\frac{r^{a+k} - r^{a+b}}{1 - r^{a+b}}, ~~~~~ -a \\le k \\le b\n",
    "$$\n",
    "\n",
    "and therefore the chance of ruin is\n",
    "\n",
    "$$\n",
    "p_0 ~ =  ~ \\frac{r^a - r^{a+b}}{1 - r^{a+b}}\n",
    "$$\n",
    "\n",
    "Note that if $p < 1/2$ then $r > 1$ and both the numerator and denominator are negative.\n",
    "\n",
    "Here is a graph of the ruin probabilities, for $a = 3$ and $b = 10$ as before, but now with a coin that is biased towards heads with $p = 0.6$. Not surprisingly, as the initial fortune increases the probability of ruin falls more sharply for this coin than for the fair coin. Even when the gambler starts with only $\\\\$3$, his chance of ruin is less than 30%."
   ]
  },
  {
   "cell_type": "code",
   "execution_count": 6,
   "metadata": {
    "execution": {
     "iopub.execute_input": "2020-11-10T10:15:16.634577Z",
     "iopub.status.busy": "2020-11-10T10:15:16.626200Z",
     "iopub.status.idle": "2020-11-10T10:15:16.800732Z",
     "shell.execute_reply": "2020-11-10T10:15:16.801041Z"
    },
    "tags": [
     "remove_input"
    ]
   },
   "outputs": [
    {
     "data": {
      "image/png": "[encoded data removed]",
      "text/plain": [
       "<Figure size 432x288 with 1 Axes>"
      ]
     },
     "metadata": {
      "filenames": {
       "image/png": "/mnt/c/Users/ryan/Documents/prob140/textbook/_build/jupyter_execute/content/Chapter_09/01_Probability_by_Conditioning_14_0.png"
      },
      "needs_background": "light"
     },
     "output_type": "display_data"
    }
   ],
   "source": [
    "# NO CODE\n",
    "a = 3\n",
    "b = 10\n",
    "p = 0.6\n",
    "r = (1-p)/p\n",
    "k = np.arange(-1*a, b+1)\n",
    "ruin_probs = (r**(a+k) - r**(a+b))/(1 - r**(a+b))\n",
    "p3 = ruin_probs.item(3)\n",
    "plt.scatter(k, ruin_probs, lw=2, color='darkblue')\n",
    "plt.plot([0, 0], [0, p3], lw=1, color='r')\n",
    "plt.plot([-1*a, 0], [p3, p3], lw=1, color='r')\n",
    "plt.ylim(-0.03, 1.03)\n",
    "plt.xticks(np.arange(-1*a, b+1))\n",
    "plt.yticks(np.arange(0, 1.1, 0.1))\n",
    "plt.xlabel('$k$')\n",
    "plt.ylabel('$p_k$', rotation=2)\n",
    "plt.title('$a=3$, $b=7$, $p=0.6$: Chance of Ruin, Starting With $\\$k$');"
   ]
  },
  {
   "cell_type": "code",
   "execution_count": null,
   "metadata": {},
   "outputs": [],
   "source": []
  }
 ],
 "metadata": {
  "anaconda-cloud": {},
  "celltoolbar": "Tags",
  "kernelspec": {
   "display_name": "Python 3",
   "language": "python",
   "name": "python3"
  },
  "language_info": {
   "codemirror_mode": {
    "name": "ipython",
    "version": 3
   },
   "file_extension": ".py",
   "mimetype": "text/x-python",
   "name": "python",
   "nbconvert_exporter": "python",
   "pygments_lexer": "ipython3",
   "version": "3.7.7"
  }
 },
 "nbformat": 4,
 "nbformat_minor": 1
}