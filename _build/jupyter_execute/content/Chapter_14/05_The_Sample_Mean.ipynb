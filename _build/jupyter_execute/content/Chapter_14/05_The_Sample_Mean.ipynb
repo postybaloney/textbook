{
 "cells": [
  {
   "cell_type": "code",
   "execution_count": 1,
   "metadata": {
    "execution": {
     "iopub.execute_input": "2021-05-13T03:56:55.592084Z",
     "iopub.status.busy": "2021-05-13T03:56:55.591317Z",
     "iopub.status.idle": "2021-05-13T03:56:58.155588Z",
     "shell.execute_reply": "2021-05-13T03:56:58.154814Z"
    },
    "tags": [
     "remove_cell"
    ]
   },
   "outputs": [],
   "source": [
    "# HIDDEN\n",
    "import warnings\n",
    "warnings.filterwarnings('ignore')\n",
    "from datascience import *\n",
    "from prob140 import *\n",
    "import numpy as np\n",
    "import matplotlib.pyplot as plt\n",
    "plt.style.use('fivethirtyeight')\n",
    "%matplotlib inline\n",
    "from scipy import stats"
   ]
  },
  {
   "cell_type": "code",
   "execution_count": 2,
   "metadata": {
    "execution": {
     "iopub.execute_input": "2021-05-13T03:56:58.163803Z",
     "iopub.status.busy": "2021-05-13T03:56:58.163057Z",
     "iopub.status.idle": "2021-05-13T03:56:58.165725Z",
     "shell.execute_reply": "2021-05-13T03:56:58.166340Z"
    },
    "tags": [
     "remove_cell"
    ]
   },
   "outputs": [],
   "source": [
    "# HIDDEN\n",
    "def dist_sum(n, probs_0_through_N):\n",
    "    \"\"\"Return the distribution of S_n,\n",
    "    the sum of n i.i.d. copies\n",
    "    of a random variable with distribution probs_0_through_N\n",
    "    on the integers 0, 1, 2, ..., N\"\"\"\n",
    "    \n",
    "    # Find the possible values of S_n\n",
    "    N = len(probs_0_through_N) - 1   \n",
    "    values_Sn = np.arange(n*N + 1)\n",
    "    \n",
    "    # Find the probailities of those values\n",
    "    coeffs_X1 = np.flipud(probs_0_through_N)\n",
    "    pgf_X1 = np.poly1d(coeffs_X1)\n",
    "    pgf_Sn = pgf_X1**n\n",
    "    coeffs_Sn = pgf_Sn.c\n",
    "    probs_Sn = np.flipud(coeffs_Sn)\n",
    "    \n",
    "    t = Table().with_columns(\n",
    "        'Value', values_Sn,\n",
    "        'Probability', probs_Sn\n",
    "    )\n",
    "    return t"
   ]
  },
  {
   "cell_type": "markdown",
   "metadata": {},
   "source": [
    "## The Sample Mean ##"
   ]
  },
  {
   "cell_type": "markdown",
   "metadata": {},
   "source": [
    "What's central about the Central Limit Theorem? One answer is that it allows us to make inferences based on random samples when we don't know much about the distribution of the population. For data scientists, that's very valuable.\n",
    "\n",
    "In Data 8 you saw that if we want estimate the mean of a population, we can construct confidence intervals for the parameter based on the mean of a large random sample. In that course you used the bootstrap to generate an empirical distribution of the sample mean, and then used the empirical distribution to create the confidence interval. You will recall that those empirical distributions were invariably bell shaped.\n",
    "\n",
    "In this section we will study the probability distribution of the sample mean and show that you can use it to construct confidence intervals for the population mean without any resampling.\n",
    "\n",
    "Let's start with the sample sum, which we now understand well. Recall our assumptions and notation:\n",
    "\n",
    "Let $X_1, X_2, \\ldots, X_n$ be an i.i.d. sample, and let each $X_i$ have mean $\\mu$ and $SD$ $\\sigma$. Let $S_n$ be the sample sum, that is, $S_n = \\sum_{i=1}^n X_i$. We know that\n",
    "\n",
    "$$\n",
    "E(S_n) = n\\mu ~~~~~~~~~~  SD(S_n) = \\sqrt{n}\\sigma\n",
    "$$\n",
    "\n",
    "These results imply that as the sample size increases, the distribution of the sample sum moves to the right and becomes more spread out.\n",
    "\n",
    "You can see this in the graph below. The graph shows the distributions of the sum of 5 rolls and the sum of 20 rolls of a die. The distributions are exact, calculated using the function `dist_sum` defined using pgf methods earlier in this chapter."
   ]
  },
  {
   "cell_type": "code",
   "execution_count": 3,
   "metadata": {
    "execution": {
     "iopub.execute_input": "2021-05-13T03:56:58.173087Z",
     "iopub.status.busy": "2021-05-13T03:56:58.171151Z",
     "iopub.status.idle": "2021-05-13T03:56:59.106380Z",
     "shell.execute_reply": "2021-05-13T03:56:59.105615Z"
    }
   },
   "outputs": [
    {
     "data": {
      "image/png": "[encoded data removed]",
      "text/plain": [
       "<Figure size 432x288 with 1 Axes>"
      ]
     },
     "metadata": {
      "filenames": {
       "image/png": "/mnt/c/users/ryan/documents/prob140/textbook/_build/jupyter_execute/content/Chapter_14/05_The_Sample_Mean_4_0.png"
      },
      "needs_background": "light"
     },
     "output_type": "display_data"
    }
   ],
   "source": [
    "die = np.append(0, (1/6)*np.ones(6))\n",
    "dist_sum_5 = dist_sum(5, die)\n",
    "dist_sum_20 = dist_sum(20, die)\n",
    "Plots('Sum of 5 dice', dist_sum_5, 'Sum of 20 dice', dist_sum_20)"
   ]
  },
  {
   "cell_type": "markdown",
   "metadata": {},
   "source": [
    "You can see the normal distribution appearing already for the sum of 5 and 20 dice. \n",
    "\n",
    "The gold histogram is more spread out than the blue. Because both are probability histograms, both have 1 as their total area. So the gold histogram has to be lower than the blue.\n",
    "\n",
    "Now let's look at the spread more carefully.\n",
    "\n",
    "You can see also that the gold distribution isn't four times as spread out as the blue, though the sample size in the gold distribution is four times that of the blue. The gold distribution is twice as spread out (and therefore half as tall) as the blue. That is because the SD of the sum is proportional to $\\sqrt{n}$. It grows slower than $n$. Because the sample size is larger by a factor of 4, the SD of the gold distribution is $\\sqrt{4} = 2$ times the SD of the blue.\n",
    "\n",
    "The *average* of the sample behaves differently."
   ]
  },
  {
   "cell_type": "code",
   "execution_count": 4,
   "metadata": {
    "execution": {
     "iopub.execute_input": "2021-05-13T03:56:59.114442Z",
     "iopub.status.busy": "2021-05-13T03:56:59.113020Z",
     "iopub.status.idle": "2021-05-13T03:56:59.202858Z",
     "shell.execute_reply": "2021-05-13T03:56:59.202283Z"
    },
    "tags": [
     "remove-input",
     "hide-output"
    ]
   },
   "outputs": [
    {
     "data": {
      "text/html": [
       "\n",
       "<iframe\n",
       "    width=\"400\"\n",
       "    height=\"300\"\n",
       "    src=\"https://www.youtube.com/embed/UjxM2o6nlbc\"\n",
       "    frameborder=\"0\"\n",
       "    allowfullscreen\n",
       "></iframe>\n"
      ],
      "text/plain": [
       "<IPython.lib.display.YouTubeVideo at 0x7f51bdcfa750>"
      ]
     },
     "execution_count": 4,
     "metadata": {},
     "output_type": "execute_result"
    }
   ],
   "source": [
    "# VIDEO: IID Sample Mean\n",
    "from IPython.display import YouTubeVideo\n",
    "\n",
    "YouTubeVideo('UjxM2o6nlbc')"
   ]
  },
  {
   "cell_type": "markdown",
   "metadata": {},
   "source": [
    "### The Mean of an IID Sample ###\n",
    "Let $\\bar{X}_n$ be the sample mean, that is,\n",
    "\n",
    "$$\n",
    "\\bar{X}_n = \\frac{S_n}{n}\n",
    "$$\n",
    "\n",
    "Then $\\bar{X}_n$ is just a linear transformation of $S_n$. So\n",
    "\n",
    "$$\n",
    "E(\\bar{X}_n) = \\frac{E(S_n)}{n} = \\frac{n\\mu}{n} = \\mu ~~~~ \\text{for all }n\n",
    "$$\n",
    "\n",
    "The expectation of the sample mean is always the underlying population mean $\\mu$, no matter what the sample size. Therefore, no matter what the sample size, the sample mean is an unbiased estimator of the population mean.\n",
    "\n",
    "The SD of the sample mean is\n",
    "\n",
    "$$\n",
    "SD(\\bar{X}_n) = \\frac{SD(S_n)}{n} = \\frac{\\sqrt{n}\\sigma}{n} = \\frac{\\sigma}{\\sqrt{n}}\n",
    "$$\n",
    "\n",
    "The variability of the sample mean decreases as the sample size increases. So, as the sample size increases, the sample mean becomes a more accurate estimator of the population mean.\n",
    "\n",
    "The graph below shows the distributions of the means of 5 rolls of a die and of 20 rolls. Both are centered at 3.5 but the distribution of the mean of the larger sample is narrower. You saw this frequently in Data 8: as the sample size increases, the distribution of the sample mean gets more concentrated around the population mean."
   ]
  },
  {
   "cell_type": "code",
   "execution_count": 5,
   "metadata": {
    "execution": {
     "iopub.execute_input": "2021-05-13T03:56:59.304381Z",
     "iopub.status.busy": "2021-05-13T03:56:59.303564Z",
     "iopub.status.idle": "2021-05-13T03:56:59.730898Z",
     "shell.execute_reply": "2021-05-13T03:56:59.730185Z"
    },
    "tags": [
     "remove_input"
    ]
   },
   "outputs": [
    {
     "data": {
      "image/png": "[encoded data removed]",
      "text/plain": [
       "<Figure size 432x288 with 1 Axes>"
      ]
     },
     "metadata": {
      "filenames": {
       "image/png": "/mnt/c/users/ryan/documents/prob140/textbook/_build/jupyter_execute/content/Chapter_14/05_The_Sample_Mean_8_0.png"
      },
      "needs_background": "light"
     },
     "output_type": "display_data"
    }
   ],
   "source": [
    "# NO CODE\n",
    "dist_mean_5 = Table().with_columns(\n",
    "    'Value', dist_sum_5.column(0)/5,\n",
    "    'Probability', dist_sum_5.column(1)\n",
    "    )\n",
    "dist_mean_20 = Table().with_columns(\n",
    "    'Value', dist_sum_20.column(0)/20,\n",
    "    'Probability', dist_sum_20.column(1)\n",
    "    )\n",
    "Plots('Mean of 5 dice', dist_mean_5, 'Mean of 20 dice', dist_mean_20, width=0.2)"
   ]
  },
  {
   "cell_type": "markdown",
   "metadata": {},
   "source": [
    "### Square Root Law ###\n",
    "Accuracy doesn't come cheap. The SD of the i.i.d. sample mean decreases according to the square root of the sample size. Therefore if you want to decrease the SD of the sample mean by a factor of 3, you have to increase the sample size by a factor of $3^2 = 9$.\n",
    "\n",
    "The general result is usually stated in the reverse.\n",
    "\n",
    "**Square Root Law:**\n",
    "If you multiply the sample size by a factor, then the SD of the i.i.d. sample mean decreases by the square root of the factor."
   ]
  },
  {
   "cell_type": "code",
   "execution_count": 6,
   "metadata": {
    "execution": {
     "iopub.execute_input": "2021-05-13T03:56:59.746219Z",
     "iopub.status.busy": "2021-05-13T03:56:59.735595Z",
     "iopub.status.idle": "2021-05-13T03:56:59.823557Z",
     "shell.execute_reply": "2021-05-13T03:56:59.821629Z"
    },
    "tags": [
     "remove-input",
     "hide-output"
    ]
   },
   "outputs": [
    {
     "data": {
      "text/html": [
       "\n",
       "<iframe\n",
       "    width=\"400\"\n",
       "    height=\"300\"\n",
       "    src=\"https://www.youtube.com/embed/WowLqZku3X8\"\n",
       "    frameborder=\"0\"\n",
       "    allowfullscreen\n",
       "></iframe>\n"
      ],
      "text/plain": [
       "<IPython.lib.display.YouTubeVideo at 0x7f51bdbf4f10>"
      ]
     },
     "execution_count": 6,
     "metadata": {},
     "output_type": "execute_result"
    }
   ],
   "source": [
    "# VIDEO: Weak Law of Large Numbers\n",
    "\n",
    "YouTubeVideo('WowLqZku3X8')"
   ]
  },
  {
   "cell_type": "markdown",
   "metadata": {},
   "source": [
    "### Weak Law of Large Numbers ###\n",
    "The sample mean is an unbiased estimator of the population mean and has a small SD when the sample size is large. So the mean of a large sample is close to the population mean with high probability. \n",
    "\n",
    "The formal result is called the *Weak Law of Large Numbers*. \n",
    "\n",
    "Let $X_1, X_2, \\ldots, X_n$ be i.i.d., each with mean $\\mu$ and SD $\\sigma$, and let $\\bar{X}_n$ be the sample mean. Fix any number $\\epsilon > 0$; it is best to imagine $\\epsilon$ to be very small. Then\n",
    "\n",
    "$$\n",
    "P(\\vert \\bar{X}_n - \\mu \\vert < \\epsilon) \\to 1 ~~~ \\text{as } n \\to \\infty\n",
    "$$\n",
    "\n",
    "That is, for large $n$ it is almost certain that the sample average is in the range $\\mu \\pm \\epsilon$.\n",
    "\n",
    "To prove the law, we will show that $P(\\vert \\bar{X}_n - \\mu \\vert \\ge \\epsilon) \\to 0$. This is straightforward by Chebyshev's Inequality.\n",
    "\n",
    "$$\n",
    "P(\\vert \\bar{X}_n - \\mu \\vert \\ge \\epsilon)~ \\le ~ \\frac{\\sigma_{\\bar{X}_n}^2}{\\epsilon^2} \n",
    "~ = ~ \\frac{\\sigma^2}{n\\epsilon^2} ~ \\to ~ 0 ~~~ \\text{as } n \\to \\infty\n",
    "$$\n",
    "\n",
    "In the terminology of probability theory, the result above is the same as saying that the i.i.d. sample mean *converges in probability* to the population mean. In the terminology of statistical inference, the result says that the i.i.d. sample mean is a *consistent* estimator of the population mean."
   ]
  },
  {
   "cell_type": "markdown",
   "metadata": {},
   "source": [
    "```{admonition} Quick Check\n",
    "$X_1, X_2, \\ldots $ are i.i.d. Poisson $(5)$ random variables. When $n$ is large, the value of $\\frac{1}{n}\\sum_{i=1}^n X_i$ is highly likely to be close to one number. What's that number, and why?\n",
    "\n",
    "```"
   ]
  },
  {
   "cell_type": "markdown",
   "metadata": {},
   "source": [
    "```{admonition} Answer\n",
    ":class: dropdown\n",
    "5 by the Weak Law\n",
    "\n",
    "```"
   ]
  },
  {
   "cell_type": "markdown",
   "metadata": {},
   "source": [
    "### Related Laws ###\n",
    "- **Strong Law of Large Numbers.** This says that if you have a large iid then sample, then with probability 1 the running sample averages converge to a limit, and that limit is the constant $\\mu$. See [this blog post by Fields Medalist Terence Tao](https://terrytao.wordpress.com/2008/06/18/the-strong-law-of-large-numbers/). He states the laws in the case where the underlying SDs may not exist. Note that our proof of the Weak Law is not valid in that case; the result is still true but the proof needs more care.\n",
    "- **Law of Small Numbers.** This is the title of a book by [Ladislaus Bortkiewicz](https://en.wikipedia.org/wiki/Ladislaus_Bortkiewicz) (1868-1931) in which he described the Poisson approximation to distributions of rare events. That's why Section 6.4 of these notes is called the Law of Small Numbers.\n",
    "- **Law of Averages.** This is a common name for the Weak Law in the case where the population is binary and the sample mean is just the proportion of successes in the sample. In common usage, people sometimes forget that the law is a limit statement. If you are tossing a fair coin and have seen 10 heads in a row, the chance that the next toss is a head is still 1/2. The law of averages does not say that you are \"due for a tail\". It doesn't apply to finite sets of tosses."
   ]
  },
  {
   "cell_type": "markdown",
   "metadata": {
    "collapsed": true
   },
   "source": [
    "### The Shape of the Distribution ###\n",
    "The Central Limit Theorem tells us that for large samples, the distribution of the sample mean is roughly normal. The sample mean is a linear transformation of the the sample sum. So if the distribution of the sample sum is roughly normal, the distribution of the sample mean is roughly normal as well, though with different parameters. Specifically, for large $n$,\n",
    "\n",
    "$$\n",
    "P(\\bar{X}_n \\le x) ~ \\approx ~ \\Phi \\big{(} \\frac{x - \\mu}{\\sigma/\\sqrt{n}} \\big{)} ~~~~ \\text{for all } x\n",
    "$$\n",
    "\n"
   ]
  },
  {
   "cell_type": "code",
   "execution_count": 7,
   "metadata": {
    "execution": {
     "iopub.execute_input": "2021-05-13T03:56:59.835023Z",
     "iopub.status.busy": "2021-05-13T03:56:59.834278Z",
     "iopub.status.idle": "2021-05-13T03:57:00.216115Z",
     "shell.execute_reply": "2021-05-13T03:57:00.214871Z"
    },
    "tags": [
     "remove_input"
    ]
   },
   "outputs": [
    {
     "data": {
      "image/png": "[encoded data removed]",
      "text/plain": [
       "<Figure size 432x288 with 1 Axes>"
      ]
     },
     "metadata": {
      "filenames": {
       "image/png": "/mnt/c/users/ryan/documents/prob140/textbook/_build/jupyter_execute/content/Chapter_14/05_The_Sample_Mean_16_0.png"
      },
      "needs_background": "light"
     },
     "output_type": "display_data"
    }
   ],
   "source": [
    "# NO CODE\n",
    "Plot_norm(x_limits=(-4, 4), mu=0, sigma=1)\n",
    "plt.yticks(np.arange(0, 0.401, 0.05), np.array(7*['']))\n",
    "plt.xticks(np.arange(-4, 4.1),['','','','$\\mu - \\sigma/\\sqrt{n}$', '$\\mu$', '$\\mu+\\sigma/\\sqrt{n}$','',''])\n",
    "plt.title('Approximate Distribution of Sample Mean');"
   ]
  },
  {
   "cell_type": "markdown",
   "metadata": {
    "collapsed": true
   },
   "source": [
    "The expectation stays the same no matter what $n$ is. But as $n$ gets large, the SD of the sample mean gets smaller. So the curve above starts looking like a spike at $\\mu$."
   ]
  }
 ],
 "metadata": {
  "anaconda-cloud": {},
  "celltoolbar": "Tags",
  "kernelspec": {
   "display_name": "Python 3",
   "language": "python",
   "name": "python3"
  },
  "language_info": {
   "codemirror_mode": {
    "name": "ipython",
    "version": 3
   },
   "file_extension": ".py",
   "mimetype": "text/x-python",
   "name": "python",
   "nbconvert_exporter": "python",
   "pygments_lexer": "ipython3",
   "version": "3.7.7"
  }
 },
 "nbformat": 4,
 "nbformat_minor": 1
}