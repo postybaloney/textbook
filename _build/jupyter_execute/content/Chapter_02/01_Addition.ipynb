{
 "cells": [
  {
   "cell_type": "code",
   "execution_count": 1,
   "metadata": {
    "execution": {
     "iopub.execute_input": "2020-11-23T22:36:36.939615Z",
     "iopub.status.busy": "2020-11-23T22:36:36.939180Z",
     "iopub.status.idle": "2020-11-23T22:36:38.569013Z",
     "shell.execute_reply": "2020-11-23T22:36:38.568552Z"
    },
    "tags": [
     "remove_cell"
    ]
   },
   "outputs": [],
   "source": [
    "# HIDDEN\n",
    "from datascience import *\n",
    "from prob140 import *\n",
    "%matplotlib inline\n",
    "import matplotlib.pyplot as plt\n",
    "plt.style.use('fivethirtyeight')\n",
    "import numpy as np"
   ]
  },
  {
   "cell_type": "code",
   "execution_count": 2,
   "metadata": {
    "execution": {
     "iopub.execute_input": "2020-11-23T22:36:38.571950Z",
     "iopub.status.busy": "2020-11-23T22:36:38.571556Z",
     "iopub.status.idle": "2020-11-23T22:36:38.639536Z",
     "shell.execute_reply": "2020-11-23T22:36:38.639114Z"
    },
    "tags": [
     "remove_cell"
    ]
   },
   "outputs": [],
   "source": [
    "# HIDDEN\n",
    "from matplotlib import patches\n",
    "import shapely.geometry as sg\n",
    "import descartes"
   ]
  },
  {
   "cell_type": "code",
   "execution_count": 3,
   "metadata": {
    "execution": {
     "iopub.execute_input": "2020-11-23T22:36:38.646044Z",
     "iopub.status.busy": "2020-11-23T22:36:38.645623Z",
     "iopub.status.idle": "2020-11-23T22:36:38.647877Z",
     "shell.execute_reply": "2020-11-23T22:36:38.647563Z"
    },
    "tags": [
     "remove_cell"
    ]
   },
   "outputs": [],
   "source": [
    "# HIDDEN\n",
    "def show_disjoint_union():\n",
    "    plt.figure(figsize=(10, 20))\n",
    "    # create the circles with shapely\n",
    "    a = sg.Point(1.4,2.5).buffer(1.0)\n",
    "    b = sg.Point(3.3,2.5).buffer(0.75)\n",
    "\n",
    "\n",
    "    # use descartes to create the matplotlib patches\n",
    "    ax = plt.subplot(121)\n",
    "    ax.add_patch(descartes.PolygonPatch(a, fc='darkblue', ec='k', alpha=0.8))\n",
    "    ax.add_patch(descartes.PolygonPatch(b, fc='gold', ec='k', alpha=0.6))\n",
    "    ax.annotate('A', [1.4, 2.5])\n",
    "    ax.annotate('B', [3.3, 2.5])\n",
    "\n",
    "    # control display\n",
    "    plt.title('Mutually Exclusive Events')\n",
    "    plt.axis('off')\n",
    "    ax.set_xlim(0, 5); ax.set_ylim(0, 5)\n",
    "    ax.set_aspect('equal')\n",
    "\n",
    "    # use descartes to create the matplotlib patches\n",
    "    ax = plt.subplot(122)\n",
    "    ax.add_patch(descartes.PolygonPatch(a, fc='blue', ec='k', alpha=0.8))\n",
    "    ax.add_patch(descartes.PolygonPatch(b, fc='blue', ec='k', alpha=0.8))\n",
    "\n",
    "    # control display\n",
    "    plt.title('Disjoint Union')\n",
    "    plt.axis('off')\n",
    "    ax.set_xlim(0, 5); ax.set_ylim(0, 5)\n",
    "    ax.set_aspect('equal')"
   ]
  },
  {
   "cell_type": "code",
   "execution_count": 4,
   "metadata": {
    "execution": {
     "iopub.execute_input": "2020-11-23T22:36:38.653851Z",
     "iopub.status.busy": "2020-11-23T22:36:38.653431Z",
     "iopub.status.idle": "2020-11-23T22:36:38.655775Z",
     "shell.execute_reply": "2020-11-23T22:36:38.655456Z"
    },
    "tags": [
     "remove_cell"
    ]
   },
   "outputs": [],
   "source": [
    "# HIDDEN\n",
    "def show_difference():\n",
    "    plt.figure(figsize=(10, 20))\n",
    "    # create the circles with shapely\n",
    "    a = sg.Point(2,2.5).buffer(1.0)\n",
    "    b = sg.Point(2,2.5).buffer(0.75)\n",
    "\n",
    "    # compute the 2 parts\n",
    "    left = a.difference(b)\n",
    "    middle = a.intersection(b)\n",
    "\n",
    "    # use descartes to create the matplotlib patches\n",
    "    ax = plt.subplot(121)\n",
    "    ax.add_patch(descartes.PolygonPatch(left, fc='darkblue', ec='k', alpha=0.8))\n",
    "    ax.add_patch(descartes.PolygonPatch(middle, fc='olive', ec='k', alpha=0.8))\n",
    "\n",
    "    # control display\n",
    "    plt.title('Nested Events')\n",
    "    plt.axis('off')\n",
    "    ax.set_xlim(0, 5); ax.set_ylim(0, 5)\n",
    "    ax.set_aspect('equal')\n",
    "\n",
    "    # use descartes to create the matplotlib patches\n",
    "    ax = plt.subplot(122)\n",
    "    ax.add_patch(descartes.PolygonPatch(left, fc='blue', ec='k', alpha=0.8))\n",
    "    ax.add_patch(descartes.PolygonPatch(middle, fc='None', ec='k', alpha=0.8))\n",
    "\n",
    "    # control display\n",
    "    plt.title('The Difference')\n",
    "    plt.axis('off')\n",
    "    ax.set_xlim(0, 5); ax.set_ylim(0, 5)\n",
    "    ax.set_aspect('equal')"
   ]
  },
  {
   "cell_type": "code",
   "execution_count": 5,
   "metadata": {
    "execution": {
     "iopub.execute_input": "2020-11-23T22:36:38.662089Z",
     "iopub.status.busy": "2020-11-23T22:36:38.661643Z",
     "iopub.status.idle": "2020-11-23T22:36:38.664038Z",
     "shell.execute_reply": "2020-11-23T22:36:38.663639Z"
    },
    "tags": [
     "remove_cell"
    ]
   },
   "outputs": [],
   "source": [
    "# HIDDEN\n",
    "def show_complement():\n",
    "    plt.figure(figsize=(10, 20))\n",
    "    # create the square and circle with shapely\n",
    "    a = sg.box(0, 0, 4.5, 4.5) \n",
    "    b = sg.Point(2.25,2.5).buffer(1)\n",
    "\n",
    "    # compute the 2 parts\n",
    "    left = a.difference(b)\n",
    "    middle = a.intersection(b)\n",
    "\n",
    "    # use descartes to create the matplotlib patches\n",
    "    ax = plt.subplot(121)\n",
    "    ax.add_patch(descartes.PolygonPatch(left, fc='None', ec='k', alpha=0.8))\n",
    "    ax.add_patch(descartes.PolygonPatch(middle, fc='darkblue', ec='k', alpha=0.8))\n",
    "\n",
    "    # control display\n",
    "    plt.title('An Event (Square = Omega)')\n",
    "    plt.axis('off')\n",
    "    ax.set_xlim(0, 5); ax.set_ylim(0, 5)\n",
    "    ax.set_aspect('equal')\n",
    "\n",
    "    # use descartes to create the matplotlib patches\n",
    "    ax = plt.subplot(122)\n",
    "    ax.add_patch(descartes.PolygonPatch(left, fc='blue', ec='k', alpha=0.8))\n",
    "    ax.add_patch(descartes.PolygonPatch(middle, fc='None', ec='k', alpha=0.8))\n",
    "\n",
    "    # control display\n",
    "    plt.title('The Complement')\n",
    "    plt.axis('off')\n",
    "    ax.set_xlim(0, 5); ax.set_ylim(0, 5)\n",
    "    ax.set_aspect('equal')"
   ]
  },
  {
   "cell_type": "markdown",
   "metadata": {},
   "source": [
    "## Addition ##"
   ]
  },
  {
   "cell_type": "markdown",
   "metadata": {},
   "source": [
    "The third axiom is about events that are *mutually exclusive*. Two events $A$ and $B$ are mutually exclusive if at most one of them can happen; in other words, they can't both happen. \n",
    "\n",
    "For example, suppose you are selecting one student at random from a class in which 40% of the students are freshmen and 20% are sophomores. Each student is either a freshman or a sophomore or neither; but no student is both a freshman and a sophomore. So if $A$ is the event \"the student selected is a freshman\" and $B$ is the event \"the student selected is a sophomore\", then $A$ and $B$ are mutually exclusive.\n",
    "\n",
    "What's the big deal about mutually exclusive events? To understand this, start by thinking about the event that the selected student is a freshman or a sophomore. In the language of set theory, that's the *union* of the two events \"freshman\" and \"sophomore\". It is a great idea to use Venn diagrams to visualize events. In the diagram below, imagine $A$ and $B$ to be two mutually exclusive events shown as blue and gold circles. Because the events are mutually exclusive, the corresponding circles don't overlap. The union is the set of all the points in the two circles."
   ]
  },
  {
   "cell_type": "code",
   "execution_count": 6,
   "metadata": {
    "execution": {
     "iopub.execute_input": "2020-11-23T22:36:38.668184Z",
     "iopub.status.busy": "2020-11-23T22:36:38.667463Z",
     "iopub.status.idle": "2020-11-23T22:36:38.867041Z",
     "shell.execute_reply": "2020-11-23T22:36:38.866611Z"
    },
    "tags": [
     "remove_input"
    ]
   },
   "outputs": [
    {
     "data": {
      "image/png": "[encoded data removed]",
      "text/plain": [
       "<Figure size 720x1440 with 2 Axes>"
      ]
     },
     "metadata": {
      "filenames": {
       "image/png": "/mnt/c/Users/ryan/Documents/prob140/textbook/_build/jupyter_execute/content/Chapter_02/01_Addition_7_0.png"
      }
     },
     "output_type": "display_data"
    }
   ],
   "source": [
    "# NO CODE\n",
    "show_disjoint_union()"
   ]
  },
  {
   "cell_type": "markdown",
   "metadata": {},
   "source": [
    "What's the chance that the student is a freshman or a sophomore? In the population, 40% are freshmen and 20% are sophomores, so a natural answer is 60%. That's the percent of students who satisfy our criterion of \"freshman or sophomore\". The simple addition works because the two groups are disjoint."
   ]
  },
  {
   "cell_type": "markdown",
   "metadata": {},
   "source": [
    "Kolmogorov used this idea to formulate the third and most important axiom of probability. Formally, $A$ and $B$ are mutually exclusive events if their intersection is empty:\n",
    "\n",
    "$$\n",
    "A \\cap B = \\phi\n",
    "$$\n",
    "\n",
    "### The Third Axiom: Addition Rule ###\n",
    "In the context of finite outcome spaces, the axiom says:\n",
    "\n",
    "- If $A$ and $B$ are mutually exclusive events, then $P(A \\cup B) = P(A) + P(B)$.\n",
    "\n",
    "You will show in an exercise that the axiom implies something more general:\n",
    "\n",
    "- For any fixed $n$, if $A_1, A_2, \\ldots, A_n$ are mutually exclusive (that is, if $A_i \\cap A_j = \\phi$ for all $i \\ne j$), then\n",
    "\n",
    "$$\n",
    "P\\big{(} \\bigcup_{i=1}^n A_i \\big{)} = \\sum_{i=1}^n P(A_i)\n",
    "$$ \n",
    "\n",
    "This is sometimes called the axiom of *finite additivity*. Kolmogorov actually specified countable additivity. We'll come to that later."
   ]
  },
  {
   "cell_type": "code",
   "execution_count": 7,
   "metadata": {
    "execution": {
     "iopub.execute_input": "2020-11-23T22:36:38.871145Z",
     "iopub.status.busy": "2020-11-23T22:36:38.870715Z",
     "iopub.status.idle": "2020-11-23T22:36:38.965463Z",
     "shell.execute_reply": "2020-11-23T22:36:38.965127Z"
    },
    "tags": [
     "remove-input",
     "hide-output"
    ]
   },
   "outputs": [
    {
     "data": {
      "text/html": [
       "\n",
       "<iframe\n",
       "    width=\"400\"\n",
       "    height=\"300\"\n",
       "    src=\"https://www.youtube.com/embed/KaOriB3Zep8\"\n",
       "    frameborder=\"0\"\n",
       "    allowfullscreen\n",
       "></iframe>\n"
      ],
      "text/plain": [
       "<IPython.lib.display.YouTubeVideo at 0x7f7e74800d50>"
      ]
     },
     "execution_count": 7,
     "metadata": {},
     "output_type": "execute_result"
    }
   ],
   "source": [
    "# NO CODE\n",
    "\n",
    "# VIDEO: Axioms\n",
    "from IPython.display import YouTubeVideo\n",
    "\n",
    "YouTubeVideo(\"KaOriB3Zep8\")"
   ]
  },
  {
   "cell_type": "markdown",
   "metadata": {},
   "source": [
    "The typical use of the addition rule is when you *list the ways* an event can occur, splitting it up into disjoint pieces whose probabilities you know how to find. This is called *partitioning* the event, a fundamentally important technique to master. "
   ]
  },
  {
   "cell_type": "markdown",
   "metadata": {},
   "source": [
    "```{admonition} Quick Check\n",
    "A box contains two red tickets and one blue ticket. If you draw two tickets at random with replacement, what is the chance that the same color appears on both draws?\n",
    "```"
   ]
  },
  {
   "cell_type": "markdown",
   "metadata": {},
   "source": [
    "```{admonition} Answer\n",
    ":class: dropdown\n",
    "$P(RR \\text{ or } BB) = \\frac{2^2}{3^2} + \\frac{1^2}{3^2}$\n",
    "```"
   ]
  },
  {
   "cell_type": "markdown",
   "metadata": {},
   "source": [
    "```{admonition} Quick Check\n",
    "At a school, 5% of students are Data Science majors and 12% of students are Economics majors. True or false: We don't need additional assumptions to conclude that 17% of students at the school are majoring in Data Science or Economics.\n",
    "```"
   ]
  },
  {
   "cell_type": "markdown",
   "metadata": {},
   "source": [
    "```{admonition} Answer\n",
    ":class: dropdown\n",
    "False; we need to assume a student can't major in both, which isn't true in Berkeley.\n",
    "```"
   ]
  },
  {
   "cell_type": "markdown",
   "metadata": {},
   "source": [
    "The deceptively simple axiom of additivity has tremendous power, especially when it is extended to account for infinitely many mutually exclusive events. For a start, it can be used to create some handy computational tools."
   ]
  },
  {
   "cell_type": "markdown",
   "metadata": {},
   "source": [
    "### Nested Events ###\n",
    "Suppose that 50% of the students in a class have Data Science as one of their majors, and 40% are majoring in Data Science as well as Computer Science (CS). If you pick a student at random, what is the chance that the student is majoring in Data Science but not in CS?\n",
    "\n",
    "The Venn diagram below shows a dark blue circle corresponding to the event $A =$ \"Data Science as one of the majors\", and a gold circle (not drawn to scale) corresponding $B =$ \"majoring in both Data Science and CS\". The two events are *nested* because $B$ is a subset of $A$: everyone in $B$ has Data Science as one of their majors.\n",
    "\n",
    "So $B \\subseteq A$, and those who are majoring in Data Science but not CS is the *difference* \"$A$ and not $B$\":\n",
    "\n",
    "$$\n",
    "A \\backslash B = A \\cap B^c\n",
    "$$\n",
    "\n",
    "where $B^c$ is the complement of $B$. The difference is the bright blue ring on the right."
   ]
  },
  {
   "cell_type": "code",
   "execution_count": 8,
   "metadata": {
    "execution": {
     "iopub.execute_input": "2020-11-23T22:36:38.969781Z",
     "iopub.status.busy": "2020-11-23T22:36:38.969296Z",
     "iopub.status.idle": "2020-11-23T22:36:39.144417Z",
     "shell.execute_reply": "2020-11-23T22:36:39.144097Z"
    },
    "tags": [
     "remove_input"
    ]
   },
   "outputs": [
    {
     "data": {
      "image/png": "[encoded data removed]",
      "text/plain": [
       "<Figure size 720x1440 with 2 Axes>"
      ]
     },
     "metadata": {
      "filenames": {
       "image/png": "/mnt/c/Users/ryan/Documents/prob140/textbook/_build/jupyter_execute/content/Chapter_02/01_Addition_18_0.png"
      }
     },
     "output_type": "display_data"
    }
   ],
   "source": [
    "# NO CODE\n",
    "show_difference()"
   ]
  },
  {
   "cell_type": "markdown",
   "metadata": {},
   "source": [
    "What's the chance that the student is in the bright blue difference? If you answered, \"50% - 40% = 10%\", you are right, and it's great that your intuition is saying that probabilities behave just like areas. They do. In fact the calculation follows from the axiom of additivity, which we also motivated by looking at areas."
   ]
  },
  {
   "cell_type": "code",
   "execution_count": 9,
   "metadata": {
    "execution": {
     "iopub.execute_input": "2020-11-23T22:36:39.154999Z",
     "iopub.status.busy": "2020-11-23T22:36:39.147204Z",
     "iopub.status.idle": "2020-11-23T22:36:39.228558Z",
     "shell.execute_reply": "2020-11-23T22:36:39.228211Z"
    },
    "tags": [
     "remove-input",
     "hide-output"
    ]
   },
   "outputs": [
    {
     "data": {
      "text/html": [
       "\n",
       "<iframe\n",
       "    width=\"400\"\n",
       "    height=\"300\"\n",
       "    src=\"https://www.youtube.com/embed/eEoogMY8z60\"\n",
       "    frameborder=\"0\"\n",
       "    allowfullscreen\n",
       "></iframe>\n"
      ],
      "text/plain": [
       "<IPython.lib.display.YouTubeVideo at 0x7f7e7450dc90>"
      ]
     },
     "execution_count": 9,
     "metadata": {},
     "output_type": "execute_result"
    }
   ],
   "source": [
    "# NO CODE\n",
    "\n",
    "# VIDEO: Differences\n",
    "from IPython.display import YouTubeVideo\n",
    "\n",
    "YouTubeVideo(\"eEoogMY8z60\")"
   ]
  },
  {
   "cell_type": "markdown",
   "metadata": {},
   "source": [
    "### Difference Rule ###\n",
    "Suppose $A$ and $B$ are events such that $B \\subseteq A$. Then $P(A \\backslash B) = P(A) - P(B)$.\n",
    "\n",
    "**Proof.** Because $B \\subseteq A$,\n",
    "\n",
    "$$\n",
    "A = B \\cup (A \\backslash B)\n",
    "$$\n",
    "\n",
    "which is a disjoint union. By the axiom of additivity,\n",
    "\n",
    "$$\n",
    "P(A) = P(B) + P(A \\backslash B)\n",
    "$$\n",
    "\n",
    "and so\n",
    "\n",
    "$$\n",
    "P(A \\backslash B) = P(A) - P(B)\n",
    "$$"
   ]
  },
  {
   "cell_type": "markdown",
   "metadata": {},
   "source": [
    "```{admonition} Quick Check\n",
    "In 2019, 95% of US women owned a cell phone of some kind; 81% owned a smartphone. If you picked a US woman at random in 2019, what is the chance that she owned a cell phone but it wasn't a smartphone?\n",
    "```"
   ]
  },
  {
   "cell_type": "markdown",
   "metadata": {},
   "source": [
    "```{admonition} Answer\n",
    ":class: dropdown\n",
    "$0.14$\n",
    "```"
   ]
  },
  {
   "cell_type": "markdown",
   "metadata": {},
   "source": [
    "```{admonition} Quick Check\n",
    "A survey organization asks respondents for their age in completed years. Of the respondents, 90% were more than 20 years old, 85% were more than 21 years old, and and 78% were more than 22 years old. What is the chance that a randomly picked respondent is 21 years old?\n",
    "```"
   ]
  },
  {
   "cell_type": "markdown",
   "metadata": {},
   "source": [
    "```{admonition} Answer\n",
    ":class: dropdown\n",
    "$0.05$\n",
    "```"
   ]
  },
  {
   "cell_type": "markdown",
   "metadata": {},
   "source": [
    "### The Complement ###\n",
    "If an event has chance 40%, what's the chance that it doesn't happen? The \"obvious\" answer of 60% is a special case of the difference rule.\n",
    "\n",
    "#### Complement Rule ####\n",
    "For any event $B$, $P(B^c) = 1 - P(B)$.\n",
    "\n",
    "**Proof.** The Venn diagram below shows what to do. Take $A = \\Omega$ in the formula for the difference, and remember the second axiom $P(\\Omega) = 1$. Alternatively, redo the argument for the difference rule in this special case."
   ]
  },
  {
   "cell_type": "code",
   "execution_count": 10,
   "metadata": {
    "execution": {
     "iopub.execute_input": "2020-11-23T22:36:39.232742Z",
     "iopub.status.busy": "2020-11-23T22:36:39.231983Z",
     "iopub.status.idle": "2020-11-23T22:36:39.414558Z",
     "shell.execute_reply": "2020-11-23T22:36:39.414888Z"
    },
    "tags": [
     "remove_input"
    ]
   },
   "outputs": [
    {
     "data": {
      "image/png": "[encoded data removed]",
      "text/plain": [
       "<Figure size 720x1440 with 2 Axes>"
      ]
     },
     "metadata": {
      "filenames": {
       "image/png": "/mnt/c/Users/ryan/Documents/prob140/textbook/_build/jupyter_execute/content/Chapter_02/01_Addition_27_0.png"
      }
     },
     "output_type": "display_data"
    }
   ],
   "source": [
    "# NO CODE\n",
    "show_complement()"
   ]
  },
  {
   "cell_type": "markdown",
   "metadata": {},
   "source": [
    "When you see a minus sign in a calculation of probabilities, as in the Complement Rule above, you will often find that the minus sign is due to a rearrangement of terms in an application of the addition rule."
   ]
  },
  {
   "cell_type": "markdown",
   "metadata": {},
   "source": [
    "When should you use the complement to find the probability of an event? The answer seems rather irritating at first: use the complement if the complement is easier to work with than the original event. For example, if the event can happen in numerous different ways, whereas its complement is more straighforward, you should try the complement as in the exercise below."
   ]
  },
  {
   "cell_type": "markdown",
   "metadata": {},
   "source": [
    "```{admonition} Quick Check\n",
    "A die is rolled three times. What is the probability that at least one of the faces that appears has more than one spot?\n",
    "```"
   ]
  },
  {
   "cell_type": "markdown",
   "metadata": {},
   "source": [
    "```{admonition} Answer\n",
    ":class: dropdown\n",
    "$1 - \\frac{1}{216}$\n",
    "```"
   ]
  },
  {
   "cell_type": "code",
   "execution_count": null,
   "metadata": {},
   "outputs": [],
   "source": []
  }
 ],
 "metadata": {
  "anaconda-cloud": {},
  "celltoolbar": "Tags",
  "kernelspec": {
   "display_name": "Python 3",
   "language": "python",
   "name": "python3"
  },
  "language_info": {
   "codemirror_mode": {
    "name": "ipython",
    "version": 3
   },
   "file_extension": ".py",
   "mimetype": "text/x-python",
   "name": "python",
   "nbconvert_exporter": "python",
   "pygments_lexer": "ipython3",
   "version": "3.7.7"
  }
 },
 "nbformat": 4,
 "nbformat_minor": 1
}