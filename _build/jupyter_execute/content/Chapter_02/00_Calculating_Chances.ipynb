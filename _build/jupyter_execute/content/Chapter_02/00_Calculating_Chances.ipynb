{
 "cells": [
  {
   "cell_type": "code",
   "execution_count": 1,
   "metadata": {
    "collapsed": true,
    "execution": {
     "iopub.execute_input": "2020-12-01T17:43:26.108577Z",
     "iopub.status.busy": "2020-12-01T17:43:26.108121Z",
     "iopub.status.idle": "2020-12-01T17:43:27.610522Z",
     "shell.execute_reply": "2020-12-01T17:43:27.610030Z"
    },
    "tags": [
     "remove_cell"
    ]
   },
   "outputs": [],
   "source": [
    "# HIDDEN\n",
    "from datascience import *\n",
    "from prob140 import *\n",
    "%matplotlib inline\n",
    "import matplotlib.pyplot as plt\n",
    "plt.style.use('fivethirtyeight')\n",
    "import numpy as np"
   ]
  },
  {
   "cell_type": "markdown",
   "metadata": {},
   "source": [
    "# Calculating Chances #"
   ]
  },
  {
   "cell_type": "markdown",
   "metadata": {},
   "source": [
    "Once you start working with probabilities, you quickly realize that the assumption of all possible outcomes being equally likely isn't always reasonable. For example, if you think a coin is biased then you won't want to assume that it lands heads with the same chance as tails. \n",
    "\n",
    "To deal with settings in which some outcomes have a higher chance than others, a more general theory is needed. In the 1930's, the Russian mathematician [Andrey Kolmogorov](https://en.wikipedia.org/wiki/Andrey_Kolmogorov) (1903-1987) formulated some ground rules, known as *axioms*, that covered a rich array of settings and became the foundation of modern probability theory.\n",
    "\n",
    "The axioms start out with an outcome space $\\Omega$. We will assume $\\Omega$ to be finite for now. Probability is a function $P$ defined on events, which as you know are subsets of $\\Omega$. The first two axioms just set the scale of measurement: they define probabilites to be numbers between 0 and 1.\n",
    "\n",
    "- Probabilities are non-negative: for each event $A$, $P(A) \\ge 0$.\n",
    "- The probability of the whole space is 1: $P(\\Omega ) = 1$."
   ]
  },
  {
   "cell_type": "markdown",
   "metadata": {
    "collapsed": true
   },
   "source": [
    "The third and final axiom is the key to probability being a \"measure\" of an event. We will study it after we have developed some relevant terminology."
   ]
  },
  {
   "cell_type": "code",
   "execution_count": 2,
   "metadata": {
    "collapsed": true
   },
   "outputs": [],
   "source": []
  },
  {
   "cell_type": "markdown",
   "metadata": {},
   "source": [
    "\n",
    "```{toctree}\n",
    ":hidden:\n",
    ":titlesonly:\n",
    "\n",
    "\n",
    "01_Addition\n",
    "02_Examples\n",
    "03_Multiplication\n",
    "04_More_Examples\n",
    "05_Updating_Probabilities\n",
    "06_Exercises\n",
    "```\n"
   ]
  }
 ],
 "metadata": {
  "anaconda-cloud": {},
  "kernelspec": {
   "display_name": "Python 3",
   "language": "python",
   "name": "python3"
  },
  "language_info": {
   "codemirror_mode": {
    "name": "ipython",
    "version": 3
   },
   "file_extension": ".py",
   "mimetype": "text/x-python",
   "name": "python",
   "nbconvert_exporter": "python",
   "pygments_lexer": "ipython3",
   "version": "3.7.7"
  }
 },
 "nbformat": 4,
 "nbformat_minor": 0
}