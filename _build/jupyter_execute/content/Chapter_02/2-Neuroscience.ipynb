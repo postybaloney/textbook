{
 "cells": [
  {
   "cell_type": "markdown",
   "id": "79ad9550",
   "metadata": {},
   "source": [
    "# What is Neuroscience\n",
    "<font size=\"4\"> Neuroscience is the interdisciplinary field of study that investigates the structure and function of the nervous system, including the brain and spinal cord. It employs a wide range of scientific methods to understand how neurons communicate, process information, and influence behavior, shedding light on cognition, emotions, and neurological disorders \n",
    "\n",
    "In this chapter we will go over all the relevant parts of the brain as well systems that are essential to understanding how neurotechnology is integrated. </font>"
   ]
  }
 ],
 "metadata": {
  "kernelspec": {
   "display_name": "Python 3 (ipykernel)",
   "language": "python",
   "name": "python3"
  },
  "language_info": {
   "codemirror_mode": {
    "name": "ipython",
    "version": 3
   },
   "file_extension": ".py",
   "mimetype": "text/x-python",
   "name": "python",
   "nbconvert_exporter": "python",
   "pygments_lexer": "ipython3",
   "version": "3.9.12"
  }
 },
 "nbformat": 4,
 "nbformat_minor": 5
}