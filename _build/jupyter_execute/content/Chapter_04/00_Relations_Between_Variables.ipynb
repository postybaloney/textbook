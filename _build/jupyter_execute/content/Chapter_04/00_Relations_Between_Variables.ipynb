{
 "cells": [
  {
   "cell_type": "code",
   "execution_count": 1,
   "metadata": {
    "collapsed": true,
    "execution": {
     "iopub.execute_input": "2020-11-20T05:27:01.669509Z",
     "iopub.status.busy": "2020-11-20T05:27:01.669064Z",
     "iopub.status.idle": "2020-11-20T05:27:03.270435Z",
     "shell.execute_reply": "2020-11-20T05:27:03.269938Z"
    },
    "tags": [
     "remove_cell"
    ]
   },
   "outputs": [],
   "source": [
    "# HIDDEN\n",
    "from datascience import *\n",
    "from prob140 import *\n",
    "import numpy as np\n",
    "import matplotlib.pyplot as plt\n",
    "plt.style.use('fivethirtyeight')\n",
    "%matplotlib inline"
   ]
  },
  {
   "cell_type": "markdown",
   "metadata": {},
   "source": [
    "# Relations Between Variables #"
   ]
  },
  {
   "cell_type": "markdown",
   "metadata": {},
   "source": [
    "Many questions in data science have at their center a question about the relation between variables. \n",
    "- How can attributes be used to tell whether or not a cell is cancerous?\n",
    "- What is the relation between average income and water usage in Californian counties?\n",
    "- Do car buyers pay more for good mileage or for rapid acceleration?\n",
    "You encountered these and many other such questions in Data 8.\n",
    "\n",
    "Probability theory helps us pose and answer precise questions about the relation between random variables. In particular, it helps us understand the conditional behavior of one set of random variables given the values of another set.\n",
    "\n",
    "In this chapter we will study multiple random variables defined on the same set of outcomes."
   ]
  },
  {
   "cell_type": "code",
   "execution_count": 2,
   "metadata": {
    "collapsed": true
   },
   "outputs": [],
   "source": []
  },
  {
   "cell_type": "markdown",
   "metadata": {},
   "source": [
    "\n",
    "```{toctree}\n",
    ":hidden:\n",
    ":titlesonly:\n",
    "\n",
    "\n",
    "01_Joint_Distributions\n",
    "02_Examples\n",
    "03_Marginal_Distributions\n",
    "04_Conditional_Distributions\n",
    "05_Dependence_and_Independence\n",
    "06_Exercises\n",
    "```\n"
   ]
  }
 ],
 "metadata": {
  "anaconda-cloud": {},
  "kernelspec": {
   "display_name": "Python 3",
   "language": "python",
   "name": "python3"
  },
  "language_info": {
   "codemirror_mode": {
    "name": "ipython",
    "version": 3
   },
   "file_extension": ".py",
   "mimetype": "text/x-python",
   "name": "python",
   "nbconvert_exporter": "python",
   "pygments_lexer": "ipython3",
   "version": "3.7.7"
  }
 },
 "nbformat": 4,
 "nbformat_minor": 0
}