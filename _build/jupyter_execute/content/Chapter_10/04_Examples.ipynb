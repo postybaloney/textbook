{
 "cells": [
  {
   "cell_type": "code",
   "execution_count": 1,
   "metadata": {
    "collapsed": true,
    "tags": [
     "remove_cell"
    ]
   },
   "outputs": [],
   "source": [
    "# HIDDEN\n",
    "from datascience import *\n",
    "from prob140 import *\n",
    "import numpy as np\n",
    "import matplotlib.pyplot as plt\n",
    "plt.style.use('fivethirtyeight')\n",
    "%matplotlib inline\n",
    "import math\n",
    "from scipy import stats\n",
    "from scipy import misc"
   ]
  },
  {
   "cell_type": "code",
   "execution_count": 2,
   "metadata": {
    "tags": [
     "remove_cell"
    ]
   },
   "outputs": [],
   "source": [
    "# HIDDEN\n",
    "s = np.arange(1, 6)\n",
    "def refl_walk_probs(i, j):\n",
    "    if i-j == 0:\n",
    "        return 0.5\n",
    "    elif 2 <= i <= 4:\n",
    "        if abs(i-j) == 1:\n",
    "            return 0.25\n",
    "        else:\n",
    "            return 0\n",
    "    elif i == 1:\n",
    "        if j == 2:\n",
    "            return 0.5\n",
    "        else:\n",
    "            return 0\n",
    "    elif i == 5:\n",
    "        if j == 4:\n",
    "            return 0.5\n",
    "        else:\n",
    "            return 0\n",
    "        \n",
    "reflecting_walk = MarkovChain.from_transition_function(s, refl_walk_probs)"
   ]
  },
  {
   "cell_type": "markdown",
   "metadata": {},
   "source": [
    "## Examples ##"
   ]
  },
  {
   "cell_type": "markdown",
   "metadata": {},
   "source": [
    "Here are two examples to illustrate how to find the stationary distribution and how to use it."
   ]
  },
  {
   "cell_type": "markdown",
   "metadata": {},
   "source": [
    "### A Diffusion Model by Ehrenfest ###\n",
    "[Paul Ehrenfest](https://en.wikipedia.org/wiki/Paul_Ehrenfest) proposed a number of models for the diffusion of gas particles, one of which we will study here.\n",
    "\n",
    "The model says that there are two containers containing a total of $N$ particles. At each instant, a container is selected at random and a particle is selected at random independently of the container. Then the selected particle is placed in the selected container; if it was already in that container, it stays there.\n",
    "\n",
    "Let $X_n$ be the number of particles in Container 1 at time $n$. Then $X_0, X_1, \\ldots$ is a Markov chain with transition probabilities given by:\n",
    "\n",
    "$$\n",
    "\\begin{equation}\n",
    "P(i, j) = \n",
    " \\begin{cases} \n",
    "      \\frac{N-i}{2N} & \\text{if } j = i+1 \\\\\n",
    "      \\frac{1}{2} & \\text{if } j = i \\\\\n",
    "      \\frac{i}{2N} & \\text{if } j = i-1 \\\\\n",
    "      0 & \\text{otherwise}\n",
    "   \\end{cases}\n",
    "\\end{equation}\n",
    "$$\n",
    "\n",
    "The chain is clearly irreducible. It is aperiodic because $P(i, i) > 0$.\n",
    "\n",
    "**Question:** What is the stationary distribution of the chain? \n",
    "\n",
    "**Answer:** We have computers. So let's first find the stationary distribution for $N=100$ particles, and then see if we can identify it for general $N$."
   ]
  },
  {
   "cell_type": "code",
   "execution_count": 3,
   "metadata": {},
   "outputs": [
    {
     "data": {
      "image/png": "[encoded data removed]",
      "text/plain": [
       "<Figure size 432x288 with 1 Axes>"
      ]
     },
     "metadata": {
      "filenames": {
       "image/png": "/Users/liangxinran/Desktop/Berkeley College Life/Senior/Teaching/prob140-textbook/_build/jupyter_execute/content/Chapter_10/04_Examples_5_0.png"
      },
      "needs_background": "light"
     },
     "output_type": "display_data"
    }
   ],
   "source": [
    "N = 100\n",
    "\n",
    "states = np.arange(N+1)\n",
    "\n",
    "def transition_probs(i, j):\n",
    "    if j == i:\n",
    "        return 1/2\n",
    "    elif j == i+1:\n",
    "        return (N-i)/(2*N)\n",
    "    elif j == i-1:\n",
    "        return i/(2*N)\n",
    "    else:\n",
    "        return 0\n",
    "\n",
    "ehrenfest = MarkovChain.from_transition_function(states, transition_probs)\n",
    "Plot(ehrenfest.steady_state(), edges=True)"
   ]
  },
  {
   "cell_type": "markdown",
   "metadata": {},
   "source": [
    "That looks suspiciously like the binomial (100, 1/2) distribution. In fact it *is* the binomial (100, 1/2) distribution. Let's solve the balance equations to prove this.\n",
    "\n",
    "The balance equations are:\n",
    "\n",
    "$$\n",
    "\\begin{align*}\n",
    "\\pi(0) &= \\frac{1}{2}\\pi(0) + \\frac{1}{2N}\\pi(1) \\\\\n",
    "\\pi(j) &= \\frac{N-(j-1)}{2N}\\pi(j-1) + \\frac{1}{2}\\pi(j) + \\frac{j+1}{2N}\\pi(j+1), ~~~ 1 \\le j \\le N-1 \\\\\n",
    "\\pi(N) &= \\frac{1}{2N}\\pi(N-1) + \\frac{1}{2}\\pi(N)\n",
    "\\end{align*}\n",
    "$$\n",
    "\n",
    "Now rewrite each equation to express all the elements of $\\pi$ in terms of $\\pi(0)$. You will get:\n",
    "\n",
    "$$\n",
    "\\begin{align*}\n",
    "\\pi(1) &= N\\pi(0) \\\\ \\\\\n",
    "\\pi(2) &= \\frac{N(N-1)}{2} \\pi(0) = \\binom{N}{2} \\pi(0)\n",
    "\\end{align*}\n",
    "$$\n",
    "\n",
    "and so on by induction:\n",
    "\n",
    "$$\n",
    "\\pi(j) = \\binom{N}{j} \\pi(0), ~~~~~~~~ 1 \\le j \\le N\n",
    "$$\n",
    "\n",
    "This is true for $j = 0$ as well, since $\\binom{N}{0} = 1$.\n",
    "\n",
    "Therefore the stationary distribution is \n",
    "\n",
    "$$\n",
    "\\pi ~ = ~ \\big{[} \\binom{N}{0}\\pi(0), \\binom{N}{1}\\pi(0), \\binom{N}{2}\\pi(0), \\ldots, \\binom{N}{N}\\pi(0) \\big{]}\n",
    "$$\n",
    "\n",
    "In other words, the stationary distribution is proportional to the binomial coefficients. Now\n",
    "\n",
    "$$\n",
    "\\sum_{j=0}^N \\binom{N}{j} ~ = ~ (1 + 1)^N = 2^N\n",
    "$$\n",
    "\n",
    "So $\\pi(0) = 1/2^N$ and the stationary distribution is binomial $(N, 1/2)$."
   ]
  },
  {
   "cell_type": "markdown",
   "metadata": {},
   "source": [
    "### Expected Reward ###\n",
    "Suppose I run the sticky reflecting random walk from the previous section for a long time. As a reminder, here is its stationary distribution."
   ]
  },
  {
   "cell_type": "code",
   "execution_count": 4,
   "metadata": {},
   "outputs": [
    {
     "data": {
      "text/html": [
       "<table border=\"1\" class=\"dataframe\">\n",
       "    <thead>\n",
       "        <tr>\n",
       "            <th>Value</th> <th>Probability</th>\n",
       "        </tr>\n",
       "    </thead>\n",
       "    <tbody>\n",
       "        <tr>\n",
       "            <td>1    </td> <td>0.125      </td>\n",
       "        </tr>\n",
       "        <tr>\n",
       "            <td>2    </td> <td>0.25       </td>\n",
       "        </tr>\n",
       "        <tr>\n",
       "            <td>3    </td> <td>0.25       </td>\n",
       "        </tr>\n",
       "        <tr>\n",
       "            <td>4    </td> <td>0.25       </td>\n",
       "        </tr>\n",
       "        <tr>\n",
       "            <td>5    </td> <td>0.125      </td>\n",
       "        </tr>\n",
       "    </tbody>\n",
       "</table>"
      ],
      "text/plain": [
       "Value | Probability\n",
       "1     | 0.125\n",
       "2     | 0.25\n",
       "3     | 0.25\n",
       "4     | 0.25\n",
       "5     | 0.125"
      ]
     },
     "execution_count": 4,
     "metadata": {},
     "output_type": "execute_result"
    }
   ],
   "source": [
    "stationary = reflecting_walk.steady_state()\n",
    "stationary"
   ]
  },
  {
   "cell_type": "markdown",
   "metadata": {},
   "source": [
    "**Question 1:** Suppose that every time the chain is in state 4, I win 4 dollars; every time it's in state 5, I win 5 dollars; otherwise I win nothing. What is my expected long run average reward?\n",
    "\n",
    "**Answer 1:** In the long run, the chain is in steady state. So I expect that on 62.5% of the moves I will win nothing; on 25% of the moves I will win 4 dollars; and on 12.5% of the moves I will win 5 dollars. My expected long run average reward per move is 1.65 dollars."
   ]
  },
  {
   "cell_type": "code",
   "execution_count": 5,
   "metadata": {},
   "outputs": [
    {
     "data": {
      "text/plain": [
       "1.625"
      ]
     },
     "execution_count": 5,
     "metadata": {},
     "output_type": "execute_result"
    }
   ],
   "source": [
    "0*0.625 + 4*0.25 + 5*.125"
   ]
  },
  {
   "cell_type": "markdown",
   "metadata": {},
   "source": [
    "**Question 2:** Suppose that every time the chain is in state $i$, I toss $i$ coins and record the number of heads. In the long run, how many heads do I expect to get on average per move?\n",
    "\n",
    "**Answer 2:** Each time the chain is in state $i$, I expect to get $i/2$ heads. When the chain is in steady state, the expected number of coins I toss at any given move is 3. So, by iterated expectations, the long run average number of heads I expect to get is 1.5."
   ]
  },
  {
   "cell_type": "code",
   "execution_count": 6,
   "metadata": {},
   "outputs": [
    {
     "data": {
      "text/plain": [
       "1.5"
      ]
     },
     "execution_count": 6,
     "metadata": {},
     "output_type": "execute_result"
    }
   ],
   "source": [
    "stationary.ev()/2"
   ]
  },
  {
   "cell_type": "markdown",
   "metadata": {},
   "source": [
    "If that seems artificial, consider this: Suppose I play the game above, and on every move I tell you the number of heads that I get *but I don't tell you which state the chain is in.* I *hide* the underlying Markov Chain. If you try to recreate the sequence of steps that the Markov Chain took, you are working with a Hidden Markov Model. These are much used in pattern recognition, bioinformatics, and other fields."
   ]
  },
  {
   "cell_type": "code",
   "execution_count": 7,
   "metadata": {
    "collapsed": true
   },
   "outputs": [],
   "source": []
  }
 ],
 "metadata": {
  "anaconda-cloud": {},
  "kernelspec": {
   "display_name": "Python 3",
   "language": "python",
   "name": "python3"
  },
  "language_info": {
   "codemirror_mode": {
    "name": "ipython",
    "version": 3
   },
   "file_extension": ".py",
   "mimetype": "text/x-python",
   "name": "python",
   "nbconvert_exporter": "python",
   "pygments_lexer": "ipython3",
   "version": "3.9.5"
  }
 },
 "nbformat": 4,
 "nbformat_minor": 1
}