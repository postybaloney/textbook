{
 "cells": [
  {
   "cell_type": "code",
   "execution_count": 1,
   "metadata": {
    "execution": {
     "iopub.execute_input": "2021-02-06T03:16:01.800206Z",
     "iopub.status.busy": "2021-02-06T03:16:01.799772Z",
     "iopub.status.idle": "2021-02-06T03:16:03.373633Z",
     "shell.execute_reply": "2021-02-06T03:16:03.373272Z"
    },
    "tags": [
     "remove_cell"
    ]
   },
   "outputs": [],
   "source": [
    "# HIDDEN\n",
    "import warnings\n",
    "warnings.filterwarnings('ignore')\n",
    "from datascience import *\n",
    "from prob140 import *\n",
    "import numpy as np\n",
    "import matplotlib.pyplot as plt\n",
    "plt.style.use('fivethirtyeight')\n",
    "%matplotlib inline"
   ]
  },
  {
   "cell_type": "markdown",
   "metadata": {},
   "source": [
    "## Transitions ##"
   ]
  },
  {
   "cell_type": "markdown",
   "metadata": {},
   "source": [
    "The *state space* of a process is the set of possible values of the random variables in the process. We will often denote the state space by $S$.\n",
    "\n",
    "For example, consider a *random walk* where a gambler starts with a fortune of $a$ dollars for some positive integer $a$, and bets on successive tosses of a fair coin. If the coin lands heads he gains a dollar, and if it lands tails he loses a dollar. \n",
    "\n",
    "Let $X_{0} = a$, and for $n > 0$ let $X_{n+1} = X_n + I_n$ where $I_1, I_2, \\ldots$ is an i.i.d. sequence of increments, each taking the value $+1$ or $-1$ with chance $1/2$. The state space of this random walk $X_0, X_1, X_2, \n",
    "\\dots$ is the set of all integers. In this course we will restrict the state space to be discrete and typically finite."
   ]
  },
  {
   "cell_type": "code",
   "execution_count": 2,
   "metadata": {
    "execution": {
     "iopub.execute_input": "2021-02-06T03:16:03.378199Z",
     "iopub.status.busy": "2021-02-06T03:16:03.377809Z",
     "iopub.status.idle": "2021-02-06T03:16:03.460044Z",
     "shell.execute_reply": "2021-02-06T03:16:03.460358Z"
    },
    "tags": [
     "remove-input",
     "hide-output"
    ]
   },
   "outputs": [
    {
     "data": {
      "text/html": [
       "\n",
       "<iframe\n",
       "    width=\"400\"\n",
       "    height=\"300\"\n",
       "    src=\"https://www.youtube.com/embed/YVGKlWO9ANk\"\n",
       "    frameborder=\"0\"\n",
       "    allowfullscreen\n",
       "></iframe>\n"
      ],
      "text/plain": [
       "<IPython.lib.display.YouTubeVideo at 0x7f34c9a8bc10>"
      ]
     },
     "execution_count": 2,
     "metadata": {},
     "output_type": "execute_result"
    }
   ],
   "source": [
    "# VIDEO: Markov Property\n",
    "from IPython.display import YouTubeVideo\n",
    "\n",
    "YouTubeVideo('YVGKlWO9ANk')"
   ]
  },
  {
   "cell_type": "markdown",
   "metadata": {},
   "source": [
    "### Markov Property ###\n",
    "\n",
    "Consider a stochastic process $X_0, X_1, X_2, \\ldots$. The *Markov property* formalizes the idea that the future of the process depends only on where the process is at present, not on how it got there.\n",
    "\n",
    "- For each $n \\ge 1$, the conditional distribution of $X_{n+1}$ given $X_0, X_1, \\ldots , X_n$ depends only on $X_n$.\n",
    "\n",
    "That is, for every sequence of possible values $i_0, i_1, \\ldots, i_n, i_{n+1}$,\n",
    "\n",
    "$$ \n",
    "P(X_{n+1} = i_{n+1} \\mid X_0 = i_0, X_1 = i_1 , \\ldots, X_{n-1} = i_{n-1}, X_n = i_n) = P(X_{n+1} = i_{n+1} \\mid X_n = i_n) \n",
    "$$\n",
    "\n",
    "The Markov property holds for the random walk described above. Given the gambler's fortune at time $n$, the distribution of his fortune at time $n+1$ doesn't depend on his fortune before time $n$. So the process $X_0, X_1, X_2, \\ldots $ is a Markov Chain representing the evolution of the gambler's fortune over time. "
   ]
  },
  {
   "cell_type": "markdown",
   "metadata": {},
   "source": [
    "**Conditional Independence**\n",
    "\n",
    "Recall that two random variables $X$ and $Y$ are independent if the conditional distribution of $X$ given $Y$ is just the unconditional distribution of $X$.\n",
    "\n",
    "Random variables $X$ and $Y$ are said to be *conditionally independent given $Z$* if the conditional distribution of $X$ given both $Y$ and $Z$ is just the conditional distribution of $X$ given $Z$ alone. That is, if you know $Z$, then additional knowledge about $Y$ doesn't change your opinion about $X$.\n",
    "\n",
    "In a Markov Chain, if you define time $n$ to be the present, time $n+1$ to be the future, and times $0$ through $n-1$ to be the past, then the Markov property says that the past and future are conditionally independent given the present."
   ]
  },
  {
   "cell_type": "markdown",
   "metadata": {},
   "source": [
    "### Initial Distribution and Transition Probabilities ###\n",
    "\n",
    "Let $X_0, X_1, X_2, \\ldots$ be a Markov chain with state space $S$. The distribution of $X_0$ is called the *initial distribution* of the chain.\n",
    "\n",
    "A a *trajectory* or *path* is a sequence of states visited by the process. Let $i_0 i_1 \\ldots i_n$ denote a path of finite length, with $i_j$ representing the value of $X_j$. By the Markov property, the probability of this path is\n",
    "\n",
    "$$\n",
    "\\begin{align*}\n",
    "& P(X_0 = i_0, X_1 = i_1, X_2 = i_2, \\ldots, X_n = i_n) \\\\\n",
    "& = ~ \n",
    "P(X_0 = i_0)P(X_1 = i_1 \\mid X_0 = i_0)P(X_2 = i_2 \\mid X_1 = i_1) \\cdots\n",
    "P(X_n = i_n \\mid X_{n-1} = i_{n-1})\n",
    "\\end{align*}\n",
    "$$\n",
    "\n",
    "The conditional probabilities in the product are called *transition probabilities*. For states $i$ and $j$, the conditional probability $P(X_{n+1} = j \\mid X_n = i)$ is called a *one-step transition probability at time $n$*. "
   ]
  },
  {
   "cell_type": "markdown",
   "metadata": {},
   "source": [
    "### Stationary Transition Probabilities ###\n",
    "\n",
    "For many chains such as the random walk, the one-step transition probabilities depend only on the states $i$ and $j$, not on the time $n$. For example, for the random walk,\n",
    "\n",
    "$$\n",
    "P(X_{n+1} = j \\mid X_n = i) = \n",
    "\\begin{cases} \n",
    "\\frac{1}{2} & \\text{if } j = i-1 \\text{ or } j = i+1 \\\\\n",
    "0 & \\text{ otherwise}\n",
    "\\end{cases}\n",
    "$$\n",
    "\n",
    "for every $n$. \n",
    "When one-step transition probabilites don't depend on $n$, they are called *stationary* or *time-homogenous*. All the Markov chains that we will study in this course have time-homogenous transition probabilities.\n",
    "\n",
    "For such a chain, define the *one-step transition probability*\n",
    "\n",
    "$$\n",
    "P(i, j) ~ = ~ P(X_{n+1} = j \\mid X_n = i) ~ = ~ P(X_1 = j \\mid X_0 = i)\n",
    "$$\n",
    "\n",
    "Then the probability of every path of finite length is the product of a term from the initial distribution and a sequence of one-step transition probabilities:\n",
    "\n",
    "$$\n",
    "P(X_0 = i_0, X_1 = i_1, X_2 = i_2, \\ldots, X_n = i_n)\n",
    "~ = ~ P(X_0 = i_0)P(i_0, i_1)P(i_1, i_2) \\cdots P(i_{n-1}, i_n)\n",
    "$$"
   ]
  },
  {
   "cell_type": "code",
   "execution_count": 3,
   "metadata": {
    "execution": {
     "iopub.execute_input": "2021-02-06T03:16:03.463328Z",
     "iopub.status.busy": "2021-02-06T03:16:03.462907Z",
     "iopub.status.idle": "2021-02-06T03:16:03.555090Z",
     "shell.execute_reply": "2021-02-06T03:16:03.553925Z"
    },
    "tags": [
     "remove-input",
     "hide-output"
    ]
   },
   "outputs": [
    {
     "data": {
      "text/html": [
       "\n",
       "<iframe\n",
       "    width=\"400\"\n",
       "    height=\"300\"\n",
       "    src=\"https://www.youtube.com/embed/G_g-45W7yYk\"\n",
       "    frameborder=\"0\"\n",
       "    allowfullscreen\n",
       "></iframe>\n"
      ],
      "text/plain": [
       "<IPython.lib.display.YouTubeVideo at 0x7f345ea28f90>"
      ]
     },
     "execution_count": 3,
     "metadata": {},
     "output_type": "execute_result"
    }
   ],
   "source": [
    "# VIDEO: Transitions\n",
    "YouTubeVideo('G_g-45W7yYk')"
   ]
  },
  {
   "cell_type": "markdown",
   "metadata": {},
   "source": [
    "### One-Step Transition Matrix ###\n",
    "The one-step transition probabilities can be represented as elements of a matrix. This isn't just for compactness of notation – it leads to a powerful theory.\n",
    "\n",
    "The *one-step transition matrix* of the chain is the matrix $\\mathbb{P}$ whose $(i, j)$th element is $P(i, j) = P(X_1 = j \\mid X_0 = i)$.\n",
    "\n",
    "Often, $\\mathbb{P}$ is just called *the transition matrix* for short. Note two important properties:\n",
    "\n",
    "- $\\mathbb{P}$ is a square matrix: its rows as well as its columns are indexed by the state space.\n",
    "- Each row of $\\mathbb{P}$ is a distribution: for each state $i$, and each $n$, Row $i$ of the transition matrix is the conditional distribution of $X_{n+1}$ given that $X_n = i$. Because each of its rows adds up to 1, $\\mathbb{P}$ is called a *stochastic matrix*.\n",
    "\n",
    "Let's see what the transition matrix looks like in an example. "
   ]
  },
  {
   "cell_type": "markdown",
   "metadata": {},
   "source": [
    "### Sticky Reflecting Random Walk ###\n",
    "Often, the transition behavior of a Markov chain is easier to describe in a *transition diagram* instead of a matrix. Here is such a diagram for a chain on the states 1, 2, 3, 4, and 5. The diagram shows the one-step transition probabilities.\n",
    "- No matter at which state the chain is, it stays there with chance 0.5.\n",
    "- If the chain is at states 2 through 4, it moves to each of its two adjacent state with chance 0.25.\n",
    "- If the chain is at states 1 or 5, it moves to its adjacent state with chance 0.5.\n",
    "\n",
    "![Reflecting Lazy Walk](trans_refl.png)\n",
    "\n",
    "We say that there is *reflection* at states 1 and 5. The walk is *sticky* because of the positive chance of staying in place.\n",
    "\n",
    "Transition diagrams are great for understanding the rules by which a chain moves. For calculations, however, the transition matrix is more helpful.\n",
    "\n",
    "To start constructing the matrix, we set the array `s` to be the set of states and the transition function `refl_walk_probs` to take arguments $i$ and $j$ and return $P(i, j)$."
   ]
  },
  {
   "cell_type": "code",
   "execution_count": 4,
   "metadata": {
    "execution": {
     "iopub.execute_input": "2021-02-06T03:16:03.562606Z",
     "iopub.status.busy": "2021-02-06T03:16:03.562171Z",
     "iopub.status.idle": "2021-02-06T03:16:03.564220Z",
     "shell.execute_reply": "2021-02-06T03:16:03.564535Z"
    }
   },
   "outputs": [],
   "source": [
    "s = np.arange(1, 6)\n",
    "\n",
    "def refl_walk_probs(i, j):\n",
    "    # staying in the same state\n",
    "    if i-j == 0:\n",
    "        return 0.5\n",
    "    \n",
    "    # moving left or right\n",
    "    elif 2 <= i <= 4:\n",
    "        if abs(i-j) == 1:\n",
    "            return 0.25\n",
    "        else:\n",
    "            return 0\n",
    "        \n",
    "    # moving right from 1\n",
    "    elif i == 1:\n",
    "        if j == 2:\n",
    "            return 0.5\n",
    "        else:\n",
    "            return 0\n",
    "    \n",
    "    # moving left from 5\n",
    "    elif i == 5:\n",
    "        if j == 4:\n",
    "            return 0.5\n",
    "        else:\n",
    "            return 0"
   ]
  },
  {
   "cell_type": "markdown",
   "metadata": {},
   "source": [
    "You can use the `prob140` library to construct `MarkovChain` objects. The `from_transition_function` method takes two arguments:\n",
    "- an array of the states\n",
    "- a transition function\n",
    "\n",
    "and displays the one-step transition matrix of a `MarkovChain` object."
   ]
  },
  {
   "cell_type": "code",
   "execution_count": 5,
   "metadata": {
    "execution": {
     "iopub.execute_input": "2021-02-06T03:16:03.574490Z",
     "iopub.status.busy": "2021-02-06T03:16:03.574069Z",
     "iopub.status.idle": "2021-02-06T03:16:03.579787Z",
     "shell.execute_reply": "2021-02-06T03:16:03.579468Z"
    }
   },
   "outputs": [
    {
     "data": {
      "text/html": [
       "<div>\n",
       "<style scoped>\n",
       "    .dataframe tbody tr th:only-of-type {\n",
       "        vertical-align: middle;\n",
       "    }\n",
       "\n",
       "    .dataframe tbody tr th {\n",
       "        vertical-align: top;\n",
       "    }\n",
       "\n",
       "    .dataframe thead th {\n",
       "        text-align: right;\n",
       "    }\n",
       "</style>\n",
       "<table border=\"1\" class=\"dataframe\">\n",
       "  <thead>\n",
       "    <tr style=\"text-align: right;\">\n",
       "      <th></th>\n",
       "      <th>1</th>\n",
       "      <th>2</th>\n",
       "      <th>3</th>\n",
       "      <th>4</th>\n",
       "      <th>5</th>\n",
       "    </tr>\n",
       "  </thead>\n",
       "  <tbody>\n",
       "    <tr>\n",
       "      <th>1</th>\n",
       "      <td>0.50</td>\n",
       "      <td>0.50</td>\n",
       "      <td>0.00</td>\n",
       "      <td>0.00</td>\n",
       "      <td>0.00</td>\n",
       "    </tr>\n",
       "    <tr>\n",
       "      <th>2</th>\n",
       "      <td>0.25</td>\n",
       "      <td>0.50</td>\n",
       "      <td>0.25</td>\n",
       "      <td>0.00</td>\n",
       "      <td>0.00</td>\n",
       "    </tr>\n",
       "    <tr>\n",
       "      <th>3</th>\n",
       "      <td>0.00</td>\n",
       "      <td>0.25</td>\n",
       "      <td>0.50</td>\n",
       "      <td>0.25</td>\n",
       "      <td>0.00</td>\n",
       "    </tr>\n",
       "    <tr>\n",
       "      <th>4</th>\n",
       "      <td>0.00</td>\n",
       "      <td>0.00</td>\n",
       "      <td>0.25</td>\n",
       "      <td>0.50</td>\n",
       "      <td>0.25</td>\n",
       "    </tr>\n",
       "    <tr>\n",
       "      <th>5</th>\n",
       "      <td>0.00</td>\n",
       "      <td>0.00</td>\n",
       "      <td>0.00</td>\n",
       "      <td>0.50</td>\n",
       "      <td>0.50</td>\n",
       "    </tr>\n",
       "  </tbody>\n",
       "</table>\n",
       "</div>"
      ],
      "text/plain": [
       "      1     2     3     4     5\n",
       "1  0.50  0.50  0.00  0.00  0.00\n",
       "2  0.25  0.50  0.25  0.00  0.00\n",
       "3  0.00  0.25  0.50  0.25  0.00\n",
       "4  0.00  0.00  0.25  0.50  0.25\n",
       "5  0.00  0.00  0.00  0.50  0.50"
      ]
     },
     "execution_count": 5,
     "metadata": {},
     "output_type": "execute_result"
    }
   ],
   "source": [
    "reflecting_walk = MarkovChain.from_transition_function(s, refl_walk_probs)\n",
    "reflecting_walk"
   ]
  },
  {
   "cell_type": "markdown",
   "metadata": {},
   "source": [
    "Compare the transition matrix $\\mathbb{P}$ with the transition diagram, and confirm that they contain the same information about transition probabilities.\n",
    "\n",
    "To find the chance that the chain moves to $j$ given that it is at $i$, go to Row $i$ and pick out the probability in Column $j$."
   ]
  },
  {
   "cell_type": "markdown",
   "metadata": {},
   "source": [
    "```{admonition} Quick Check\n",
    "Use the table (not the transition diagram) to find \n",
    "\n",
    "(a) $P(X_1 = 3 \\mid X_0 = 4)$\n",
    "\n",
    "(b) $P(X_{101} = 3 \\mid X_{100} = 4)$\n",
    "```"
   ]
  },
  {
   "cell_type": "markdown",
   "metadata": {},
   "source": [
    "```{admonition} Answer\n",
    ":class: dropdown\n",
    "Both answers are $0.25$\n",
    "\n",
    "```"
   ]
  },
  {
   "cell_type": "markdown",
   "metadata": {},
   "source": [
    "If you know the starting state, you can use $\\mathbb{P}$ to find the probability of any finite path. For example, given that the walk starts at 1, the probability that it then has the path [2, 2, 3, 4, 3] is\n",
    "\n",
    "$$\n",
    "P(1, 2)P(2, 2)P(2, 3)P(3, 4)P(4, 3) \\approx 0.4\\%\n",
    "$$"
   ]
  },
  {
   "cell_type": "code",
   "execution_count": 6,
   "metadata": {
    "execution": {
     "iopub.execute_input": "2021-02-06T03:16:03.582839Z",
     "iopub.status.busy": "2021-02-06T03:16:03.582429Z",
     "iopub.status.idle": "2021-02-06T03:16:03.585017Z",
     "shell.execute_reply": "2021-02-06T03:16:03.585425Z"
    }
   },
   "outputs": [
    {
     "data": {
      "text/plain": [
       "0.00390625"
      ]
     },
     "execution_count": 6,
     "metadata": {},
     "output_type": "execute_result"
    }
   ],
   "source": [
    "0.5 * 0.5 * 0.25 * 0.25 * 0.25"
   ]
  },
  {
   "cell_type": "markdown",
   "metadata": {},
   "source": [
    "The `MarkovChain` method `prob_of_path` saves you the trouble of doing the multiplication. It takes as its arguments the starting state and the rest of the path (in a list or array), and returns the probability of the path given the starting state."
   ]
  },
  {
   "cell_type": "code",
   "execution_count": 7,
   "metadata": {
    "execution": {
     "iopub.execute_input": "2021-02-06T03:16:03.589011Z",
     "iopub.status.busy": "2021-02-06T03:16:03.588601Z",
     "iopub.status.idle": "2021-02-06T03:16:03.591379Z",
     "shell.execute_reply": "2021-02-06T03:16:03.591062Z"
    }
   },
   "outputs": [
    {
     "data": {
      "text/plain": [
       "0.00390625"
      ]
     },
     "execution_count": 7,
     "metadata": {},
     "output_type": "execute_result"
    }
   ],
   "source": [
    "reflecting_walk.prob_of_path(1, [2, 2, 3, 4, 3])"
   ]
  },
  {
   "cell_type": "code",
   "execution_count": 8,
   "metadata": {
    "execution": {
     "iopub.execute_input": "2021-02-06T03:16:03.594419Z",
     "iopub.status.busy": "2021-02-06T03:16:03.594012Z",
     "iopub.status.idle": "2021-02-06T03:16:03.597467Z",
     "shell.execute_reply": "2021-02-06T03:16:03.597154Z"
    }
   },
   "outputs": [
    {
     "data": {
      "text/plain": [
       "0.0"
      ]
     },
     "execution_count": 8,
     "metadata": {},
     "output_type": "execute_result"
    }
   ],
   "source": [
    "reflecting_walk.prob_of_path(1, [2, 2, 3, 4, 3, 5])"
   ]
  },
  {
   "cell_type": "markdown",
   "metadata": {},
   "source": [
    "```{admonition} Quick Check\n",
    "Suppose the sticky reflecting walk starts at state 3. What is the chance that it then visits the states 2, 3, 3, and 4 in that order? You don't have to simplify the product. \n",
    "\n",
    "```"
   ]
  },
  {
   "cell_type": "markdown",
   "metadata": {},
   "source": [
    "```{admonition} Answer\n",
    ":class: dropdown\n",
    "$0.25 \\times 0.25 \\times 0.5 \\times 0.25$\n",
    "\n",
    "```"
   ]
  },
  {
   "cell_type": "markdown",
   "metadata": {},
   "source": [
    "You can simulate paths of the chain using the `simulate_path` method. It takes two arguments: the starting state and the number of steps of the path. By default it returns an array consisting of the sequence of states in the path. The optional argument `plot_path=True` plots the simulated path. Run the cells below a few times and see how the output changes."
   ]
  },
  {
   "cell_type": "code",
   "execution_count": 9,
   "metadata": {
    "execution": {
     "iopub.execute_input": "2021-02-06T03:16:03.600792Z",
     "iopub.status.busy": "2021-02-06T03:16:03.600376Z",
     "iopub.status.idle": "2021-02-06T03:16:03.603140Z",
     "shell.execute_reply": "2021-02-06T03:16:03.602711Z"
    }
   },
   "outputs": [
    {
     "data": {
      "text/plain": [
       "array([1, 1, 2, 1, 1, 1, 2, 2])"
      ]
     },
     "execution_count": 9,
     "metadata": {},
     "output_type": "execute_result"
    }
   ],
   "source": [
    "reflecting_walk.simulate_path(1, 7)"
   ]
  },
  {
   "cell_type": "code",
   "execution_count": 10,
   "metadata": {
    "execution": {
     "iopub.execute_input": "2021-02-06T03:16:03.606371Z",
     "iopub.status.busy": "2021-02-06T03:16:03.605993Z",
     "iopub.status.idle": "2021-02-06T03:16:03.730998Z",
     "shell.execute_reply": "2021-02-06T03:16:03.731336Z"
    }
   },
   "outputs": [
    {
     "data": {
      "image/png": "[encoded data removed]",
      "text/plain": [
       "<Figure size 432x288 with 1 Axes>"
      ]
     },
     "metadata": {
      "filenames": {
       "image/png": "/mnt/c/Users/Ryan/Documents/prob140/textbook/_build/jupyter_execute/content/Chapter_10/01_Transitions_26_0.png"
      },
      "needs_background": "light"
     },
     "output_type": "display_data"
    }
   ],
   "source": [
    "reflecting_walk.simulate_path(1, 10, plot_path=True)"
   ]
  },
  {
   "cell_type": "code",
   "execution_count": 11,
   "metadata": {
    "execution": {
     "iopub.execute_input": "2021-02-06T03:16:03.741495Z",
     "iopub.status.busy": "2021-02-06T03:16:03.733878Z",
     "iopub.status.idle": "2021-02-06T03:16:03.813490Z",
     "shell.execute_reply": "2021-02-06T03:16:03.813006Z"
    },
    "tags": [
     "remove-input",
     "hide-output"
    ]
   },
   "outputs": [
    {
     "data": {
      "text/html": [
       "\n",
       "<iframe\n",
       "    width=\"400\"\n",
       "    height=\"300\"\n",
       "    src=\"https://www.youtube.com/embed/YQziLVkV_Ro\"\n",
       "    frameborder=\"0\"\n",
       "    allowfullscreen\n",
       "></iframe>\n"
      ],
      "text/plain": [
       "<IPython.lib.display.YouTubeVideo at 0x7f345c2883d0>"
      ]
     },
     "execution_count": 11,
     "metadata": {},
     "output_type": "execute_result"
    }
   ],
   "source": [
    "# VIDEO: n-Step Transition Matrix\n",
    "\n",
    "YouTubeVideo('YQziLVkV_Ro')"
   ]
  },
  {
   "cell_type": "markdown",
   "metadata": {},
   "source": [
    "### $n$-Step Transition Matrix ###\n",
    "For states $i$ and $j$, the chance of getting from $i$ to $j$ in $n$ steps is called the $n$-step transition probability from $i$ to $j$. Formally, the $n$-step transition probability is\n",
    "\n",
    "$$\n",
    "P_n(i, j) ~ = ~ P(X_n = j \\mid X_0 = i)\n",
    "$$\n",
    "\n",
    "In this notation, the one-step transition probability $P(i, j)$ can also be written as $P_1(i, j)$.\n",
    "\n",
    "The $n$-step transition probability $P_n(i, j)$ can be represented as the $(i, j)$th element of a matrix called the $n$-step transition matrix. For each state $i$, Row $i$ of the $n$-step transition matrix contains the distribution of $X_n$ given that the chain starts at $i$.\n",
    "\n",
    "The `MarkovChain` method `transition_matrix` takes $n$ as its argument and displays the $n$-step transition matrix. Here is the 2-step transition matrix of the reflecting walk defined earlier in this section."
   ]
  },
  {
   "cell_type": "code",
   "execution_count": 12,
   "metadata": {
    "execution": {
     "iopub.execute_input": "2021-02-06T03:16:03.823995Z",
     "iopub.status.busy": "2021-02-06T03:16:03.823386Z",
     "iopub.status.idle": "2021-02-06T03:16:03.827431Z",
     "shell.execute_reply": "2021-02-06T03:16:03.826970Z"
    }
   },
   "outputs": [
    {
     "data": {
      "text/html": [
       "<div>\n",
       "<style scoped>\n",
       "    .dataframe tbody tr th:only-of-type {\n",
       "        vertical-align: middle;\n",
       "    }\n",
       "\n",
       "    .dataframe tbody tr th {\n",
       "        vertical-align: top;\n",
       "    }\n",
       "\n",
       "    .dataframe thead th {\n",
       "        text-align: right;\n",
       "    }\n",
       "</style>\n",
       "<table border=\"1\" class=\"dataframe\">\n",
       "  <thead>\n",
       "    <tr style=\"text-align: right;\">\n",
       "      <th></th>\n",
       "      <th>1</th>\n",
       "      <th>2</th>\n",
       "      <th>3</th>\n",
       "      <th>4</th>\n",
       "      <th>5</th>\n",
       "    </tr>\n",
       "  </thead>\n",
       "  <tbody>\n",
       "    <tr>\n",
       "      <th>1</th>\n",
       "      <td>0.3750</td>\n",
       "      <td>0.5000</td>\n",
       "      <td>0.125</td>\n",
       "      <td>0.0000</td>\n",
       "      <td>0.0000</td>\n",
       "    </tr>\n",
       "    <tr>\n",
       "      <th>2</th>\n",
       "      <td>0.2500</td>\n",
       "      <td>0.4375</td>\n",
       "      <td>0.250</td>\n",
       "      <td>0.0625</td>\n",
       "      <td>0.0000</td>\n",
       "    </tr>\n",
       "    <tr>\n",
       "      <th>3</th>\n",
       "      <td>0.0625</td>\n",
       "      <td>0.2500</td>\n",
       "      <td>0.375</td>\n",
       "      <td>0.2500</td>\n",
       "      <td>0.0625</td>\n",
       "    </tr>\n",
       "    <tr>\n",
       "      <th>4</th>\n",
       "      <td>0.0000</td>\n",
       "      <td>0.0625</td>\n",
       "      <td>0.250</td>\n",
       "      <td>0.4375</td>\n",
       "      <td>0.2500</td>\n",
       "    </tr>\n",
       "    <tr>\n",
       "      <th>5</th>\n",
       "      <td>0.0000</td>\n",
       "      <td>0.0000</td>\n",
       "      <td>0.125</td>\n",
       "      <td>0.5000</td>\n",
       "      <td>0.3750</td>\n",
       "    </tr>\n",
       "  </tbody>\n",
       "</table>\n",
       "</div>"
      ],
      "text/plain": [
       "        1       2      3       4       5\n",
       "1  0.3750  0.5000  0.125  0.0000  0.0000\n",
       "2  0.2500  0.4375  0.250  0.0625  0.0000\n",
       "3  0.0625  0.2500  0.375  0.2500  0.0625\n",
       "4  0.0000  0.0625  0.250  0.4375  0.2500\n",
       "5  0.0000  0.0000  0.125  0.5000  0.3750"
      ]
     },
     "execution_count": 12,
     "metadata": {},
     "output_type": "execute_result"
    }
   ],
   "source": [
    "reflecting_walk.transition_matrix(2)"
   ]
  },
  {
   "cell_type": "markdown",
   "metadata": {},
   "source": [
    "You can calculate the individual entries easily by hand. For example, the $(1, 1)$ entry is the chance of going from state 1 to state 1 in 2 steps. There are two paths that make this happen:\n",
    "- [1, 1, 1]\n",
    "- [1, 2, 1]\n",
    "\n",
    "Given that 1 is the starting state, the total chance of the two paths is $(0.5 \\times 0.5) + (0.5 \\times 0.25) = 0.375$."
   ]
  },
  {
   "cell_type": "markdown",
   "metadata": {},
   "source": [
    "```{admonition} Quick Check\n",
    "For the sticky reflecting walk, find the following if it is possible without further calculation. If it is not possible, explain why not.\n",
    "\n",
    "(a) $P(X_2 = 5 \\mid X_0 = 3)$\n",
    "\n",
    "(b) $P(X_{32} = 5 \\mid X_{30} = 3)$\n",
    "\n",
    "```"
   ]
  },
  {
   "cell_type": "markdown",
   "metadata": {},
   "source": [
    "```{admonition} Answer\n",
    ":class: dropdown\n",
    "Both answers are $0.0625$\n",
    "\n",
    "```"
   ]
  },
  {
   "cell_type": "markdown",
   "metadata": {},
   "source": [
    "Because of the Markov property, the one-step transition probabilities are all you need to find the 2-step transition probabilities. \n",
    "\n",
    "In general, we can find $P_2(i, j)$ by conditioning on where the chain was at time 1.\n",
    "\n",
    "$$\n",
    "\\begin{align*}\n",
    "P_2(i, j) ~ &= ~ P(X_2 = j \\mid X_0 = i) \\\\\n",
    "&= ~ \\sum_k P(X_1 = k, X_2 = j \\mid X_0 = i) \\\\\n",
    "&= ~ \\sum_k P(X_1 = k \\mid X_0 = i)P(X_2 = j \\mid X_1 = k) \\\\\n",
    "&= ~ \\sum_k P(i, k)P(k, j)\n",
    "\\end{align*}\n",
    "$$\n",
    "\n",
    "That's the $(i, j)$th element of the matrix product $\\mathbb{P} \\times \\mathbb{P} = \\mathbb{P}^2$. Thus the 2-step transition matrix of the chain is $\\mathbb{P}^2$.\n",
    "\n",
    "By induction, you can show that the $n$-step transition matrix of the chain is $\\mathbb{P}^n$. That is,\n",
    "\n",
    "$$\n",
    "P_n(i, j) ~ = ~ P(X_n = j \\mid X_0 = i) ~ = ~ (i, j) \\text{ element of } \\mathbb{P}^n\n",
    "$$"
   ]
  },
  {
   "cell_type": "markdown",
   "metadata": {},
   "source": [
    "Here is a display of the 5-step transition matrix of the reflecting walk."
   ]
  },
  {
   "cell_type": "code",
   "execution_count": 13,
   "metadata": {
    "execution": {
     "iopub.execute_input": "2021-02-06T03:16:03.836260Z",
     "iopub.status.busy": "2021-02-06T03:16:03.833265Z",
     "iopub.status.idle": "2021-02-06T03:16:03.840406Z",
     "shell.execute_reply": "2021-02-06T03:16:03.839947Z"
    }
   },
   "outputs": [
    {
     "data": {
      "text/html": [
       "<div>\n",
       "<style scoped>\n",
       "    .dataframe tbody tr th:only-of-type {\n",
       "        vertical-align: middle;\n",
       "    }\n",
       "\n",
       "    .dataframe tbody tr th {\n",
       "        vertical-align: top;\n",
       "    }\n",
       "\n",
       "    .dataframe thead th {\n",
       "        text-align: right;\n",
       "    }\n",
       "</style>\n",
       "<table border=\"1\" class=\"dataframe\">\n",
       "  <thead>\n",
       "    <tr style=\"text-align: right;\">\n",
       "      <th></th>\n",
       "      <th>1</th>\n",
       "      <th>2</th>\n",
       "      <th>3</th>\n",
       "      <th>4</th>\n",
       "      <th>5</th>\n",
       "    </tr>\n",
       "  </thead>\n",
       "  <tbody>\n",
       "    <tr>\n",
       "      <th>1</th>\n",
       "      <td>0.246094</td>\n",
       "      <td>0.410156</td>\n",
       "      <td>0.234375</td>\n",
       "      <td>0.089844</td>\n",
       "      <td>0.019531</td>\n",
       "    </tr>\n",
       "    <tr>\n",
       "      <th>2</th>\n",
       "      <td>0.205078</td>\n",
       "      <td>0.363281</td>\n",
       "      <td>0.250000</td>\n",
       "      <td>0.136719</td>\n",
       "      <td>0.044922</td>\n",
       "    </tr>\n",
       "    <tr>\n",
       "      <th>3</th>\n",
       "      <td>0.117188</td>\n",
       "      <td>0.250000</td>\n",
       "      <td>0.265625</td>\n",
       "      <td>0.250000</td>\n",
       "      <td>0.117188</td>\n",
       "    </tr>\n",
       "    <tr>\n",
       "      <th>4</th>\n",
       "      <td>0.044922</td>\n",
       "      <td>0.136719</td>\n",
       "      <td>0.250000</td>\n",
       "      <td>0.363281</td>\n",
       "      <td>0.205078</td>\n",
       "    </tr>\n",
       "    <tr>\n",
       "      <th>5</th>\n",
       "      <td>0.019531</td>\n",
       "      <td>0.089844</td>\n",
       "      <td>0.234375</td>\n",
       "      <td>0.410156</td>\n",
       "      <td>0.246094</td>\n",
       "    </tr>\n",
       "  </tbody>\n",
       "</table>\n",
       "</div>"
      ],
      "text/plain": [
       "          1         2         3         4         5\n",
       "1  0.246094  0.410156  0.234375  0.089844  0.019531\n",
       "2  0.205078  0.363281  0.250000  0.136719  0.044922\n",
       "3  0.117188  0.250000  0.265625  0.250000  0.117188\n",
       "4  0.044922  0.136719  0.250000  0.363281  0.205078\n",
       "5  0.019531  0.089844  0.234375  0.410156  0.246094"
      ]
     },
     "execution_count": 13,
     "metadata": {},
     "output_type": "execute_result"
    }
   ],
   "source": [
    "reflecting_walk.transition_matrix(5)"
   ]
  },
  {
   "cell_type": "markdown",
   "metadata": {},
   "source": [
    "This is a display, but to work with the matrix we have to represent it in a form that Python recognizes as a matrix. The method `get_transition_matrix` does this for us. It take the number of steps $n$ as its argument and returns the $n$-step transition matrix as a NumPy matrix.\n",
    "\n",
    "For the reflecting walk, we will start by extracting $\\mathbb{P}$ as the matrix `refl_walk_P`."
   ]
  },
  {
   "cell_type": "code",
   "execution_count": 14,
   "metadata": {
    "execution": {
     "iopub.execute_input": "2021-02-06T03:16:03.845051Z",
     "iopub.status.busy": "2021-02-06T03:16:03.844454Z",
     "iopub.status.idle": "2021-02-06T03:16:03.847922Z",
     "shell.execute_reply": "2021-02-06T03:16:03.847298Z"
    }
   },
   "outputs": [
    {
     "data": {
      "text/plain": [
       "array([[0.5 , 0.5 , 0.  , 0.  , 0.  ],\n",
       "       [0.25, 0.5 , 0.25, 0.  , 0.  ],\n",
       "       [0.  , 0.25, 0.5 , 0.25, 0.  ],\n",
       "       [0.  , 0.  , 0.25, 0.5 , 0.25],\n",
       "       [0.  , 0.  , 0.  , 0.5 , 0.5 ]])"
      ]
     },
     "execution_count": 14,
     "metadata": {},
     "output_type": "execute_result"
    }
   ],
   "source": [
    "refl_walk_P = reflecting_walk.get_transition_matrix(1)\n",
    "refl_walk_P"
   ]
  },
  {
   "cell_type": "markdown",
   "metadata": {},
   "source": [
    "Let's check that the 5-step transition matrix displayed earlier is the same as $\\mathbb{P}^5$. You can use `np.linalg.matrix_power` to raise a matrix to a non-negative integer power. The first argument is the matrix, the second is the power."
   ]
  },
  {
   "cell_type": "code",
   "execution_count": 15,
   "metadata": {
    "execution": {
     "iopub.execute_input": "2021-02-06T03:16:03.852458Z",
     "iopub.status.busy": "2021-02-06T03:16:03.851864Z",
     "iopub.status.idle": "2021-02-06T03:16:03.855554Z",
     "shell.execute_reply": "2021-02-06T03:16:03.855010Z"
    }
   },
   "outputs": [
    {
     "data": {
      "text/plain": [
       "array([[0.24609375, 0.41015625, 0.234375  , 0.08984375, 0.01953125],\n",
       "       [0.20507812, 0.36328125, 0.25      , 0.13671875, 0.04492188],\n",
       "       [0.1171875 , 0.25      , 0.265625  , 0.25      , 0.1171875 ],\n",
       "       [0.04492188, 0.13671875, 0.25      , 0.36328125, 0.20507812],\n",
       "       [0.01953125, 0.08984375, 0.234375  , 0.41015625, 0.24609375]])"
      ]
     },
     "execution_count": 15,
     "metadata": {},
     "output_type": "execute_result"
    }
   ],
   "source": [
    "np.linalg.matrix_power(refl_walk_P, 5)"
   ]
  },
  {
   "cell_type": "markdown",
   "metadata": {},
   "source": [
    "This is indeed the same as the matrix displayed by `transition_matrix`, though it is harder to read.\n",
    "\n",
    "When we want to use $\\mathbb{P}$ in computations, we will use this matrix representation. For displays, `transition_matrix` is better."
   ]
  },
  {
   "cell_type": "markdown",
   "metadata": {},
   "source": [
    "### The Long Run ###\n",
    "\n",
    "To understand the long run behavior of the chain, let $n$ be large and let's examine the distribution of $X_n$ for each value of the starting state. That's contained in the $n$-step transition matrix $\\mathbb{P}^n$. \n",
    "\n",
    "Here is the display of $\\mathbb{P}^n$ for the reflecting walk, for $n = 25, 50$, and $100$. Keep your eyes on the rows of the matrices as $n$ changes."
   ]
  },
  {
   "cell_type": "code",
   "execution_count": 16,
   "metadata": {
    "execution": {
     "iopub.execute_input": "2021-02-06T03:16:03.863058Z",
     "iopub.status.busy": "2021-02-06T03:16:03.862610Z",
     "iopub.status.idle": "2021-02-06T03:16:03.865880Z",
     "shell.execute_reply": "2021-02-06T03:16:03.865482Z"
    }
   },
   "outputs": [
    {
     "data": {
      "text/html": [
       "<div>\n",
       "<style scoped>\n",
       "    .dataframe tbody tr th:only-of-type {\n",
       "        vertical-align: middle;\n",
       "    }\n",
       "\n",
       "    .dataframe tbody tr th {\n",
       "        vertical-align: top;\n",
       "    }\n",
       "\n",
       "    .dataframe thead th {\n",
       "        text-align: right;\n",
       "    }\n",
       "</style>\n",
       "<table border=\"1\" class=\"dataframe\">\n",
       "  <thead>\n",
       "    <tr style=\"text-align: right;\">\n",
       "      <th></th>\n",
       "      <th>1</th>\n",
       "      <th>2</th>\n",
       "      <th>3</th>\n",
       "      <th>4</th>\n",
       "      <th>5</th>\n",
       "    </tr>\n",
       "  </thead>\n",
       "  <tbody>\n",
       "    <tr>\n",
       "      <th>1</th>\n",
       "      <td>0.129772</td>\n",
       "      <td>0.256749</td>\n",
       "      <td>0.25</td>\n",
       "      <td>0.243251</td>\n",
       "      <td>0.120228</td>\n",
       "    </tr>\n",
       "    <tr>\n",
       "      <th>2</th>\n",
       "      <td>0.128374</td>\n",
       "      <td>0.254772</td>\n",
       "      <td>0.25</td>\n",
       "      <td>0.245228</td>\n",
       "      <td>0.121626</td>\n",
       "    </tr>\n",
       "    <tr>\n",
       "      <th>3</th>\n",
       "      <td>0.125000</td>\n",
       "      <td>0.250000</td>\n",
       "      <td>0.25</td>\n",
       "      <td>0.250000</td>\n",
       "      <td>0.125000</td>\n",
       "    </tr>\n",
       "    <tr>\n",
       "      <th>4</th>\n",
       "      <td>0.121626</td>\n",
       "      <td>0.245228</td>\n",
       "      <td>0.25</td>\n",
       "      <td>0.254772</td>\n",
       "      <td>0.128374</td>\n",
       "    </tr>\n",
       "    <tr>\n",
       "      <th>5</th>\n",
       "      <td>0.120228</td>\n",
       "      <td>0.243251</td>\n",
       "      <td>0.25</td>\n",
       "      <td>0.256749</td>\n",
       "      <td>0.129772</td>\n",
       "    </tr>\n",
       "  </tbody>\n",
       "</table>\n",
       "</div>"
      ],
      "text/plain": [
       "          1         2     3         4         5\n",
       "1  0.129772  0.256749  0.25  0.243251  0.120228\n",
       "2  0.128374  0.254772  0.25  0.245228  0.121626\n",
       "3  0.125000  0.250000  0.25  0.250000  0.125000\n",
       "4  0.121626  0.245228  0.25  0.254772  0.128374\n",
       "5  0.120228  0.243251  0.25  0.256749  0.129772"
      ]
     },
     "execution_count": 16,
     "metadata": {},
     "output_type": "execute_result"
    }
   ],
   "source": [
    "reflecting_walk.transition_matrix(25)"
   ]
  },
  {
   "cell_type": "code",
   "execution_count": 17,
   "metadata": {
    "execution": {
     "iopub.execute_input": "2021-02-06T03:16:03.872646Z",
     "iopub.status.busy": "2021-02-06T03:16:03.872228Z",
     "iopub.status.idle": "2021-02-06T03:16:03.875271Z",
     "shell.execute_reply": "2021-02-06T03:16:03.874958Z"
    }
   },
   "outputs": [
    {
     "data": {
      "text/html": [
       "<div>\n",
       "<style scoped>\n",
       "    .dataframe tbody tr th:only-of-type {\n",
       "        vertical-align: middle;\n",
       "    }\n",
       "\n",
       "    .dataframe tbody tr th {\n",
       "        vertical-align: top;\n",
       "    }\n",
       "\n",
       "    .dataframe thead th {\n",
       "        text-align: right;\n",
       "    }\n",
       "</style>\n",
       "<table border=\"1\" class=\"dataframe\">\n",
       "  <thead>\n",
       "    <tr style=\"text-align: right;\">\n",
       "      <th></th>\n",
       "      <th>1</th>\n",
       "      <th>2</th>\n",
       "      <th>3</th>\n",
       "      <th>4</th>\n",
       "      <th>5</th>\n",
       "    </tr>\n",
       "  </thead>\n",
       "  <tbody>\n",
       "    <tr>\n",
       "      <th>1</th>\n",
       "      <td>0.125091</td>\n",
       "      <td>0.250129</td>\n",
       "      <td>0.25</td>\n",
       "      <td>0.249871</td>\n",
       "      <td>0.124909</td>\n",
       "    </tr>\n",
       "    <tr>\n",
       "      <th>2</th>\n",
       "      <td>0.125064</td>\n",
       "      <td>0.250091</td>\n",
       "      <td>0.25</td>\n",
       "      <td>0.249909</td>\n",
       "      <td>0.124936</td>\n",
       "    </tr>\n",
       "    <tr>\n",
       "      <th>3</th>\n",
       "      <td>0.125000</td>\n",
       "      <td>0.250000</td>\n",
       "      <td>0.25</td>\n",
       "      <td>0.250000</td>\n",
       "      <td>0.125000</td>\n",
       "    </tr>\n",
       "    <tr>\n",
       "      <th>4</th>\n",
       "      <td>0.124936</td>\n",
       "      <td>0.249909</td>\n",
       "      <td>0.25</td>\n",
       "      <td>0.250091</td>\n",
       "      <td>0.125064</td>\n",
       "    </tr>\n",
       "    <tr>\n",
       "      <th>5</th>\n",
       "      <td>0.124909</td>\n",
       "      <td>0.249871</td>\n",
       "      <td>0.25</td>\n",
       "      <td>0.250129</td>\n",
       "      <td>0.125091</td>\n",
       "    </tr>\n",
       "  </tbody>\n",
       "</table>\n",
       "</div>"
      ],
      "text/plain": [
       "          1         2     3         4         5\n",
       "1  0.125091  0.250129  0.25  0.249871  0.124909\n",
       "2  0.125064  0.250091  0.25  0.249909  0.124936\n",
       "3  0.125000  0.250000  0.25  0.250000  0.125000\n",
       "4  0.124936  0.249909  0.25  0.250091  0.125064\n",
       "5  0.124909  0.249871  0.25  0.250129  0.125091"
      ]
     },
     "execution_count": 17,
     "metadata": {},
     "output_type": "execute_result"
    }
   ],
   "source": [
    "reflecting_walk.transition_matrix(50)"
   ]
  },
  {
   "cell_type": "code",
   "execution_count": 18,
   "metadata": {
    "execution": {
     "iopub.execute_input": "2021-02-06T03:16:03.882237Z",
     "iopub.status.busy": "2021-02-06T03:16:03.881759Z",
     "iopub.status.idle": "2021-02-06T03:16:03.884483Z",
     "shell.execute_reply": "2021-02-06T03:16:03.884048Z"
    }
   },
   "outputs": [
    {
     "data": {
      "text/html": [
       "<div>\n",
       "<style scoped>\n",
       "    .dataframe tbody tr th:only-of-type {\n",
       "        vertical-align: middle;\n",
       "    }\n",
       "\n",
       "    .dataframe tbody tr th {\n",
       "        vertical-align: top;\n",
       "    }\n",
       "\n",
       "    .dataframe thead th {\n",
       "        text-align: right;\n",
       "    }\n",
       "</style>\n",
       "<table border=\"1\" class=\"dataframe\">\n",
       "  <thead>\n",
       "    <tr style=\"text-align: right;\">\n",
       "      <th></th>\n",
       "      <th>1</th>\n",
       "      <th>2</th>\n",
       "      <th>3</th>\n",
       "      <th>4</th>\n",
       "      <th>5</th>\n",
       "    </tr>\n",
       "  </thead>\n",
       "  <tbody>\n",
       "    <tr>\n",
       "      <th>1</th>\n",
       "      <td>0.125</td>\n",
       "      <td>0.25</td>\n",
       "      <td>0.25</td>\n",
       "      <td>0.25</td>\n",
       "      <td>0.125</td>\n",
       "    </tr>\n",
       "    <tr>\n",
       "      <th>2</th>\n",
       "      <td>0.125</td>\n",
       "      <td>0.25</td>\n",
       "      <td>0.25</td>\n",
       "      <td>0.25</td>\n",
       "      <td>0.125</td>\n",
       "    </tr>\n",
       "    <tr>\n",
       "      <th>3</th>\n",
       "      <td>0.125</td>\n",
       "      <td>0.25</td>\n",
       "      <td>0.25</td>\n",
       "      <td>0.25</td>\n",
       "      <td>0.125</td>\n",
       "    </tr>\n",
       "    <tr>\n",
       "      <th>4</th>\n",
       "      <td>0.125</td>\n",
       "      <td>0.25</td>\n",
       "      <td>0.25</td>\n",
       "      <td>0.25</td>\n",
       "      <td>0.125</td>\n",
       "    </tr>\n",
       "    <tr>\n",
       "      <th>5</th>\n",
       "      <td>0.125</td>\n",
       "      <td>0.25</td>\n",
       "      <td>0.25</td>\n",
       "      <td>0.25</td>\n",
       "      <td>0.125</td>\n",
       "    </tr>\n",
       "  </tbody>\n",
       "</table>\n",
       "</div>"
      ],
      "text/plain": [
       "       1     2     3     4      5\n",
       "1  0.125  0.25  0.25  0.25  0.125\n",
       "2  0.125  0.25  0.25  0.25  0.125\n",
       "3  0.125  0.25  0.25  0.25  0.125\n",
       "4  0.125  0.25  0.25  0.25  0.125\n",
       "5  0.125  0.25  0.25  0.25  0.125"
      ]
     },
     "execution_count": 18,
     "metadata": {},
     "output_type": "execute_result"
    }
   ],
   "source": [
    "reflecting_walk.transition_matrix(100)"
   ]
  },
  {
   "cell_type": "markdown",
   "metadata": {},
   "source": [
    "The rows of $\\mathbb{P}^{100}$ are all the same! That means that for the reflecting walk, the distribution at time 100 doesn't depend on the starting state. *The chain has forgotten where it started.*\n",
    "\n",
    "You can increase $n$ and see that the $n$-step transition matrix stays the same. By time 100, this chain has *reached stationarity*.\n",
    "\n",
    "Stationarity is a remarkable property of many Markov chains, and is the main topic of this chapter."
   ]
  },
  {
   "cell_type": "markdown",
   "metadata": {},
   "source": [
    "```{admonition} Quick Check\n",
    "Pick the correct option: If the sticky reflecting walk is run for 500 steps, the chance that it is at state 4 at time 500\n",
    "\n",
    "(i) is about 25%.\n",
    "\n",
    "(ii) cannot be determined or approximated because we don't know where the chain started.\n",
    "\n",
    "```"
   ]
  },
  {
   "cell_type": "markdown",
   "metadata": {},
   "source": [
    "```{admonition} Answer\n",
    ":class: dropdown\n",
    "(i)\n",
    "\n",
    "```"
   ]
  },
  {
   "cell_type": "code",
   "execution_count": null,
   "metadata": {},
   "outputs": [],
   "source": []
  }
 ],
 "metadata": {
  "anaconda-cloud": {},
  "celltoolbar": "Tags",
  "kernelspec": {
   "display_name": "Python 3",
   "language": "python",
   "name": "python3"
  },
  "language_info": {
   "codemirror_mode": {
    "name": "ipython",
    "version": 3
   },
   "file_extension": ".py",
   "mimetype": "text/x-python",
   "name": "python",
   "nbconvert_exporter": "python",
   "pygments_lexer": "ipython3",
   "version": "3.7.7"
  }
 },
 "nbformat": 4,
 "nbformat_minor": 1
}