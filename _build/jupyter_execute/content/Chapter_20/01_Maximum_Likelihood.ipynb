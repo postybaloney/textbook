{
 "cells": [
  {
   "cell_type": "code",
   "execution_count": 1,
   "metadata": {
    "execution": {
     "iopub.execute_input": "2021-05-13T03:59:28.190127Z",
     "iopub.status.busy": "2021-05-13T03:59:28.189582Z",
     "iopub.status.idle": "2021-05-13T03:59:30.270872Z",
     "shell.execute_reply": "2021-05-13T03:59:30.270274Z"
    },
    "tags": [
     "remove_cell"
    ]
   },
   "outputs": [],
   "source": [
    "# HIDDEN\n",
    "import warnings\n",
    "warnings.filterwarnings('ignore')\n",
    "from datascience import *\n",
    "from prob140 import *\n",
    "import numpy as np\n",
    "import matplotlib.pyplot as plt\n",
    "plt.style.use('fivethirtyeight')\n",
    "%matplotlib inline\n",
    "from scipy import stats"
   ]
  },
  {
   "cell_type": "markdown",
   "metadata": {},
   "source": [
    "## Maximum Likelihood ##"
   ]
  },
  {
   "cell_type": "markdown",
   "metadata": {},
   "source": [
    "Suppose you have an i.i.d. sample $X_1, X_2, \\ldots, X_n$ where the distribution of each $X_i$ depends on a parameter $\\theta$. \n",
    "\n",
    "Assume that $\\theta$ is fixed but unknown. The method of *maximum likelihood* estimates $\\theta$ by answering the following question:\n",
    "\n",
    "**Among all the possible values of the parameter $\\theta$, which one maximizes the likeihood of getting our sample?**\n",
    "\n",
    "That maximizing value of the parameter is called the *maximum likelihood estimate* or MLE for short. In this section we will develop a method for finding MLEs. "
   ]
  },
  {
   "cell_type": "markdown",
   "metadata": {},
   "source": [
    "Let's look at an example to illustrate the main idea. Suppose you toss a coin that lands heads with a fixed but unknown probability $p$, and you observe the sequence HHHTHT.\n",
    "\n",
    "Now suppose I propose two estimates of $p$: one estimate is $0.6$, and one estimate is $0.2$. Which would you say is better, and why?\n",
    "\n",
    "Between these two, you would pick $0.6$ as better, because a coin that lands heads with chance $0.6$ *is more likely to generate the observed data* than a coin that lands heads with chance 0.2.\n",
    "\n",
    "Your choice is based on the likelihood of the data under each of the two proposed values of $p$: the one that makes the data more likely wins.\n",
    "\n",
    "Of course, $p$ could be any number between in the interval $(0, 1)$. To find the best among all of these, using the criterion we have just developed, we have to find the value of $p$ that maximizes the function \n",
    "\n",
    "$$\n",
    "p ~ \\to ~ p \\cdot p \\cdot p \\cdot (1-p) \\cdot p \\cdot (1-p) ~ = ~ p^4(1-p)^2\n",
    "$$\n",
    "\n",
    "Here is a graph of this function of $p$. Clearly, $0.6$ is a better choice of estimate of $p$ than $0.2$. But there's one that's even better."
   ]
  },
  {
   "cell_type": "code",
   "execution_count": 2,
   "metadata": {
    "execution": {
     "iopub.execute_input": "2021-05-13T03:59:30.275677Z",
     "iopub.status.busy": "2021-05-13T03:59:30.275142Z",
     "iopub.status.idle": "2021-05-13T03:59:30.609099Z",
     "shell.execute_reply": "2021-05-13T03:59:30.608555Z"
    },
    "tags": [
     "remove-input"
    ]
   },
   "outputs": [
    {
     "data": {
      "image/png": "[encoded data removed]",
      "text/plain": [
       "<Figure size 432x288 with 1 Axes>"
      ]
     },
     "metadata": {
      "filenames": {
       "image/png": "/mnt/c/users/ryan/documents/prob140/textbook/_build/jupyter_execute/content/Chapter_20/01_Maximum_Likelihood_4_0.png"
      },
      "needs_background": "light"
     },
     "output_type": "display_data"
    }
   ],
   "source": [
    "# NO CODE \n",
    "\n",
    "num_heads = 4\n",
    "num_tails = 2\n",
    "p = np.arange(0, 1.0005, 0.01)\n",
    "likelihood = (p ** num_heads) * ((1-p) ** num_tails)\n",
    "plt.plot(p, likelihood, lw=2, color='darkblue')\n",
    "plt.xlabel('$p$')\n",
    "plt.title('Likelihood of the Data HHHTHT');"
   ]
  },
  {
   "cell_type": "markdown",
   "metadata": {},
   "source": [
    "You can see that the value of $p$ that maximizes the likelihood looks suspiciously like $2/3$, the observed proportion of heads in our data HHHTHT. Let's see why that is true."
   ]
  },
  {
   "cell_type": "code",
   "execution_count": 3,
   "metadata": {
    "execution": {
     "iopub.execute_input": "2021-05-13T03:59:30.614007Z",
     "iopub.status.busy": "2021-05-13T03:59:30.613476Z",
     "iopub.status.idle": "2021-05-13T03:59:30.697577Z",
     "shell.execute_reply": "2021-05-13T03:59:30.697961Z"
    },
    "tags": [
     "remove-input",
     "hide-output"
    ]
   },
   "outputs": [
    {
     "data": {
      "text/html": [
       "\n",
       "<iframe\n",
       "    width=\"400\"\n",
       "    height=\"300\"\n",
       "    src=\"https://www.youtube.com/embed/AN6y89dfNCM\"\n",
       "    frameborder=\"0\"\n",
       "    allowfullscreen\n",
       "></iframe>\n"
      ],
      "text/plain": [
       "<IPython.lib.display.YouTubeVideo at 0x7ff4062d1350>"
      ]
     },
     "execution_count": 3,
     "metadata": {},
     "output_type": "execute_result"
    }
   ],
   "source": [
    "# VIDEO: Maximizing Likelihood (Discrete Case)\n",
    "from IPython.display import YouTubeVideo\n",
    "\n",
    "YouTubeVideo('AN6y89dfNCM')"
   ]
  },
  {
   "cell_type": "markdown",
   "metadata": {},
   "source": [
    "### Maximum Likelihood Estimate of $p$ Based on a Bernoulli $(p)$ Sample ###\n",
    "\n",
    "Let $X_1, X_2, \\ldots, X_n$ be an i.i.d. Bernoulli $(p)$ sample. Our goal is to find the MLE of $p$.\n",
    "\n",
    "The random variables are discrete, so the likelihood function is defined as the joint probability mass function evaluated at the sample, as a function of $p$. \n",
    "\n",
    "In our example, \n",
    "\n",
    "$$\n",
    "Lik(p) ~ = ~ p \\cdot p \\cdot p \\cdot (1-p) \\cdot p \\cdot (1-p) ~ = ~ p^4(1-p)^2\n",
    "$$ \n",
    "\n",
    "The likelihood depends on the number of 1's, just as in the binomial probability formula. The combinatorial term is missing because we are observing each element of the sequence.\n",
    "\n",
    "You'll soon see the reason for using the strange notation $Lik$. Please just accept it for now.\n",
    "\n",
    "Notice that the likelihood function depends on the data. Therefore, the value of the function is a random variable. For a general i.i.d. Bernoulli $(p)$ sample, the likelihood function is calculated as follows.\n",
    "\n",
    "**Likelihood function: Discrete Case**\n",
    "\n",
    "Let $X = X_1 + X_2 + \\ldots + X_n$ be the number of 1's in the sample. The likelihood function is\n",
    "\n",
    "$$\n",
    "Lik(p) = p^X (1-p)^{n-X}\n",
    "$$\n",
    "\n",
    "For each $p$, the value of $Lik(p)$ is the likelihood of the data if $p$ is the probability of heads. \n",
    "\n",
    "Our goal is to find the value $\\hat{p}$ that maximizes this likelihood over all the possible values of $p$, that is, over the interval $(0, 1)$. \n",
    "\n",
    "One way to do this is by calculus. To make the calculus simpler, we recall a crucial observation we have made before:\n",
    "\n",
    "Taking the $\\log$ turns the product into a sum, which simplifies calculation. Also, $\\log$ is an increasing function. Hence **the value of $p$ that maximizes the likelihood function is the same as the value of $p$ that maximizes the log of the likelihood function.**\n",
    "\n",
    "**Log-likelihood function**\n",
    "\n",
    "Let $L$ be the log of the likelihood function, also known as the *log likelihood function*. You can see the letter l appearing repeatedly in the terminology. Since we'll be doing most of our work with the log likelihood function, we are calling it $L$ and using $Lik$ for the likelihood function.\n",
    "\n",
    "$$\n",
    "L(p) = X\\log(p) + (n-X)\\log(1-p)\n",
    "$$\n",
    "\n",
    "The function $L$ is easier to work with than $Lik$. We just have to carry out the calculus.\n",
    "\n",
    "**Differentiate the log-likelihood function with respect to $p$:**\n",
    "\n",
    "$$\n",
    "\\frac{d}{dp} L(p) = \\frac{X}{p} - \\frac{n-X}{1-p}\n",
    "$$\n",
    "\n",
    "The *maximum likelihood estimate* (MLE) of $p$ is the value $\\hat{p}$ that maximizes the log-likelihood $L$. Statisticians have long used the \"hat\" symbol to denote estimates. \n",
    "\n",
    "**Set the derivative equal to 0 and solve for the MLE**\n",
    "\n",
    "$$\n",
    "\\frac{X}{\\hat{p}} - \\frac{n-X}{1-\\hat{p}} = 0\n",
    "$$\n",
    "\n",
    "Hence\n",
    "\n",
    "$$\n",
    "(1-\\hat{p})X = (n-X)\\hat{p} ~~~~~ \\text{so} ~~~~~ X = n\\hat{p}\n",
    "$$\n",
    "\n",
    "Therefore the MLE of $p$ is\n",
    "\n",
    "$$ \n",
    "\\hat{p} = \\frac{X}{n} = \\frac{1}{n}\\sum_{i=1}^n X_i\n",
    "$$\n",
    "\n",
    "That is, the MLE of $p$ is the sample proportion of 1's. To compute this estimate, all you need is the number of 1's in the sample. You don't need to see the entire sample as a sequence of 0's and 1's. \n",
    "\n",
    "Because the MLE $\\hat{p}$ is the sample proportion, it is unbiased, has SD $\\sqrt{p(1-p)/n}$, and is asymptotically normal. When $n$ is large you can estimate the SD based on the sample and therefore construct confidence intervals for $p$. \n",
    "\n",
    "To be very careful, we should check that this calculation yields a maximum and not a minimum, but given the answer you will surely accept that it's a max. You are welcome to take the second derivative of $L$ and check that we do indeed have a maximum."
   ]
  },
  {
   "cell_type": "code",
   "execution_count": 4,
   "metadata": {
    "execution": {
     "iopub.execute_input": "2021-05-13T03:59:30.711499Z",
     "iopub.status.busy": "2021-05-13T03:59:30.701400Z",
     "iopub.status.idle": "2021-05-13T03:59:30.786165Z",
     "shell.execute_reply": "2021-05-13T03:59:30.786536Z"
    },
    "tags": [
     "remove-input",
     "hide-output"
    ]
   },
   "outputs": [
    {
     "data": {
      "text/html": [
       "\n",
       "<iframe\n",
       "    width=\"400\"\n",
       "    height=\"300\"\n",
       "    src=\"https://www.youtube.com/embed/KPVK4t58zPY\"\n",
       "    frameborder=\"0\"\n",
       "    allowfullscreen\n",
       "></iframe>\n"
      ],
      "text/plain": [
       "<IPython.lib.display.YouTubeVideo at 0x7ff40638e890>"
      ]
     },
     "execution_count": 4,
     "metadata": {},
     "output_type": "execute_result"
    }
   ],
   "source": [
    "# VIDEO: Maximizing Likelihood (Density Case)\n",
    "\n",
    "YouTubeVideo('KPVK4t58zPY')"
   ]
  },
  {
   "cell_type": "markdown",
   "metadata": {},
   "source": [
    "### MLE of $\\mu$ Based on a Normal $(\\mu, \\sigma^2)$ Sample ###\n",
    "\n",
    "Let $X_1, X_2, \\ldots, X_n$ be an i.i.d. normal $(\\mu, \\sigma^2)$ sample. The sample mean is a pretty good estimate of $\\mu$, as you know. In this example we will show that it is the maximum likelihood estimate of $\\mu$.\n",
    "\n",
    "What if you want to estimate $\\sigma$ as well? We will tackle that problem at the end of this section. For now, let's just estimate $\\mu$.\n",
    "\n",
    "**Likelihood Function: Density Case**\n",
    "\n",
    "In the density case, the likelihood function is defined as the joint density of the sample evaluated at the observed values, considered as a function of the parameter. That's a bit of a mouthful but it becomes clear once you see the calculation. The joint density in this example is the product of $n$ normal $(\\mu, \\sigma^2)$ density functions, and hence the likelihood function is\n",
    "\n",
    "$$\n",
    "Lik(\\mu) ~ = ~ \\prod_{i=1}^n \\frac{1}{\\sqrt{2\\pi}\\sigma} \\exp \\big{(} -\\frac{1}{2} \\big{(} \\frac{X_i - \\mu}{\\sigma} \\big{)}^2 \\big{)}\n",
    "$$\n",
    "\n",
    "The quantity $Lik(\\mu)$ is called the likelihood of the data $X_1, X_2, \\ldots, X_n$ when the mean of the underlying normal distribution is $\\mu$. For every fixed $\\mu$, $Lik(\\mu)$ is a function of the sample and hence is a random variable.\n",
    "\n",
    "The goal is to find the value of $\\mu$ that maximizes this likelihood function over all the possible values that $\\mu$ could be. We don't yet know if such a maximizing value exists, but let's try to find it anyway.\n",
    "\n",
    "To do this we will simplify the likelihood function as much as possible.\n",
    "\n",
    "$$\n",
    "Lik(\\mu) ~ = ~ \\big{(} \\frac{1}{\\sqrt{2\\pi}\\sigma} \\big{)}^n\n",
    "\\exp \\big{(} -\\frac{1}{2\\sigma^2}\\sum_{i=1}^n (X_i - \\mu)^2 \\big{)}\n",
    "~ = ~ C \\exp \\big{(} -\\frac{1}{2\\sigma^2}\\sum_{i=1}^n (X_i - \\mu)^2 \\big{)}\n",
    "$$\n",
    "\n",
    "where $C$ doesn't depend on $\\mu$ and thus won't affect the maximization.\n",
    "\n",
    "Even in this simplified form, the likelihood function looks difficult to maximize. But as it is a product, we can simplify our calculations still further by taking its log as we did in the binomial example.\n",
    "\n",
    "The log-likelihood function is\n",
    "\n",
    "$$\n",
    "L(\\mu) ~ = ~ \\log(C) - \\frac{1}{2\\sigma^2}\\sum_{i=1}^n (X_i - \\mu)^2\n",
    "$$\n",
    "\n",
    "Because $\\log(C)$ doesn't affect the maximization, and nor does $\\sigma$, we have defined a function to calculate $L - \\log(C)$ for the sample 52.8, 51.1, 54.2, and 52.5 drawn from the normal $(\\mu, 1)$ distribution. Remember that we began this section by comparing 32 and 52 as estimates of $\\mu$, based on this sample."
   ]
  },
  {
   "cell_type": "code",
   "execution_count": 5,
   "metadata": {
    "execution": {
     "iopub.execute_input": "2021-05-13T03:59:30.791344Z",
     "iopub.status.busy": "2021-05-13T03:59:30.790713Z",
     "iopub.status.idle": "2021-05-13T03:59:30.793718Z",
     "shell.execute_reply": "2021-05-13T03:59:30.792986Z"
    }
   },
   "outputs": [],
   "source": [
    "sample = make_array(52.8, 51.1, 54.2, 52.5)\n",
    "def shifted_log_lik(mu):\n",
    "    return (-1/2) * sum((sample - mu)**2)"
   ]
  },
  {
   "cell_type": "markdown",
   "metadata": {},
   "source": [
    "Here is a graph of the function for $\\mu$ in the interval $(30, 70)$."
   ]
  },
  {
   "cell_type": "code",
   "execution_count": 6,
   "metadata": {
    "execution": {
     "iopub.execute_input": "2021-05-13T03:59:30.811213Z",
     "iopub.status.busy": "2021-05-13T03:59:30.810172Z",
     "iopub.status.idle": "2021-05-13T03:59:31.046426Z",
     "shell.execute_reply": "2021-05-13T03:59:31.045490Z"
    },
    "tags": [
     "remove_input"
    ]
   },
   "outputs": [
    {
     "data": {
      "image/png": "[encoded data removed]",
      "text/plain": [
       "<Figure size 432x288 with 1 Axes>"
      ]
     },
     "metadata": {
      "filenames": {
       "image/png": "/mnt/c/users/ryan/documents/prob140/textbook/_build/jupyter_execute/content/Chapter_20/01_Maximum_Likelihood_12_0.png"
      },
      "needs_background": "light"
     },
     "output_type": "display_data"
    }
   ],
   "source": [
    "# NO CODE\n",
    "mu = np.arange(30, 70, 0.1)\n",
    "l = Table().with_column('Mu', mu).apply(shifted_log_lik, 0)\n",
    "plt.plot(mu, l, color='darkblue', lw=2 )\n",
    "plt.xlabel('$\\mu$')\n",
    "plt.ylabel('$L(\\mu) - \\log(C)$', rotation=0)\n",
    "plt.ylim(-1200, 100);"
   ]
  },
  {
   "cell_type": "markdown",
   "metadata": {},
   "source": [
    "The maximizing value of $\\mu$ is somewhere around $52.5$. To find exactly where it is, we have to complete the maximizatin. \n",
    "\n",
    "Find the derivative of $L$ with respect to $\\mu$. Use the Chain Rule and be careful about negative signs.\n",
    "\n",
    "$$\n",
    "\\frac{d}{d\\mu} L(\\mu) ~ = ~ \\frac{2}{2\\sigma^2} \\sum_{i=1}^n (X_i - \\mu)\n",
    "$$\n",
    "\n",
    "Now set this equal to $0$ and solve. Let $\\hat{\\mu}$ be the MLE of $\\mu$. Then $\\hat{\\mu}$ satisfies the following equation.\n",
    "\n",
    "$$\n",
    "\\sum_{i=1}^n (X_i - \\hat{\\mu}) ~ = ~ 0 ~~~~~~ \\Longleftrightarrow ~~~~~~ \\sum_{i=1}^n X_i ~ = ~ n\\hat{\\mu} ~~~~~~ \\Longleftrightarrow ~~~~~~ \\hat{\\mu} ~ = ~ \\frac{1}{n} \\sum_{i=1}^n X_i ~ = ~ \\bar{X}\n",
    "$$\n",
    "\n",
    "Once again we should check that this is a max and not a min, but at this point you will surely be convinced that it is a max.\n",
    "\n",
    "We have shown that the MLE of $\\mu$ is the sample mean $\\bar{X}$, regardless of the population SD $\\sigma$. In the case of the sample we used for the plot above, $\\bar{X} = 52.65$."
   ]
  },
  {
   "cell_type": "code",
   "execution_count": 7,
   "metadata": {
    "execution": {
     "iopub.execute_input": "2021-05-13T03:59:31.050563Z",
     "iopub.status.busy": "2021-05-13T03:59:31.049990Z",
     "iopub.status.idle": "2021-05-13T03:59:31.054828Z",
     "shell.execute_reply": "2021-05-13T03:59:31.054160Z"
    }
   },
   "outputs": [
    {
     "data": {
      "text/plain": [
       "52.650000000000006"
      ]
     },
     "execution_count": 7,
     "metadata": {},
     "output_type": "execute_result"
    }
   ],
   "source": [
    "np.mean(sample)"
   ]
  },
  {
   "cell_type": "markdown",
   "metadata": {},
   "source": [
    "You know that the distribution of $\\bar{X}$ is normal with mean $\\mu$ and variance $\\sigma^2/n$. If you don't know $\\sigma$, then if the sample is large you can estimate $\\sigma$ by the SD of the sample and hence construct confidence intervals for $\\mu$."
   ]
  },
  {
   "cell_type": "markdown",
   "metadata": {},
   "source": [
    "### Steps for Finding the MLE ###\n",
    "Let's capture our sequence of steps in an algorithm to find the MLE of a parameter given an i.i.d. sample. See the **Computational Notes** at the end of this section for other ways of finding the MLE.\n",
    "\n",
    "- Write the likelihood of the sample. The goal is to find the value of the parameter that maximizes this likelihood.\n",
    "- To make the maximization easier, take the log of the likelihood function. \n",
    "- To maximize the log likelihood with respect to the parameter, take its derivative with respect to the parameter.\n",
    "- Set the derivative equal to 0 and solve; the solution is the MLE."
   ]
  },
  {
   "cell_type": "markdown",
   "metadata": {},
   "source": [
    "### Properties of the MLE ###\n",
    "In the two examples above, the MLE is unbiased and either exactly normal or asymptotically normal. In general, MLEs need not be unbiased, as you will see in an example below. However, under some regularity conditions on the underlying probability distribution or mass function, when the sample is large the MLE is:\n",
    "\n",
    "- *consistent*, that is, likely to be close to the parameter \n",
    "- roughly normal and almost unbiased \n",
    "\n",
    "Establishing this is outside the scope of this class, but in exercises you will observe these properties through simulation.\n",
    "\n",
    "Though there is beautiful theory about the asymptotic variance of the MLE, in practice it can be hard to estimate the variance analytically. This can make it hard to find formulas for confidence intervals. However, you can use the bootstrap to estimate the variance: each bootstrapped sample yields a value of the MLE, and you can construct confidence intervals based on the empirical distribution of the bootstrapped MLEs."
   ]
  },
  {
   "cell_type": "markdown",
   "metadata": {
    "collapsed": true
   },
   "source": [
    "### MLEs of $\\mu$ and $\\sigma$ Based on a Normal $(\\mu, \\sigma^2)$ Sample ###\n",
    "\n",
    "\n",
    "Let $X_1, X_2, \\ldots, X_n$ be an i.i.d. normal $(\\mu, \\sigma^2)$ sample. We will now find the MLEs of both $\\mu$ and $\\sigma$.\n",
    "\n",
    "**Likelihood Function**\n",
    "\n",
    "We have to think of this as a function of both $\\mu$ and $\\sigma$:\n",
    "\n",
    "$$\n",
    "Lik(\\mu, \\sigma) ~ = ~ \\prod_{i=1}^n \\frac{1}{\\sqrt{2\\pi}\\sigma} \\exp \\big{(} -\\frac{1}{2} \\big{(} \\frac{X_i - \\mu}{\\sigma} \\big{)}^2 \\big{)} ~ = ~\n",
    "C \\cdot \\frac{1}{\\sigma^n} \\prod_{i=1}^n \\exp \\big{(} -\\frac{1}{2\\sigma^2} (X_i - \\mu)^2 \\big{)}\n",
    "$$\n",
    "\n",
    "where $C = 1/(\\sqrt{2\\pi})^n$ does not affect the maximization.\n",
    "\n",
    "**Log-Likelihood Function**\n",
    "\n",
    "$$\n",
    "L(\\mu, \\sigma) ~ = ~ \\log(C) - n\\log(\\sigma) - \\frac{1}{2\\sigma^2}\\sum_{i=1}^n (X_i - \\mu)^2\n",
    "$$\n",
    "\n",
    "**Maximizing the Log Likelihood Function**\n",
    "\n",
    "We will maximize $L$ in two stages:\n",
    "\n",
    "- First fix $\\sigma$ and maximize with respect to $\\mu$.\n",
    "- Then plug in the maximizing value of $\\mu$ and maximize the resulting function with respect to $\\sigma$.\n",
    "\n",
    "We have already completed the first stage in the first example of this section. For each fixed $\\sigma$, the maximizing value of $\\mu$ is $\\hat{\\mu} = \\bar{X}$.\n",
    "\n",
    "So now our job is to find the value $\\hat{\\sigma}$ that maximizes the new function\n",
    "\n",
    "$$\n",
    "L^*(\\sigma) ~ = ~ -n\\log(\\sigma) - \\frac{1}{2\\sigma^2}\\sum_{i=1}^n (X_i - \\bar{X})^2 ~ = ~ -n\\log(\\sigma) - \\frac{1}{2\\sigma^2} V\n",
    "$$\n",
    "\n",
    "where $V = \\sum_{i=1}^n (X_i - \\bar{X})^2$ doesn't depend on $\\sigma$. Differentiate with respect to $\\sigma$; keep track of minus signs and factors of 2.\n",
    "\n",
    "$$\n",
    "\\frac{d}{d\\sigma} L^*(\\sigma) ~ = ~ -\\frac{n}{\\sigma} + \\frac{1}{\\sigma^3}V\n",
    "$$\n",
    "\n",
    "Set this equal to 0 and solve for the maximizing value $\\hat{\\sigma}$.\n",
    "\n",
    "$$\n",
    "-\\frac{n}{\\hat{\\sigma}} + \\frac{1}{\\hat{\\sigma}^3}V ~ = ~ 0 \n",
    "~~~~~~~ \\Longleftrightarrow ~~~~~~~ \\hat{\\sigma}^2 ~ = ~ \\frac{V}{n} ~ = ~ \n",
    "\\frac{1}{n} \\sum_{i=1}^n (X_i - \\bar{X})^2\n",
    "$$\n",
    "\n",
    "Again you should check that this yields a maximum and not a minimum, but again given the answer you will surely accept that it's a max. \n",
    "\n",
    "You have shown in exercises that $\\hat{\\sigma}^2$ is *not* an unbiased estimate of $\\sigma^2$. You have also shown that it is close to unbiased when $n$ is large.\n",
    "\n",
    "To summarize our result, if $X_1, X_2, \\ldots , X_n$ is an i.i.d. normal $(\\mu, \\sigma^2)$ sample, then the MLEs of $\\mu$ and $\\sigma$ are given by:\n",
    "- $\\hat{\\mu} = \\bar{X}$\n",
    "- $\\hat{\\sigma} = \\sqrt{\\hat{\\sigma}^2}$ where $\\hat{\\sigma}^2 = \\frac{1}{n} \\sum_{i=1}^n (X_i - \\bar{X})^2$\n",
    "\n",
    "It is a remarkable fact about i.i.d. normal samples that $\\hat{\\mu}$ and $\\hat{\\sigma}^2$ are independent of each other even though they are statistics calculated from the same sample. Later in this course you will see why."
   ]
  },
  {
   "cell_type": "markdown",
   "metadata": {
    "collapsed": true
   },
   "source": [
    "**Computational Notes** \n",
    "\n",
    "- The goal is to find the value of the parameter that maximizes the likelihood. Sometimes, you can do that without any calculus, just by observing properties of the likelihood function. See the Exercises.\n",
    "- MLEs can't always be derived analytically as easily as in our examples. It's important to keep in mind that maximizing log likelihood functions can often be intractable without a numerical optimization method. \n",
    "- Not all likelihood functions have unique maxima."
   ]
  },
  {
   "cell_type": "code",
   "execution_count": null,
   "metadata": {},
   "outputs": [],
   "source": []
  }
 ],
 "metadata": {
  "anaconda-cloud": {},
  "celltoolbar": "Tags",
  "kernelspec": {
   "display_name": "Python 3",
   "language": "python",
   "name": "python3"
  },
  "language_info": {
   "codemirror_mode": {
    "name": "ipython",
    "version": 3
   },
   "file_extension": ".py",
   "mimetype": "text/x-python",
   "name": "python",
   "nbconvert_exporter": "python",
   "pygments_lexer": "ipython3",
   "version": "3.7.7"
  }
 },
 "nbformat": 4,
 "nbformat_minor": 1
}