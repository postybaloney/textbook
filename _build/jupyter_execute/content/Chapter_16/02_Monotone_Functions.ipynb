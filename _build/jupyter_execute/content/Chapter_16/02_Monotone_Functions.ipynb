{
 "cells": [
  {
   "cell_type": "code",
   "execution_count": 1,
   "metadata": {
    "tags": [
     "remove_cell"
    ]
   },
   "outputs": [],
   "source": [
    "# HIDDEN\n",
    "import warnings\n",
    "warnings.filterwarnings('ignore')\n",
    "from datascience import *\n",
    "from prob140 import *\n",
    "import numpy as np\n",
    "import matplotlib.pyplot as plt\n",
    "plt.style.use('fivethirtyeight')\n",
    "%matplotlib inline\n",
    "import math\n",
    "from scipy import stats"
   ]
  },
  {
   "cell_type": "markdown",
   "metadata": {},
   "source": [
    "## Monotone Functions ##"
   ]
  },
  {
   "cell_type": "markdown",
   "metadata": {},
   "source": [
    "If $X$ is discrete, and $g$ is a monotone function, then finding the distribution of the random variable $Y = g(X)$ is straightforward: convert each possible value of $X$ by applying $g$ and leave the probabilities alone.\n",
    "\n",
    "For example, if $X$ is uniform on the three values $0, 1, 2$, and $Y = e^X$, then the you can just augment the distribution table of $X$ by the possible values of $Y$: \n",
    "\n",
    "|$y$   |$1$          |$e$          |$e^2$          |\n",
    "|-----:|:-----------:|:-----------:|:-----------:|\n",
    "|$x$   |$0$         |$1$          |$2$          |\n",
    "|chance|$\\frac{1}{3}$|$\\frac{1}{3}$|$\\frac{1}{3}$|\n",
    "\n",
    "The new random variable $Y$ is uniform on the three values $1, e, e^2$.\n",
    "\n",
    "But if $X$ has a density then both $X$ and $Y$ have a continuum of values and we have to be more careful."
   ]
  },
  {
   "cell_type": "markdown",
   "metadata": {},
   "source": [
    "The method we developed in the previous section for finding the density of a linear function of a random variable can be extended to non-linear functions. "
   ]
  },
  {
   "cell_type": "code",
   "execution_count": 2,
   "metadata": {
    "tags": [
     "remove-input",
     "hide-output"
    ]
   },
   "outputs": [
    {
     "data": {
      "text/html": [
       "\n",
       "<iframe\n",
       "    width=\"400\"\n",
       "    height=\"300\"\n",
       "    src=\"https://www.youtube.com/embed/1fKqhkOXddc\"\n",
       "    frameborder=\"0\"\n",
       "    allowfullscreen\n",
       "></iframe>\n"
      ],
      "text/plain": [
       "<IPython.lib.display.YouTubeVideo at 0x7fb989c40970>"
      ]
     },
     "execution_count": 2,
     "metadata": {},
     "output_type": "execute_result"
    }
   ],
   "source": [
    "# VIDEO\n",
    "from IPython.display import YouTubeVideo\n",
    "\n",
    "YouTubeVideo('1fKqhkOXddc')"
   ]
  },
  {
   "cell_type": "markdown",
   "metadata": {},
   "source": [
    "### Change of Variable Formula for Density: Increasing Function ###\n",
    "The function $F^{-1}$ is differentiable and increasing. We will now develop a general method for finding the density of such a function applied to any random variable that has a density.\n",
    "\n",
    "Let $X$ have density $f_X$. Let $g$ be a smooth (that is, differentiable) increasing function, and let $Y = g(X)$. Examples of such functions $g$ are:\n",
    "\n",
    "- $g(x) = ax + b$ for some $a > 0$. This case was covered in the previous section.\n",
    "- $g(x) = e^x$\n",
    "- $g(x) = \\sqrt{x}$ on positive values of $x$\n",
    "\n",
    "To develop a formula for the density of $Y$ in terms of $f_X$ and $g$, we will start with the cdf as we did above.\n",
    "\n",
    "Let $g$ be smooth and increasing, and let $Y = g(X)$. We want a formula for $f_Y$. We will start by finding a formula for the cdf $F_Y$ of $Y$ in terms of $g$ and the cdf $F_X$ of $X$.\n",
    "\n",
    "$$\n",
    "\\begin{align*}\n",
    "F_Y(y) ~ & = ~ P(Y \\le y) \\\\\n",
    "&= ~ P(g(X) \\le y) \\\\\n",
    "&= ~ P(X \\le g^{-1}(y)) ~~~~ \\text{because } g \\text{ is increasing} \\\\\n",
    "&= ~ F_X(g^{-1}(y))\n",
    "\\end{align*}\n",
    "$$\n",
    "\n",
    "Now we can differentiate to find the density of $Y$. By the chain rule and the fact that the derivative of an inverse is the reciprocal of the derivative,\n",
    "\n",
    "$$\n",
    "\\begin{align*}\n",
    "f_Y(y) ~ &= ~ f_X(g^{-1}(y)) \\frac{d}{dy} g^{-1}(y) \\\\\n",
    "&= ~ f_X(x) \\frac{1}{g'(x)} ~~~~~ \\text{at } x = g^{-1}(y)\n",
    "\\end{align*}\n",
    "$$\n",
    "\n",
    "#### The Formula ####\n",
    "Let $g$ be a differentiable, increasing function. The density of $Y = g(X)$ is given by\n",
    "\n",
    "$$\n",
    "f_Y(y) ~ = ~ \\frac{f_X(x)}{g'(x)} ~~~ \\text{at } x = g^{-1}(y)\n",
    "$$"
   ]
  },
  {
   "cell_type": "markdown",
   "metadata": {},
   "source": [
    "### Understanding the Formula ###\n",
    "To see what is going on in the calculation, we will follow the same process as we used for linear functions in an earlier section.\n",
    "- For $Y$ to be $y$, $X$ has to be $g^{-1}(y)$.\n",
    "- Since $g$ need not be linear, the tranformation by $g$ won't necessarily stretch the horizontal axis by a constant factor. Instead, the factor has different values at each $x$. If $g'$ denotes the derivative of $g$, then the stretch factor at $x$ is $g'(x)$, the rate of change of $g$ at $x$. To make the total area under the density equal to 1, we have to compensate by dividing by $g'(x)$. This is valid because $g$ is increasing and hence $g'$ is positive.\n",
    "\n",
    "This gives us an intuitive justification for the formula."
   ]
  },
  {
   "cell_type": "markdown",
   "metadata": {},
   "source": [
    "### Applying the Formula ###\n",
    "Let $X$ have the exponential (1/2) density and let $Y = \\sqrt{X}$. We can take the square root because $X$ is a positive random variable. \n",
    "\n",
    "Let's find the density of $Y$ by applying the formula we have derived above. We will organize our calculation in four preliminary steps, and then plug into the formula.\n",
    "\n",
    "- **The density of the original random variable:** The density of $X$ is $f_X(x) = (1/2)e^{-(1/2)x}$ for $x > 0$.\n",
    "- **The function being applied to the original random variable:** Take $g(x) = \\sqrt{x}$. Then $g$ is increasing and its possible values are $(0, \\infty)$.\n",
    "- **The inverse function:** Let $y = g(x) = \\sqrt{x}$. We will now write $x$ in terms of $y$, to get $x = y^2$.\n",
    "- **The derviative:** The derivative of $g$ is given by $g'(x) = 1/(2\\sqrt{x})$.\n",
    "\n",
    "We are ready to plug this into our formula. Keep in mind that the possible values of $Y$ are $(0, \\infty)$. For $y > 0$ the formula says\n",
    "\n",
    "$$\n",
    "f_Y(y) ~ = ~ \\frac{f_X(x)} {g'(x)} ~~~ \\text{at } x = g^{-1}(y)\n",
    "$$\n",
    "\n",
    "So for $y > 0$,\n",
    "\n",
    "$$\n",
    "\\begin{align*}\n",
    "f_Y(y) ~ &= ~ \\frac{(1/2)e^{-\\frac{1}{2}x}}{1/(2\\sqrt{x})} ~~~~ \\mbox{at } x = y^2 \\\\\n",
    "&= ~ \\sqrt{x} e^{-\\frac{1}{2}x} ~~~~ \\mbox{at } x = y^2 \\\\\n",
    "&= ~ \\sqrt{y^2} e^{-\\frac{1}{2}y^2} \\\\\n",
    "&= ~ y e^{-\\frac{1}{2}y^2}\n",
    "\\end{align*}\n",
    "$$\n",
    "\n",
    "This is called the *Rayleigh* density. Its graph is shown below."
   ]
  },
  {
   "cell_type": "code",
   "execution_count": 3,
   "metadata": {
    "tags": [
     "remove_input"
    ]
   },
   "outputs": [
    {
     "data": {
      "image/png": "[encoded data removed]",
      "text/plain": [
       "<Figure size 432x288 with 1 Axes>"
      ]
     },
     "metadata": {
      "filenames": {
       "image/png": "/Users/liangxinran/Desktop/Berkeley College Life/Senior/Teaching/prob140-textbook/_build/jupyter_execute/content/Chapter_16/02_Monotone_Functions_8_0.png"
      },
      "needs_background": "light"
     },
     "output_type": "display_data"
    }
   ],
   "source": [
    "# NO CODE\n",
    "y = np.arange(0, 4, 0.01)\n",
    "weibull_dens = 2* y * np.exp((-1 * (y ** 2)))\n",
    "plt.plot(y, weibull_dens, color='darkblue', lw=2)\n",
    "plt.xlabel('$y$')\n",
    "plt.ylabel('$f_Y(y)$', rotation = False)\n",
    "plt.title('Rayleigh Density');"
   ]
  },
  {
   "cell_type": "markdown",
   "metadata": {},
   "source": [
    "```{admonition} Quick Check\n",
    "$V$ has density $f_V(v) = 2v$ for $v \\in (0, 1)$ and 0 elsewhere. Let $W = -\\log(V)$. What are the possible values of $W$? What is the density of $W$?\n",
    "\n",
    "```"
   ]
  },
  {
   "cell_type": "markdown",
   "metadata": {},
   "source": [
    "```{admonition} Answer\n",
    ":class: dropdown\n",
    "Exponential $(2)$\n",
    "\n",
    "```"
   ]
  },
  {
   "cell_type": "markdown",
   "metadata": {},
   "source": [
    "### Change of Variable Formula for Density: Monotone Function ###\n",
    "Let $g$ be smooth and monotone (that is, either increasing or decreasing). The density of $Y = g(X)$ is given by\n",
    "\n",
    "$$\n",
    "f_Y(y) ~ = ~ \\frac{f_X(x)}{\\lvert g'(x) \\rvert} ~~~ \\text{at } x = g^{-1}(y)\n",
    "$$\n",
    "\n",
    "We have proved the result for increasing $g$. When $g$ is decreasing, the proof is analogous to proof in the linear case and accounts for $g'$ being negative. We won't take the time to write it out."
   ]
  },
  {
   "cell_type": "markdown",
   "metadata": {},
   "source": [
    "### Reciprocal of a Uniform Variable ###\n",
    "Let $U$ be uniform on $(0, 1)$ and let $V = 1/U$. The distribution of $V$ is called the *inverse uniform* but the word \"inverse\" is confusing in the context of change of variable. So we will simply call $V$ the reciprocal of $U$.\n",
    "\n",
    "To find the density of $V$, start by noticing that the possible values of $V$ are in $(1, \\infty)$ as the possible values of $U$ are in $(0, 1)$.\n",
    "\n",
    "The components of the change of variable formula for densities:\n",
    "- **The original density:** $f_U(u) = 1$ for $0 < u < 1$.\n",
    "- **The function:** Define $g(u) = 1/u$.\n",
    "- **The inverse function:** Let $v = g(u) = 1/u$. Then $u = g^{-1}(v) = 1/v$.\n",
    "- **The derivative:** Then $g'(u) = -u^{-2}$.\n",
    "\n",
    "By the formula, for $v > 1$ we have\n",
    "\n",
    "$$\n",
    "f_V(v) ~ = ~ \\frac{f_U(u)}{\\lvert g'(u) \\rvert} ~~~ \\text{at } u = g^{-1}(v)\n",
    "$$\n",
    "\n",
    "That is, for $v > 1$,\n",
    "\n",
    "$$\n",
    "f_V(v) ~ = ~ 1 \\cdot u^2 ~~~ \\text{at } u = 1/v\n",
    "$$\n",
    "\n",
    "So \n",
    "\n",
    "$$\n",
    "f_V(v) ~ = ~ \\frac{1}{v^2}, ~~~ v > 1\n",
    "$$\n",
    "\n",
    "You should check that $f_V$ is indeed a density, that is, it integrates to 1. You should also check that the expectation of $V$ is infinite.\n",
    "\n",
    "The density $f_V$ belongs to the *Pareto* family of densities, much used in economics."
   ]
  },
  {
   "cell_type": "code",
   "execution_count": 4,
   "metadata": {
    "tags": [
     "remove_input"
    ]
   },
   "outputs": [
    {
     "data": {
      "image/png": "[encoded data removed]",
      "text/plain": [
       "<Figure size 432x288 with 1 Axes>"
      ]
     },
     "metadata": {
      "filenames": {
       "image/png": "/Users/liangxinran/Desktop/Berkeley College Life/Senior/Teaching/prob140-textbook/_build/jupyter_execute/content/Chapter_16/02_Monotone_Functions_13_0.png"
      },
      "needs_background": "light"
     },
     "output_type": "display_data"
    }
   ],
   "source": [
    "# NO CODE\n",
    "v = np.arange(1, 10, 0.01)\n",
    "y = 1/v**2\n",
    "plt.plot(v, y, color='darkblue', lw=2)\n",
    "plt.plot([-0.5, 1], [0, 0], color='darkblue', lw=2 )\n",
    "plt.ylim(-0.05, 1.05)\n",
    "plt.xlim(-0.5, 10)\n",
    "plt.xlabel('$v$')\n",
    "plt.ylabel('$f_V(v)$', rotation=0)\n",
    "plt.title('Density of Reciprocal of Uniform (0, 1)');"
   ]
  }
 ],
 "metadata": {
  "anaconda-cloud": {},
  "celltoolbar": "Tags",
  "kernelspec": {
   "display_name": "Python 3",
   "language": "python",
   "name": "python3"
  },
  "language_info": {
   "codemirror_mode": {
    "name": "ipython",
    "version": 3
   },
   "file_extension": ".py",
   "mimetype": "text/x-python",
   "name": "python",
   "nbconvert_exporter": "python",
   "pygments_lexer": "ipython3",
   "version": "3.9.5"
  }
 },
 "nbformat": 4,
 "nbformat_minor": 1
}