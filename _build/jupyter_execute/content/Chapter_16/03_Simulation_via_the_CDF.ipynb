{
 "cells": [
  {
   "cell_type": "code",
   "execution_count": 1,
   "metadata": {
    "execution": {
     "iopub.execute_input": "2020-12-02T20:31:36.991360Z",
     "iopub.status.busy": "2020-12-02T20:31:36.990898Z",
     "iopub.status.idle": "2020-12-02T20:31:38.473193Z",
     "shell.execute_reply": "2020-12-02T20:31:38.472025Z"
    },
    "tags": [
     "remove_cell"
    ]
   },
   "outputs": [],
   "source": [
    "# HIDDEN\n",
    "import warnings\n",
    "warnings.filterwarnings('ignore')\n",
    "from datascience import *\n",
    "from prob140 import *\n",
    "import numpy as np\n",
    "import matplotlib.pyplot as plt\n",
    "plt.style.use('fivethirtyeight')\n",
    "%matplotlib inline\n",
    "from scipy import stats"
   ]
  },
  {
   "cell_type": "markdown",
   "metadata": {
    "collapsed": true
   },
   "source": [
    "## Simulation via the CDF ##"
   ]
  },
  {
   "cell_type": "markdown",
   "metadata": {
    "collapsed": true
   },
   "source": [
    "How do you generate a random variable that has a specified distribution? The answer is quite remarkable and is used by computational systems to generate values of random variables whose distribution you have specified.\n",
    "\n",
    "Our goal is to generate a value of a random variable that has a particular distribution. Let $F$ denote the cdf of that distribution. We will construct a process to acheive our goal in the special case where the cdf $F$ of the specified distribution is continuous and strictly increasing on the real number line. However, if you are more careful with the proof you can show that the result is true for any cdf $F$.\n",
    "\n",
    "The statement below describes the process. Note that because we have assumed $F$ is continuous and strictly increasing, it has an inverse function.\n",
    "\n",
    "- Generate $U$, a uniform $(0, 1)$ random variable.\n",
    "- Create a random variable $X$ by the formula $X = F^{-1}(U)$.\n",
    "\n",
    "Done! The random variable $X$ will have your specified cdf $F$.\n",
    "\n",
    "To prove the result, remember that the cdf $F_U$ of $U$ is given by $F_U(u) = u$ for $0 < u < 1$. Let $x$ be any number. Our goal is to show that $F_X(x) = F(x)$.\n",
    "\n",
    "$$\n",
    "\\begin{align*}\n",
    "F_X(x) ~ &= ~ P(X \\le x) \\\\\n",
    "&= ~ P(F^{-1}(U) \\le x) \\\\\n",
    "&= ~ P(U \\le F(x)) ~~~~ \\mbox{because } F \\mbox{ is increasing} \\\\\n",
    "&= ~ F_U(F(x)) \\\\\n",
    "&= ~ F(x)\n",
    "\\end{align*}\n",
    "$$\n",
    "\n",
    "This is an extremely important result for computation as well as theory. It says that computing systems should pay great attention to the quality of their uniform $(0, 1)$ random number generator. After that, all they have to do is apply the deterministic (that is, non-random) function $F^{-1}$, and they will have generated a random variable that has cdf $F$.\n",
    "\n",
    "For example, here is a way to generate a normal $(\\mu, \\sigma^2)$ random variable.\n",
    "\n",
    "- Start with $U$ that has the uniform $(0, 1)$ distribution.\n",
    "- By our result above, $Z = \\Phi^{-1}(U)$ has the standard normal distribution.\n",
    "- By linear transformation facts, $X = \\sigma Z + \\mu$ has the normal $(\\mu, \\sigma^2)$ distribution.\n",
    "\n",
    "Here is the plan in action, in the case $\\mu = 10$ and $\\sigma^2 = 25$. Note that `stats.uniform.rvs` generates uniform $(0, 1)$ random numbers, known as *random variates*. The argument `size` specifies how many numbers to generate."
   ]
  },
  {
   "cell_type": "code",
   "execution_count": 2,
   "metadata": {
    "execution": {
     "iopub.execute_input": "2020-12-02T20:31:38.481258Z",
     "iopub.status.busy": "2020-12-02T20:31:38.480427Z",
     "iopub.status.idle": "2020-12-02T20:31:38.487511Z",
     "shell.execute_reply": "2020-12-02T20:31:38.486908Z"
    }
   },
   "outputs": [],
   "source": [
    "uniforms = stats.uniform.rvs(size=10000)\n",
    "standard_normals = stats.norm.ppf(uniforms)\n",
    "normal_10_25 = 5*standard_normals + 10\n",
    "\n",
    "results = Table().with_columns(\n",
    "    'Uniform (0, 1)', uniforms,\n",
    "    'Standard Normal', standard_normals,\n",
    "    'Normal (10, 25)', normal_10_25\n",
    ")"
   ]
  },
  {
   "cell_type": "code",
   "execution_count": 3,
   "metadata": {
    "execution": {
     "iopub.execute_input": "2020-12-02T20:31:38.504101Z",
     "iopub.status.busy": "2020-12-02T20:31:38.502053Z",
     "iopub.status.idle": "2020-12-02T20:31:38.680898Z",
     "shell.execute_reply": "2020-12-02T20:31:38.681213Z"
    }
   },
   "outputs": [
    {
     "data": {
      "image/png": "[encoded data removed]",
      "text/plain": [
       "<Figure size 432x288 with 1 Axes>"
      ]
     },
     "metadata": {
      "filenames": {
       "image/png": "/mnt/c/Users/ryan/Documents/prob140/textbook/_build/jupyter_execute/content/Chapter_16/03_Simulation_via_the_CDF_4_0.png"
      },
      "needs_background": "light"
     },
     "output_type": "display_data"
    }
   ],
   "source": [
    "results.hist('Uniform (0, 1)', bins=20)"
   ]
  },
  {
   "cell_type": "code",
   "execution_count": 4,
   "metadata": {
    "execution": {
     "iopub.execute_input": "2020-12-02T20:31:38.693041Z",
     "iopub.status.busy": "2020-12-02T20:31:38.692609Z",
     "iopub.status.idle": "2020-12-02T20:31:38.871803Z",
     "shell.execute_reply": "2020-12-02T20:31:38.871355Z"
    }
   },
   "outputs": [
    {
     "data": {
      "image/png": "[encoded data removed]",
      "text/plain": [
       "<Figure size 432x288 with 1 Axes>"
      ]
     },
     "metadata": {
      "filenames": {
       "image/png": "/mnt/c/Users/ryan/Documents/prob140/textbook/_build/jupyter_execute/content/Chapter_16/03_Simulation_via_the_CDF_5_0.png"
      },
      "needs_background": "light"
     },
     "output_type": "display_data"
    }
   ],
   "source": [
    "results.hist('Standard Normal', bins=20)"
   ]
  },
  {
   "cell_type": "code",
   "execution_count": 5,
   "metadata": {
    "execution": {
     "iopub.execute_input": "2020-12-02T20:31:38.885151Z",
     "iopub.status.busy": "2020-12-02T20:31:38.883471Z",
     "iopub.status.idle": "2020-12-02T20:31:39.058845Z",
     "shell.execute_reply": "2020-12-02T20:31:39.058400Z"
    }
   },
   "outputs": [
    {
     "data": {
      "image/png": "[encoded data removed]",
      "text/plain": [
       "<Figure size 432x288 with 1 Axes>"
      ]
     },
     "metadata": {
      "filenames": {
       "image/png": "/mnt/c/Users/ryan/Documents/prob140/textbook/_build/jupyter_execute/content/Chapter_16/03_Simulation_via_the_CDF_6_0.png"
      },
      "needs_background": "light"
     },
     "output_type": "display_data"
    }
   ],
   "source": [
    "results.hist('Normal (10, 25)', bins=20)"
   ]
  },
  {
   "cell_type": "markdown",
   "metadata": {},
   "source": [
    "You can repeat the process for any distribution you want to simulate.\n",
    "\n",
    "For example, to generate random variables whose density is $f(r) = 2r$ for $r \\in (0, 1)$, first find the corresponding cdf by integrating:\n",
    "\n",
    "- $F(x) = x^2$ for $x \\in (0, 1)$\n",
    "\n",
    "Then find the inverse of $F$. Remember that $F(x) = x^2$ is a continuous increasing function on $(0, 1)$, though it is two-to-one on the whole real line.\n",
    "\n",
    "- For $y \\in (0, 1)$, $F^{-1}(y) = \\sqrt{y}$\n",
    "\n",
    "Then apply $F^{-1}$ to a uniform $(0, 1)$ random variable $U$:\n",
    "\n",
    "- $X = \\sqrt{U}$ has the specified density $f$.\n",
    "\n",
    "Here is the plan in action, using the uniform random numbers generated above."
   ]
  },
  {
   "cell_type": "code",
   "execution_count": 6,
   "metadata": {
    "execution": {
     "iopub.execute_input": "2020-12-02T20:31:39.062276Z",
     "iopub.status.busy": "2020-12-02T20:31:39.061893Z",
     "iopub.status.idle": "2020-12-02T20:31:39.064358Z",
     "shell.execute_reply": "2020-12-02T20:31:39.063933Z"
    }
   },
   "outputs": [],
   "source": [
    "results = results.with_columns(\n",
    "    'Density f(r)=2r on (0, 1)', uniforms ** 0.5\n",
    "\n",
    ")"
   ]
  },
  {
   "cell_type": "code",
   "execution_count": 7,
   "metadata": {
    "execution": {
     "iopub.execute_input": "2020-12-02T20:31:39.076617Z",
     "iopub.status.busy": "2020-12-02T20:31:39.075540Z",
     "iopub.status.idle": "2020-12-02T20:31:39.249803Z",
     "shell.execute_reply": "2020-12-02T20:31:39.249481Z"
    }
   },
   "outputs": [
    {
     "data": {
      "image/png": "[encoded data removed]",
      "text/plain": [
       "<Figure size 432x288 with 1 Axes>"
      ]
     },
     "metadata": {
      "filenames": {
       "image/png": "/mnt/c/Users/ryan/Documents/prob140/textbook/_build/jupyter_execute/content/Chapter_16/03_Simulation_via_the_CDF_9_0.png"
      },
      "needs_background": "light"
     },
     "output_type": "display_data"
    }
   ],
   "source": [
    "results.hist('Density f(r)=2r on (0, 1)', bins=20)"
   ]
  },
  {
   "cell_type": "code",
   "execution_count": null,
   "metadata": {},
   "outputs": [],
   "source": []
  }
 ],
 "metadata": {
  "anaconda-cloud": {},
  "kernelspec": {
   "display_name": "Python 3",
   "language": "python",
   "name": "python3"
  },
  "language_info": {
   "codemirror_mode": {
    "name": "ipython",
    "version": 3
   },
   "file_extension": ".py",
   "mimetype": "text/x-python",
   "name": "python",
   "nbconvert_exporter": "python",
   "pygments_lexer": "ipython3",
   "version": "3.7.7"
  }
 },
 "nbformat": 4,
 "nbformat_minor": 1
}