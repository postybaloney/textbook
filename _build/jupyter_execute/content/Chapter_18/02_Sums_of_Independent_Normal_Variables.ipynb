{
 "cells": [
  {
   "cell_type": "code",
   "execution_count": 1,
   "metadata": {
    "execution": {
     "iopub.execute_input": "2020-12-02T20:32:14.724335Z",
     "iopub.status.busy": "2020-12-02T20:32:14.723868Z",
     "iopub.status.idle": "2020-12-02T20:32:16.183811Z",
     "shell.execute_reply": "2020-12-02T20:32:16.183444Z"
    },
    "tags": [
     "remove_cell"
    ]
   },
   "outputs": [],
   "source": [
    "# HIDDEN\n",
    "from datascience import *\n",
    "from prob140 import *\n",
    "import numpy as np\n",
    "import matplotlib.pyplot as plt\n",
    "plt.style.use('fivethirtyeight')\n",
    "%matplotlib inline\n",
    "import math\n",
    "from scipy import stats"
   ]
  },
  {
   "cell_type": "markdown",
   "metadata": {},
   "source": [
    "## Sums of Independent Normal Variables ##"
   ]
  },
  {
   "cell_type": "markdown",
   "metadata": {},
   "source": [
    "This section consists of examples based on one important fact:\n",
    "\n",
    "**The sum of independent normal variables is normal.**\n",
    "\n",
    "We will prove the fact in a later section using moment generating functions. For now, we will just run a quick simulation and then see how to use the fact in examples."
   ]
  },
  {
   "cell_type": "code",
   "execution_count": 2,
   "metadata": {
    "execution": {
     "iopub.execute_input": "2020-12-02T20:32:16.187534Z",
     "iopub.status.busy": "2020-12-02T20:32:16.187136Z",
     "iopub.status.idle": "2020-12-02T20:32:16.469214Z",
     "shell.execute_reply": "2020-12-02T20:32:16.469525Z"
    }
   },
   "outputs": [
    {
     "data": {
      "image/png": "[encoded data removed]",
      "text/plain": [
       "<Figure size 432x288 with 1 Axes>"
      ]
     },
     "metadata": {
      "filenames": {
       "image/png": "/mnt/c/Users/ryan/Documents/prob140/textbook/_build/jupyter_execute/content/Chapter_18/02_Sums_of_Independent_Normal_Variables_3_0.png"
      },
      "needs_background": "light"
     },
     "output_type": "display_data"
    }
   ],
   "source": [
    "mu_X = 10\n",
    "sigma_X = 2\n",
    "mu_Y = 15\n",
    "sigma_Y = 3\n",
    "x = stats.norm.rvs(mu_X, sigma_X, size=10000)\n",
    "y = stats.norm.rvs(mu_Y, sigma_Y, size=10000)\n",
    "s = x+y\n",
    "Table().with_column('S = X+Y', s).hist(bins=20)\n",
    "plt.title('$X$ is normal (10, $2^2$); $Y$ is normal (15, $3^2$) independent of $X$');"
   ]
  },
  {
   "cell_type": "markdown",
   "metadata": {},
   "source": [
    "The simulation above generates 10,000 copies of $X+Y$ where $X$ has the normal distribution with mean 10 and SD 2 and $Y$ is independent of $X$ and has the normal distribution with mean 15 and SD 3. The distribution of the sum is clearly normal. You can vary the parameters and check that the distribution of the sum has the same shape, though with different labels on the axes.\n",
    "\n",
    "To identify which normal, you have to find the mean and variance of the sum. Just use properties of the mean and variance:\n",
    "\n",
    "If $X$ has the normal $(\\mu_X, \\sigma_X^2)$ distribution, and $Y$ independent of $X$ has the normal $(\\mu_Y, \\sigma_Y^2)$ distribution, then the distribution of $X+Y$ is normal with mean $\\mu_X + \\mu_Y$ and variance $\\sigma_X^2 + \\sigma_Y^2$.\n",
    "\n",
    "This means that we don't need the joint density of $X$ and $Y$ to find probabilities of events determined by $X+Y$."
   ]
  },
  {
   "cell_type": "markdown",
   "metadata": {},
   "source": [
    "### Sums of IID Normal Variables ###\n",
    "Let $X_1, X_2, \\ldots, X_n$ be i.i.d. normal with mean $\\mu$ and variance $\\sigma^2$. Let $S_n = X_1 + X_2 + \\ldots + X_n$. Then the distribution of $S_n$ is normal with mean $n\\mu$ and variance $n\\sigma^2$.\n",
    "\n",
    "This looks rather like the Central Limit Theorem but notice that there is no assumption that $n$ is large, and no approximation. \n",
    "\n",
    "If the underlying distribution is normal, then the distribution of the i.i.d. sample sum is normal regardless of the sample size."
   ]
  },
  {
   "cell_type": "markdown",
   "metadata": {},
   "source": [
    "### The Difference of Two Independent Normal Variables ###\n",
    "If $Y$ is normal, then so is $-Y$. So if $X$ and $Y$ are independent normal variables then $X-Y$ is normal with mean $\\mu_X - \\mu_Y$ and variance given by\n",
    "\n",
    "$$\n",
    "Var(X - Y) ~ = ~\n",
    "Var(X) + Var(-Y) ~ = ~\n",
    "\\sigma_X^2 + (-1)^2\\sigma_Y^2 ~ = ~\n",
    "\\sigma_X^2 + \\sigma_Y^2\n",
    "$$"
   ]
  },
  {
   "cell_type": "markdown",
   "metadata": {},
   "source": [
    "For example, let the heights of Persons A and B be $H_A$ and $H_B$ respectively, and suppose $H_A$ and $H_B$ are i.i.d. normal with mean 66 inches and SD 3 inches. Then the chance that Person A is more than 2 inches taller than Person B is\n",
    "\n",
    "$$\n",
    "P(H_A > H_B + 2) = P(H_A - H_B > 2) = 1 - \\Phi\\big{(}\\frac{2 - 0}{\\sqrt{18}}\\big{)}\n",
    "$$\n",
    "\n",
    "because $H_A - H_B$ is normal with mean 0 and SD $\\sqrt{3^2 + 3^2} = \\sqrt{18} = 4.24$ inches."
   ]
  },
  {
   "cell_type": "code",
   "execution_count": 3,
   "metadata": {
    "execution": {
     "iopub.execute_input": "2020-12-02T20:32:16.480091Z",
     "iopub.status.busy": "2020-12-02T20:32:16.473231Z",
     "iopub.status.idle": "2020-12-02T20:32:16.617579Z",
     "shell.execute_reply": "2020-12-02T20:32:16.617220Z"
    },
    "tags": [
     "remove_input"
    ]
   },
   "outputs": [
    {
     "data": {
      "image/png": "[encoded data removed]",
      "text/plain": [
       "<Figure size 432x288 with 1 Axes>"
      ]
     },
     "metadata": {
      "filenames": {
       "image/png": "/mnt/c/Users/ryan/Documents/prob140/textbook/_build/jupyter_execute/content/Chapter_18/02_Sums_of_Independent_Normal_Variables_8_0.png"
      },
      "needs_background": "light"
     },
     "output_type": "display_data"
    }
   ],
   "source": [
    "# NO CODE\n",
    "mu = 0\n",
    "sigma = 18**0.5\n",
    "x = np.arange(mu - 3.5*sigma, mu + 3.5*sigma+0.1, 0.1)\n",
    "plt.plot(x, stats.norm.pdf(x, mu, sigma), color='darkblue', lw=2)\n",
    "w = np.arange(2, mu+3.5*sigma+0.1, 0.1)\n",
    "plt.fill_between(w, stats.norm.pdf(w, mu, sigma), color='gold')\n",
    "plt.xticks(np.arange(mu-3*sigma, mu+3*sigma+0.1, sigma))\n",
    "plt.title('$P(H_A - H_B > 2) = 31.87\\%$');"
   ]
  },
  {
   "cell_type": "code",
   "execution_count": 4,
   "metadata": {
    "execution": {
     "iopub.execute_input": "2020-12-02T20:32:16.621164Z",
     "iopub.status.busy": "2020-12-02T20:32:16.620731Z",
     "iopub.status.idle": "2020-12-02T20:32:16.623806Z",
     "shell.execute_reply": "2020-12-02T20:32:16.623492Z"
    }
   },
   "outputs": [
    {
     "data": {
      "text/plain": [
       "0.31867594411696853"
      ]
     },
     "execution_count": 4,
     "metadata": {},
     "output_type": "execute_result"
    }
   ],
   "source": [
    "mu = 0\n",
    "sigma = 18**0.5\n",
    "1 - stats.norm.cdf(2, mu, sigma)"
   ]
  },
  {
   "cell_type": "markdown",
   "metadata": {},
   "source": [
    "### Comparing Two Sample Proportions ###\n",
    "A candidate is up for election. In State 1, 50% of the voters favor the candidate. In State 2, only 27% of the voters favor the candidate. A simple random sample of 1000 voters is taken in each state. You can assume that the samples are independent of each other and that there are millions of voters in each state.\n",
    "\n",
    "**Question.** Approximately what is the chance that in the sample from State 1, the proportion of voters who favor the candidate is more than twice as large as the proportion in the State 2 sample?\n",
    "\n",
    "**Answer.** For $i = 1, 2$, let $X_i$ be the proportion of voters who favor the candidate in the sample from State $i$. We want the approximate value of $P(X_1 > 2X_2)$. By the Central Limit Theorem, both $X_1$ and $X_2$ are approximately normal. So $X_1 - 2X_2$ is also approximately normal.\n",
    "\n",
    "Now it's just a matter of figuring out the mean and the SD.\n",
    "\n",
    "$$\n",
    "E(X_1 - 2X_2) ~ = ~ 0.5 - 2\\times 0.27 = -0.04\n",
    "$$\n",
    "\n",
    "$$\n",
    "Var(X_1) = \\frac{0.5 \\times 0.5}{1000} = 0.00025, ~~~~~~\n",
    "Var(X_2) = \\frac{0.27 \\times 0.73}{1000} = 0.000197\n",
    "$$\n",
    "\n",
    "$$\n",
    "Var(X_1 - 2X_2) = Var(X_1) + 4Var(X_2) = 0.00104, ~~~~~~\n",
    "SD(X_1 - 2X_2) = 0.03222\n",
    "$$\n",
    "\n",
    "So\n",
    "\n",
    "$$\n",
    "P(X_1 > 2X_2) ~ = ~ P(X_1 - 2X_2 > 0) \n",
    "~ \\approx ~ 1 - \\Phi \\big{(} \\frac{0 - (-0.04)}{0.03222} \\big{)}\n",
    "~ \\approx ~ 10.7\\%\n",
    "$$\n"
   ]
  },
  {
   "cell_type": "code",
   "execution_count": 5,
   "metadata": {
    "execution": {
     "iopub.execute_input": "2020-12-02T20:32:16.627595Z",
     "iopub.status.busy": "2020-12-02T20:32:16.627155Z",
     "iopub.status.idle": "2020-12-02T20:32:16.630497Z",
     "shell.execute_reply": "2020-12-02T20:32:16.630082Z"
    }
   },
   "outputs": [
    {
     "data": {
      "text/plain": [
       "0.1072469993885582"
      ]
     },
     "execution_count": 5,
     "metadata": {},
     "output_type": "execute_result"
    }
   ],
   "source": [
    "mu = 0.5 - 2*0.27\n",
    "var = (0.5*0.5/1000) + 4*(0.27*.73/1000)\n",
    "sigma = var**0.5\n",
    "1 - stats.norm.cdf(0, mu, sigma)"
   ]
  },
  {
   "cell_type": "markdown",
   "metadata": {
    "collapsed": true
   },
   "source": [
    "```{admonition} Quick Check\n",
    "$X$ is normal $(20, 5^2)$ and $Y$ is normal $(75, 10^2)$. Assume $X$ and $Y$ are independent. \n",
    "\n",
    "Sketch the density of $Y - 2X$. Mark the numerical values of the expectation and SD appropriately on your sketch. You can use the code cell below to calculate them.\n",
    "\n",
    "```"
   ]
  },
  {
   "cell_type": "markdown",
   "metadata": {},
   "source": [
    "```{admonition} Answer\n",
    ":class: dropdown\n",
    "Normal curve centered at 35, points of inflection at 35 $\\pm$ 14.14\n",
    "\n",
    "```"
   ]
  }
 ],
 "metadata": {
  "anaconda-cloud": {},
  "kernelspec": {
   "display_name": "Python 3",
   "language": "python",
   "name": "python3"
  },
  "language_info": {
   "codemirror_mode": {
    "name": "ipython",
    "version": 3
   },
   "file_extension": ".py",
   "mimetype": "text/x-python",
   "name": "python",
   "nbconvert_exporter": "python",
   "pygments_lexer": "ipython3",
   "version": "3.7.7"
  }
 },
 "nbformat": 4,
 "nbformat_minor": 1
}