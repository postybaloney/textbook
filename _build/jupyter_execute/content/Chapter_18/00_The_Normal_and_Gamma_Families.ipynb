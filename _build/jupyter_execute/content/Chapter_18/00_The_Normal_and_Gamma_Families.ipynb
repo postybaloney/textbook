{
 "cells": [
  {
   "cell_type": "code",
   "execution_count": 1,
   "metadata": {
    "collapsed": true,
    "execution": {
     "iopub.execute_input": "2021-02-10T00:53:01.106800Z",
     "iopub.status.busy": "2021-02-10T00:53:01.106182Z",
     "iopub.status.idle": "2021-02-10T00:53:02.616701Z",
     "shell.execute_reply": "2021-02-10T00:53:02.616359Z"
    },
    "tags": [
     "remove_cell"
    ]
   },
   "outputs": [],
   "source": [
    "# HIDDEN\n",
    "from datascience import *\n",
    "from prob140 import *\n",
    "import numpy as np\n",
    "import matplotlib.pyplot as plt\n",
    "plt.style.use('fivethirtyeight')\n",
    "%matplotlib inline\n",
    "import math\n",
    "from scipy import stats"
   ]
  },
  {
   "cell_type": "markdown",
   "metadata": {},
   "source": [
    "# The Normal and Gamma Families #\n"
   ]
  },
  {
   "cell_type": "markdown",
   "metadata": {},
   "source": [
    "\n",
    "The family of normal distributions has a uniquely important place in probability theory and data science. You started working with normal distributions in Data 8 long before you understood much formal probability theory. So you have taken several basic facts for granted without proof. We will start by establishing those facts and then study sums of independent normal variables.\n",
    "\n",
    "The gamma family of distributions, properties of which you have established in exercises, arises in numerous contexts. For example, you have seen that the exponential distribution is a member of the gamma family, as is the square of a standard normal variable. Later in this chapter we will collect what we know about the gamma family and see what we can say about sums of independent gamma variables."
   ]
  },
  {
   "cell_type": "code",
   "execution_count": 2,
   "metadata": {
    "collapsed": true
   },
   "outputs": [],
   "source": []
  },
  {
   "cell_type": "markdown",
   "metadata": {},
   "source": [
    "\n",
    "```{toctree}\n",
    ":hidden:\n",
    ":titlesonly:\n",
    "\n",
    "\n",
    "01_Standard_Normal_Basics\n",
    "02_Sums_of_Independent_Normal_Variables\n",
    "03_The_Gamma_Family\n",
    "04_Chi_Squared_Distributions\n",
    "05_Exercises\n",
    "```\n"
   ]
  }
 ],
 "metadata": {
  "anaconda-cloud": {},
  "kernelspec": {
   "display_name": "Python 3",
   "language": "python",
   "name": "python3"
  },
  "language_info": {
   "codemirror_mode": {
    "name": "ipython",
    "version": 3
   },
   "file_extension": ".py",
   "mimetype": "text/x-python",
   "name": "python",
   "nbconvert_exporter": "python",
   "pygments_lexer": "ipython3",
   "version": "3.7.7"
  }
 },
 "nbformat": 4,
 "nbformat_minor": 1
}