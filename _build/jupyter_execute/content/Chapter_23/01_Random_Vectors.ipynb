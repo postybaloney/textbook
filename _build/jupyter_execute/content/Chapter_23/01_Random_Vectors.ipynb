{
 "cells": [
  {
   "cell_type": "code",
   "execution_count": 1,
   "metadata": {
    "execution": {
     "iopub.execute_input": "2020-11-03T07:43:44.895497Z",
     "iopub.status.busy": "2020-11-03T07:43:44.895045Z",
     "iopub.status.idle": "2020-11-03T07:43:46.364919Z",
     "shell.execute_reply": "2020-11-03T07:43:46.364539Z"
    },
    "tags": [
     "remove_cell"
    ]
   },
   "outputs": [],
   "source": [
    "# HIDDEN\n",
    "from datascience import *\n",
    "from prob140 import *\n",
    "import numpy as np\n",
    "import matplotlib.pyplot as plt\n",
    "plt.style.use('fivethirtyeight')\n",
    "%matplotlib inline\n",
    "import math\n",
    "from scipy import stats"
   ]
  },
  {
   "cell_type": "markdown",
   "metadata": {},
   "source": [
    "## Random Vectors ##"
   ]
  },
  {
   "cell_type": "markdown",
   "metadata": {},
   "source": [
    "A *vector valued random variable*, or more simply, a *random vector*, is a list of random variables defined on the same space. We will think of it as a column.\n",
    "\n",
    "$$\n",
    "\\mathbf{X} ~ = ~ \n",
    "\\begin{bmatrix}\n",
    "X_1 \\\\\n",
    "X_2 \\\\\n",
    "\\vdots \\\\\n",
    "X_n\n",
    "\\end{bmatrix}\n",
    "$$"
   ]
  },
  {
   "cell_type": "markdown",
   "metadata": {},
   "source": [
    "For ease of display, we will sometimes write $\\mathbf{X} = [X_1 X_2 \\ldots X_n]^T$ where $\\mathbf{M}^T$ is notation for the transpose of the matrix $\\mathbf{M}$."
   ]
  },
  {
   "cell_type": "markdown",
   "metadata": {},
   "source": [
    "The *mean vector* of $\\mathbf{X}$ is $\\boldsymbol{\\mu} = [\\mu_1 ~ \\mu_2 ~ \\ldots ~ \\mu_n]^T$ where $\\mu_i = E(X_i)$."
   ]
  },
  {
   "cell_type": "markdown",
   "metadata": {},
   "source": [
    "The *covariance matrix* of $\\mathbf{X}$ is the $n \\times n$ matrix $\\boldsymbol{\\Sigma}$ whose $(i, j)$ element is $Cov(X_i, X_j)$. \n",
    "\n",
    "The $i$th diagonal element of $\\boldsymbol{\\Sigma}$ is the variance of $X_i$. The matrix is symmetric because of the symmetry of covariance."
   ]
  },
  {
   "cell_type": "markdown",
   "metadata": {
    "collapsed": true
   },
   "source": [
    "### Linear Transformation: Mean Vector ###\n",
    "Let $\\mathbf{A}$ be an $m \\times n$ numerical matrix and $\\mathbf{b}$ an $m \\times 1$ numerical vector. Consider the $m \\times 1$ random vector  $\\mathbf{Y} = \\mathbf{AX} + \\mathbf{b}$. Then the $i$th element of $\\mathbf{Y}$ is \n",
    "\n",
    "$$\n",
    "Y_i ~ = ~ \\mathbf{A}_{i*}\\mathbf{X} + \\mathbf{b}(i)\n",
    "$$ \n",
    "\n",
    "where $\\mathbf{A}_{i*}$ denotes the $i$th row of $\\mathbf{A}$ and $\\mathbf{b}(i)$ denotes the $i$th element of $\\mathbf{b}$. Written longhand,\n",
    "\n",
    "$$\n",
    "Y_i ~ = ~ a_{i1}X_1 + a_{i2}X_2 + \\cdots + a_{in}X_n + b_i\n",
    "$$\n",
    "\n",
    "where $a_{ij}$ is the $(i, j)$ entry of $\\mathbf{A}$ and $b_i = \\mathbf{b}(i)$.\n",
    "\n",
    "Thus $Y_i$ is a linear combination of the elements of $\\mathbf{X}$. Therefore by linearity of expectation,\n",
    "\n",
    "$$\n",
    "E(Y_i) ~ = ~ \\mathbf{A}_{i*} \\boldsymbol{\\mu} + \\mathbf{b}(i)\n",
    "$$\n",
    "\n",
    "Let $\\boldsymbol{\\mu}_\\mathbf{Y}$ be the mean vector of $\\mathbf{Y}$. Then by the calculation above,\n",
    "\n",
    "$$\n",
    "\\boldsymbol{\\mu}_\\mathbf{Y} ~ = ~ \\mathbf{A} \\boldsymbol{\\mu} + \\mathbf{b}\n",
    "$$\n"
   ]
  },
  {
   "cell_type": "markdown",
   "metadata": {},
   "source": [
    "### Linear Transformation: Covariance Matrix ###\n",
    "\n",
    "$Cov(Y_i, Y_j)$ can be calculated using bilinearity of covariance.\n",
    "\n",
    "$$\n",
    "\\begin{align*}\n",
    "Cov(Y_i, Y_j) ~ &= ~ Cov(\\mathbf{A}_{i*}\\mathbf{X}, \\mathbf{A}_{j*}\\mathbf{X}) \\\\\n",
    "&= ~ Cov\\big{(} \\sum_{k=1}^n a_{ik}X_k, \\sum_{l=1}^n a_{jl}X_l \\big{)} \\\\\n",
    "&= ~ \\sum_{k=1}^n\\sum_{l=1}^n a_{ik}a_{jl}Cov(X_k, X_l) \\\\\n",
    "&= ~ \\sum_{k=1}^n\\sum_{l=1}^n a_{ik}Cov(X_k, X_l)t_{lj} ~~~~~ \\text{where } t_{lj} = \\mathbf{A}^T(l, j) \\\\\n",
    "\\end{align*}\n",
    "$$\n",
    "\n",
    "This is the $(i, j)$ element of $\\mathbf{A}\\boldsymbol{\\Sigma}\\mathbf{A}^T$. So if $\\boldsymbol{\\Sigma}_\\mathbf{Y}$ denotes the covariance matrix $\\mathbf{Y}$, then\n",
    "\n",
    "$$\n",
    "\\boldsymbol{\\Sigma}_\\mathbf{Y} ~ = ~ \\mathbf{A} \\boldsymbol{\\Sigma} \\mathbf{A}^T\n",
    "$$"
   ]
  },
  {
   "cell_type": "markdown",
   "metadata": {},
   "source": [
    "### Constraints on $\\boldsymbol{\\Sigma}$ ###\n",
    "We know that $\\boldsymbol{\\Sigma}$ has to be symmetric and that all the elements on its main diagonal must be non-negative. Also, no matter what $\\mathbf{A}$ is, the diagonal elements of $\\boldsymbol{\\Sigma}\\_\\mathbf{Y}$ must all be non-negative as they are the variances of the elements of $\\mathbf{Y}$. By the formula for $\\boldsymbol{\\Sigma}_\\mathbf{Y}$ this means\n",
    "\n",
    "$$\n",
    "\\mathbf{a} \\boldsymbol{\\Sigma} \\mathbf{a}^T ~ \\ge ~ 0 ~~~~ \\text{for all } 1\\times n \\text{ vectors } \\mathbf{a}\n",
    "$$\n",
    "\n",
    "which is the same as saying\n",
    "\n",
    "$$\n",
    "\\mathbf{a}^T \\boldsymbol{\\Sigma} \\mathbf{a} ~ \\ge ~ 0 ~~~~ \\text{for all } n\\times 1 \\text{ vectors } \\mathbf{a}\n",
    "$$\n",
    "\n",
    "because $\\mathbf{a} \\boldsymbol{\\Sigma} \\mathbf{a}^T$ is a scalar and therefore the same as its transpose.\n",
    "\n",
    "That is, $\\boldsymbol{\\Sigma}$ must be positive semidefinite. Usually, we will be working with positive definite covariance matrices, because if $\\mathbf{a}^T \\boldsymbol{\\Sigma} \\mathbf{a} = 0$ for some $\\mathbf{a}$ then some linear combination of the elements of $\\mathbf{X}$ is constant. Hence you can write some of the elements as linear combinations of the others and just study a reduced set of elements."
   ]
  },
  {
   "cell_type": "code",
   "execution_count": 2,
   "metadata": {
    "collapsed": true
   },
   "outputs": [],
   "source": []
  }
 ],
 "metadata": {
  "anaconda-cloud": {},
  "kernelspec": {
   "display_name": "Python 3",
   "language": "python",
   "name": "python3"
  },
  "language_info": {
   "codemirror_mode": {
    "name": "ipython",
    "version": 3
   },
   "file_extension": ".py",
   "mimetype": "text/x-python",
   "name": "python",
   "nbconvert_exporter": "python",
   "pygments_lexer": "ipython3",
   "version": "3.7.7"
  }
 },
 "nbformat": 4,
 "nbformat_minor": 1
}