{
 "cells": [
  {
   "cell_type": "code",
   "execution_count": 1,
   "metadata": {
    "execution": {
     "iopub.execute_input": "2021-05-13T03:57:27.522565Z",
     "iopub.status.busy": "2021-05-13T03:57:27.521732Z",
     "iopub.status.idle": "2021-05-13T03:57:29.173062Z",
     "shell.execute_reply": "2021-05-13T03:57:29.172682Z"
    },
    "tags": [
     "remove_cell"
    ]
   },
   "outputs": [],
   "source": [
    "# HIDDEN\n",
    "import warnings\n",
    "warnings.filterwarnings('ignore')\n",
    "from datascience import *\n",
    "from prob140 import *\n",
    "import numpy as np\n",
    "import matplotlib.pyplot as plt\n",
    "plt.style.use('fivethirtyeight')\n",
    "%matplotlib inline\n",
    "import math\n",
    "from scipy import stats"
   ]
  },
  {
   "cell_type": "markdown",
   "metadata": {},
   "source": [
    "## Exponential Distribution ##"
   ]
  },
  {
   "cell_type": "markdown",
   "metadata": {},
   "source": [
    "A random variable $T$ has the *exponential distribution with parameter $\\lambda$* if the density of $T$ is given by\n",
    "\n",
    "$$\n",
    "f_T(t) ~ = \\lambda e^{-\\lambda t}, ~~~ t \\ge 0\n",
    "$$\n",
    "\n",
    "The graph below shows the density $f_T$ for $\\lambda = 5$."
   ]
  },
  {
   "cell_type": "code",
   "execution_count": 2,
   "metadata": {
    "execution": {
     "iopub.execute_input": "2021-05-13T03:57:29.176702Z",
     "iopub.status.busy": "2021-05-13T03:57:29.176306Z",
     "iopub.status.idle": "2021-05-13T03:57:29.475685Z",
     "shell.execute_reply": "2021-05-13T03:57:29.475216Z"
    },
    "tags": [
     "remove_input"
    ]
   },
   "outputs": [
    {
     "data": {
      "image/png": "[encoded data removed]",
      "text/plain": [
       "<Figure size 432x288 with 1 Axes>"
      ]
     },
     "metadata": {
      "filenames": {
       "image/png": "/mnt/c/users/ryan/documents/prob140/textbook/_build/jupyter_execute/content/Chapter_15/04_Exponential_Distribution_3_0.png"
      },
      "needs_background": "light"
     },
     "output_type": "display_data"
    }
   ],
   "source": [
    "# NO CODE\n",
    "lam = 5\n",
    "t = np.arange(0, 1, 0.01)\n",
    "y = stats.expon.pdf(t, scale=1/5)\n",
    "\n",
    "plt.plot(t, y, color='darkblue', lw=2)\n",
    "plt.xlabel('$t$')\n",
    "plt.ylabel('$f_T(t)$', rotation=False)\n",
    "plt.title('Density of $T$');"
   ]
  },
  {
   "cell_type": "code",
   "execution_count": 3,
   "metadata": {
    "execution": {
     "iopub.execute_input": "2021-05-13T03:57:29.480835Z",
     "iopub.status.busy": "2021-05-13T03:57:29.480151Z",
     "iopub.status.idle": "2021-05-13T03:57:29.587870Z",
     "shell.execute_reply": "2021-05-13T03:57:29.588202Z"
    },
    "tags": [
     "remove-input",
     "hide-output"
    ]
   },
   "outputs": [
    {
     "data": {
      "text/html": [
       "\n",
       "<iframe\n",
       "    width=\"400\"\n",
       "    height=\"300\"\n",
       "    src=\"https://www.youtube.com/embed/D8DAKgt-NUk\"\n",
       "    frameborder=\"0\"\n",
       "    allowfullscreen\n",
       "></iframe>\n"
      ],
      "text/plain": [
       "<IPython.lib.display.YouTubeVideo at 0x7f8482a7b950>"
      ]
     },
     "execution_count": 3,
     "metadata": {},
     "output_type": "execute_result"
    }
   ],
   "source": [
    "# VIDEO: Exponential Distribution\n",
    "from IPython.display import YouTubeVideo\n",
    "\n",
    "YouTubeVideo('D8DAKgt-NUk')"
   ]
  },
  {
   "cell_type": "markdown",
   "metadata": {},
   "source": [
    "### CDF and Survival Function ###\n",
    "The exponential distribution is often used as a model for random lifetimes, in settings that we will study in greater detail below. For now, just think of $T$ as the lifetime of an object like a lightbulb, and note that the cdf at time $t$ can be thought of as the chance that the object dies before time $t$:\n",
    "\n",
    "$$\n",
    "P(T \\le t) ~ = ~ F_T(t) ~ = ~ 1 - e^{-\\lambda t}\n",
    "$$\n",
    "\n",
    "The complementary event is that the object survives past time $t$, and therefore its probability defines the *survival function* $S_T$:\n",
    "\n",
    "$$\n",
    "S_T(t) ~ = ~ P(T > t) ~ = ~ 1 - F_T(t) ~ = ~ e^{-\\lambda t}\n",
    "$$"
   ]
  },
  {
   "cell_type": "markdown",
   "metadata": {},
   "source": [
    "```{admonition} Quick Check\n",
    "Let $X$ have the exponential distribution with rate $1/10$. Find $P(X > 10)$. \n",
    "\n",
    "```"
   ]
  },
  {
   "cell_type": "markdown",
   "metadata": {},
   "source": [
    "```{admonition} Answer\n",
    ":class: dropdown\n",
    "$e^{-1}$\n",
    "\n",
    "```"
   ]
  },
  {
   "cell_type": "markdown",
   "metadata": {},
   "source": [
    "```{admonition} Quick Check\n",
    "Let $T$ have the exponential $(\\lambda)$ distribution, and $t > 0$. Which of the following is the density of $T$ at the point $t$? Which is the survival function of $T$ at the point $t$?\n",
    "\n",
    "$e^{-\\lambda t}$, $1 - e^{-\\lambda t}$, $\\lambda e^{-\\lambda t}$\n",
    "\n",
    "```"
   ]
  },
  {
   "cell_type": "markdown",
   "metadata": {},
   "source": [
    "```{admonition} Answer\n",
    ":class: dropdown\n",
    "Density at $t$ is $\\lambda e^{-\\lambda t}$, survival function at $t$ is $e^{-\\lambda t}$\n",
    "\n",
    "```"
   ]
  },
  {
   "cell_type": "markdown",
   "metadata": {
    "collapsed": true
   },
   "source": [
    "### Mean and SD ###\n",
    "To find $E(T)$, you have two options:\n",
    "\n",
    "$$\n",
    "E(T) ~ = ~ \\int_0^{\\infty} t\\lambda e^{-\\lambda t} dt ~ = ~ \\frac{1}{\\lambda}\n",
    "$$\n",
    "\n",
    "either by integration by parts or by recognizing the indefinite integral of $\\lambda te^{-\\lambda t}$ . Since $T$ is a non-negative variable, an easier way is to use the *tail integral*, analogous to the tail sum formula for the expectation of a non-negative integer valued random variable.\n",
    "\n",
    "$$\n",
    "E(T) ~ = ~ \\int_0^\\infty S(t)dt ~ = ~ \\int_0^\\infty e^{-\\lambda t}dt ~ = ~ \\frac{1}{\\lambda}\n",
    "$$\n",
    "\n",
    "To find $E(T^2)$, you can use integration by parts, or you can accept for now that $E(T^2) = 2/\\lambda^2$ and therefore \n",
    "\n",
    "$$\n",
    "Var(T) ~ = ~ \\frac{1}{\\lambda^2} ~~~~ \\mbox{and } ~~~~ SD(T) = \\frac{1}{\\lambda}\n",
    "$$\n",
    "\n",
    "Later in the course we will see how to find $E(T^2)$ without integration.\n",
    "\n",
    "The graph below shows the density $f_T$ with the labeled points on the horizontal axis corresponding to standard units of -1, 0, 1, 2, and 3. The random variable $T$ can't be negative, and the density doesn't go further than 1 SD below the mean. The spread comes from the long right hand tail."
   ]
  },
  {
   "cell_type": "code",
   "execution_count": 4,
   "metadata": {
    "execution": {
     "iopub.execute_input": "2021-05-13T03:57:29.599868Z",
     "iopub.status.busy": "2021-05-13T03:57:29.599435Z",
     "iopub.status.idle": "2021-05-13T03:57:29.727225Z",
     "shell.execute_reply": "2021-05-13T03:57:29.727557Z"
    },
    "tags": [
     "remove_input"
    ]
   },
   "outputs": [
    {
     "data": {
      "image/png": "[encoded data removed]",
      "text/plain": [
       "<Figure size 432x288 with 1 Axes>"
      ]
     },
     "metadata": {
      "filenames": {
       "image/png": "/mnt/c/users/ryan/documents/prob140/textbook/_build/jupyter_execute/content/Chapter_15/04_Exponential_Distribution_11_0.png"
      },
      "needs_background": "light"
     },
     "output_type": "display_data"
    }
   ],
   "source": [
    "# NO CODE\n",
    "lam = 5\n",
    "sd = 1/lam\n",
    "t = np.arange(0, 4.6*sd, 0.01)\n",
    "y = stats.expon.pdf(t, scale=sd)\n",
    "\n",
    "plt.plot(t, y, color='darkblue', lw=2)\n",
    "plt.xticks(np.arange(0, 4*sd+0.1, sd),\n",
    "          ['0', '$1/\\lambda$', '$2/\\lambda$', '$3/\\lambda$', '$4/\\lambda$'])\n",
    "plt.yticks([0, lam/4, lam/2, 3*lam/4, lam], \n",
    "           ['0','','','', '$\\lambda$'])\n",
    "plt.xlim(-0.01, 4.6*sd)\n",
    "plt.ylim(-0.05, lam)\n",
    "plt.xlabel('$t$')\n",
    "plt.ylabel('$f_T(t)$', rotation=0)\n",
    "plt.title('Exponential $(\\lambda)$ Density of $T$');"
   ]
  },
  {
   "cell_type": "markdown",
   "metadata": {},
   "source": [
    "```{admonition} Quick Check\n",
    "Let $X$ have the exponential distribution with rate $1/10$. Which of the following is $E(X)$? Which is $SD(X)$?\n",
    "\n",
    "$100$, $10$, $0.1$ $0.01$\n",
    "\n",
    "```"
   ]
  },
  {
   "cell_type": "markdown",
   "metadata": {},
   "source": [
    "```{admonition} Answer\n",
    ":class: dropdown\n",
    "$E(X) = 10$, $Var(X) = 100$, $SD(X) = 10$\n",
    "\n",
    "```"
   ]
  },
  {
   "cell_type": "markdown",
   "metadata": {},
   "source": [
    "### Median ###\n",
    "Here are graphs of the cdf and the survival function."
   ]
  },
  {
   "cell_type": "code",
   "execution_count": 5,
   "metadata": {
    "execution": {
     "iopub.execute_input": "2021-05-13T03:57:29.738504Z",
     "iopub.status.busy": "2021-05-13T03:57:29.732790Z",
     "iopub.status.idle": "2021-05-13T03:57:29.923830Z",
     "shell.execute_reply": "2021-05-13T03:57:29.923500Z"
    },
    "tags": [
     "remove_input"
    ]
   },
   "outputs": [
    {
     "data": {
      "image/png": "[encoded data removed]",
      "text/plain": [
       "<Figure size 432x288 with 1 Axes>"
      ]
     },
     "metadata": {
      "filenames": {
       "image/png": "/mnt/c/users/ryan/documents/prob140/textbook/_build/jupyter_execute/content/Chapter_15/04_Exponential_Distribution_15_0.png"
      },
      "needs_background": "light"
     },
     "output_type": "display_data"
    }
   ],
   "source": [
    "# NO CODE\n",
    "plt.plot(t, stats.expon.cdf(t, scale=sd), color='r', lw=2)\n",
    "t = np.arange(0, 4.6*sd, 0.01)\n",
    "plt.plot(t, 1-stats.expon.cdf(t, scale=sd), color='g', lw=2)\n",
    "plt.xticks(np.arange(0, 4*sd+0.1, sd),\n",
    "          ['0', '$1/\\lambda$', '$2/\\lambda$', '$3/\\lambda$', '$4/\\lambda$'])\n",
    "plt.yticks(np.arange(0, 1.1, 0.25))\n",
    "plt.xlim(-0.01, 4.6*sd)\n",
    "plt.ylim(-0.05, 1.01)\n",
    "plt.xlabel('$t$')\n",
    "plt.ylabel('$F(t)$ and $S(t)$')\n",
    "plt.title('CDF and Survival Function of $T$');"
   ]
  },
  {
   "cell_type": "markdown",
   "metadata": {},
   "source": [
    "Notice that the two curves intersect at the vertical level 0.5. If $t_{0.5}$ is the value of $t$ at which the curves intersect, then\n",
    "\n",
    "$$\n",
    "S_T(t_{0.5}) = 1 - F_T(t_{0.5}) ~~~~ \\text{and} ~~~~ S_T(t_{0.5}) = F_T(t_{0.5})\n",
    "$$\n",
    "\n",
    "and therefore\n",
    "\n",
    "$$\n",
    "P(T > t_{0.5}) = S_T(t_{0.5}) = 0.5 = F_T(t_{0.5}) = P(T \\le t_{0.5})\n",
    "$$\n",
    "\n",
    "The point $t_{0.5}$ is called the *median* of the distribution. We can find $t_{0.5}$ in terms of $\\lambda$ by using the formula for the survival function.\n",
    "\n",
    "$$\n",
    "e^{-\\lambda t_{0.5}} = 0.5 ~ \\iff ~ -\\lambda t_{0.5} = \\log(0.5) ~ \\iff ~ \\lambda t_{0.5} =  \\log(2) ~ \\iff ~ t_{0.5}  = \\log(2)E(T)\n",
    "$$\n",
    "\n",
    "Because $\\log(2) < 1$, the median lifetime $t_{0.5}$ is less than the mean lifetime $E(T) = 1/\\lambda$ as you can see on the graph. This is consistent with an observation you made in Data 8: if a distribution has a right hand tail, the median is less than the mean.\n",
    "\n",
    "The exponential distribution is often used to model lifetimes of objects like radioactive atoms that undergo *exponential decay*. The *half life* of a radioactive isotope is defined as the time by which half of the atoms of the isotope will have decayed. That is, the half life is the median of the exponential lifetime of the atom. The parameter $\\lambda$ is called the *decay rate* of the atom. By the property of the median $t_{0.5}$ derived above, the relation between $\\lambda$ and the half life is\n",
    "\n",
    "$$\n",
    "\\text{half life} = \\frac{\\log(2)}{\\lambda}\n",
    "$$"
   ]
  },
  {
   "cell_type": "markdown",
   "metadata": {},
   "source": [
    "```{admonition} Quick Check\n",
    "Let $T$ have the exponential $(\\lambda)$ distribution. If the median of the distribution of $T$ is 1000, what is the value of $\\lambda$?\n",
    "\n",
    "```"
   ]
  },
  {
   "cell_type": "markdown",
   "metadata": {},
   "source": [
    "```{admonition} Answer\n",
    ":class: dropdown\n",
    "$\\log(2)/1000$\n",
    "\n",
    "```"
   ]
  },
  {
   "cell_type": "code",
   "execution_count": 6,
   "metadata": {
    "execution": {
     "iopub.execute_input": "2021-05-13T03:57:29.935718Z",
     "iopub.status.busy": "2021-05-13T03:57:29.935284Z",
     "iopub.status.idle": "2021-05-13T03:57:30.008413Z",
     "shell.execute_reply": "2021-05-13T03:57:30.008096Z"
    },
    "tags": [
     "remove-input",
     "hide-output"
    ]
   },
   "outputs": [
    {
     "data": {
      "text/html": [
       "\n",
       "<iframe\n",
       "    width=\"400\"\n",
       "    height=\"300\"\n",
       "    src=\"https://www.youtube.com/embed/x9ECxtFPrKE\"\n",
       "    frameborder=\"0\"\n",
       "    allowfullscreen\n",
       "></iframe>\n"
      ],
      "text/plain": [
       "<IPython.lib.display.YouTubeVideo at 0x7f84825046d0>"
      ]
     },
     "execution_count": 6,
     "metadata": {},
     "output_type": "execute_result"
    }
   ],
   "source": [
    "# VIDEO: Memoryless Property\n",
    "YouTubeVideo('x9ECxtFPrKE')"
   ]
  },
  {
   "cell_type": "markdown",
   "metadata": {},
   "source": [
    "### Memoryless Property ###\n",
    "Let $s$ and $t$ be positive, and let's find the conditional probability that the object survives a further $s$ units of time given that it has already survived $t$.\n",
    "\n",
    "$$\n",
    "P(T > t+s \\mid T > t) = \\frac{P(T > t+s, T > t)}{P(T > t)} \n",
    "= \\frac{P(T > t+s)}{P(T > t)} = \\frac{e^{-\\lambda(t+s)}}{e^{-\\lambda t}}\n",
    "= e^{-\\lambda s} = P(T > s)\n",
    "$$\n",
    "\n",
    "Notice that $t$ does not appear in the answer. So for example the chance that the object survives an additional year given that it has been alive for 50 years is the same as the chance that is survives a year when it starts out brand new. It *forgets* that it has already lived 50 years. \n",
    "\n",
    "This is called the *memoryless property* of the exponential distribution. It can be shown that the exponential and the geometric are the only two distributions that have the memoryless property. As you can see, the graph of the exponential density resembles the geometric probability histogram. It can be thought of as a continuous limit of the geometric, as we will see later.\n",
    "\n",
    "The memoryless property is an excellent reason *not* to use the exponential distribution to model the lifetimes of people or of anything that ages. For lifetimes of things like lightbulbs or radioactive atoms, the exponential distribution often does fine."
   ]
  },
  {
   "cell_type": "markdown",
   "metadata": {
    "collapsed": true
   },
   "source": [
    "### The Rate ###\n",
    "If $\\lambda$ is large, then $E(T) = 1/\\lambda$ is small. If you think of $T$ as a lifetime then large $\\lambda$ implies that an early death is expected. To formalize the notion of $\\lambda$ as a rate, let $\\Delta_t$ be a tiny increment of time and use the memoryless property:\n",
    "\n",
    "$$\n",
    "\\begin{align*}\n",
    "P(T \\le t + \\Delta_t \\mid T > t) ~ &= ~ 1 - e^{-\\lambda \\Delta_t} \\\\\n",
    "&= ~ \\lambda \\Delta_t + \\frac{\\lambda^2\\Delta_t^2}{2!} + \\cdots \\\\\n",
    "&\\sim ~ \\lambda \\Delta_t ~~~~~ \\mbox{because } \\Delta_t \\mbox{ is small}\n",
    "\\end{align*}\n",
    "$$\n",
    "\n",
    "The left hand side is the chance that the object dies immediately after time $t$, given that it was still alive at time $t$. We say that $\\lambda$ is the *instantaneous death rate*, because\n",
    "\n",
    "$$\n",
    "\\lambda ~ \\sim ~ \\frac{P(T \\le t+\\Delta_t \\mid T > t)}{\\Delta_t}\n",
    "$$\n"
   ]
  }
 ],
 "metadata": {
  "anaconda-cloud": {},
  "celltoolbar": "Tags",
  "kernelspec": {
   "display_name": "Python 3",
   "language": "python",
   "name": "python3"
  },
  "language_info": {
   "codemirror_mode": {
    "name": "ipython",
    "version": 3
   },
   "file_extension": ".py",
   "mimetype": "text/x-python",
   "name": "python",
   "nbconvert_exporter": "python",
   "pygments_lexer": "ipython3",
   "version": "3.7.7"
  }
 },
 "nbformat": 4,
 "nbformat_minor": 1
}