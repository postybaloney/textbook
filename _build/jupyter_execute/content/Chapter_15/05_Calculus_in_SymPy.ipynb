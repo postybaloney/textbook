{
 "cells": [
  {
   "cell_type": "code",
   "execution_count": 1,
   "metadata": {
    "tags": [
     "remove_cell"
    ]
   },
   "outputs": [],
   "source": [
    "# HIDDEN\n",
    "from datascience import *\n",
    "from prob140 import *\n",
    "import numpy as np\n",
    "import matplotlib.pyplot as plt\n",
    "plt.style.use('fivethirtyeight')\n",
    "%matplotlib inline\n",
    "from scipy import stats"
   ]
  },
  {
   "cell_type": "markdown",
   "metadata": {},
   "source": [
    "## Calculus in SymPy ##"
   ]
  },
  {
   "cell_type": "markdown",
   "metadata": {},
   "source": [
    "Working with densities involves calculus which can sometimes be time-consuming. This course gives you two ways of reducing the amount of calculus involved.\n",
    "\n",
    "- Probabilistic methods can help reduce algebra and calculus. You've seen this with algebra in the discrete case. You'll see it with calculus as we learn more about densities.\n",
    "- Python has a symbolic math module called `SymPy` that does algebra, calculus, and much other symbolic math. In this section we will show you how to do calculus using `SymPy`."
   ]
  },
  {
   "cell_type": "markdown",
   "metadata": {},
   "source": [
    "We will demonstrate the methods in the context of an example. Suppose $X$ has density given by\n",
    "\n",
    "$$\n",
    "f(x) = \n",
    "\\begin{cases}\n",
    "105x^2(1-x)^4 ~~~ \\text{if } 0 \\le x \\le 1 \\\\\n",
    "0 ~~~~~~~~~ \\text{otherwise}\n",
    "\\end{cases}\n",
    "$$\n",
    "\n",
    "As you can see from its graph below, $f$ could be used to model the distribution of a random proportion that you think is likely to be somewhere between 0.2 and 0.4."
   ]
  },
  {
   "cell_type": "code",
   "execution_count": 2,
   "metadata": {
    "tags": [
     "remove_input"
    ]
   },
   "outputs": [
    {
     "data": {
      "image/png": "[encoded data removed]",
      "text/plain": [
       "<Figure size 432x288 with 1 Axes>"
      ]
     },
     "metadata": {
      "filenames": {
       "image/png": "/Users/liangxinran/Desktop/Berkeley College Life/Senior/Teaching/prob140-textbook/_build/jupyter_execute/content/Chapter_15/05_Calculus_in_SymPy_4_0.png"
      },
      "needs_background": "light"
     },
     "output_type": "display_data"
    }
   ],
   "source": [
    "# NO CODE\n",
    "x_vals = np.arange(0, 1.01, 0.01)\n",
    "f = 105 * x_vals**2 * (1 - x_vals)**4\n",
    "plt.plot(x_vals, f, color='darkblue', lw=2)\n",
    "plt.xlabel('$x$')\n",
    "plt.ylabel('$f(x)$', rotation=0);"
   ]
  },
  {
   "cell_type": "markdown",
   "metadata": {},
   "source": [
    "The density $f$ is a polynomial on the unit interval, and in principle the algebra and calculus involved in integrating it are straightforward. But they are tedious. So let's get `SymPy` to do the work.\n",
    "\n",
    "First, we will import all the functions in `SymPy` and set up some printing methods that make the output look nicer than the retro typewritten pgf output you saw in a previous section. In future sections of this text, you can assume that this importing and initialization will have been done at the start."
   ]
  },
  {
   "cell_type": "code",
   "execution_count": 3,
   "metadata": {},
   "outputs": [],
   "source": [
    "from sympy import *\n",
    "init_printing()"
   ]
  },
  {
   "cell_type": "markdown",
   "metadata": {},
   "source": [
    "Next, we have to create tell Python that an object is symbolic. In our example, the variable $x$ is the natural candidate to be a symbol. You can use `Symbol` for this, by using the argument `'x'`. We have assinged the symbol to the name `x`."
   ]
  },
  {
   "cell_type": "code",
   "execution_count": 4,
   "metadata": {},
   "outputs": [],
   "source": [
    "x = Symbol('x')"
   ]
  },
  {
   "cell_type": "markdown",
   "metadata": {},
   "source": [
    "Now we will assign the name `density` to the expression that defines $f$. The expression looks just like a numerical calculation, but the output is algebraic!"
   ]
  },
  {
   "cell_type": "code",
   "execution_count": 5,
   "metadata": {},
   "outputs": [
    {
     "data": {
      "image/png": "[encoded data removed]",
      "text/latex": [
       "$\\displaystyle 105 x^{2} \\left(1 - x\\right)^{4}$"
      ],
      "text/plain": [
       "     2        4\n",
       "105⋅x ⋅(1 - x) "
      ]
     },
     "execution_count": 5,
     "metadata": {
      "filenames": {
       "image/png": "/Users/liangxinran/Desktop/Berkeley College Life/Senior/Teaching/prob140-textbook/_build/jupyter_execute/content/Chapter_15/05_Calculus_in_SymPy_10_0.png"
      }
     },
     "output_type": "execute_result"
    }
   ],
   "source": [
    "density = 105 * x**2 * (1-x)**4\n",
    "density"
   ]
  },
  {
   "cell_type": "markdown",
   "metadata": {},
   "source": [
    "That's the expression for $f(x)$ defined by the equation at the start of the section. Notice that what we naturally think of as $1 - x$ is expressed as $-x + 1$. That's because `SymPy` is writing the polynomial leading with the term of highest degree.\n",
    "\n",
    "Let's not simply accept that this function is a density. Let's check that it is a density by integrating it from 0 to 1. To display this, we use the method `Integral` that takes the name of a function and a *tuple* (a sequence in parentheses) consisting of the variable of integration and the lower and upper limits of integration. We have assigned this integral to the name `total_area`."
   ]
  },
  {
   "cell_type": "code",
   "execution_count": 6,
   "metadata": {},
   "outputs": [
    {
     "data": {
      "image/png": "[encoded data removed]",
      "text/latex": [
       "$\\displaystyle \\int\\limits_{0}^{1} 105 x^{2} \\left(1 - x\\right)^{4}\\, dx$"
      ],
      "text/plain": [
       "1                   \n",
       "⌠                   \n",
       "⎮      2        4   \n",
       "⎮ 105⋅x ⋅(1 - x)  dx\n",
       "⌡                   \n",
       "0                   "
      ]
     },
     "execution_count": 6,
     "metadata": {
      "filenames": {
       "image/png": "/Users/liangxinran/Desktop/Berkeley College Life/Senior/Teaching/prob140-textbook/_build/jupyter_execute/content/Chapter_15/05_Calculus_in_SymPy_12_0.png"
      }
     },
     "output_type": "execute_result"
    }
   ],
   "source": [
    "total_area = Integral(density, (x, 0, 1))\n",
    "total_area"
   ]
  },
  {
   "cell_type": "markdown",
   "metadata": {},
   "source": [
    "The output of displays the integral, which is nice, but what we really want is its numerical value. In `SymPy`, this is achieved by abruptly instructing the method to `doit()`."
   ]
  },
  {
   "cell_type": "code",
   "execution_count": 7,
   "metadata": {},
   "outputs": [
    {
     "data": {
      "image/png": "[encoded data removed]",
      "text/latex": [
       "$\\displaystyle 1$"
      ],
      "text/plain": [
       "1"
      ]
     },
     "execution_count": 7,
     "metadata": {
      "filenames": {
       "image/png": "/Users/liangxinran/Desktop/Berkeley College Life/Senior/Teaching/prob140-textbook/_build/jupyter_execute/content/Chapter_15/05_Calculus_in_SymPy_14_0.png"
      }
     },
     "output_type": "execute_result"
    }
   ],
   "source": [
    "total_area.doit()"
   ]
  },
  {
   "cell_type": "markdown",
   "metadata": {},
   "source": [
    "This confirms that the function $f$ is a density.\n",
    "\n",
    "We can use `Integral` to find the chance that $X$ is in any interval. Here is $P(0.2 < X < 0.4)$."
   ]
  },
  {
   "cell_type": "code",
   "execution_count": 8,
   "metadata": {},
   "outputs": [
    {
     "data": {
      "image/png": "[encoded data removed]",
      "text/latex": [
       "$\\displaystyle 0.432064000000001$"
      ],
      "text/plain": [
       "0.432064000000001"
      ]
     },
     "execution_count": 8,
     "metadata": {
      "filenames": {
       "image/png": "/Users/liangxinran/Desktop/Berkeley College Life/Senior/Teaching/prob140-textbook/_build/jupyter_execute/content/Chapter_15/05_Calculus_in_SymPy_16_0.png"
      }
     },
     "output_type": "execute_result"
    }
   ],
   "source": [
    "prob_02_04 = Integral(density, (x, 0.2, 0.4)).doit()\n",
    "prob_02_04"
   ]
  },
  {
   "cell_type": "markdown",
   "metadata": {},
   "source": [
    "For $x$ in the unit interval, the cdf of $X$ is\n",
    "\n",
    "$$\n",
    "F(x) ~ = ~ P(X \\le x) ~ = ~ \\int_0^x f(s)ds ~ = ~ I(s)~ \\Big{\\rvert}_0^x ~ = ~ I(x) - I(0)\n",
    "$$\n",
    "\n",
    "where $I$ is the indefinite integral of $f$.\n",
    "\n",
    "To get the indefinite integral, simply ask `SymPy` to integrate the density; there are no limits of integration."
   ]
  },
  {
   "cell_type": "code",
   "execution_count": 9,
   "metadata": {},
   "outputs": [
    {
     "data": {
      "image/png": "[encoded data removed]",
      "text/latex": [
       "$\\displaystyle 15 x^{7} - 70 x^{6} + 126 x^{5} - 105 x^{4} + 35 x^{3}$"
      ],
      "text/plain": [
       "    7       6        5        4       3\n",
       "15⋅x  - 70⋅x  + 126⋅x  - 105⋅x  + 35⋅x "
      ]
     },
     "execution_count": 9,
     "metadata": {
      "filenames": {
       "image/png": "/Users/liangxinran/Desktop/Berkeley College Life/Senior/Teaching/prob140-textbook/_build/jupyter_execute/content/Chapter_15/05_Calculus_in_SymPy_18_0.png"
      }
     },
     "output_type": "execute_result"
    }
   ],
   "source": [
    "indefinite = Integral(density).doit()\n",
    "indefinite"
   ]
  },
  {
   "cell_type": "markdown",
   "metadata": {},
   "source": [
    "Now $F(x) = I(x) - I(0)$. You can see at a glance that $I(0) = 0$ but here is how `SymPy` would figure that out.\n",
    "\n",
    "To evaluate $I(0)$, `SymPy` must substitute $x$ with 0 in the expression for $I$. This is achieved by the method `subs` that takes the variable as its first argument and the specified value as the second."
   ]
  },
  {
   "cell_type": "code",
   "execution_count": 10,
   "metadata": {},
   "outputs": [
    {
     "data": {
      "image/png": "[encoded data removed]",
      "text/latex": [
       "$\\displaystyle 0$"
      ],
      "text/plain": [
       "0"
      ]
     },
     "execution_count": 10,
     "metadata": {
      "filenames": {
       "image/png": "/Users/liangxinran/Desktop/Berkeley College Life/Senior/Teaching/prob140-textbook/_build/jupyter_execute/content/Chapter_15/05_Calculus_in_SymPy_20_0.png"
      }
     },
     "output_type": "execute_result"
    }
   ],
   "source": [
    "I_0 = indefinite.subs(x, 0)\n",
    "I_0"
   ]
  },
  {
   "cell_type": "code",
   "execution_count": 11,
   "metadata": {},
   "outputs": [
    {
     "data": {
      "image/png": "[encoded data removed]",
      "text/latex": [
       "$\\displaystyle 15 x^{7} - 70 x^{6} + 126 x^{5} - 105 x^{4} + 35 x^{3}$"
      ],
      "text/plain": [
       "    7       6        5        4       3\n",
       "15⋅x  - 70⋅x  + 126⋅x  - 105⋅x  + 35⋅x "
      ]
     },
     "execution_count": 11,
     "metadata": {
      "filenames": {
       "image/png": "/Users/liangxinran/Desktop/Berkeley College Life/Senior/Teaching/prob140-textbook/_build/jupyter_execute/content/Chapter_15/05_Calculus_in_SymPy_21_0.png"
      }
     },
     "output_type": "execute_result"
    }
   ],
   "source": [
    "cdf = indefinite - I_0\n",
    "cdf"
   ]
  },
  {
   "cell_type": "markdown",
   "metadata": {},
   "source": [
    "To find the value of the cdf at a specified point, say 0.4, we have to substitute $x$ with 0.4 in the formula for the cdf. "
   ]
  },
  {
   "cell_type": "code",
   "execution_count": 12,
   "metadata": {},
   "outputs": [
    {
     "data": {
      "image/png": "[encoded data removed]",
      "text/latex": [
       "$\\displaystyle 0.580096000000001$"
      ],
      "text/plain": [
       "0.580096000000001"
      ]
     },
     "execution_count": 12,
     "metadata": {
      "filenames": {
       "image/png": "/Users/liangxinran/Desktop/Berkeley College Life/Senior/Teaching/prob140-textbook/_build/jupyter_execute/content/Chapter_15/05_Calculus_in_SymPy_23_0.png"
      }
     },
     "output_type": "execute_result"
    }
   ],
   "source": [
    "cdf_at_04 = cdf.subs(x, 0.4)\n",
    "cdf_at_04"
   ]
  },
  {
   "cell_type": "markdown",
   "metadata": {},
   "source": [
    "Thus $P(X \\le 0.4)$ is roughly 58%. Earlier we calulated $P(0.2 < X < 0.4) = 43.2\\%$, which we can confirm by using the cdf:"
   ]
  },
  {
   "cell_type": "code",
   "execution_count": 13,
   "metadata": {},
   "outputs": [
    {
     "data": {
      "image/png": "[encoded data removed]",
      "text/latex": [
       "$\\displaystyle 0.432064000000001$"
      ],
      "text/plain": [
       "0.432064000000001"
      ]
     },
     "execution_count": 13,
     "metadata": {
      "filenames": {
       "image/png": "/Users/liangxinran/Desktop/Berkeley College Life/Senior/Teaching/prob140-textbook/_build/jupyter_execute/content/Chapter_15/05_Calculus_in_SymPy_25_0.png"
      }
     },
     "output_type": "execute_result"
    }
   ],
   "source": [
    "cdf_at_02 = cdf.subs(x, 0.2)\n",
    "cdf_at_04 - cdf_at_02"
   ]
  },
  {
   "cell_type": "markdown",
   "metadata": {},
   "source": [
    "The expectation $E(X)$ is a definite integral from 0 to 1:"
   ]
  },
  {
   "cell_type": "code",
   "execution_count": 14,
   "metadata": {},
   "outputs": [
    {
     "data": {
      "image/png": "[encoded data removed]",
      "text/latex": [
       "$\\displaystyle \\frac{3}{8}$"
      ],
      "text/plain": [
       "3/8"
      ]
     },
     "execution_count": 14,
     "metadata": {
      "filenames": {
       "image/png": "/Users/liangxinran/Desktop/Berkeley College Life/Senior/Teaching/prob140-textbook/_build/jupyter_execute/content/Chapter_15/05_Calculus_in_SymPy_27_0.png"
      }
     },
     "output_type": "execute_result"
    }
   ],
   "source": [
    "expectation = Integral(x*density, (x, 0, 1)).doit()\n",
    "expectation"
   ]
  },
  {
   "cell_type": "markdown",
   "metadata": {},
   "source": [
    "Notice how simple the answer is. Later in the course, you will see why.\n",
    "\n",
    "Here is $E(X^2)$, which turns out to be another simple fraction. Clearly, the density $f$ has interesting properties. We will study them later. For now, let's just get the numerical answers."
   ]
  },
  {
   "cell_type": "code",
   "execution_count": 15,
   "metadata": {},
   "outputs": [
    {
     "data": {
      "image/png": "[encoded data removed]",
      "text/latex": [
       "$\\displaystyle \\frac{1}{6}$"
      ],
      "text/plain": [
       "1/6"
      ]
     },
     "execution_count": 15,
     "metadata": {
      "filenames": {
       "image/png": "/Users/liangxinran/Desktop/Berkeley College Life/Senior/Teaching/prob140-textbook/_build/jupyter_execute/content/Chapter_15/05_Calculus_in_SymPy_29_0.png"
      }
     },
     "output_type": "execute_result"
    }
   ],
   "source": [
    "expected_square = Integral((x**2)*density, (x, 0, 1)).doit()\n",
    "expected_square"
   ]
  },
  {
   "cell_type": "markdown",
   "metadata": {},
   "source": [
    "Now you can find $SD(X)$."
   ]
  },
  {
   "cell_type": "code",
   "execution_count": 16,
   "metadata": {},
   "outputs": [
    {
     "data": {
      "image/png": "[encoded data removed]",
      "text/latex": [
       "$\\displaystyle 0.161374306091976$"
      ],
      "text/plain": [
       "0.161374306091976"
      ]
     },
     "execution_count": 16,
     "metadata": {
      "filenames": {
       "image/png": "/Users/liangxinran/Desktop/Berkeley College Life/Senior/Teaching/prob140-textbook/_build/jupyter_execute/content/Chapter_15/05_Calculus_in_SymPy_31_0.png"
      }
     },
     "output_type": "execute_result"
    }
   ],
   "source": [
    "sd = (expected_square - expectation**2)**0.5\n",
    "sd"
   ]
  },
  {
   "cell_type": "markdown",
   "metadata": {
    "collapsed": true
   },
   "source": [
    "### SymPy and the Exponential Density ###\n",
    "One of the primary distributions in probability theory, the exponential distribution has a positive parameter $\\lambda$ known as the \"rate\", and density given by\n",
    "\n",
    "$$\n",
    "f(t) ~ = \\lambda e^{-\\lambda t}, ~~~ t \\ge 0\n",
    "$$\n",
    "\n",
    "The density is 0 on the negative numbers. Here is its graph when $\\lambda = 3$."
   ]
  },
  {
   "cell_type": "code",
   "execution_count": 17,
   "metadata": {
    "tags": [
     "remove_input"
    ]
   },
   "outputs": [
    {
     "data": {
      "image/png": "[encoded data removed]",
      "text/plain": [
       "<Figure size 432x288 with 1 Axes>"
      ]
     },
     "metadata": {
      "filenames": {
       "image/png": "/Users/liangxinran/Desktop/Berkeley College Life/Senior/Teaching/prob140-textbook/_build/jupyter_execute/content/Chapter_15/05_Calculus_in_SymPy_33_0.png"
      },
      "needs_background": "light"
     },
     "output_type": "display_data"
    }
   ],
   "source": [
    "# NO CODE\n",
    "\n",
    "lam = 3\n",
    "tt = np.arange(0, 2.01, 0.01)\n",
    "f = lam * np.exp(-1*lam*tt)\n",
    "plt.plot(tt, f, color='darkblue', lw=2)\n",
    "plt.xlabel('$t$')\n",
    "plt.ylabel('$f(t)$', rotation=0)\n",
    "plt.title('Exponential Density, Rate $\\lambda = 3$');"
   ]
  },
  {
   "cell_type": "markdown",
   "metadata": {},
   "source": [
    "To check that $f$ is a density, we have to confirm that its integral is 1. We will start by constructing two symbols, `t` and `lamda`. Notice the incorrectly spelled `lamda` instead of `lambda`. That is because `lambda` has another meaning in Python, as some of you might know.\n",
    "\n",
    "Note the use of `positive=True` to specify that the symbol can take on only positive values."
   ]
  },
  {
   "cell_type": "code",
   "execution_count": 18,
   "metadata": {},
   "outputs": [],
   "source": [
    "t = Symbol('t', positive=True)\n",
    "lamda = Symbol('lamda', positive=True)"
   ]
  },
  {
   "cell_type": "markdown",
   "metadata": {},
   "source": [
    "Next we construct the expression for the density. Notice the use of `exp` for the exponential function. "
   ]
  },
  {
   "cell_type": "code",
   "execution_count": 19,
   "metadata": {},
   "outputs": [
    {
     "data": {
      "image/png": "[encoded data removed]",
      "text/latex": [
       "$\\displaystyle \\lambda e^{- \\lambda t}$"
      ],
      "text/plain": [
       "   -λ⋅t\n",
       "λ⋅ℯ    "
      ]
     },
     "execution_count": 19,
     "metadata": {
      "filenames": {
       "image/png": "/Users/liangxinran/Desktop/Berkeley College Life/Senior/Teaching/prob140-textbook/_build/jupyter_execute/content/Chapter_15/05_Calculus_in_SymPy_37_0.png"
      }
     },
     "output_type": "execute_result"
    }
   ],
   "source": [
    "expon_density = lamda * exp(-lamda * t)\n",
    "expon_density"
   ]
  },
  {
   "cell_type": "markdown",
   "metadata": {},
   "source": [
    "To see that the function is a density, we can check that its integral from 0 to $\\infty$ is 1. The symbol that `SymPy` uses for $\\infty$ is `oo`, a double lower case o. It looks very much like $\\infty$."
   ]
  },
  {
   "cell_type": "code",
   "execution_count": 20,
   "metadata": {},
   "outputs": [
    {
     "data": {
      "image/png": "[encoded data removed]",
      "text/latex": [
       "$\\displaystyle 1$"
      ],
      "text/plain": [
       "1"
      ]
     },
     "execution_count": 20,
     "metadata": {
      "filenames": {
       "image/png": "/Users/liangxinran/Desktop/Berkeley College Life/Senior/Teaching/prob140-textbook/_build/jupyter_execute/content/Chapter_15/05_Calculus_in_SymPy_39_0.png"
      }
     },
     "output_type": "execute_result"
    }
   ],
   "source": [
    "Integral(expon_density, (t, 0, oo)).doit()"
   ]
  },
  {
   "cell_type": "markdown",
   "metadata": {},
   "source": [
    "Suppose $T$ has the exponential $(\\lambda)$ density. Then for $t \\ge 0$ the cdf of $T$ is \n",
    "\n",
    "$$\n",
    "F_T(t) ~ = ~ P(T \\le t) ~ = ~ \\int_0^t \\lambda e^{-\\lambda s}ds\n",
    "$$\n",
    "\n",
    "This is a straightforward integral that you can probably do in your head. However, let's get some more practice using `SymPy` to find cdf's.\n",
    "We will use the same method that we used to find the cdf in the previous example.\n",
    "\n",
    "$$\n",
    "\\int_0^t \\lambda e^{-\\lambda s}ds ~ = ~ I(t) - I(0)\n",
    "$$\n",
    "\n",
    "where $I$ is the indefinite integral of the density. To get this indefinite integral we will use `Integral` as before, except that this time we must specify `t` as the variable of integration. That is because `SymPy` sees two symbols `t` and `lamda` in the density, and doesn't know which one is the variable unless we tell it."
   ]
  },
  {
   "cell_type": "code",
   "execution_count": 21,
   "metadata": {},
   "outputs": [
    {
     "data": {
      "image/png": "[encoded data removed]",
      "text/latex": [
       "$\\displaystyle - e^{- \\lambda t}$"
      ],
      "text/plain": [
       "  -λ⋅t\n",
       "-ℯ    "
      ]
     },
     "execution_count": 21,
     "metadata": {
      "filenames": {
       "image/png": "/Users/liangxinran/Desktop/Berkeley College Life/Senior/Teaching/prob140-textbook/_build/jupyter_execute/content/Chapter_15/05_Calculus_in_SymPy_41_0.png"
      }
     },
     "output_type": "execute_result"
    }
   ],
   "source": [
    "indefinite = Integral(expon_density, t).doit()\n",
    "indefinite"
   ]
  },
  {
   "cell_type": "markdown",
   "metadata": {},
   "source": [
    "Now use $F_T(t) = I(t) - I(0)$:"
   ]
  },
  {
   "cell_type": "code",
   "execution_count": 22,
   "metadata": {},
   "outputs": [
    {
     "data": {
      "image/png": "[encoded data removed]",
      "text/latex": [
       "$\\displaystyle -1$"
      ],
      "text/plain": [
       "-1"
      ]
     },
     "execution_count": 22,
     "metadata": {
      "filenames": {
       "image/png": "/Users/liangxinran/Desktop/Berkeley College Life/Senior/Teaching/prob140-textbook/_build/jupyter_execute/content/Chapter_15/05_Calculus_in_SymPy_43_0.png"
      }
     },
     "output_type": "execute_result"
    }
   ],
   "source": [
    "I_0 = indefinite.subs(t, 0)\n",
    "I_0"
   ]
  },
  {
   "cell_type": "code",
   "execution_count": 23,
   "metadata": {},
   "outputs": [
    {
     "data": {
      "image/png": "[encoded data removed]",
      "text/latex": [
       "$\\displaystyle 1 - e^{- \\lambda t}$"
      ],
      "text/plain": [
       "     -λ⋅t\n",
       "1 - ℯ    "
      ]
     },
     "execution_count": 23,
     "metadata": {
      "filenames": {
       "image/png": "/Users/liangxinran/Desktop/Berkeley College Life/Senior/Teaching/prob140-textbook/_build/jupyter_execute/content/Chapter_15/05_Calculus_in_SymPy_44_0.png"
      }
     },
     "output_type": "execute_result"
    }
   ],
   "source": [
    "cdf = indefinite - I_0\n",
    "cdf"
   ]
  },
  {
   "cell_type": "markdown",
   "metadata": {},
   "source": [
    "Thus the cdf of $T$ is\n",
    "\n",
    "$$\n",
    "F_T(t) ~ = ~ 1 - e^{-\\lambda t}\n",
    "$$\n",
    "\n",
    "The expectation of $T$ is\n",
    "\n",
    "$$\n",
    "E(T) ~ = ~ \\int_0^\\infty t \\lambda e^{-\\lambda t} dt ~ = ~ \\frac{1}{\\lambda}\n",
    "$$\n",
    "\n",
    "which you can check by integration by parts. But `SymPy` is faster:"
   ]
  },
  {
   "cell_type": "code",
   "execution_count": 24,
   "metadata": {},
   "outputs": [
    {
     "data": {
      "image/png": "[encoded data removed]",
      "text/latex": [
       "$\\displaystyle \\frac{1}{\\lambda}$"
      ],
      "text/plain": [
       "1\n",
       "─\n",
       "λ"
      ]
     },
     "execution_count": 24,
     "metadata": {
      "filenames": {
       "image/png": "/Users/liangxinran/Desktop/Berkeley College Life/Senior/Teaching/prob140-textbook/_build/jupyter_execute/content/Chapter_15/05_Calculus_in_SymPy_46_0.png"
      }
     },
     "output_type": "execute_result"
    }
   ],
   "source": [
    "expectation = Integral(t*expon_density, (t, 0, oo)).doit()\n",
    "expectation"
   ]
  },
  {
   "cell_type": "markdown",
   "metadata": {},
   "source": [
    "Calculating $E(T^2)$ is just as easy."
   ]
  },
  {
   "cell_type": "code",
   "execution_count": 25,
   "metadata": {},
   "outputs": [
    {
     "data": {
      "image/png": "[encoded data removed]",
      "text/latex": [
       "$\\displaystyle \\frac{2}{\\lambda^{2}}$"
      ],
      "text/plain": [
       "2 \n",
       "──\n",
       " 2\n",
       "λ "
      ]
     },
     "execution_count": 25,
     "metadata": {
      "filenames": {
       "image/png": "/Users/liangxinran/Desktop/Berkeley College Life/Senior/Teaching/prob140-textbook/_build/jupyter_execute/content/Chapter_15/05_Calculus_in_SymPy_48_0.png"
      }
     },
     "output_type": "execute_result"
    }
   ],
   "source": [
    "expected_square = Integral(t**2 * expon_density, (t, 0, oo)).doit()\n",
    "expected_square"
   ]
  },
  {
   "cell_type": "markdown",
   "metadata": {},
   "source": [
    "The variance and SD follow directly."
   ]
  },
  {
   "cell_type": "code",
   "execution_count": 26,
   "metadata": {},
   "outputs": [
    {
     "data": {
      "image/png": "[encoded data removed]",
      "text/latex": [
       "$\\displaystyle \\frac{1}{\\lambda^{2}}$"
      ],
      "text/plain": [
       "1 \n",
       "──\n",
       " 2\n",
       "λ "
      ]
     },
     "execution_count": 26,
     "metadata": {
      "filenames": {
       "image/png": "/Users/liangxinran/Desktop/Berkeley College Life/Senior/Teaching/prob140-textbook/_build/jupyter_execute/content/Chapter_15/05_Calculus_in_SymPy_50_0.png"
      }
     },
     "output_type": "execute_result"
    }
   ],
   "source": [
    "variance = expected_square - (expectation ** 2)\n",
    "variance"
   ]
  },
  {
   "cell_type": "code",
   "execution_count": 27,
   "metadata": {},
   "outputs": [
    {
     "data": {
      "image/png": "[encoded data removed]",
      "text/latex": [
       "$\\displaystyle \\lambda^{-1.0}$"
      ],
      "text/plain": [
       " -1.0\n",
       "λ    "
      ]
     },
     "execution_count": 27,
     "metadata": {
      "filenames": {
       "image/png": "/Users/liangxinran/Desktop/Berkeley College Life/Senior/Teaching/prob140-textbook/_build/jupyter_execute/content/Chapter_15/05_Calculus_in_SymPy_51_0.png"
      }
     },
     "output_type": "execute_result"
    }
   ],
   "source": [
    "sd = variance ** 0.5\n",
    "sd"
   ]
  },
  {
   "cell_type": "markdown",
   "metadata": {},
   "source": [
    "That's a pretty funny way of writing $\\frac{1}{\\lambda}$ but we'll take it. It's a small price to pay for not having to do all the integrals by hand."
   ]
  },
  {
   "cell_type": "code",
   "execution_count": null,
   "metadata": {},
   "outputs": [],
   "source": []
  }
 ],
 "metadata": {
  "kernelspec": {
   "display_name": "Python 3",
   "language": "python",
   "name": "python3"
  },
  "language_info": {
   "codemirror_mode": {
    "name": "ipython",
    "version": 3
   },
   "file_extension": ".py",
   "mimetype": "text/x-python",
   "name": "python",
   "nbconvert_exporter": "python",
   "pygments_lexer": "ipython3",
   "version": "3.9.5"
  }
 },
 "nbformat": 4,
 "nbformat_minor": 1
}