{
 "cells": [
  {
   "cell_type": "code",
   "execution_count": 1,
   "metadata": {
    "tags": [
     "remove_cell"
    ]
   },
   "outputs": [],
   "source": [
    "# HIDDEN\n",
    "import warnings\n",
    "warnings.filterwarnings('ignore')\n",
    "from datascience import *\n",
    "from prob140 import *\n",
    "import numpy as np\n",
    "import matplotlib.pyplot as plt\n",
    "plt.style.use('fivethirtyeight')\n",
    "%matplotlib inline\n",
    "from scipy import stats"
   ]
  },
  {
   "cell_type": "markdown",
   "metadata": {},
   "source": [
    "## Expectation ##"
   ]
  },
  {
   "cell_type": "code",
   "execution_count": 2,
   "metadata": {
    "tags": [
     "remove-input",
     "hide-output"
    ]
   },
   "outputs": [
    {
     "data": {
      "text/html": [
       "\n",
       "<iframe\n",
       "    width=\"400\"\n",
       "    height=\"300\"\n",
       "    src=\"https://www.youtube.com/embed/gJkb-5YXly4\"\n",
       "    frameborder=\"0\"\n",
       "    allowfullscreen\n",
       "></iframe>\n"
      ],
      "text/plain": [
       "<IPython.lib.display.YouTubeVideo at 0x7fb953c0baf0>"
      ]
     },
     "execution_count": 2,
     "metadata": {},
     "output_type": "execute_result"
    }
   ],
   "source": [
    "# VIDEO: Definition of Expectation\n",
    "from IPython.display import YouTubeVideo\n",
    "\n",
    "YouTubeVideo('gJkb-5YXly4')"
   ]
  },
  {
   "cell_type": "markdown",
   "metadata": {},
   "source": [
    "Let $X$ have density $f$. Let $g$ be a real valued function on the real line, and suppose you want to find $E(g(X))$. Then you can follow a procedure analogous to the non-linear function rule we developed for finding expectations of functions of discrete random variables.\n",
    "\n",
    "- Write a generic value of $X$: that's $x$.\n",
    "- Apply the function $g$ to get $g(x)$.\n",
    "- Weight $g(x)$ by the chance that $X$ is *just around $x$*, resulting in the product $g(x) \\cdot f(x)dx$.\n",
    "- \"Sum\" over all $x$, that is, integrate.\n",
    "\n",
    "The expectation is\n",
    "\n",
    "$$\n",
    "E(g(X)) ~ = ~ \\int_{-\\infty}^{\\infty} g(x)\\cdot f(x)dx\n",
    "$$\n",
    "\n",
    "**Technical Note:** We must be careful here as $g$ is an arbitrary function and the integral above need not exist. If $g$ is non-negative, then the integral is either finite or diverges to $+\\infty$, but it doesn't oscillate. So if $g$ is non-negative, define\n",
    "\n",
    "$$\n",
    "E(g(X)) ~ = ~ \\int_{-\\infty}^{\\infty} g(x)\\cdot f(x)dx ~~~\n",
    "\\text{provided the integral is finite.}\n",
    "$$\n",
    "\n",
    "For a general $g$, first check whether $E(\\lvert g(X) \\rvert )$ is finite, that is, whether\n",
    "\n",
    "$$\n",
    "\\int_{-\\infty}^{\\infty} \\lvert g(x) \\rvert \\cdot f(x)dx ~ < ~ \\infty\n",
    "$$\n",
    "\n",
    "If it is finite then there is a theorem that says $\\int_{-\\infty}^{\\infty} g(x)\\cdot f(x)dx$ exists, so it makes sense to define\n",
    "\n",
    "$$\n",
    "E(g(X)) ~ = ~ \\int_{-\\infty}^{\\infty} g(x)\\cdot f(x)dx \n",
    "$$\n",
    "\n",
    "**Non-technical Note:** In almost all of our examples, we will not be faced with questions about the existence of integrals. For example, if the set of possible values of $g(X)$ is bounded, then its expectation exists. But we will see a few examples of random variables that don't have expectations. Such random variables have \"heavy tails\" and are important in many applications.\n",
    "\n",
    "All the properties of means, variances, and covariances that we proved for discrete variables are still true. The proofs need to be rewritten for random variables with densities, but we won't take the time to do that. Just use the properties as you did before. The Central Limit Theorem holds as well."
   ]
  },
  {
   "cell_type": "markdown",
   "metadata": {},
   "source": [
    "```{admonition} Quick Check\n",
    "$X$ is a non-negative random variable that has density $f(x) = \\frac{1}{120}x^5e^{-x}$ for $x \\ge 0$. Write a math expression for $E(\\sqrt{X})$. You don't have to simplify it. [You can assume that $f$ is a density and that $E(\\sqrt{X})$ is finite. We'll check these facts later in the course.]\n",
    "\n",
    "```"
   ]
  },
  {
   "cell_type": "markdown",
   "metadata": {},
   "source": [
    "```{admonition} Answer\n",
    ":class: dropdown\n",
    "$E(\\sqrt{X}) = \\int_0^\\infty x^{1/2} \\cdot \\frac{1}{120}x^5e^{-x} dx$\n",
    "\n",
    "```"
   ]
  },
  {
   "cell_type": "markdown",
   "metadata": {
    "collapsed": true
   },
   "source": [
    "### Uniform $(0, 1)$ ###\n",
    "The random variable $U$ is *uniform on the unit interval* if its density is flat over that interval and zero everywhere else:\n",
    "\n",
    "$$\n",
    "f_U(u) =\n",
    "\\begin{cases}\n",
    "1 ~~~~~~ \\text{if } 0 < u < 1 \\\\\n",
    "0 ~~~~~~ \\text{otherwise}\n",
    "\\end{cases}\n",
    "$$"
   ]
  },
  {
   "cell_type": "code",
   "execution_count": 3,
   "metadata": {
    "tags": [
     "remove_input"
    ]
   },
   "outputs": [
    {
     "data": {
      "image/png": "[encoded data removed]",
      "text/plain": [
       "<Figure size 432x288 with 1 Axes>"
      ]
     },
     "metadata": {
      "filenames": {
       "image/png": "/Users/liangxinran/Desktop/Berkeley College Life/Senior/Teaching/prob140-textbook/_build/jupyter_execute/content/Chapter_15/03_Expectation_7_0.png"
      },
      "needs_background": "light"
     },
     "output_type": "display_data"
    }
   ],
   "source": [
    "# NO CODE\n",
    "plt.axes().set_aspect('equal','datalim')\n",
    "plt.plot([0, 1], [1, 1], color='darkblue', lw=2)\n",
    "plt.plot([-0.5, 0], [0, 0], color='darkblue', lw=2)\n",
    "plt.plot([1, 1.5], [0, 0], color='darkblue', lw=2)\n",
    "plt.xlabel('$u$')\n",
    "plt.ylabel('$f_U(u)$', rotation=0)\n",
    "plt.title('Density');"
   ]
  },
  {
   "cell_type": "markdown",
   "metadata": {},
   "source": [
    "The area under $f_U$ over an interval is a rectangle. So it follows easily that the probability of an interval is its length relative to the total length of the unit interval, which is 1. For example, for every pair $u_1$ and $u_2$ with $u_1 < u_2$,\n",
    "\n",
    "$$\n",
    "P(u_1 < U < u_2) ~ = ~ u_2 - u_1\n",
    "$$\n",
    "\n",
    "Equivalently, the cdf of $U$ is\n",
    "\n",
    "$$\n",
    "F_U(u) = \n",
    "\\begin{cases}\n",
    "0 ~~~ \\text{if } u \\le 0 \\\\\n",
    "u ~~~ \\text{if } 0 < u < 1 \\\\\n",
    "1 ~~~ \\text{if } u \\ge 1\n",
    "\\end{cases}\n",
    "$$"
   ]
  },
  {
   "cell_type": "code",
   "execution_count": 4,
   "metadata": {
    "tags": [
     "remove_input"
    ]
   },
   "outputs": [
    {
     "data": {
      "image/png": "[encoded data removed]",
      "text/plain": [
       "<Figure size 432x288 with 1 Axes>"
      ]
     },
     "metadata": {
      "filenames": {
       "image/png": "/Users/liangxinran/Desktop/Berkeley College Life/Senior/Teaching/prob140-textbook/_build/jupyter_execute/content/Chapter_15/03_Expectation_9_0.png"
      },
      "needs_background": "light"
     },
     "output_type": "display_data"
    }
   ],
   "source": [
    "# NO CODE\n",
    "plt.axes().set_aspect('equal','datalim')\n",
    "plt.plot([0, 1], [0, 1], color='darkblue', lw=2)\n",
    "plt.plot([-0.5, 0], [0, 0], color='darkblue', lw=2)\n",
    "plt.plot([1, 1.5], [1, 1], color='darkblue', lw=2)\n",
    "plt.xlabel('$u$')\n",
    "plt.ylabel('$F_U(u)$', rotation=0)\n",
    "plt.title('CDF of $U$');"
   ]
  },
  {
   "cell_type": "markdown",
   "metadata": {},
   "source": [
    "The expectation $E(U)$ doesn't require an integral either. It's the balance point of the density \"curve\", which is 1/2. But if you insist, you can integrate:\n",
    "\n",
    "$$\n",
    "E(U) ~ = ~ \\int_0^1 u\\cdot 1du ~ = ~ \\frac{1}{2}\n",
    "$$\n",
    "\n",
    "For the variance, you do have to integrate. By the formula for expectation given at the start of this section,\n",
    "\n",
    "$$\n",
    "E(U^2) ~ = ~ \\int_0^1 u^2\\cdot 1du ~ = ~ \\frac{1}{3}\n",
    "~~~~~~~~~~~~~~~\n",
    "Var(U) ~ = ~ \\frac{1}{3} - \\big{(}\\frac{1}{2}\\big{)}^2 ~ = ~ \\frac{1}{12}\n",
    "$$"
   ]
  },
  {
   "cell_type": "markdown",
   "metadata": {},
   "source": [
    "### Uniform $(a, b)$ ###\n",
    "Fix $a < b$. The uniform distribution on $(a, b)$ is flat over the interval $(a, b)$ and 0 elsewhere. Since its graph is a rectangle and the total area must be 1, the height of the rectangle is $\\frac{1}{b-a}$.\n",
    "\n",
    "So if $X$ has the uniform $(a, b)$ distribution, then the density of $X$ is\n",
    "\n",
    "$$\n",
    "f_X(x) ~ = ~ \\frac{1}{b-a}, ~~~~ a < x < b\n",
    "$$\n",
    "\n",
    "and 0 elsewhere. Probabilities are still relative lengths, so the cdf of $X$ is\n",
    "\n",
    "$$\n",
    "F_X(x) ~ = ~ \\frac{x - a}{b - a}, ~~~~ a < x < b\n",
    "$$\n",
    "\n",
    "The expectation and variance of $X$ can be derived with little calculation once you notice that $X$ can be created by starting with a uniform $(0, 1)$ random variabe $U$.\n",
    "\n",
    "- **Step 1:** $U$ is uniform on $(0, 1)$\n",
    "- **Step 2:** $(b-a)U$ is uniform on $(0, (b-a))$\n",
    "- **Step 3:** $X = a + (b-a)U$ is uniform on $(a, b)$.\n",
    "\n",
    "Now $X$ is a linear transformation of $U$, so\n",
    "\n",
    "$$\n",
    "E(X) ~ = ~ a + (b-a)E(U) ~ = ~ a + \\frac{b-a}{2} ~ = ~ \\frac{a+b}{2}\n",
    "$$\n",
    "\n",
    "which is the midpoint of $(a, b)$. Also,\n",
    "\n",
    "$$\n",
    "Var(X) ~ = ~ \\frac{(b-a)^2}{12} \n",
    "$$"
   ]
  },
  {
   "cell_type": "markdown",
   "metadata": {},
   "source": [
    "```{admonition} Quick Check\n",
    "(a) Let $U$ be uniform on $(0, 1)$. Find $c_0$ and $c_1$ such that $Y = c_0 + c_1U$ is uniform on $(15, 20)$.\n",
    "\n",
    "(b) Let $X$ be uniform on $(-2, 2)$. Find $c_0$ and $c_1$ such that $V = c_0 + c_1X$ is uniform on $(0, 1)$.\n",
    "\n",
    "```"
   ]
  },
  {
   "cell_type": "markdown",
   "metadata": {},
   "source": [
    "```{admonition} Answer\n",
    ":class: dropdown\n",
    "(a) $c_0 = 15$, $c_1 = 5$\n",
    "\n",
    "(b) $c_0 = 0.5$, $c_1 = 0.25$\n",
    "\n",
    "```"
   ]
  },
  {
   "cell_type": "markdown",
   "metadata": {},
   "source": [
    "### Example: Random Discs ###\n",
    "A screen saver chooses a random radius uniformly in the interval $(0, 2)$ centimeters and draws a disc with that radius. Then it chooses another radius in the same way, independently of the first, and draws another disc. And so on.\n",
    "\n",
    "**Question 1.** Let $S$ be the area of the first disc. Find $E(S)$.\n",
    "\n",
    "**Answer.** Let $R$ be the radius of the first disc. Then $S = \\pi R^2$. So\n",
    "\n",
    "$$\n",
    "E(S) ~ = ~ \\pi E(R^2) ~ = ~ \\pi\\big{(}Var(R) + (E(R))^2\\big{)} ~ = ~ \n",
    "\\pi\\big{(} \\frac{4}{12} + 1^2\\big{)} ~ = ~ 4.19 ~ cm^2\n",
    "$$\n",
    "\n"
   ]
  },
  {
   "cell_type": "code",
   "execution_count": 5,
   "metadata": {},
   "outputs": [
    {
     "data": {
      "text/plain": [
       "4.1887902047863905"
      ]
     },
     "execution_count": 5,
     "metadata": {},
     "output_type": "execute_result"
    }
   ],
   "source": [
    "np.pi * (4/12 + 1)"
   ]
  },
  {
   "cell_type": "markdown",
   "metadata": {},
   "source": [
    "**Question 2.** Let $\\bar{R}$ be the average radius of the first 100 discs. Find a number $c$ so that $P(\\lvert \\bar{R} - 1 \\rvert < c) \\approx 99\\%$.\n",
    "\n",
    "**Answer.** Let $R_1, R_2, \\ldots , R_{100}$ be the first 100 radii. These are i.i.d. random variables, each with mean 1 and variance $4/12$. So $E(\\bar{R}) = 1$ and \n",
    "\n",
    "$$\n",
    "SD(\\bar{R}) = \\frac{\\sqrt{4/12}}{\\sqrt{100}} ~ = ~ 0.0577 ~ \\mbox{cm}\n",
    "$$ "
   ]
  },
  {
   "cell_type": "code",
   "execution_count": 6,
   "metadata": {},
   "outputs": [
    {
     "data": {
      "text/plain": [
       "0.057735026918962574"
      ]
     },
     "execution_count": 6,
     "metadata": {},
     "output_type": "execute_result"
    }
   ],
   "source": [
    "sd_rbar = ((4/12)**0.5)/(100**0.5)\n",
    "sd_rbar"
   ]
  },
  {
   "cell_type": "markdown",
   "metadata": {},
   "source": [
    "By the Central Limit Theorem, the distribution of $\\bar{R}$ is approximately normal. Let's draw it using `Plot_norm`."
   ]
  },
  {
   "cell_type": "code",
   "execution_count": 7,
   "metadata": {},
   "outputs": [
    {
     "data": {
      "image/png": "[encoded data removed]",
      "text/plain": [
       "<Figure size 432x288 with 1 Axes>"
      ]
     },
     "metadata": {
      "filenames": {
       "image/png": "/Users/liangxinran/Desktop/Berkeley College Life/Senior/Teaching/prob140-textbook/_build/jupyter_execute/content/Chapter_15/03_Expectation_19_0.png"
      },
      "needs_background": "light"
     },
     "output_type": "display_data"
    }
   ],
   "source": [
    "Plot_norm((0.8, 1.2), 1, sd_rbar)\n",
    "plt.xlabel('Radius in Centimeters')\n",
    "plt.title('Approximate Distribution of Sample Mean Radius');"
   ]
  },
  {
   "cell_type": "markdown",
   "metadata": {},
   "source": [
    "We are looking for $c$ such that there is about 99% chance that $\\bar{R}$ is in the interval $(1-c, 1+c)$. Therefore $1 + c$ is the 99.5th (not 99th) percent point of the curve above, from which you can find $c$."
   ]
  },
  {
   "cell_type": "code",
   "execution_count": 8,
   "metadata": {},
   "outputs": [
    {
     "data": {
      "text/plain": [
       "2.5758293035489004"
      ]
     },
     "execution_count": 8,
     "metadata": {},
     "output_type": "execute_result"
    }
   ],
   "source": [
    "z = stats.norm.ppf(0.995)\n",
    "z"
   ]
  },
  {
   "cell_type": "code",
   "execution_count": 9,
   "metadata": {},
   "outputs": [
    {
     "data": {
      "text/plain": [
       "0.14871557417904838"
      ]
     },
     "execution_count": 9,
     "metadata": {},
     "output_type": "execute_result"
    }
   ],
   "source": [
    "c = z*sd_rbar\n",
    "c"
   ]
  },
  {
   "cell_type": "markdown",
   "metadata": {},
   "source": [
    "We can now get the endpoints of the interval. The graph below shows the corresponding area of 99%."
   ]
  },
  {
   "cell_type": "code",
   "execution_count": 10,
   "metadata": {},
   "outputs": [
    {
     "data": {
      "text/plain": [
       "(0.8512844258209517, 1.1487155741790485)"
      ]
     },
     "execution_count": 10,
     "metadata": {},
     "output_type": "execute_result"
    }
   ],
   "source": [
    "1-c, 1+c"
   ]
  },
  {
   "cell_type": "code",
   "execution_count": 11,
   "metadata": {},
   "outputs": [
    {
     "data": {
      "image/png": "[encoded data removed]",
      "text/plain": [
       "<Figure size 432x288 with 1 Axes>"
      ]
     },
     "metadata": {
      "filenames": {
       "image/png": "/Users/liangxinran/Desktop/Berkeley College Life/Senior/Teaching/prob140-textbook/_build/jupyter_execute/content/Chapter_15/03_Expectation_25_0.png"
      },
      "needs_background": "light"
     },
     "output_type": "display_data"
    }
   ],
   "source": [
    "Plot_norm((0.8, 1.2), 1, sd_rbar, left_end = 1-c, right_end = 1+c)\n",
    "plt.xticks([1-c, 1, 1+c])\n",
    "plt.xlabel('Radius in Centimeters')\n",
    "plt.title('Gold Area is Approximately 99%');"
   ]
  },
  {
   "cell_type": "markdown",
   "metadata": {
    "collapsed": true
   },
   "source": [
    "```{admonition} Quick Check\n",
    "Let $X_1, X_2, \\ldots, X_{100}$ be i.i.d. uniform on $(0, 1)$, and let $A_n = \\frac{1}{n}\\sum_{i=1}^n X_i$. Find or approximate the distribution of $A_n$. If it's a famous one, provide its name and parameters.\n",
    "\n",
    "```"
   ]
  },
  {
   "cell_type": "markdown",
   "metadata": {},
   "source": [
    "```{admonition} Answer\n",
    ":class: dropdown\n",
    "Roughly normal, mean $1/2$, variance $1/1200$\n",
    "\n",
    "```"
   ]
  }
 ],
 "metadata": {
  "anaconda-cloud": {},
  "celltoolbar": "Tags",
  "kernelspec": {
   "display_name": "Python 3",
   "language": "python",
   "name": "python3"
  },
  "language_info": {
   "codemirror_mode": {
    "name": "ipython",
    "version": 3
   },
   "file_extension": ".py",
   "mimetype": "text/x-python",
   "name": "python",
   "nbconvert_exporter": "python",
   "pygments_lexer": "ipython3",
   "version": "3.9.5"
  }
 },
 "nbformat": 4,
 "nbformat_minor": 1
}