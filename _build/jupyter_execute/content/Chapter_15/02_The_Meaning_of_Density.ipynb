{
 "cells": [
  {
   "cell_type": "code",
   "execution_count": 1,
   "metadata": {
    "execution": {
     "iopub.execute_input": "2020-12-01T17:47:53.682305Z",
     "iopub.status.busy": "2020-12-01T17:47:53.681875Z",
     "iopub.status.idle": "2020-12-01T17:47:55.186230Z",
     "shell.execute_reply": "2020-12-01T17:47:55.185757Z"
    },
    "tags": [
     "remove_cell"
    ]
   },
   "outputs": [],
   "source": [
    "# HIDDEN\n",
    "import warnings\n",
    "warnings.filterwarnings('ignore')\n",
    "from datascience import *\n",
    "from prob140 import *\n",
    "import numpy as np\n",
    "import matplotlib.pyplot as plt\n",
    "plt.style.use('fivethirtyeight')\n",
    "%matplotlib inline\n",
    "from scipy import stats"
   ]
  },
  {
   "cell_type": "code",
   "execution_count": 2,
   "metadata": {
    "execution": {
     "iopub.execute_input": "2020-12-01T17:47:55.190342Z",
     "iopub.status.busy": "2020-12-01T17:47:55.189943Z",
     "iopub.status.idle": "2020-12-01T17:47:55.192714Z",
     "shell.execute_reply": "2020-12-01T17:47:55.192421Z"
    },
    "tags": [
     "remove_cell"
    ]
   },
   "outputs": [],
   "source": [
    "# HIDDEN\n",
    "x = np.arange(0, 1.01, 0.01)\n",
    "def f(x):\n",
    "    return 6*x*(1-x)\n",
    "\n",
    "def simulate_f(n):\n",
    "    sim_x = stats.beta.rvs(2, 2, size=n)\n",
    "    Table().with_column('x', sim_x).hist(bins=np.arange(0, 1.01, 0.05))\n",
    "    plt.plot(x, f(x), color='darkblue', lw=2)\n",
    "    plt.title('$f$ and Empirical Distribution of '+str(n)+' Simulated Values');"
   ]
  },
  {
   "cell_type": "markdown",
   "metadata": {},
   "source": [
    "## The Meaning of Density ##"
   ]
  },
  {
   "cell_type": "markdown",
   "metadata": {},
   "source": [
    "When we work with a discrete random variable $X$, a natural component of our calculations is the chance that $X$ has a particular value $k$. That's the probability we denote by $P(X = k)$.\n",
    "\n",
    "What is the analog of $P(X = k)$ when $X$ has a density? If your answer is $P(X = x)$ for any number $x$, prepare to be disconcerted by the next paragraph."
   ]
  },
  {
   "cell_type": "markdown",
   "metadata": {},
   "source": [
    "### If $X$ Has a Density, Each Individual Value Has Probability 0 ###\n",
    "If $X$ has a density, then probabilities are defined as areas under the density curve. The area of a line is zero. So if $X$ has a density, then for every $x$,\n",
    "\n",
    "$$\n",
    "P(X = x) ~ = ~ 0 \n",
    "$$\n",
    "\n",
    "\"But $X$ has to be *some* value!\" is a natural reaction to this. Take a moment now to reflect on the wonders of adding uncountably many zeros. On the real line, each point has length zero but intervals have positive length. On the plane, each line has area zero but rectangles have positive area. Calculus is powerful.\n",
    "\n",
    "The fact that the chance of any single value is 0 actually reduces some bookkeeping. When we are calculating probabilities involving random variables that have densities, we don't have to worry about whether we should or should not include endpoints of intervals. The chance of each endpoint is 0, so for example,\n",
    "\n",
    "$$\n",
    "F(x) ~ = ~ P(X \\le x) ~ = ~ P(X < x) ~~~ \\text{for all } x\n",
    "$$\n",
    "\n",
    "Being able to drop the equal sign like this is a major departure from calculations involving discrete random variables; $P(X = k)$ has disappeared. But it does have an analog if we think in terms of infinitesimals."
   ]
  },
  {
   "cell_type": "code",
   "execution_count": 3,
   "metadata": {
    "execution": {
     "iopub.execute_input": "2020-12-01T17:47:55.197684Z",
     "iopub.status.busy": "2020-12-01T17:47:55.197227Z",
     "iopub.status.idle": "2020-12-01T17:47:55.315334Z",
     "shell.execute_reply": "2020-12-01T17:47:55.315643Z"
    },
    "tags": [
     "remove-input",
     "hide-output"
    ]
   },
   "outputs": [
    {
     "data": {
      "text/html": [
       "\n",
       "<iframe\n",
       "    width=\"400\"\n",
       "    height=\"300\"\n",
       "    src=\"https://www.youtube.com/embed/7A7MqighkTA\"\n",
       "    frameborder=\"0\"\n",
       "    allowfullscreen\n",
       "></iframe>\n"
      ],
      "text/plain": [
       "<IPython.lib.display.YouTubeVideo at 0x7f75ba7dc910>"
      ]
     },
     "execution_count": 3,
     "metadata": {},
     "output_type": "execute_result"
    }
   ],
   "source": [
    "# VIDEO: Meaning of Density\n",
    "from IPython.display import YouTubeVideo\n",
    "\n",
    "YouTubeVideo('7A7MqighkTA')"
   ]
  },
  {
   "cell_type": "markdown",
   "metadata": {},
   "source": [
    "### An Infinitesimal Calculation ###\n",
    "In the theory of Riemann integration, the area under a curve is calculated by discrete approximation. The interval on the horizontal axis is divided into tiny little segments. Each segment becomes the base of a very narrow rectangle with a height determined by the curve. The total area of all these rectangular slivers is an approximation to the integral. As you make the slivers narrower, the sum approaches the area under the curve.\n",
    "\n",
    "Let's examine this in the case of the density we used as our example in the previous section:\n",
    "\n",
    "$$\n",
    "f(x) ~ = ~ 6x(1-x), ~~~ 0 < x < 1\n",
    "$$\n",
    "\n",
    "Here is one of those narrow slivers."
   ]
  },
  {
   "cell_type": "code",
   "execution_count": 4,
   "metadata": {
    "execution": {
     "iopub.execute_input": "2020-12-01T17:47:55.319543Z",
     "iopub.status.busy": "2020-12-01T17:47:55.319124Z",
     "iopub.status.idle": "2020-12-01T17:47:55.506299Z",
     "shell.execute_reply": "2020-12-01T17:47:55.506652Z"
    },
    "tags": [
     "remove_input"
    ]
   },
   "outputs": [
    {
     "data": {
      "image/png": "[encoded data removed]",
      "text/plain": [
       "<Figure size 432x288 with 1 Axes>"
      ]
     },
     "metadata": {
      "filenames": {
       "image/png": "/mnt/c/Users/ryan/Documents/prob140/textbook/_build/jupyter_execute/content/Chapter_15/02_The_Meaning_of_Density_7_0.png"
      },
      "needs_background": "light"
     },
     "output_type": "display_data"
    }
   ],
   "source": [
    "# NO CODE\n",
    "\n",
    "plt.plot(x, f(x), color='darkblue', lw=2)\n",
    "f_08 = f(0.8)\n",
    "w = np.arange(0.8-0.005, 0.805, 0.01)\n",
    "plt.fill_between(w, f(w), color='gold')\n",
    "plt.xticks([0.8], ['$dx$'])\n",
    "plt.yticks([0, f_08], ['0', '$f(x)$'])\n",
    "plt.title('Gold Area = $P(X \\in dx) \\sim f(x)dx$');"
   ]
  },
  {
   "cell_type": "markdown",
   "metadata": {},
   "source": [
    "We will now set up some notation that will be used repeatedly in the course.\n",
    "\n",
    "- $x$ is a point on the horizontal axis\n",
    "- $dx$ stands for two things (this considerably simplifies writing):\n",
    "    - a tiny interval around $x$\n",
    "    - the length of the tiny interval\n",
    "\n",
    "Now $\\{X \\in dx \\}$ is notation for \"$X$ is in a tiny interval of length $dx$ around the point $x$\". Don't worry about exactly what \"around\" means. It won't matter as we'll be taking limits as $dx$ goes to 0.\n",
    "\n",
    "In this notation, the area of the gold sliver is essentially that of a rectangle with height $f(x)$ and width $dx$. We write\n",
    "\n",
    "$$\n",
    "P(X \\in dx) ~ \\sim ~ f(x)dx\n",
    "$$\n",
    "\n",
    "where as usual $\\sim$ means that the ratio of the two sides goes to 1 as $dx$ goes to 0.\n",
    "\n",
    "We have seen that $f(x)$ is not a probability. But for a tiny $dx$, the product $f(x)dx$ is essentially the probability that \"$X$ is just around $x$\".\n",
    "\n",
    "This gives us an important analogy. When $X$ is discrete, then\n",
    "\n",
    "$$\n",
    "P(a \\le X \\le b) ~ = ~ \\sum_{k=a}^b P(X = k)\n",
    "$$\n",
    "\n",
    "When $X$ has density $f$, then\n",
    "\n",
    "$$\n",
    "P(a \\le X \\le b) ~ = ~ \\int_a^b f(x)dx\n",
    "$$\n",
    "\n",
    "The calculus notation is clever as well as powerful. It involves two analogies:\n",
    "\n",
    "- $f(x)dx$ is the chance the chance that $X$ is just around $x$\n",
    "- the integral is a continuous version of the sum"
   ]
  },
  {
   "cell_type": "markdown",
   "metadata": {},
   "source": [
    "```{admonition} Quick Check\n",
    "A random variable $X$ has density $f$ that is positive on the entire real number line. True or false: \n",
    "\n",
    "(a) For all $x$, $P(X=x) = f(x)$.\n",
    "\n",
    "(b) For all $x$, $0 \\le f(x) \\le 1$.\n",
    "\n",
    "(c) For all $x$, $P(X = x) = 0$.\n",
    "\n",
    "(d) For all $x$, $P(X \\in dx) \\sim f(x)dx$.\n",
    "\n",
    "```"
   ]
  },
  {
   "cell_type": "markdown",
   "metadata": {},
   "source": [
    "```{admonition} Answer\n",
    ":class: dropdown\n",
    "False, False, True, True\n",
    "\n",
    "```"
   ]
  },
  {
   "cell_type": "markdown",
   "metadata": {},
   "source": [
    "```{admonition} Quick Check\n",
    "A random variable $X$ has density $f$. Arrange the following from largest to smallest. If two entries are the same, put an $=$ sign between them; it doesn't matter in which order you write them.\n",
    "\n",
    "$P(a \\le X < b)$, $P(a < X < b)$, $P(a \\le X \\le b)$\n",
    "\n",
    "```"
   ]
  },
  {
   "cell_type": "markdown",
   "metadata": {},
   "source": [
    "```{admonition} Answer\n",
    ":class: dropdown\n",
    "All three are equal\n",
    "\n",
    "```"
   ]
  },
  {
   "cell_type": "markdown",
   "metadata": {},
   "source": [
    "### Probability Density ###\n",
    "We can rewrite $P(X \\in dx) \\sim f(x)dx$ as\n",
    "\n",
    "$$\n",
    "f(x) ~ \\sim ~ \\frac{P(X \\in dx)}{dx}\n",
    "$$\n",
    "\n",
    "**The function $f$ represents probability per unit length**. That is why $f$ is called a *probability density function*.\n",
    "\n",
    "Let's take another look at the graph of $f$."
   ]
  },
  {
   "cell_type": "code",
   "execution_count": 5,
   "metadata": {
    "execution": {
     "iopub.execute_input": "2020-12-01T17:47:55.510629Z",
     "iopub.status.busy": "2020-12-01T17:47:55.510216Z",
     "iopub.status.idle": "2020-12-01T17:47:55.659427Z",
     "shell.execute_reply": "2020-12-01T17:47:55.659106Z"
    },
    "tags": [
     "remove_input"
    ]
   },
   "outputs": [
    {
     "data": {
      "image/png": "[encoded data removed]",
      "text/plain": [
       "<Figure size 432x288 with 1 Axes>"
      ]
     },
     "metadata": {
      "filenames": {
       "image/png": "/mnt/c/Users/ryan/Documents/prob140/textbook/_build/jupyter_execute/content/Chapter_15/02_The_Meaning_of_Density_14_0.png"
      },
      "needs_background": "light"
     },
     "output_type": "display_data"
    }
   ],
   "source": [
    "# NO CODE\n",
    "\n",
    "plt.plot(x, f(x), color='darkblue', lw=2)\n",
    "plt.xlabel('x')\n",
    "plt.ylabel('f(x)', rotation=0);"
   ]
  },
  {
   "cell_type": "markdown",
   "metadata": {},
   "source": [
    "If you simulate multiple independent copies of a random variable that has this density (exactly how to do that will be the subject of the next lab), then for example the simulated values will be more crowded around 0.5 than around 0.2.\n",
    "\n",
    "The function `simulate_f` takes the number of copies as its argument and displays a histogram of the simulated values overlaid with the graph of $f$."
   ]
  },
  {
   "cell_type": "code",
   "execution_count": 6,
   "metadata": {
    "execution": {
     "iopub.execute_input": "2020-12-01T17:47:55.662411Z",
     "iopub.status.busy": "2020-12-01T17:47:55.662029Z",
     "iopub.status.idle": "2020-12-01T17:47:55.875765Z",
     "shell.execute_reply": "2020-12-01T17:47:55.876207Z"
    }
   },
   "outputs": [
    {
     "data": {
      "image/png": "[encoded data removed]",
      "text/plain": [
       "<Figure size 432x288 with 1 Axes>"
      ]
     },
     "metadata": {
      "filenames": {
       "image/png": "/mnt/c/Users/ryan/Documents/prob140/textbook/_build/jupyter_execute/content/Chapter_15/02_The_Meaning_of_Density_16_0.png"
      },
      "needs_background": "light"
     },
     "output_type": "display_data"
    }
   ],
   "source": [
    "simulate_f(10000)"
   ]
  },
  {
   "cell_type": "markdown",
   "metadata": {},
   "source": [
    "The distribution of 10,000 simulated values follows $f$ pretty closely. \n",
    "\n",
    "Compare the vertical scale of the histogram above with the vertical scale of the graph of $f$ that we drew earlier. You can see that they are the same apart from a conversion of proportions to percents.\n",
    "\n",
    "Now you have a better understanding of why all histograms in Data 8 are drawn *to the density scale*, with heights calculated as\n",
    "\n",
    "$$\n",
    "\\text{height of bar} ~ = ~ \\frac{\\text{percent in bin}}{\\text{width of bin}}\n",
    "$$\n",
    "\n",
    "so that the units of height are \"percent per unit on the horizontal axis\"."
   ]
  },
  {
   "cell_type": "markdown",
   "metadata": {},
   "source": [
    "Not only does this way of drawing histograms allow you to account for bins of different widths, as discussed in Data 8, it also leads directly to probability densities of random variables. You can think of the density curve as what the empirical histogram of the simulated values would look like if you had infinitely many simulations and infinitely narrow bins."
   ]
  },
  {
   "cell_type": "code",
   "execution_count": null,
   "metadata": {},
   "outputs": [],
   "source": []
  }
 ],
 "metadata": {
  "anaconda-cloud": {},
  "celltoolbar": "Tags",
  "kernelspec": {
   "display_name": "Python 3",
   "language": "python",
   "name": "python3"
  },
  "language_info": {
   "codemirror_mode": {
    "name": "ipython",
    "version": 3
   },
   "file_extension": ".py",
   "mimetype": "text/x-python",
   "name": "python",
   "nbconvert_exporter": "python",
   "pygments_lexer": "ipython3",
   "version": "3.7.7"
  }
 },
 "nbformat": 4,
 "nbformat_minor": 1
}