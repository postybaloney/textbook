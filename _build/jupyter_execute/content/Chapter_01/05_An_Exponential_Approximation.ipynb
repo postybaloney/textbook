{
 "cells": [
  {
   "cell_type": "code",
   "execution_count": 1,
   "metadata": {
    "execution": {
     "iopub.execute_input": "2020-11-20T05:26:18.125050Z",
     "iopub.status.busy": "2020-11-20T05:26:18.124565Z",
     "iopub.status.idle": "2020-11-20T05:26:20.034754Z",
     "shell.execute_reply": "2020-11-20T05:26:20.034241Z"
    },
    "tags": [
     "remove_cell"
    ]
   },
   "outputs": [],
   "source": [
    "# HIDDEN\n",
    "import warnings\n",
    "warnings.filterwarnings(\"ignore\")\n",
    "\n",
    "from datascience import *\n",
    "from prob140 import *\n",
    "%matplotlib inline\n",
    "import matplotlib.pyplot as plt\n",
    "plt.style.use('fivethirtyeight')\n",
    "import numpy as np"
   ]
  },
  {
   "cell_type": "markdown",
   "metadata": {},
   "source": [
    "## An Exponential Approximation ##"
   ]
  },
  {
   "cell_type": "markdown",
   "metadata": {},
   "source": [
    "The goal of this section is to understand how the chance of at least one collision behaves as a function of the number of individuals $n$, when there are $N$ hash values and $N$ is large compared to $n$. \n",
    "\n",
    "We know that chance is\n",
    "\n",
    "$$\n",
    "P(\\text{at least one collision}) ~=~ 1 ~-~ \\prod_{i=0}^{n-1} \\frac{N-i}{N}\n",
    "$$"
   ]
  },
  {
   "cell_type": "markdown",
   "metadata": {},
   "source": [
    "While this gives an exact formula for the chance, it doesn't give us a sense of how the function grows. Let's see if we can develop an approximation that has a simpler form and is therefore easier to study.\n",
    "\n",
    "The main steps in the approximation will be used repeatedly in this course, so we will set them out in some detail here."
   ]
  },
  {
   "cell_type": "code",
   "execution_count": 2,
   "metadata": {
    "execution": {
     "iopub.execute_input": "2020-11-20T05:26:20.041226Z",
     "iopub.status.busy": "2020-11-20T05:26:20.040239Z",
     "iopub.status.idle": "2020-11-20T05:26:20.131313Z",
     "shell.execute_reply": "2020-11-20T05:26:20.130866Z"
    },
    "tags": [
     "remove-input",
     "hide-output"
    ]
   },
   "outputs": [
    {
     "data": {
      "text/html": [
       "\n",
       "<iframe\n",
       "    width=\"400\"\n",
       "    height=\"300\"\n",
       "    src=\"https://www.youtube.com/embed/rUhunl890KM\"\n",
       "    frameborder=\"0\"\n",
       "    allowfullscreen\n",
       "></iframe>\n"
      ],
      "text/plain": [
       "<IPython.lib.display.YouTubeVideo at 0x7fccd1d4b890>"
      ]
     },
     "execution_count": 2,
     "metadata": {},
     "output_type": "execute_result"
    }
   ],
   "source": [
    "# VIDEO: Approximate Chance of Collision\n",
    "from IPython.display import YouTubeVideo\n",
    "\n",
    "YouTubeVideo(\"rUhunl890KM\")"
   ]
  },
  {
   "cell_type": "markdown",
   "metadata": {},
   "source": [
    "### Step 1: Only Approximate Terms that Need Approximation ###\n",
    "\n",
    "While this might seem obvious, it's worth noting as it can save a lot of unnecessary fiddling. We are trying to approximate\n",
    "\n",
    "$$\n",
    "1 ~-~ \\prod_{i=0}^{n-1} \\frac{N-i}{N}\n",
    "$$\n",
    "\n",
    "so all we need to approximate is\n",
    "\n",
    "$$\n",
    "\\prod_{i=0}^{n-1} \\frac{N-i}{N}\n",
    "$$\n",
    "\n",
    "We can subtract the approximation from 1 at the end.\n",
    "\n",
    "In other words, we'll approximate $P(\\text{no collision})$ instead. "
   ]
  },
  {
   "cell_type": "markdown",
   "metadata": {},
   "source": [
    "### Step 2: Use $\\log$ to Convert Products to Sums ###\n",
    "Our formula is a product, but we are much better at working with sums. The `log` function helps us turn the product into a sum:\n",
    "\n",
    "$$\n",
    "\\log (P(\\text{no collision})) ~=~ \\sum_{i=0}^{n-1} \\log(\\frac{N-i}{N})\n",
    "$$\n",
    "\n",
    "Once we have an approximation to $\\log (P(\\text{no collision}))$, we can use exponentiation to convert it to an approximation for what we want, which is $P(\\text{no collision})$."
   ]
  },
  {
   "cell_type": "markdown",
   "metadata": {},
   "source": [
    "### Step 3: Use Properties of $\\log$ ###\n",
    "This is usually the step where the main calculation happens. Remember that $\\log(1+x) \\sim x$ for small $x$, where the symbol $\\sim$ here means that the ratio of the two sides goes to 1 as $x$ goes to 0. The approximation might not be great for larger $x$ but let's try it out anyway.\n",
    "\n",
    "$$\n",
    "\\begin{align*}\n",
    "\\log(P(\\text{no collision})) ~ &=~ \\sum_{i=0}^{n-1} \\log(\\frac{N-i}{N}) \\\\\n",
    "&=~ \\sum_{i=0}^{n-1} \\log(1 - \\frac{i}{N}) \\\\\n",
    "&\\sim ~ \\sum_{i=0}^{n-1} (- \\frac{i}{N}) \\\\\n",
    "&=~ -\\frac{1}{N} \\sum_{i=0}^{n-1} i \\\\ \\\\\n",
    "&= - \\frac{1}{N} \\cdot \\frac{(n-1)n}{2}\n",
    "\\end{align*}\n",
    "$$"
   ]
  },
  {
   "cell_type": "markdown",
   "metadata": {},
   "source": [
    "by the formula for the sum of the first $n-1$ positive integers."
   ]
  },
  {
   "cell_type": "markdown",
   "metadata": {},
   "source": [
    "### Step 4: Invert as Needed to Complete the Approximation ###\n",
    "The hard work has been done, and now we just have to clean things up. Step 3 gave us\n",
    "\n",
    "$$\n",
    "\\log(P(\\text{no collision})) ~\\sim ~ - \\frac{1}{N} \\cdot \\frac{(n-1)n}{2}\n",
    "$$\n",
    "\n",
    "and so by exponentiation on both sides we get\n",
    "\n",
    "$$\n",
    "P(\\text{no collision}) ~\\sim ~ \n",
    "e^{- (n-1)n/2N } ~ \\sim ~ e^{-n^2/2N}\n",
    "$$\n",
    "\n",
    "Finally,\n",
    "\n",
    "$$\n",
    "P(\\text{at least one collision}) ~\\sim ~ 1 - e^{- (n-1)n/2N }\n",
    "~ \\sim ~ 1 - e^{-n^2/2N}\n",
    "$$"
   ]
  },
  {
   "cell_type": "markdown",
   "metadata": {},
   "source": [
    "Now you can see why the $P(\\text{at least one collision})$ rises sharply as a function of the number of people. Remember that $N$ is fixed and $n$ varies between 1 and $N$. As $n$ increases, $(n-1)n$ increases fast, essentially like $n^2$. So $-n^2/2N$ decreases fast, which makes $e^{-n^2/2N}$ drop sharply; and that makes $1 - e^{-n^2/2N}$ shoot up."
   ]
  },
  {
   "cell_type": "markdown",
   "metadata": {},
   "source": [
    "It's worth noting that the main approxmation is in the middle of Step 3, where we use $\\log(1+x) \\sim x$ for small $x$. We will encounter this approximation several times in the course."
   ]
  },
  {
   "cell_type": "markdown",
   "metadata": {},
   "source": [
    "### How Good is the Approximation? ###\n",
    "To see how the exponential approximation compares with the exact probabilities, let's work in the context of birthdays. You can change $N$ in the code if you prefer a different setting. \n",
    "\n",
    "To review the entire sequence of steps, we will redo our exact calculations and augment them with a column of approximations. We'll use the slightly more careful approximation of the two above."
   ]
  },
  {
   "cell_type": "code",
   "execution_count": 3,
   "metadata": {
    "execution": {
     "iopub.execute_input": "2020-11-20T05:26:20.136711Z",
     "iopub.status.busy": "2020-11-20T05:26:20.136260Z",
     "iopub.status.idle": "2020-11-20T05:26:20.144647Z",
     "shell.execute_reply": "2020-11-20T05:26:20.144165Z"
    }
   },
   "outputs": [
    {
     "data": {
      "text/html": [
       "<table border=\"1\" class=\"dataframe\">\n",
       "    <thead>\n",
       "        <tr>\n",
       "            <th>Trials</th> <th>P(at least one match)</th> <th>Exponential Approximation</th>\n",
       "        </tr>\n",
       "    </thead>\n",
       "    <tbody>\n",
       "        <tr>\n",
       "            <td>1     </td> <td>0                    </td> <td>0                        </td>\n",
       "        </tr>\n",
       "        <tr>\n",
       "            <td>2     </td> <td>0.00273973           </td> <td>0.00273598               </td>\n",
       "        </tr>\n",
       "        <tr>\n",
       "            <td>3     </td> <td>0.00820417           </td> <td>0.00818549               </td>\n",
       "        </tr>\n",
       "        <tr>\n",
       "            <td>4     </td> <td>0.0163559            </td> <td>0.016304                 </td>\n",
       "        </tr>\n",
       "        <tr>\n",
       "            <td>5     </td> <td>0.0271356            </td> <td>0.0270254                </td>\n",
       "        </tr>\n",
       "        <tr>\n",
       "            <td>6     </td> <td>0.0404625            </td> <td>0.0402629                </td>\n",
       "        </tr>\n",
       "        <tr>\n",
       "            <td>7     </td> <td>0.0562357            </td> <td>0.0559104                </td>\n",
       "        </tr>\n",
       "        <tr>\n",
       "            <td>8     </td> <td>0.0743353            </td> <td>0.0738438                </td>\n",
       "        </tr>\n",
       "        <tr>\n",
       "            <td>9     </td> <td>0.0946238            </td> <td>0.0939222                </td>\n",
       "        </tr>\n",
       "        <tr>\n",
       "            <td>10    </td> <td>0.116948             </td> <td>0.115991                 </td>\n",
       "        </tr>\n",
       "    </tbody>\n",
       "</table>\n",
       "<p>... (355 rows omitted)</p>"
      ],
      "text/plain": [
       "Trials | P(at least one match) | Exponential Approximation\n",
       "1      | 0                     | 0\n",
       "2      | 0.00273973            | 0.00273598\n",
       "3      | 0.00820417            | 0.00818549\n",
       "4      | 0.0163559             | 0.016304\n",
       "5      | 0.0271356             | 0.0270254\n",
       "6      | 0.0404625             | 0.0402629\n",
       "7      | 0.0562357             | 0.0559104\n",
       "8      | 0.0743353             | 0.0738438\n",
       "9      | 0.0946238             | 0.0939222\n",
       "10     | 0.116948              | 0.115991\n",
       "... (355 rows omitted)"
      ]
     },
     "execution_count": 3,
     "metadata": {},
     "output_type": "execute_result"
    }
   ],
   "source": [
    "# All of this code is from the previous section.\n",
    "\n",
    "N = 365 \n",
    "\n",
    "def p_no_match(n):\n",
    "    individuals_array = np.arange(n)\n",
    "    return np.prod((N - individuals_array)/N)\n",
    "\n",
    "trials = np.arange(1, N+1, 1)\n",
    "results = Table().with_columns('Trials', trials)\n",
    "different = results.apply(p_no_match, 'Trials')\n",
    "\n",
    "# Only the Exponential Approximation column is new\n",
    "\n",
    "results = results.with_columns(\n",
    "    'P(at least one match)', 1 - different,\n",
    "    'Exponential Approximation', 1 - np.e**( -(trials - 1)*trials/(2*N) )\n",
    ")\n",
    "\n",
    "results"
   ]
  },
  {
   "cell_type": "markdown",
   "metadata": {},
   "source": [
    "The first 10 approximations look pretty good. Let's take a look at some more."
   ]
  },
  {
   "cell_type": "code",
   "execution_count": 4,
   "metadata": {
    "execution": {
     "iopub.execute_input": "2020-11-20T05:26:20.148576Z",
     "iopub.status.busy": "2020-11-20T05:26:20.148151Z",
     "iopub.status.idle": "2020-11-20T05:26:20.388635Z",
     "shell.execute_reply": "2020-11-20T05:26:20.388296Z"
    }
   },
   "outputs": [
    {
     "data": {
      "image/png": "[encoded data removed]",
      "text/plain": [
       "<Figure size 360x360 with 1 Axes>"
      ]
     },
     "metadata": {
      "filenames": {
       "image/png": "/mnt/c/Users/ryan/Documents/prob140/textbook/_build/jupyter_execute/content/Chapter_01/05_An_Exponential_Approximation_15_0.png"
      }
     },
     "output_type": "display_data"
    }
   ],
   "source": [
    "results.scatter('Trials')\n",
    "plt.xlim(0, N/3)\n",
    "plt.ylim(0, 1);"
   ]
  },
  {
   "cell_type": "markdown",
   "metadata": {},
   "source": [
    "On the scale of this graph, the blue dots (the exact values) are almost indistinguishable from the gold (our exponential approximation). You can run the code again with the less careful approximation that replaces $(n-1)n$ by $n^2$ and see that the approximation is still excellent."
   ]
  },
  {
   "cell_type": "markdown",
   "metadata": {},
   "source": [
    "What we learn from the second form of the approximation is that the chance that there is at least one collision among the $n$ assigned values is essentially $1 - e^{-cn^2}$ where $c$ is a positive constant. \n",
    "\n",
    "We will encounter the function $1 - e^{-cx^2}$ again when we study the *Rayleigh distribution* later in the course."
   ]
  }
 ],
 "metadata": {
  "anaconda-cloud": {},
  "celltoolbar": "Tags",
  "kernelspec": {
   "display_name": "Python 3",
   "language": "python",
   "name": "python3"
  },
  "language_info": {
   "codemirror_mode": {
    "name": "ipython",
    "version": 3
   },
   "file_extension": ".py",
   "mimetype": "text/x-python",
   "name": "python",
   "nbconvert_exporter": "python",
   "pygments_lexer": "ipython3",
   "version": "3.7.7"
  }
 },
 "nbformat": 4,
 "nbformat_minor": 1
}